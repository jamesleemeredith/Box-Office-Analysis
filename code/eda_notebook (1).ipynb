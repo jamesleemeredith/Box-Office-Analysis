{
 "cells": [
  {
   "cell_type": "markdown",
   "metadata": {},
   "source": [
    "# EDA notebook"
   ]
  },
  {
   "cell_type": "markdown",
   "metadata": {},
   "source": [
    "## Importing the Data"
   ]
  },
  {
   "cell_type": "code",
   "execution_count": 9,
   "metadata": {},
   "outputs": [],
   "source": [
    "import pandas as pd\n",
    "import numpy as np\n",
    "import sqlite3\n",
    "import data_preparation as dp\n",
    "import matplotlib.pyplot as plt\n",
    "\n",
    "bom_cleaned = pd.read_csv(\"../data/bom.movie_gross.csv.gz\")\n",
    "conn = sqlite3.connect(\"../data/im.db\")"
   ]
  },
  {
   "cell_type": "code",
   "execution_count": 10,
   "metadata": {
    "scrolled": true
   },
   "outputs": [
    {
     "name": "stdout",
     "output_type": "stream",
     "text": [
      "<class 'pandas.core.frame.DataFrame'>\n",
      "RangeIndex: 3387 entries, 0 to 3386\n",
      "Data columns (total 5 columns):\n",
      " #   Column          Non-Null Count  Dtype  \n",
      "---  ------          --------------  -----  \n",
      " 0   title           3387 non-null   object \n",
      " 1   studio          3382 non-null   object \n",
      " 2   domestic_gross  3359 non-null   float64\n",
      " 3   foreign_gross   2037 non-null   object \n",
      " 4   year            3387 non-null   int64  \n",
      "dtypes: float64(1), int64(1), object(3)\n",
      "memory usage: 132.4+ KB\n"
     ]
    }
   ],
   "source": [
    "bom_cleaned.info()"
   ]
  },
  {
   "cell_type": "code",
   "execution_count": 11,
   "metadata": {},
   "outputs": [],
   "source": [
    "# for table_name in imdb_tables:\n",
    "#     df = pd.read_sql(f\"SELECT * from {table_name[0]}\", conn)\n",
    "#     print(f\"Table: {table_name[0]}\")\n",
    "#     print(df.info(),\"\\n\")"
   ]
  },
  {
   "cell_type": "markdown",
   "metadata": {},
   "source": [
    "## GENRE VS RATING"
   ]
  },
  {
   "cell_type": "code",
   "execution_count": 12,
   "metadata": {},
   "outputs": [
    {
     "data": {
      "text/html": [
       "<div>\n",
       "<style scoped>\n",
       "    .dataframe tbody tr th:only-of-type {\n",
       "        vertical-align: middle;\n",
       "    }\n",
       "\n",
       "    .dataframe tbody tr th {\n",
       "        vertical-align: top;\n",
       "    }\n",
       "\n",
       "    .dataframe thead th {\n",
       "        text-align: right;\n",
       "    }\n",
       "</style>\n",
       "<table border=\"1\" class=\"dataframe\">\n",
       "  <thead>\n",
       "    <tr style=\"text-align: right;\">\n",
       "      <th></th>\n",
       "      <th>genres</th>\n",
       "    </tr>\n",
       "  </thead>\n",
       "  <tbody>\n",
       "    <tr>\n",
       "      <th>0</th>\n",
       "      <td>None</td>\n",
       "    </tr>\n",
       "    <tr>\n",
       "      <th>1</th>\n",
       "      <td>Action</td>\n",
       "    </tr>\n",
       "    <tr>\n",
       "      <th>2</th>\n",
       "      <td>Action,Adult,Comedy</td>\n",
       "    </tr>\n",
       "    <tr>\n",
       "      <th>3</th>\n",
       "      <td>Action,Adventure</td>\n",
       "    </tr>\n",
       "    <tr>\n",
       "      <th>4</th>\n",
       "      <td>Action,Adventure,Animation</td>\n",
       "    </tr>\n",
       "  </tbody>\n",
       "</table>\n",
       "</div>"
      ],
      "text/plain": [
       "                       genres\n",
       "0                        None\n",
       "1                      Action\n",
       "2         Action,Adult,Comedy\n",
       "3            Action,Adventure\n",
       "4  Action,Adventure,Animation"
      ]
     },
     "execution_count": 12,
     "metadata": {},
     "output_type": "execute_result"
    }
   ],
   "source": [
    "genre_vs_rating=pd.read_sql('''\n",
    "SELECT b.genres, avg(r.averagerating) as average_rating\n",
    "FROM movie_basics b\n",
    "\tJOIN movie_ratings r\n",
    "\tUSING (movie_id)\n",
    "GROUP BY genres;'''\n",
    ", conn)\n",
    "genre_vs_rating.head(20)\n",
    "genre_vs_rating.iloc[:,:1].head()"
   ]
  },
  {
   "cell_type": "markdown",
   "metadata": {},
   "source": [
    "## GENRE VS GROSS"
   ]
  },
  {
   "cell_type": "code",
   "execution_count": 13,
   "metadata": {},
   "outputs": [],
   "source": [
    "# genre=pd.read_sql('''\n",
    "# SELECT primary_title as 'title', genres\n",
    "# FROM movie_basics\n",
    "# ;'''\n",
    "# , conn)\n",
    "# pd.get_dummies(genre['genres'])\n",
    "# df[['First Name', 'Last Name']] = df.Student_details.str.split(\",\", expand = True)"
   ]
  },
  {
   "cell_type": "code",
   "execution_count": 14,
   "metadata": {},
   "outputs": [],
   "source": [
    "df = bom_cleaned.merge(genre,how='inner',on='title')"
   ]
  },
  {
   "cell_type": "markdown",
   "metadata": {},
   "source": [
    "## GENRE VS GROSS & BUDGET"
   ]
  },
  {
   "cell_type": "markdown",
   "metadata": {},
   "source": [
    "## BUDGET VS GROSS"
   ]
  },
  {
   "cell_type": "markdown",
   "metadata": {},
   "source": [
    "## WRITER VS GROSS"
   ]
  },
  {
   "cell_type": "markdown",
   "metadata": {},
   "source": [
    "## DIRECTOR VS GROSS OR RATING"
   ]
  },
  {
   "cell_type": "markdown",
   "metadata": {},
   "source": [
    "## RATED (R, M, PG, PG13) vs RATING (Popularity)"
   ]
  },
  {
   "cell_type": "code",
   "execution_count": 15,
   "metadata": {},
   "outputs": [],
   "source": [
    "rt = pd.read_csv(\"../data/rt_cleaned_combined.csv\")"
   ]
  },
  {
   "cell_type": "code",
   "execution_count": 16,
   "metadata": {},
   "outputs": [
    {
     "data": {
      "text/html": [
       "<div>\n",
       "<style scoped>\n",
       "    .dataframe tbody tr th:only-of-type {\n",
       "        vertical-align: middle;\n",
       "    }\n",
       "\n",
       "    .dataframe tbody tr th {\n",
       "        vertical-align: top;\n",
       "    }\n",
       "\n",
       "    .dataframe thead th {\n",
       "        text-align: right;\n",
       "    }\n",
       "</style>\n",
       "<table border=\"1\" class=\"dataframe\">\n",
       "  <thead>\n",
       "    <tr style=\"text-align: right;\">\n",
       "      <th></th>\n",
       "      <th>rated</th>\n",
       "      <th>new_rating</th>\n",
       "    </tr>\n",
       "  </thead>\n",
       "  <tbody>\n",
       "    <tr>\n",
       "      <th>0</th>\n",
       "      <td>G</td>\n",
       "      <td>0.660845</td>\n",
       "    </tr>\n",
       "    <tr>\n",
       "      <th>1</th>\n",
       "      <td>NR</td>\n",
       "      <td>0.672566</td>\n",
       "    </tr>\n",
       "    <tr>\n",
       "      <th>2</th>\n",
       "      <td>PG</td>\n",
       "      <td>0.591437</td>\n",
       "    </tr>\n",
       "    <tr>\n",
       "      <th>3</th>\n",
       "      <td>PG-13</td>\n",
       "      <td>0.564879</td>\n",
       "    </tr>\n",
       "    <tr>\n",
       "      <th>4</th>\n",
       "      <td>R</td>\n",
       "      <td>0.600617</td>\n",
       "    </tr>\n",
       "  </tbody>\n",
       "</table>\n",
       "</div>"
      ],
      "text/plain": [
       "   rated  new_rating\n",
       "0      G    0.660845\n",
       "1     NR    0.672566\n",
       "2     PG    0.591437\n",
       "3  PG-13    0.564879\n",
       "4      R    0.600617"
      ]
     },
     "execution_count": 16,
     "metadata": {},
     "output_type": "execute_result"
    }
   ],
   "source": [
    "ratings = rt.groupby('rated',as_index=False)['new_rating'].mean()\n",
    "ratings"
   ]
  },
  {
   "cell_type": "code",
   "execution_count": 17,
   "metadata": {},
   "outputs": [
    {
     "data": {
      "text/plain": [
       "''"
      ]
     },
     "execution_count": 17,
     "metadata": {},
     "output_type": "execute_result"
    },
    {
     "data": {
      "image/png": "[encoded data removed]",
      "text/plain": [
       "<Figure size 432x288 with 1 Axes>"
      ]
     },
     "metadata": {
      "needs_background": "light"
     },
     "output_type": "display_data"
    }
   ],
   "source": [
    "fig, ax = plt.subplots()\n",
    "\n",
    "ax.bar(x=ratings['rated'], height = ratings['new_rating']*100)\n",
    "ax.set_ylabel('Rotten Tomatoes Score %')\n",
    "ax.set_xlabel('Movie Rating')\n",
    "ax.set_title(\"Movie Rating by Rotten Tomato Score\")\n",
    ";"
   ]
  },
  {
   "cell_type": "markdown",
   "metadata": {},
   "source": [
    "## RUNTIME VS GROSS/RATING (LOOK BY GENRE)"
   ]
  },
  {
   "cell_type": "code",
   "execution_count": 26,
   "metadata": {},
   "outputs": [
    {
     "data": {
      "text/html": [
       "<div>\n",
       "<style scoped>\n",
       "    .dataframe tbody tr th:only-of-type {\n",
       "        vertical-align: middle;\n",
       "    }\n",
       "\n",
       "    .dataframe tbody tr th {\n",
       "        vertical-align: top;\n",
       "    }\n",
       "\n",
       "    .dataframe thead th {\n",
       "        text-align: right;\n",
       "    }\n",
       "</style>\n",
       "<table border=\"1\" class=\"dataframe\">\n",
       "  <thead>\n",
       "    <tr style=\"text-align: right;\">\n",
       "      <th></th>\n",
       "      <th>Unnamed: 0</th>\n",
       "      <th>movie_id</th>\n",
       "      <th>primary_title</th>\n",
       "      <th>start_year</th>\n",
       "      <th>runtime_minutes</th>\n",
       "      <th>genres</th>\n",
       "      <th>title_merge_x</th>\n",
       "      <th>release_date</th>\n",
       "      <th>movie</th>\n",
       "      <th>production_budget</th>\n",
       "      <th>domestic_gross</th>\n",
       "      <th>worldwide_gross</th>\n",
       "      <th>title_merge_y</th>\n",
       "    </tr>\n",
       "  </thead>\n",
       "  <tbody>\n",
       "    <tr>\n",
       "      <th>0</th>\n",
       "      <td>0</td>\n",
       "      <td>tt0063540</td>\n",
       "      <td>Sunghursh</td>\n",
       "      <td>2013</td>\n",
       "      <td>175.0</td>\n",
       "      <td>Action,Crime,Drama</td>\n",
       "      <td>sunghursh</td>\n",
       "      <td>NaN</td>\n",
       "      <td>NaN</td>\n",
       "      <td>NaN</td>\n",
       "      <td>NaN</td>\n",
       "      <td>NaN</td>\n",
       "      <td>NaN</td>\n",
       "    </tr>\n",
       "    <tr>\n",
       "      <th>1</th>\n",
       "      <td>1</td>\n",
       "      <td>tt0066787</td>\n",
       "      <td>One Day Before the Rainy Season</td>\n",
       "      <td>2019</td>\n",
       "      <td>114.0</td>\n",
       "      <td>Biography,Drama</td>\n",
       "      <td>onedaybeforetherainyseason</td>\n",
       "      <td>NaN</td>\n",
       "      <td>NaN</td>\n",
       "      <td>NaN</td>\n",
       "      <td>NaN</td>\n",
       "      <td>NaN</td>\n",
       "      <td>NaN</td>\n",
       "    </tr>\n",
       "    <tr>\n",
       "      <th>2</th>\n",
       "      <td>2</td>\n",
       "      <td>tt0069049</td>\n",
       "      <td>The Other Side of the Wind</td>\n",
       "      <td>2018</td>\n",
       "      <td>122.0</td>\n",
       "      <td>Drama</td>\n",
       "      <td>theothersideofthewind</td>\n",
       "      <td>NaN</td>\n",
       "      <td>NaN</td>\n",
       "      <td>NaN</td>\n",
       "      <td>NaN</td>\n",
       "      <td>NaN</td>\n",
       "      <td>NaN</td>\n",
       "    </tr>\n",
       "    <tr>\n",
       "      <th>3</th>\n",
       "      <td>3</td>\n",
       "      <td>tt0069204</td>\n",
       "      <td>Sabse Bada Sukh</td>\n",
       "      <td>2018</td>\n",
       "      <td>NaN</td>\n",
       "      <td>Comedy,Drama</td>\n",
       "      <td>sabsebadasukh</td>\n",
       "      <td>NaN</td>\n",
       "      <td>NaN</td>\n",
       "      <td>NaN</td>\n",
       "      <td>NaN</td>\n",
       "      <td>NaN</td>\n",
       "      <td>NaN</td>\n",
       "    </tr>\n",
       "    <tr>\n",
       "      <th>4</th>\n",
       "      <td>4</td>\n",
       "      <td>tt0100275</td>\n",
       "      <td>The Wandering Soap Opera</td>\n",
       "      <td>2017</td>\n",
       "      <td>80.0</td>\n",
       "      <td>Comedy,Drama,Fantasy</td>\n",
       "      <td>thewanderingsoapopera</td>\n",
       "      <td>NaN</td>\n",
       "      <td>NaN</td>\n",
       "      <td>NaN</td>\n",
       "      <td>NaN</td>\n",
       "      <td>NaN</td>\n",
       "      <td>NaN</td>\n",
       "    </tr>\n",
       "  </tbody>\n",
       "</table>\n",
       "</div>"
      ],
      "text/plain": [
       "   Unnamed: 0   movie_id                    primary_title  start_year  \\\n",
       "0           0  tt0063540                        Sunghursh        2013   \n",
       "1           1  tt0066787  One Day Before the Rainy Season        2019   \n",
       "2           2  tt0069049       The Other Side of the Wind        2018   \n",
       "3           3  tt0069204                  Sabse Bada Sukh        2018   \n",
       "4           4  tt0100275         The Wandering Soap Opera        2017   \n",
       "\n",
       "   runtime_minutes                genres               title_merge_x  \\\n",
       "0            175.0    Action,Crime,Drama                   sunghursh   \n",
       "1            114.0       Biography,Drama  onedaybeforetherainyseason   \n",
       "2            122.0                 Drama       theothersideofthewind   \n",
       "3              NaN          Comedy,Drama               sabsebadasukh   \n",
       "4             80.0  Comedy,Drama,Fantasy       thewanderingsoapopera   \n",
       "\n",
       "  release_date movie  production_budget  domestic_gross  worldwide_gross  \\\n",
       "0          NaN   NaN                NaN             NaN              NaN   \n",
       "1          NaN   NaN                NaN             NaN              NaN   \n",
       "2          NaN   NaN                NaN             NaN              NaN   \n",
       "3          NaN   NaN                NaN             NaN              NaN   \n",
       "4          NaN   NaN                NaN             NaN              NaN   \n",
       "\n",
       "  title_merge_y  \n",
       "0           NaN  \n",
       "1           NaN  \n",
       "2           NaN  \n",
       "3           NaN  \n",
       "4           NaN  "
      ]
     },
     "execution_count": 26,
     "metadata": {},
     "output_type": "execute_result"
    }
   ],
   "source": [
    "imdb_gross = pd.read_csv('df_imdb_w_fin.csv')\n",
    "imdb_gross.head()"
   ]
  },
  {
   "cell_type": "code",
   "execution_count": 32,
   "metadata": {},
   "outputs": [
    {
     "data": {
      "text/html": [
       "<div>\n",
       "<style scoped>\n",
       "    .dataframe tbody tr th:only-of-type {\n",
       "        vertical-align: middle;\n",
       "    }\n",
       "\n",
       "    .dataframe tbody tr th {\n",
       "        vertical-align: top;\n",
       "    }\n",
       "\n",
       "    .dataframe thead th {\n",
       "        text-align: right;\n",
       "    }\n",
       "</style>\n",
       "<table border=\"1\" class=\"dataframe\">\n",
       "  <thead>\n",
       "    <tr style=\"text-align: right;\">\n",
       "      <th></th>\n",
       "      <th>primary_title</th>\n",
       "      <th>runtime_minutes</th>\n",
       "      <th>domestic_gross</th>\n",
       "      <th>worldwide_gross</th>\n",
       "    </tr>\n",
       "  </thead>\n",
       "  <tbody>\n",
       "    <tr>\n",
       "      <th>38</th>\n",
       "      <td>Wazir</td>\n",
       "      <td>103.0</td>\n",
       "      <td>1100000.0</td>\n",
       "      <td>1100000.0</td>\n",
       "    </tr>\n",
       "    <tr>\n",
       "      <th>40</th>\n",
       "      <td>The Overnight</td>\n",
       "      <td>88.0</td>\n",
       "      <td>1109808.0</td>\n",
       "      <td>1165996.0</td>\n",
       "    </tr>\n",
       "    <tr>\n",
       "      <th>48</th>\n",
       "      <td>On the Road</td>\n",
       "      <td>124.0</td>\n",
       "      <td>744000.0</td>\n",
       "      <td>8744000.0</td>\n",
       "    </tr>\n",
       "    <tr>\n",
       "      <th>49</th>\n",
       "      <td>On the Road</td>\n",
       "      <td>124.0</td>\n",
       "      <td>720828.0</td>\n",
       "      <td>9313302.0</td>\n",
       "    </tr>\n",
       "    <tr>\n",
       "      <th>55</th>\n",
       "      <td>The Secret Life of Walter Mitty</td>\n",
       "      <td>114.0</td>\n",
       "      <td>58200000.0</td>\n",
       "      <td>188100000.0</td>\n",
       "    </tr>\n",
       "    <tr>\n",
       "      <th>...</th>\n",
       "      <td>...</td>\n",
       "      <td>...</td>\n",
       "      <td>...</td>\n",
       "      <td>...</td>\n",
       "    </tr>\n",
       "    <tr>\n",
       "      <th>147484</th>\n",
       "      <td>The Hunt</td>\n",
       "      <td>90.0</td>\n",
       "      <td>613000.0</td>\n",
       "      <td>613000.0</td>\n",
       "    </tr>\n",
       "    <tr>\n",
       "      <th>147521</th>\n",
       "      <td>Ali</td>\n",
       "      <td>110.0</td>\n",
       "      <td>58183966.0</td>\n",
       "      <td>87683966.0</td>\n",
       "    </tr>\n",
       "    <tr>\n",
       "      <th>147809</th>\n",
       "      <td>Columbus</td>\n",
       "      <td>85.0</td>\n",
       "      <td>1017107.0</td>\n",
       "      <td>1110511.0</td>\n",
       "    </tr>\n",
       "    <tr>\n",
       "      <th>147862</th>\n",
       "      <td>Unstoppable</td>\n",
       "      <td>84.0</td>\n",
       "      <td>81600000.0</td>\n",
       "      <td>167800000.0</td>\n",
       "    </tr>\n",
       "    <tr>\n",
       "      <th>147863</th>\n",
       "      <td>Unstoppable</td>\n",
       "      <td>84.0</td>\n",
       "      <td>81562942.0</td>\n",
       "      <td>165720921.0</td>\n",
       "    </tr>\n",
       "  </tbody>\n",
       "</table>\n",
       "<p>6044 rows × 4 columns</p>\n",
       "</div>"
      ],
      "text/plain": [
       "                          primary_title  runtime_minutes  domestic_gross  \\\n",
       "38                                Wazir            103.0       1100000.0   \n",
       "40                        The Overnight             88.0       1109808.0   \n",
       "48                          On the Road            124.0        744000.0   \n",
       "49                          On the Road            124.0        720828.0   \n",
       "55      The Secret Life of Walter Mitty            114.0      58200000.0   \n",
       "...                                 ...              ...             ...   \n",
       "147484                         The Hunt             90.0        613000.0   \n",
       "147521                              Ali            110.0      58183966.0   \n",
       "147809                         Columbus             85.0       1017107.0   \n",
       "147862                      Unstoppable             84.0      81600000.0   \n",
       "147863                      Unstoppable             84.0      81562942.0   \n",
       "\n",
       "        worldwide_gross  \n",
       "38            1100000.0  \n",
       "40            1165996.0  \n",
       "48            8744000.0  \n",
       "49            9313302.0  \n",
       "55          188100000.0  \n",
       "...                 ...  \n",
       "147484         613000.0  \n",
       "147521       87683966.0  \n",
       "147809        1110511.0  \n",
       "147862      167800000.0  \n",
       "147863      165720921.0  \n",
       "\n",
       "[6044 rows x 4 columns]"
      ]
     },
     "execution_count": 32,
     "metadata": {},
     "output_type": "execute_result"
    }
   ],
   "source": [
    "gross_runtime = imdb_gross.loc[(imdb_gross['domestic_gross'] > 0) & (imdb_gross['runtime_minutes'] > 0), ['primary_title', 'runtime_minutes', 'domestic_gross', 'worldwide_gross']]\n",
    "gross_runtime"
   ]
  },
  {
   "cell_type": "code",
   "execution_count": 38,
   "metadata": {},
   "outputs": [
    {
     "data": {
      "text/plain": [
       "array([[1.        , 0.10261223],\n",
       "       [0.10261223, 1.        ]])"
      ]
     },
     "execution_count": 38,
     "metadata": {},
     "output_type": "execute_result"
    }
   ],
   "source": [
    "np.corrcoef(gross_runtime.runtime_minutes, gross_runtime.domestic_gross)"
   ]
  },
  {
   "cell_type": "code",
   "execution_count": 77,
   "metadata": {},
   "outputs": [
    {
     "data": {
      "text/plain": [
       "array([[1.        , 0.12659764],\n",
       "       [0.12659764, 1.        ]])"
      ]
     },
     "execution_count": 77,
     "metadata": {},
     "output_type": "execute_result"
    }
   ],
   "source": [
    "np.corrcoef(gross_runtime.runtime_minutes, gross_runtime.worldwide_gross)"
   ]
  },
  {
   "cell_type": "code",
   "execution_count": 71,
   "metadata": {},
   "outputs": [
    {
     "data": {
      "image/png": "[encoded data removed]",
      "text/plain": [
       "<Figure size 1152x576 with 2 Axes>"
      ]
     },
     "metadata": {
      "needs_background": "light"
     },
     "output_type": "display_data"
    },
    {
     "data": {
      "text/plain": [
       "''"
      ]
     },
     "execution_count": 71,
     "metadata": {},
     "output_type": "execute_result"
    }
   ],
   "source": [
    "fig, (ax1, ax2) = plt.subplots(figsize=(16,8), ncols=2)\n",
    "\n",
    "ax1.scatter(x=gross_runtime.runtime_minutes, y=gross_runtime.domestic_gross, alpha = .3)\n",
    "ax1.set_xlabel('runtime in minutes')\n",
    "ax1.set_ylabel('domestic gross')\n",
    "ax1.set_title('Domestic Gross vs Runtime')\n",
    "ax1.set_xlim(0,400)\n",
    "\n",
    "ax2.scatter(x=gross_runtime.runtime_minutes, y=gross_runtime.worldwide_gross, alpha = .3)\n",
    "ax2.set_title(\"Worldwide Gross vs Runtime\")\n",
    "ax2.set_xlabel('runtime in minutes')\n",
    "ax2.set_ylabel('worldwide gross')\n",
    "ax2.set_xlim(0,400)\n",
    "\n",
    "plt.show()\n",
    ";\n"
   ]
  },
  {
   "cell_type": "markdown",
   "metadata": {},
   "source": [
    "## RATING(good vs bad) VS GROSS\t"
   ]
  },
  {
   "cell_type": "code",
   "execution_count": 41,
   "metadata": {},
   "outputs": [],
   "source": [
    "imdb_ratings = pd.read_sql('''\n",
    "SELECT b.primary_title, r.averagerating\n",
    "FROM movie_basics b\n",
    "    JOIN movie_ratings r\n",
    "    ON b.movie_id = r.movie_id\n",
    "WHERE r.numvotes > 100    \n",
    ";'''\n",
    ", conn)"
   ]
  },
  {
   "cell_type": "code",
   "execution_count": 43,
   "metadata": {},
   "outputs": [],
   "source": [
    "gross_ratings = imdb_gross.merge(imdb_ratings,\n",
    "                how = 'inner',\n",
    "                on = 'primary_title')"
   ]
  },
  {
   "cell_type": "code",
   "execution_count": 44,
   "metadata": {},
   "outputs": [
    {
     "data": {
      "text/html": [
       "<div>\n",
       "<style scoped>\n",
       "    .dataframe tbody tr th:only-of-type {\n",
       "        vertical-align: middle;\n",
       "    }\n",
       "\n",
       "    .dataframe tbody tr th {\n",
       "        vertical-align: top;\n",
       "    }\n",
       "\n",
       "    .dataframe thead th {\n",
       "        text-align: right;\n",
       "    }\n",
       "</style>\n",
       "<table border=\"1\" class=\"dataframe\">\n",
       "  <thead>\n",
       "    <tr style=\"text-align: right;\">\n",
       "      <th></th>\n",
       "      <th>Unnamed: 0</th>\n",
       "      <th>movie_id</th>\n",
       "      <th>primary_title</th>\n",
       "      <th>start_year</th>\n",
       "      <th>runtime_minutes</th>\n",
       "      <th>genres</th>\n",
       "      <th>title_merge_x</th>\n",
       "      <th>release_date</th>\n",
       "      <th>movie</th>\n",
       "      <th>production_budget</th>\n",
       "      <th>domestic_gross</th>\n",
       "      <th>worldwide_gross</th>\n",
       "      <th>title_merge_y</th>\n",
       "      <th>averagerating</th>\n",
       "    </tr>\n",
       "  </thead>\n",
       "  <tbody>\n",
       "    <tr>\n",
       "      <th>0</th>\n",
       "      <td>2</td>\n",
       "      <td>tt0069049</td>\n",
       "      <td>The Other Side of the Wind</td>\n",
       "      <td>2018</td>\n",
       "      <td>122.0</td>\n",
       "      <td>Drama</td>\n",
       "      <td>theothersideofthewind</td>\n",
       "      <td>NaN</td>\n",
       "      <td>NaN</td>\n",
       "      <td>NaN</td>\n",
       "      <td>NaN</td>\n",
       "      <td>NaN</td>\n",
       "      <td>NaN</td>\n",
       "      <td>6.9</td>\n",
       "    </tr>\n",
       "    <tr>\n",
       "      <th>1</th>\n",
       "      <td>4</td>\n",
       "      <td>tt0100275</td>\n",
       "      <td>The Wandering Soap Opera</td>\n",
       "      <td>2017</td>\n",
       "      <td>80.0</td>\n",
       "      <td>Comedy,Drama,Fantasy</td>\n",
       "      <td>thewanderingsoapopera</td>\n",
       "      <td>NaN</td>\n",
       "      <td>NaN</td>\n",
       "      <td>NaN</td>\n",
       "      <td>NaN</td>\n",
       "      <td>NaN</td>\n",
       "      <td>NaN</td>\n",
       "      <td>6.5</td>\n",
       "    </tr>\n",
       "    <tr>\n",
       "      <th>2</th>\n",
       "      <td>7</td>\n",
       "      <td>tt0137204</td>\n",
       "      <td>Joe Finds Grace</td>\n",
       "      <td>2017</td>\n",
       "      <td>83.0</td>\n",
       "      <td>Adventure,Animation,Comedy</td>\n",
       "      <td>joefindsgrace</td>\n",
       "      <td>NaN</td>\n",
       "      <td>NaN</td>\n",
       "      <td>NaN</td>\n",
       "      <td>NaN</td>\n",
       "      <td>NaN</td>\n",
       "      <td>NaN</td>\n",
       "      <td>8.1</td>\n",
       "    </tr>\n",
       "    <tr>\n",
       "      <th>3</th>\n",
       "      <td>10</td>\n",
       "      <td>tt0146592</td>\n",
       "      <td>Pál Adrienn</td>\n",
       "      <td>2010</td>\n",
       "      <td>136.0</td>\n",
       "      <td>Drama</td>\n",
       "      <td>páladrienn</td>\n",
       "      <td>NaN</td>\n",
       "      <td>NaN</td>\n",
       "      <td>NaN</td>\n",
       "      <td>NaN</td>\n",
       "      <td>NaN</td>\n",
       "      <td>NaN</td>\n",
       "      <td>6.8</td>\n",
       "    </tr>\n",
       "    <tr>\n",
       "      <th>4</th>\n",
       "      <td>13</td>\n",
       "      <td>tt0162942</td>\n",
       "      <td>Children of the Green Dragon</td>\n",
       "      <td>2010</td>\n",
       "      <td>89.0</td>\n",
       "      <td>Drama</td>\n",
       "      <td>childrenofthegreendragon</td>\n",
       "      <td>NaN</td>\n",
       "      <td>NaN</td>\n",
       "      <td>NaN</td>\n",
       "      <td>NaN</td>\n",
       "      <td>NaN</td>\n",
       "      <td>NaN</td>\n",
       "      <td>6.9</td>\n",
       "    </tr>\n",
       "  </tbody>\n",
       "</table>\n",
       "</div>"
      ],
      "text/plain": [
       "   Unnamed: 0   movie_id                 primary_title  start_year  \\\n",
       "0           2  tt0069049    The Other Side of the Wind        2018   \n",
       "1           4  tt0100275      The Wandering Soap Opera        2017   \n",
       "2           7  tt0137204               Joe Finds Grace        2017   \n",
       "3          10  tt0146592                   Pál Adrienn        2010   \n",
       "4          13  tt0162942  Children of the Green Dragon        2010   \n",
       "\n",
       "   runtime_minutes                      genres             title_merge_x  \\\n",
       "0            122.0                       Drama     theothersideofthewind   \n",
       "1             80.0        Comedy,Drama,Fantasy     thewanderingsoapopera   \n",
       "2             83.0  Adventure,Animation,Comedy             joefindsgrace   \n",
       "3            136.0                       Drama                páladrienn   \n",
       "4             89.0                       Drama  childrenofthegreendragon   \n",
       "\n",
       "  release_date movie  production_budget  domestic_gross  worldwide_gross  \\\n",
       "0          NaN   NaN                NaN             NaN              NaN   \n",
       "1          NaN   NaN                NaN             NaN              NaN   \n",
       "2          NaN   NaN                NaN             NaN              NaN   \n",
       "3          NaN   NaN                NaN             NaN              NaN   \n",
       "4          NaN   NaN                NaN             NaN              NaN   \n",
       "\n",
       "  title_merge_y  averagerating  \n",
       "0           NaN            6.9  \n",
       "1           NaN            6.5  \n",
       "2           NaN            8.1  \n",
       "3           NaN            6.8  \n",
       "4           NaN            6.9  "
      ]
     },
     "execution_count": 44,
     "metadata": {},
     "output_type": "execute_result"
    }
   ],
   "source": [
    "gross_ratings.head()"
   ]
  },
  {
   "cell_type": "code",
   "execution_count": 73,
   "metadata": {},
   "outputs": [
    {
     "data": {
      "text/html": [
       "<div>\n",
       "<style scoped>\n",
       "    .dataframe tbody tr th:only-of-type {\n",
       "        vertical-align: middle;\n",
       "    }\n",
       "\n",
       "    .dataframe tbody tr th {\n",
       "        vertical-align: top;\n",
       "    }\n",
       "\n",
       "    .dataframe thead th {\n",
       "        text-align: right;\n",
       "    }\n",
       "</style>\n",
       "<table border=\"1\" class=\"dataframe\">\n",
       "  <thead>\n",
       "    <tr style=\"text-align: right;\">\n",
       "      <th></th>\n",
       "      <th>primary_title</th>\n",
       "      <th>averagerating</th>\n",
       "      <th>domestic_gross</th>\n",
       "      <th>worldwide_gross</th>\n",
       "    </tr>\n",
       "  </thead>\n",
       "  <tbody>\n",
       "    <tr>\n",
       "      <th>19</th>\n",
       "      <td>Wazir</td>\n",
       "      <td>7.1</td>\n",
       "      <td>1100000.0</td>\n",
       "      <td>1100000.0</td>\n",
       "    </tr>\n",
       "    <tr>\n",
       "      <th>21</th>\n",
       "      <td>The Overnight</td>\n",
       "      <td>6.1</td>\n",
       "      <td>1109808.0</td>\n",
       "      <td>1165996.0</td>\n",
       "    </tr>\n",
       "    <tr>\n",
       "      <th>22</th>\n",
       "      <td>The Overnight</td>\n",
       "      <td>6.1</td>\n",
       "      <td>1109808.0</td>\n",
       "      <td>1165996.0</td>\n",
       "    </tr>\n",
       "    <tr>\n",
       "      <th>25</th>\n",
       "      <td>On the Road</td>\n",
       "      <td>6.1</td>\n",
       "      <td>744000.0</td>\n",
       "      <td>8744000.0</td>\n",
       "    </tr>\n",
       "    <tr>\n",
       "      <th>26</th>\n",
       "      <td>On the Road</td>\n",
       "      <td>5.7</td>\n",
       "      <td>744000.0</td>\n",
       "      <td>8744000.0</td>\n",
       "    </tr>\n",
       "    <tr>\n",
       "      <th>...</th>\n",
       "      <td>...</td>\n",
       "      <td>...</td>\n",
       "      <td>...</td>\n",
       "      <td>...</td>\n",
       "    </tr>\n",
       "    <tr>\n",
       "      <th>39910</th>\n",
       "      <td>Helicopter Eela</td>\n",
       "      <td>5.4</td>\n",
       "      <td>72000.0</td>\n",
       "      <td>72000.0</td>\n",
       "    </tr>\n",
       "    <tr>\n",
       "      <th>40026</th>\n",
       "      <td>Fahrenheit 11/9</td>\n",
       "      <td>6.7</td>\n",
       "      <td>6352306.0</td>\n",
       "      <td>6653715.0</td>\n",
       "    </tr>\n",
       "    <tr>\n",
       "      <th>40259</th>\n",
       "      <td>Unplanned</td>\n",
       "      <td>6.3</td>\n",
       "      <td>18107621.0</td>\n",
       "      <td>18107621.0</td>\n",
       "    </tr>\n",
       "    <tr>\n",
       "      <th>40282</th>\n",
       "      <td>Last Letter</td>\n",
       "      <td>6.4</td>\n",
       "      <td>181000.0</td>\n",
       "      <td>181000.0</td>\n",
       "    </tr>\n",
       "    <tr>\n",
       "      <th>40310</th>\n",
       "      <td>Burn the Stage: The Movie</td>\n",
       "      <td>8.8</td>\n",
       "      <td>4200000.0</td>\n",
       "      <td>20300000.0</td>\n",
       "    </tr>\n",
       "  </tbody>\n",
       "</table>\n",
       "<p>8041 rows × 4 columns</p>\n",
       "</div>"
      ],
      "text/plain": [
       "                   primary_title  averagerating  domestic_gross  \\\n",
       "19                         Wazir            7.1       1100000.0   \n",
       "21                 The Overnight            6.1       1109808.0   \n",
       "22                 The Overnight            6.1       1109808.0   \n",
       "25                   On the Road            6.1        744000.0   \n",
       "26                   On the Road            5.7        744000.0   \n",
       "...                          ...            ...             ...   \n",
       "39910            Helicopter Eela            5.4         72000.0   \n",
       "40026            Fahrenheit 11/9            6.7       6352306.0   \n",
       "40259                  Unplanned            6.3      18107621.0   \n",
       "40282                Last Letter            6.4        181000.0   \n",
       "40310  Burn the Stage: The Movie            8.8       4200000.0   \n",
       "\n",
       "       worldwide_gross  \n",
       "19           1100000.0  \n",
       "21           1165996.0  \n",
       "22           1165996.0  \n",
       "25           8744000.0  \n",
       "26           8744000.0  \n",
       "...                ...  \n",
       "39910          72000.0  \n",
       "40026        6653715.0  \n",
       "40259       18107621.0  \n",
       "40282         181000.0  \n",
       "40310       20300000.0  \n",
       "\n",
       "[8041 rows x 4 columns]"
      ]
     },
     "execution_count": 73,
     "metadata": {},
     "output_type": "execute_result"
    }
   ],
   "source": [
    "gr_filtered = gross_ratings.loc[ (gross_ratings['averagerating'] > 0) & (gross_ratings['domestic_gross'] > 0), ['primary_title', 'averagerating', 'domestic_gross', 'worldwide_gross']]\n",
    "gr_filtered"
   ]
  },
  {
   "cell_type": "code",
   "execution_count": 74,
   "metadata": {},
   "outputs": [
    {
     "data": {
      "image/png": "[encoded data removed]",
      "text/plain": [
       "<Figure size 1152x576 with 2 Axes>"
      ]
     },
     "metadata": {
      "needs_background": "light"
     },
     "output_type": "display_data"
    },
    {
     "data": {
      "text/plain": [
       "''"
      ]
     },
     "execution_count": 74,
     "metadata": {},
     "output_type": "execute_result"
    }
   ],
   "source": [
    "fig, (ax1, ax2) = plt.subplots(figsize=(16,8), ncols=2)\n",
    "\n",
    "ax1.scatter(x=gr_filtered.averagerating, y=gr_filtered.domestic_gross, alpha = .3)\n",
    "ax1.set_xlabel('Average Rating')\n",
    "ax1.set_ylabel('Domestic Gross')\n",
    "ax1.set_title('Domestic Gross vs Average Rating')\n",
    "\n",
    "ax2.scatter(x=gr_filtered.averagerating, y=gr_filtered.worldwide_gross, alpha = .3)\n",
    "ax2.set_title(\"Worldwide Gross vs Average Rating\")\n",
    "ax2.set_xlabel('Average Rating')\n",
    "ax2.set_ylabel('Worldwide Gross')\n",
    "\n",
    "\n",
    "plt.show()\n",
    ";"
   ]
  },
  {
   "cell_type": "code",
   "execution_count": 78,
   "metadata": {},
   "outputs": [
    {
     "data": {
      "text/plain": [
       "array([[1.        , 0.10498034],\n",
       "       [0.10498034, 1.        ]])"
      ]
     },
     "execution_count": 78,
     "metadata": {},
     "output_type": "execute_result"
    }
   ],
   "source": [
    "np.corrcoef(gr_filtered.averagerating, gr_filtered.domestic_gross)"
   ]
  },
  {
   "cell_type": "code",
   "execution_count": 79,
   "metadata": {},
   "outputs": [
    {
     "data": {
      "text/plain": [
       "array([[1.        , 0.11605747],\n",
       "       [0.11605747, 1.        ]])"
      ]
     },
     "execution_count": 79,
     "metadata": {},
     "output_type": "execute_result"
    }
   ],
   "source": [
    "np.corrcoef(gr_filtered.averagerating, gr_filtered.worldwide_gross)"
   ]
  },
  {
   "cell_type": "code",
   "execution_count": 1,
   "metadata": {},
   "outputs": [],
   "source": [
    "import seaborn as sns"
   ]
  },
  {
   "cell_type": "code",
   "execution_count": null,
   "metadata": {},
   "outputs": [],
   "source": [
    "sns.regplot(x = df_imdb_tn_trimmed['runtime_minutes'], y = df_imdb_tn_trimmed['worldwide_gross'], marker = '*',\n",
    "            scatter_kws={\"color\":\"darkred\",\"alpha\":0.1,\"s\":20}, fit_reg = False)\n",
    "change x, y, and fit_reg = True"
   ]
  }
 ],
 "metadata": {
  "kernelspec": {
   "display_name": "Python 3",
   "language": "python",
   "name": "python3"
  },
  "language_info": {
   "codemirror_mode": {
    "name": "ipython",
    "version": 3
   },
   "file_extension": ".py",
   "mimetype": "text/x-python",
   "name": "python",
   "nbconvert_exporter": "python",
   "pygments_lexer": "ipython3",
   "version": "3.8.5"
  }
 },
 "nbformat": 4,
 "nbformat_minor": 4
}
