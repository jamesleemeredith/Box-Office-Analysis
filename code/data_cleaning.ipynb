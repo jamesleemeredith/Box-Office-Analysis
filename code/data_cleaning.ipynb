{
 "cells": [
  {
   "cell_type": "code",
   "execution_count": 41,
   "metadata": {
    "ExecuteTime": {
     "end_time": "2023-04-21T15:50:34.833100Z",
     "start_time": "2023-04-21T15:50:34.465358Z"
    }
   },
   "outputs": [],
   "source": [
    "import pandas as pd"
   ]
  },
  {
   "attachments": {},
   "cell_type": "markdown",
   "metadata": {},
   "source": [
    "## Imports the data and explores it\n",
    "Steps will be:\n",
    "- Import the data\n",
    "- Check out the data\n",
    "- Check the info\n",
    "- Describe the data\n",
    "- Check the shape"
   ]
  },
  {
   "cell_type": "code",
   "execution_count": 65,
   "metadata": {
    "ExecuteTime": {
     "end_time": "2023-04-21T19:40:21.938841Z",
     "start_time": "2023-04-21T19:40:20.888038Z"
    },
    "scrolled": true
   },
   "outputs": [],
   "source": [
    "# Imports the data\n",
    "bom_raw = pd.read_csv(\"../data/bom.movie_gross.csv.gz\")\n",
    "rt_movie_info_raw = pd.read_csv(\"../data/rt.movie_info.tsv.gz\", delimiter=\"\\t\")\n",
    "rt_reviews_raw = pd.read_csv(\"../data/rt.reviews.tsv.gz\", delimiter=\"\\t\", encoding='cp1252')\n",
    "tmdb_movies_raw = pd.read_csv(\"../data/tmdb.movies.csv.gz\")\n",
    "tn_movie_budgets_raw = pd.read_csv(\"../data/tn.movie_budgets.csv.gz\")"
   ]
  },
  {
   "cell_type": "code",
   "execution_count": 66,
   "metadata": {},
   "outputs": [
    {
     "name": "stdout",
     "output_type": "stream",
     "text": [
      "<_io.TextIOWrapper name='../data/rt.reviews.tsv.gz' mode='r' encoding='cp1252'>\n"
     ]
    }
   ],
   "source": [
    "# rt_review_data_raw initially doesn't load due to an encoding error. Here we detect the encoding type before inserting it into the codeblock above\n",
    "with open(\"../data/rt.reviews.tsv.gz\") as rt_reviews:\n",
    "    print(rt_reviews)"
   ]
  },
  {
   "cell_type": "code",
   "execution_count": 73,
   "metadata": {
    "ExecuteTime": {
     "end_time": "2023-04-21T15:50:35.538996Z",
     "start_time": "2023-04-21T15:50:35.404138Z"
    },
    "scrolled": false
   },
   "outputs": [
    {
     "data": {
      "text/html": [
       "<div>\n",
       "<style scoped>\n",
       "    .dataframe tbody tr th:only-of-type {\n",
       "        vertical-align: middle;\n",
       "    }\n",
       "\n",
       "    .dataframe tbody tr th {\n",
       "        vertical-align: top;\n",
       "    }\n",
       "\n",
       "    .dataframe thead th {\n",
       "        text-align: right;\n",
       "    }\n",
       "</style>\n",
       "<table border=\"1\" class=\"dataframe\">\n",
       "  <thead>\n",
       "    <tr style=\"text-align: right;\">\n",
       "      <th></th>\n",
       "      <th>title</th>\n",
       "      <th>studio</th>\n",
       "      <th>domestic_gross</th>\n",
       "      <th>foreign_gross</th>\n",
       "      <th>year</th>\n",
       "    </tr>\n",
       "  </thead>\n",
       "  <tbody>\n",
       "    <tr>\n",
       "      <th>0</th>\n",
       "      <td>Toy Story 3</td>\n",
       "      <td>BV</td>\n",
       "      <td>415000000.0</td>\n",
       "      <td>652000000</td>\n",
       "      <td>2010</td>\n",
       "    </tr>\n",
       "    <tr>\n",
       "      <th>1</th>\n",
       "      <td>Alice in Wonderland (2010)</td>\n",
       "      <td>BV</td>\n",
       "      <td>334200000.0</td>\n",
       "      <td>691300000</td>\n",
       "      <td>2010</td>\n",
       "    </tr>\n",
       "    <tr>\n",
       "      <th>2</th>\n",
       "      <td>Harry Potter and the Deathly Hallows Part 1</td>\n",
       "      <td>WB</td>\n",
       "      <td>296000000.0</td>\n",
       "      <td>664300000</td>\n",
       "      <td>2010</td>\n",
       "    </tr>\n",
       "    <tr>\n",
       "      <th>3</th>\n",
       "      <td>Inception</td>\n",
       "      <td>WB</td>\n",
       "      <td>292600000.0</td>\n",
       "      <td>535700000</td>\n",
       "      <td>2010</td>\n",
       "    </tr>\n",
       "    <tr>\n",
       "      <th>4</th>\n",
       "      <td>Shrek Forever After</td>\n",
       "      <td>P/DW</td>\n",
       "      <td>238700000.0</td>\n",
       "      <td>513900000</td>\n",
       "      <td>2010</td>\n",
       "    </tr>\n",
       "  </tbody>\n",
       "</table>\n",
       "</div>"
      ],
      "text/plain": [
       "                                         title studio  domestic_gross  \\\n",
       "0                                  Toy Story 3     BV     415000000.0   \n",
       "1                   Alice in Wonderland (2010)     BV     334200000.0   \n",
       "2  Harry Potter and the Deathly Hallows Part 1     WB     296000000.0   \n",
       "3                                    Inception     WB     292600000.0   \n",
       "4                          Shrek Forever After   P/DW     238700000.0   \n",
       "\n",
       "  foreign_gross  year  \n",
       "0     652000000  2010  \n",
       "1     691300000  2010  \n",
       "2     664300000  2010  \n",
       "3     535700000  2010  \n",
       "4     513900000  2010  "
      ]
     },
     "execution_count": 73,
     "metadata": {},
     "output_type": "execute_result"
    }
   ],
   "source": [
    "# Check out the data\n",
    "bom_raw.head()"
   ]
  },
  {
   "cell_type": "code",
   "execution_count": 74,
   "metadata": {},
   "outputs": [
    {
     "data": {
      "text/html": [
       "<div>\n",
       "<style scoped>\n",
       "    .dataframe tbody tr th:only-of-type {\n",
       "        vertical-align: middle;\n",
       "    }\n",
       "\n",
       "    .dataframe tbody tr th {\n",
       "        vertical-align: top;\n",
       "    }\n",
       "\n",
       "    .dataframe thead th {\n",
       "        text-align: right;\n",
       "    }\n",
       "</style>\n",
       "<table border=\"1\" class=\"dataframe\">\n",
       "  <thead>\n",
       "    <tr style=\"text-align: right;\">\n",
       "      <th></th>\n",
       "      <th>id</th>\n",
       "      <th>synopsis</th>\n",
       "      <th>rating</th>\n",
       "      <th>genre</th>\n",
       "      <th>director</th>\n",
       "      <th>writer</th>\n",
       "      <th>theater_date</th>\n",
       "      <th>dvd_date</th>\n",
       "      <th>currency</th>\n",
       "      <th>box_office</th>\n",
       "      <th>runtime</th>\n",
       "      <th>studio</th>\n",
       "    </tr>\n",
       "  </thead>\n",
       "  <tbody>\n",
       "    <tr>\n",
       "      <th>0</th>\n",
       "      <td>1</td>\n",
       "      <td>This gritty, fast-paced, and innovative police...</td>\n",
       "      <td>R</td>\n",
       "      <td>Action and Adventure|Classics|Drama</td>\n",
       "      <td>William Friedkin</td>\n",
       "      <td>Ernest Tidyman</td>\n",
       "      <td>Oct 9, 1971</td>\n",
       "      <td>Sep 25, 2001</td>\n",
       "      <td>NaN</td>\n",
       "      <td>NaN</td>\n",
       "      <td>104 minutes</td>\n",
       "      <td>NaN</td>\n",
       "    </tr>\n",
       "    <tr>\n",
       "      <th>1</th>\n",
       "      <td>3</td>\n",
       "      <td>New York City, not-too-distant-future: Eric Pa...</td>\n",
       "      <td>R</td>\n",
       "      <td>Drama|Science Fiction and Fantasy</td>\n",
       "      <td>David Cronenberg</td>\n",
       "      <td>David Cronenberg|Don DeLillo</td>\n",
       "      <td>Aug 17, 2012</td>\n",
       "      <td>Jan 1, 2013</td>\n",
       "      <td>$</td>\n",
       "      <td>600,000</td>\n",
       "      <td>108 minutes</td>\n",
       "      <td>Entertainment One</td>\n",
       "    </tr>\n",
       "    <tr>\n",
       "      <th>2</th>\n",
       "      <td>5</td>\n",
       "      <td>Illeana Douglas delivers a superb performance ...</td>\n",
       "      <td>R</td>\n",
       "      <td>Drama|Musical and Performing Arts</td>\n",
       "      <td>Allison Anders</td>\n",
       "      <td>Allison Anders</td>\n",
       "      <td>Sep 13, 1996</td>\n",
       "      <td>Apr 18, 2000</td>\n",
       "      <td>NaN</td>\n",
       "      <td>NaN</td>\n",
       "      <td>116 minutes</td>\n",
       "      <td>NaN</td>\n",
       "    </tr>\n",
       "    <tr>\n",
       "      <th>3</th>\n",
       "      <td>6</td>\n",
       "      <td>Michael Douglas runs afoul of a treacherous su...</td>\n",
       "      <td>R</td>\n",
       "      <td>Drama|Mystery and Suspense</td>\n",
       "      <td>Barry Levinson</td>\n",
       "      <td>Paul Attanasio|Michael Crichton</td>\n",
       "      <td>Dec 9, 1994</td>\n",
       "      <td>Aug 27, 1997</td>\n",
       "      <td>NaN</td>\n",
       "      <td>NaN</td>\n",
       "      <td>128 minutes</td>\n",
       "      <td>NaN</td>\n",
       "    </tr>\n",
       "    <tr>\n",
       "      <th>4</th>\n",
       "      <td>7</td>\n",
       "      <td>NaN</td>\n",
       "      <td>NR</td>\n",
       "      <td>Drama|Romance</td>\n",
       "      <td>Rodney Bennett</td>\n",
       "      <td>Giles Cooper</td>\n",
       "      <td>NaN</td>\n",
       "      <td>NaN</td>\n",
       "      <td>NaN</td>\n",
       "      <td>NaN</td>\n",
       "      <td>200 minutes</td>\n",
       "      <td>NaN</td>\n",
       "    </tr>\n",
       "  </tbody>\n",
       "</table>\n",
       "</div>"
      ],
      "text/plain": [
       "   id                                           synopsis rating  \\\n",
       "0   1  This gritty, fast-paced, and innovative police...      R   \n",
       "1   3  New York City, not-too-distant-future: Eric Pa...      R   \n",
       "2   5  Illeana Douglas delivers a superb performance ...      R   \n",
       "3   6  Michael Douglas runs afoul of a treacherous su...      R   \n",
       "4   7                                                NaN     NR   \n",
       "\n",
       "                                 genre          director  \\\n",
       "0  Action and Adventure|Classics|Drama  William Friedkin   \n",
       "1    Drama|Science Fiction and Fantasy  David Cronenberg   \n",
       "2    Drama|Musical and Performing Arts    Allison Anders   \n",
       "3           Drama|Mystery and Suspense    Barry Levinson   \n",
       "4                        Drama|Romance    Rodney Bennett   \n",
       "\n",
       "                            writer  theater_date      dvd_date currency  \\\n",
       "0                   Ernest Tidyman   Oct 9, 1971  Sep 25, 2001      NaN   \n",
       "1     David Cronenberg|Don DeLillo  Aug 17, 2012   Jan 1, 2013        $   \n",
       "2                   Allison Anders  Sep 13, 1996  Apr 18, 2000      NaN   \n",
       "3  Paul Attanasio|Michael Crichton   Dec 9, 1994  Aug 27, 1997      NaN   \n",
       "4                     Giles Cooper           NaN           NaN      NaN   \n",
       "\n",
       "  box_office      runtime             studio  \n",
       "0        NaN  104 minutes                NaN  \n",
       "1    600,000  108 minutes  Entertainment One  \n",
       "2        NaN  116 minutes                NaN  \n",
       "3        NaN  128 minutes                NaN  \n",
       "4        NaN  200 minutes                NaN  "
      ]
     },
     "execution_count": 74,
     "metadata": {},
     "output_type": "execute_result"
    }
   ],
   "source": [
    "rt_movie_info_raw.head()"
   ]
  },
  {
   "cell_type": "code",
   "execution_count": 69,
   "metadata": {},
   "outputs": [
    {
     "data": {
      "text/html": [
       "<div>\n",
       "<style scoped>\n",
       "    .dataframe tbody tr th:only-of-type {\n",
       "        vertical-align: middle;\n",
       "    }\n",
       "\n",
       "    .dataframe tbody tr th {\n",
       "        vertical-align: top;\n",
       "    }\n",
       "\n",
       "    .dataframe thead th {\n",
       "        text-align: right;\n",
       "    }\n",
       "</style>\n",
       "<table border=\"1\" class=\"dataframe\">\n",
       "  <thead>\n",
       "    <tr style=\"text-align: right;\">\n",
       "      <th></th>\n",
       "      <th>id</th>\n",
       "      <th>review</th>\n",
       "      <th>rating</th>\n",
       "      <th>fresh</th>\n",
       "      <th>critic</th>\n",
       "      <th>top_critic</th>\n",
       "      <th>publisher</th>\n",
       "      <th>date</th>\n",
       "    </tr>\n",
       "  </thead>\n",
       "  <tbody>\n",
       "    <tr>\n",
       "      <th>0</th>\n",
       "      <td>3</td>\n",
       "      <td>A distinctly gallows take on contemporary fina...</td>\n",
       "      <td>3/5</td>\n",
       "      <td>fresh</td>\n",
       "      <td>PJ Nabarro</td>\n",
       "      <td>0</td>\n",
       "      <td>Patrick Nabarro</td>\n",
       "      <td>November 10, 2018</td>\n",
       "    </tr>\n",
       "    <tr>\n",
       "      <th>1</th>\n",
       "      <td>3</td>\n",
       "      <td>It's an allegory in search of a meaning that n...</td>\n",
       "      <td>NaN</td>\n",
       "      <td>rotten</td>\n",
       "      <td>Annalee Newitz</td>\n",
       "      <td>0</td>\n",
       "      <td>io9.com</td>\n",
       "      <td>May 23, 2018</td>\n",
       "    </tr>\n",
       "    <tr>\n",
       "      <th>2</th>\n",
       "      <td>3</td>\n",
       "      <td>... life lived in a bubble in financial dealin...</td>\n",
       "      <td>NaN</td>\n",
       "      <td>fresh</td>\n",
       "      <td>Sean Axmaker</td>\n",
       "      <td>0</td>\n",
       "      <td>Stream on Demand</td>\n",
       "      <td>January 4, 2018</td>\n",
       "    </tr>\n",
       "    <tr>\n",
       "      <th>3</th>\n",
       "      <td>3</td>\n",
       "      <td>Continuing along a line introduced in last yea...</td>\n",
       "      <td>NaN</td>\n",
       "      <td>fresh</td>\n",
       "      <td>Daniel Kasman</td>\n",
       "      <td>0</td>\n",
       "      <td>MUBI</td>\n",
       "      <td>November 16, 2017</td>\n",
       "    </tr>\n",
       "    <tr>\n",
       "      <th>4</th>\n",
       "      <td>3</td>\n",
       "      <td>... a perverse twist on neorealism...</td>\n",
       "      <td>NaN</td>\n",
       "      <td>fresh</td>\n",
       "      <td>NaN</td>\n",
       "      <td>0</td>\n",
       "      <td>Cinema Scope</td>\n",
       "      <td>October 12, 2017</td>\n",
       "    </tr>\n",
       "  </tbody>\n",
       "</table>\n",
       "</div>"
      ],
      "text/plain": [
       "   id                                             review rating   fresh  \\\n",
       "0   3  A distinctly gallows take on contemporary fina...    3/5   fresh   \n",
       "1   3  It's an allegory in search of a meaning that n...    NaN  rotten   \n",
       "2   3  ... life lived in a bubble in financial dealin...    NaN   fresh   \n",
       "3   3  Continuing along a line introduced in last yea...    NaN   fresh   \n",
       "4   3             ... a perverse twist on neorealism...     NaN   fresh   \n",
       "\n",
       "           critic  top_critic         publisher               date  \n",
       "0      PJ Nabarro           0   Patrick Nabarro  November 10, 2018  \n",
       "1  Annalee Newitz           0           io9.com       May 23, 2018  \n",
       "2    Sean Axmaker           0  Stream on Demand    January 4, 2018  \n",
       "3   Daniel Kasman           0              MUBI  November 16, 2017  \n",
       "4             NaN           0      Cinema Scope   October 12, 2017  "
      ]
     },
     "execution_count": 69,
     "metadata": {},
     "output_type": "execute_result"
    }
   ],
   "source": [
    "rt_reviews_raw.head()"
   ]
  },
  {
   "cell_type": "code",
   "execution_count": 70,
   "metadata": {},
   "outputs": [
    {
     "data": {
      "text/html": [
       "<div>\n",
       "<style scoped>\n",
       "    .dataframe tbody tr th:only-of-type {\n",
       "        vertical-align: middle;\n",
       "    }\n",
       "\n",
       "    .dataframe tbody tr th {\n",
       "        vertical-align: top;\n",
       "    }\n",
       "\n",
       "    .dataframe thead th {\n",
       "        text-align: right;\n",
       "    }\n",
       "</style>\n",
       "<table border=\"1\" class=\"dataframe\">\n",
       "  <thead>\n",
       "    <tr style=\"text-align: right;\">\n",
       "      <th></th>\n",
       "      <th>Unnamed: 0</th>\n",
       "      <th>genre_ids</th>\n",
       "      <th>id</th>\n",
       "      <th>original_language</th>\n",
       "      <th>original_title</th>\n",
       "      <th>popularity</th>\n",
       "      <th>release_date</th>\n",
       "      <th>title</th>\n",
       "      <th>vote_average</th>\n",
       "      <th>vote_count</th>\n",
       "    </tr>\n",
       "  </thead>\n",
       "  <tbody>\n",
       "    <tr>\n",
       "      <th>0</th>\n",
       "      <td>0</td>\n",
       "      <td>[12, 14, 10751]</td>\n",
       "      <td>12444</td>\n",
       "      <td>en</td>\n",
       "      <td>Harry Potter and the Deathly Hallows: Part 1</td>\n",
       "      <td>33.533</td>\n",
       "      <td>2010-11-19</td>\n",
       "      <td>Harry Potter and the Deathly Hallows: Part 1</td>\n",
       "      <td>7.7</td>\n",
       "      <td>10788</td>\n",
       "    </tr>\n",
       "    <tr>\n",
       "      <th>1</th>\n",
       "      <td>1</td>\n",
       "      <td>[14, 12, 16, 10751]</td>\n",
       "      <td>10191</td>\n",
       "      <td>en</td>\n",
       "      <td>How to Train Your Dragon</td>\n",
       "      <td>28.734</td>\n",
       "      <td>2010-03-26</td>\n",
       "      <td>How to Train Your Dragon</td>\n",
       "      <td>7.7</td>\n",
       "      <td>7610</td>\n",
       "    </tr>\n",
       "    <tr>\n",
       "      <th>2</th>\n",
       "      <td>2</td>\n",
       "      <td>[12, 28, 878]</td>\n",
       "      <td>10138</td>\n",
       "      <td>en</td>\n",
       "      <td>Iron Man 2</td>\n",
       "      <td>28.515</td>\n",
       "      <td>2010-05-07</td>\n",
       "      <td>Iron Man 2</td>\n",
       "      <td>6.8</td>\n",
       "      <td>12368</td>\n",
       "    </tr>\n",
       "    <tr>\n",
       "      <th>3</th>\n",
       "      <td>3</td>\n",
       "      <td>[16, 35, 10751]</td>\n",
       "      <td>862</td>\n",
       "      <td>en</td>\n",
       "      <td>Toy Story</td>\n",
       "      <td>28.005</td>\n",
       "      <td>1995-11-22</td>\n",
       "      <td>Toy Story</td>\n",
       "      <td>7.9</td>\n",
       "      <td>10174</td>\n",
       "    </tr>\n",
       "    <tr>\n",
       "      <th>4</th>\n",
       "      <td>4</td>\n",
       "      <td>[28, 878, 12]</td>\n",
       "      <td>27205</td>\n",
       "      <td>en</td>\n",
       "      <td>Inception</td>\n",
       "      <td>27.920</td>\n",
       "      <td>2010-07-16</td>\n",
       "      <td>Inception</td>\n",
       "      <td>8.3</td>\n",
       "      <td>22186</td>\n",
       "    </tr>\n",
       "  </tbody>\n",
       "</table>\n",
       "</div>"
      ],
      "text/plain": [
       "   Unnamed: 0            genre_ids     id original_language  \\\n",
       "0           0      [12, 14, 10751]  12444                en   \n",
       "1           1  [14, 12, 16, 10751]  10191                en   \n",
       "2           2        [12, 28, 878]  10138                en   \n",
       "3           3      [16, 35, 10751]    862                en   \n",
       "4           4        [28, 878, 12]  27205                en   \n",
       "\n",
       "                                 original_title  popularity release_date  \\\n",
       "0  Harry Potter and the Deathly Hallows: Part 1      33.533   2010-11-19   \n",
       "1                      How to Train Your Dragon      28.734   2010-03-26   \n",
       "2                                    Iron Man 2      28.515   2010-05-07   \n",
       "3                                     Toy Story      28.005   1995-11-22   \n",
       "4                                     Inception      27.920   2010-07-16   \n",
       "\n",
       "                                          title  vote_average  vote_count  \n",
       "0  Harry Potter and the Deathly Hallows: Part 1           7.7       10788  \n",
       "1                      How to Train Your Dragon           7.7        7610  \n",
       "2                                    Iron Man 2           6.8       12368  \n",
       "3                                     Toy Story           7.9       10174  \n",
       "4                                     Inception           8.3       22186  "
      ]
     },
     "execution_count": 70,
     "metadata": {},
     "output_type": "execute_result"
    }
   ],
   "source": [
    "tmdb_movies_raw.head()"
   ]
  },
  {
   "cell_type": "code",
   "execution_count": 71,
   "metadata": {},
   "outputs": [
    {
     "data": {
      "text/html": [
       "<div>\n",
       "<style scoped>\n",
       "    .dataframe tbody tr th:only-of-type {\n",
       "        vertical-align: middle;\n",
       "    }\n",
       "\n",
       "    .dataframe tbody tr th {\n",
       "        vertical-align: top;\n",
       "    }\n",
       "\n",
       "    .dataframe thead th {\n",
       "        text-align: right;\n",
       "    }\n",
       "</style>\n",
       "<table border=\"1\" class=\"dataframe\">\n",
       "  <thead>\n",
       "    <tr style=\"text-align: right;\">\n",
       "      <th></th>\n",
       "      <th>id</th>\n",
       "      <th>release_date</th>\n",
       "      <th>movie</th>\n",
       "      <th>production_budget</th>\n",
       "      <th>domestic_gross</th>\n",
       "      <th>worldwide_gross</th>\n",
       "    </tr>\n",
       "  </thead>\n",
       "  <tbody>\n",
       "    <tr>\n",
       "      <th>0</th>\n",
       "      <td>1</td>\n",
       "      <td>Dec 18, 2009</td>\n",
       "      <td>Avatar</td>\n",
       "      <td>$425,000,000</td>\n",
       "      <td>$760,507,625</td>\n",
       "      <td>$2,776,345,279</td>\n",
       "    </tr>\n",
       "    <tr>\n",
       "      <th>1</th>\n",
       "      <td>2</td>\n",
       "      <td>May 20, 2011</td>\n",
       "      <td>Pirates of the Caribbean: On Stranger Tides</td>\n",
       "      <td>$410,600,000</td>\n",
       "      <td>$241,063,875</td>\n",
       "      <td>$1,045,663,875</td>\n",
       "    </tr>\n",
       "    <tr>\n",
       "      <th>2</th>\n",
       "      <td>3</td>\n",
       "      <td>Jun 7, 2019</td>\n",
       "      <td>Dark Phoenix</td>\n",
       "      <td>$350,000,000</td>\n",
       "      <td>$42,762,350</td>\n",
       "      <td>$149,762,350</td>\n",
       "    </tr>\n",
       "    <tr>\n",
       "      <th>3</th>\n",
       "      <td>4</td>\n",
       "      <td>May 1, 2015</td>\n",
       "      <td>Avengers: Age of Ultron</td>\n",
       "      <td>$330,600,000</td>\n",
       "      <td>$459,005,868</td>\n",
       "      <td>$1,403,013,963</td>\n",
       "    </tr>\n",
       "    <tr>\n",
       "      <th>4</th>\n",
       "      <td>5</td>\n",
       "      <td>Dec 15, 2017</td>\n",
       "      <td>Star Wars Ep. VIII: The Last Jedi</td>\n",
       "      <td>$317,000,000</td>\n",
       "      <td>$620,181,382</td>\n",
       "      <td>$1,316,721,747</td>\n",
       "    </tr>\n",
       "  </tbody>\n",
       "</table>\n",
       "</div>"
      ],
      "text/plain": [
       "   id  release_date                                        movie  \\\n",
       "0   1  Dec 18, 2009                                       Avatar   \n",
       "1   2  May 20, 2011  Pirates of the Caribbean: On Stranger Tides   \n",
       "2   3   Jun 7, 2019                                 Dark Phoenix   \n",
       "3   4   May 1, 2015                      Avengers: Age of Ultron   \n",
       "4   5  Dec 15, 2017            Star Wars Ep. VIII: The Last Jedi   \n",
       "\n",
       "  production_budget domestic_gross worldwide_gross  \n",
       "0      $425,000,000   $760,507,625  $2,776,345,279  \n",
       "1      $410,600,000   $241,063,875  $1,045,663,875  \n",
       "2      $350,000,000    $42,762,350    $149,762,350  \n",
       "3      $330,600,000   $459,005,868  $1,403,013,963  \n",
       "4      $317,000,000   $620,181,382  $1,316,721,747  "
      ]
     },
     "execution_count": 71,
     "metadata": {},
     "output_type": "execute_result"
    }
   ],
   "source": [
    "tn_movie_budgets_raw.head()"
   ]
  },
  {
   "attachments": {},
   "cell_type": "markdown",
   "metadata": {},
   "source": [
    "**What does a row represent?**\n",
    "- A"
   ]
  },
  {
   "cell_type": "code",
   "execution_count": 51,
   "metadata": {
    "ExecuteTime": {
     "end_time": "2023-04-21T15:50:35.707175Z",
     "start_time": "2023-04-21T15:50:35.542585Z"
    },
    "scrolled": false
   },
   "outputs": [
    {
     "name": "stdout",
     "output_type": "stream",
     "text": [
      "<class 'pandas.core.frame.DataFrame'>\n",
      "RangeIndex: 3387 entries, 0 to 3386\n",
      "Data columns (total 5 columns):\n",
      " #   Column          Non-Null Count  Dtype  \n",
      "---  ------          --------------  -----  \n",
      " 0   title           3387 non-null   object \n",
      " 1   studio          3382 non-null   object \n",
      " 2   domestic_gross  3359 non-null   float64\n",
      " 3   foreign_gross   2037 non-null   object \n",
      " 4   year            3387 non-null   int64  \n",
      "dtypes: float64(1), int64(1), object(3)\n",
      "memory usage: 132.4+ KB\n"
     ]
    }
   ],
   "source": [
    "# Check the information of the data set\n",
    "bom_raw.info()"
   ]
  },
  {
   "cell_type": "code",
   "execution_count": 52,
   "metadata": {},
   "outputs": [
    {
     "name": "stdout",
     "output_type": "stream",
     "text": [
      "<class 'pandas.core.frame.DataFrame'>\n",
      "RangeIndex: 1560 entries, 0 to 1559\n",
      "Data columns (total 12 columns):\n",
      " #   Column        Non-Null Count  Dtype \n",
      "---  ------        --------------  ----- \n",
      " 0   id            1560 non-null   int64 \n",
      " 1   synopsis      1498 non-null   object\n",
      " 2   rating        1557 non-null   object\n",
      " 3   genre         1552 non-null   object\n",
      " 4   director      1361 non-null   object\n",
      " 5   writer        1111 non-null   object\n",
      " 6   theater_date  1201 non-null   object\n",
      " 7   dvd_date      1201 non-null   object\n",
      " 8   currency      340 non-null    object\n",
      " 9   box_office    340 non-null    object\n",
      " 10  runtime       1530 non-null   object\n",
      " 11  studio        494 non-null    object\n",
      "dtypes: int64(1), object(11)\n",
      "memory usage: 146.4+ KB\n"
     ]
    }
   ],
   "source": [
    "rt_movie_info_raw.info()"
   ]
  },
  {
   "cell_type": "code",
   "execution_count": 53,
   "metadata": {},
   "outputs": [
    {
     "name": "stdout",
     "output_type": "stream",
     "text": [
      "<class 'pandas.core.frame.DataFrame'>\n",
      "RangeIndex: 54432 entries, 0 to 54431\n",
      "Data columns (total 8 columns):\n",
      " #   Column      Non-Null Count  Dtype \n",
      "---  ------      --------------  ----- \n",
      " 0   id          54432 non-null  int64 \n",
      " 1   review      48869 non-null  object\n",
      " 2   rating      40915 non-null  object\n",
      " 3   fresh       54432 non-null  object\n",
      " 4   critic      51710 non-null  object\n",
      " 5   top_critic  54432 non-null  int64 \n",
      " 6   publisher   54123 non-null  object\n",
      " 7   date        54432 non-null  object\n",
      "dtypes: int64(2), object(6)\n",
      "memory usage: 3.3+ MB\n"
     ]
    }
   ],
   "source": [
    "rt_reviews_raw.info()"
   ]
  },
  {
   "cell_type": "code",
   "execution_count": 75,
   "metadata": {},
   "outputs": [
    {
     "name": "stdout",
     "output_type": "stream",
     "text": [
      "<class 'pandas.core.frame.DataFrame'>\n",
      "RangeIndex: 26517 entries, 0 to 26516\n",
      "Data columns (total 10 columns):\n",
      " #   Column             Non-Null Count  Dtype  \n",
      "---  ------             --------------  -----  \n",
      " 0   Unnamed: 0         26517 non-null  int64  \n",
      " 1   genre_ids          26517 non-null  object \n",
      " 2   id                 26517 non-null  int64  \n",
      " 3   original_language  26517 non-null  object \n",
      " 4   original_title     26517 non-null  object \n",
      " 5   popularity         26517 non-null  float64\n",
      " 6   release_date       26517 non-null  object \n",
      " 7   title              26517 non-null  object \n",
      " 8   vote_average       26517 non-null  float64\n",
      " 9   vote_count         26517 non-null  int64  \n",
      "dtypes: float64(2), int64(3), object(5)\n",
      "memory usage: 2.0+ MB\n"
     ]
    }
   ],
   "source": [
    "tmdb_movies_raw.info()"
   ]
  },
  {
   "cell_type": "code",
   "execution_count": 76,
   "metadata": {},
   "outputs": [
    {
     "name": "stdout",
     "output_type": "stream",
     "text": [
      "<class 'pandas.core.frame.DataFrame'>\n",
      "RangeIndex: 5782 entries, 0 to 5781\n",
      "Data columns (total 6 columns):\n",
      " #   Column             Non-Null Count  Dtype \n",
      "---  ------             --------------  ----- \n",
      " 0   id                 5782 non-null   int64 \n",
      " 1   release_date       5782 non-null   object\n",
      " 2   movie              5782 non-null   object\n",
      " 3   production_budget  5782 non-null   object\n",
      " 4   domestic_gross     5782 non-null   object\n",
      " 5   worldwide_gross    5782 non-null   object\n",
      "dtypes: int64(1), object(5)\n",
      "memory usage: 271.2+ KB\n"
     ]
    }
   ],
   "source": [
    "tn_movie_budgets_raw.info()"
   ]
  },
  {
   "attachments": {},
   "cell_type": "markdown",
   "metadata": {},
   "source": [
    "**Observations**\n",
    "- It looks like we have mostly strings, with 5 numbers at the moment\n",
    "- We will have to handle dates\n",
    "- There are a significant number of nulls"
   ]
  },
  {
   "cell_type": "code",
   "execution_count": 5,
   "metadata": {
    "ExecuteTime": {
     "end_time": "2023-04-21T15:50:35.759582Z",
     "start_time": "2023-04-21T15:50:35.709299Z"
    },
    "scrolled": true
   },
   "outputs": [
    {
     "data": {
      "text/html": [
       "<div>\n",
       "<style scoped>\n",
       "    .dataframe tbody tr th:only-of-type {\n",
       "        vertical-align: middle;\n",
       "    }\n",
       "\n",
       "    .dataframe tbody tr th {\n",
       "        vertical-align: top;\n",
       "    }\n",
       "\n",
       "    .dataframe thead th {\n",
       "        text-align: right;\n",
       "    }\n",
       "</style>\n",
       "<table border=\"1\" class=\"dataframe\">\n",
       "  <thead>\n",
       "    <tr style=\"text-align: right;\">\n",
       "      <th></th>\n",
       "      <th>Number.of.Engines</th>\n",
       "      <th>Total.Fatal.Injuries</th>\n",
       "      <th>Total.Serious.Injuries</th>\n",
       "      <th>Total.Minor.Injuries</th>\n",
       "      <th>Total.Uninjured</th>\n",
       "    </tr>\n",
       "  </thead>\n",
       "  <tbody>\n",
       "    <tr>\n",
       "      <th>count</th>\n",
       "      <td>82805.000000</td>\n",
       "      <td>77488.000000</td>\n",
       "      <td>76379.000000</td>\n",
       "      <td>76956.000000</td>\n",
       "      <td>82977.000000</td>\n",
       "    </tr>\n",
       "    <tr>\n",
       "      <th>mean</th>\n",
       "      <td>1.146585</td>\n",
       "      <td>0.647855</td>\n",
       "      <td>0.279881</td>\n",
       "      <td>0.357061</td>\n",
       "      <td>5.325440</td>\n",
       "    </tr>\n",
       "    <tr>\n",
       "      <th>std</th>\n",
       "      <td>0.446510</td>\n",
       "      <td>5.485960</td>\n",
       "      <td>1.544084</td>\n",
       "      <td>2.235625</td>\n",
       "      <td>27.913634</td>\n",
       "    </tr>\n",
       "    <tr>\n",
       "      <th>min</th>\n",
       "      <td>0.000000</td>\n",
       "      <td>0.000000</td>\n",
       "      <td>0.000000</td>\n",
       "      <td>0.000000</td>\n",
       "      <td>0.000000</td>\n",
       "    </tr>\n",
       "    <tr>\n",
       "      <th>25%</th>\n",
       "      <td>1.000000</td>\n",
       "      <td>0.000000</td>\n",
       "      <td>0.000000</td>\n",
       "      <td>0.000000</td>\n",
       "      <td>0.000000</td>\n",
       "    </tr>\n",
       "    <tr>\n",
       "      <th>50%</th>\n",
       "      <td>1.000000</td>\n",
       "      <td>0.000000</td>\n",
       "      <td>0.000000</td>\n",
       "      <td>0.000000</td>\n",
       "      <td>1.000000</td>\n",
       "    </tr>\n",
       "    <tr>\n",
       "      <th>75%</th>\n",
       "      <td>1.000000</td>\n",
       "      <td>0.000000</td>\n",
       "      <td>0.000000</td>\n",
       "      <td>0.000000</td>\n",
       "      <td>2.000000</td>\n",
       "    </tr>\n",
       "    <tr>\n",
       "      <th>max</th>\n",
       "      <td>8.000000</td>\n",
       "      <td>349.000000</td>\n",
       "      <td>161.000000</td>\n",
       "      <td>380.000000</td>\n",
       "      <td>699.000000</td>\n",
       "    </tr>\n",
       "  </tbody>\n",
       "</table>\n",
       "</div>"
      ],
      "text/plain": [
       "       Number.of.Engines  Total.Fatal.Injuries  Total.Serious.Injuries  \\\n",
       "count       82805.000000          77488.000000            76379.000000   \n",
       "mean            1.146585              0.647855                0.279881   \n",
       "std             0.446510              5.485960                1.544084   \n",
       "min             0.000000              0.000000                0.000000   \n",
       "25%             1.000000              0.000000                0.000000   \n",
       "50%             1.000000              0.000000                0.000000   \n",
       "75%             1.000000              0.000000                0.000000   \n",
       "max             8.000000            349.000000              161.000000   \n",
       "\n",
       "       Total.Minor.Injuries  Total.Uninjured  \n",
       "count          76956.000000     82977.000000  \n",
       "mean               0.357061         5.325440  \n",
       "std                2.235625        27.913634  \n",
       "min                0.000000         0.000000  \n",
       "25%                0.000000         0.000000  \n",
       "50%                0.000000         1.000000  \n",
       "75%                0.000000         2.000000  \n",
       "max              380.000000       699.000000  "
      ]
     },
     "execution_count": 5,
     "metadata": {},
     "output_type": "execute_result"
    }
   ],
   "source": [
    "# Describe the numerical data\n",
    "aviation_data_raw.describe()"
   ]
  },
  {
   "cell_type": "code",
   "execution_count": 6,
   "metadata": {
    "ExecuteTime": {
     "end_time": "2023-04-21T15:50:36.821325Z",
     "start_time": "2023-04-21T15:50:35.766346Z"
    }
   },
   "outputs": [
    {
     "data": {
      "text/html": [
       "<div>\n",
       "<style scoped>\n",
       "    .dataframe tbody tr th:only-of-type {\n",
       "        vertical-align: middle;\n",
       "    }\n",
       "\n",
       "    .dataframe tbody tr th {\n",
       "        vertical-align: top;\n",
       "    }\n",
       "\n",
       "    .dataframe thead th {\n",
       "        text-align: right;\n",
       "    }\n",
       "</style>\n",
       "<table border=\"1\" class=\"dataframe\">\n",
       "  <thead>\n",
       "    <tr style=\"text-align: right;\">\n",
       "      <th></th>\n",
       "      <th>Event.Id</th>\n",
       "      <th>Investigation.Type</th>\n",
       "      <th>Accident.Number</th>\n",
       "      <th>Event.Date</th>\n",
       "      <th>Location</th>\n",
       "      <th>Country</th>\n",
       "      <th>Latitude</th>\n",
       "      <th>Longitude</th>\n",
       "      <th>Airport.Code</th>\n",
       "      <th>Airport.Name</th>\n",
       "      <th>...</th>\n",
       "      <th>Amateur.Built</th>\n",
       "      <th>Engine.Type</th>\n",
       "      <th>FAR.Description</th>\n",
       "      <th>Schedule</th>\n",
       "      <th>Purpose.of.flight</th>\n",
       "      <th>Air.carrier</th>\n",
       "      <th>Weather.Condition</th>\n",
       "      <th>Broad.phase.of.flight</th>\n",
       "      <th>Report.Status</th>\n",
       "      <th>Publication.Date</th>\n",
       "    </tr>\n",
       "  </thead>\n",
       "  <tbody>\n",
       "    <tr>\n",
       "      <th>count</th>\n",
       "      <td>88889</td>\n",
       "      <td>90348</td>\n",
       "      <td>88889</td>\n",
       "      <td>88889</td>\n",
       "      <td>88837</td>\n",
       "      <td>88663</td>\n",
       "      <td>34382</td>\n",
       "      <td>34373</td>\n",
       "      <td>50249</td>\n",
       "      <td>52790</td>\n",
       "      <td>...</td>\n",
       "      <td>88787</td>\n",
       "      <td>81812</td>\n",
       "      <td>32023</td>\n",
       "      <td>12582</td>\n",
       "      <td>82697</td>\n",
       "      <td>16648</td>\n",
       "      <td>84397</td>\n",
       "      <td>61724</td>\n",
       "      <td>82508</td>\n",
       "      <td>73659</td>\n",
       "    </tr>\n",
       "    <tr>\n",
       "      <th>unique</th>\n",
       "      <td>87951</td>\n",
       "      <td>71</td>\n",
       "      <td>88863</td>\n",
       "      <td>14782</td>\n",
       "      <td>27758</td>\n",
       "      <td>219</td>\n",
       "      <td>25592</td>\n",
       "      <td>27156</td>\n",
       "      <td>10375</td>\n",
       "      <td>24871</td>\n",
       "      <td>...</td>\n",
       "      <td>2</td>\n",
       "      <td>13</td>\n",
       "      <td>31</td>\n",
       "      <td>3</td>\n",
       "      <td>26</td>\n",
       "      <td>13590</td>\n",
       "      <td>4</td>\n",
       "      <td>12</td>\n",
       "      <td>17007</td>\n",
       "      <td>2923</td>\n",
       "    </tr>\n",
       "    <tr>\n",
       "      <th>top</th>\n",
       "      <td>20001214X45071</td>\n",
       "      <td>Accident</td>\n",
       "      <td>GAA22WA241</td>\n",
       "      <td>1984-06-30</td>\n",
       "      <td>ANCHORAGE, AK</td>\n",
       "      <td>United States</td>\n",
       "      <td>332739N</td>\n",
       "      <td>0112457W</td>\n",
       "      <td>NONE</td>\n",
       "      <td>Private</td>\n",
       "      <td>...</td>\n",
       "      <td>No</td>\n",
       "      <td>Reciprocating</td>\n",
       "      <td>091</td>\n",
       "      <td>NSCH</td>\n",
       "      <td>Personal</td>\n",
       "      <td>Pilot</td>\n",
       "      <td>VMC</td>\n",
       "      <td>Landing</td>\n",
       "      <td>Probable Cause</td>\n",
       "      <td>25-09-2020</td>\n",
       "    </tr>\n",
       "    <tr>\n",
       "      <th>freq</th>\n",
       "      <td>3</td>\n",
       "      <td>85015</td>\n",
       "      <td>2</td>\n",
       "      <td>25</td>\n",
       "      <td>434</td>\n",
       "      <td>82248</td>\n",
       "      <td>19</td>\n",
       "      <td>24</td>\n",
       "      <td>1488</td>\n",
       "      <td>240</td>\n",
       "      <td>...</td>\n",
       "      <td>80312</td>\n",
       "      <td>69530</td>\n",
       "      <td>18221</td>\n",
       "      <td>4474</td>\n",
       "      <td>49448</td>\n",
       "      <td>258</td>\n",
       "      <td>77303</td>\n",
       "      <td>15428</td>\n",
       "      <td>61754</td>\n",
       "      <td>16317</td>\n",
       "    </tr>\n",
       "  </tbody>\n",
       "</table>\n",
       "<p>4 rows × 26 columns</p>\n",
       "</div>"
      ],
      "text/plain": [
       "              Event.Id Investigation.Type Accident.Number  Event.Date  \\\n",
       "count            88889              90348           88889       88889   \n",
       "unique           87951                 71           88863       14782   \n",
       "top     20001214X45071           Accident      GAA22WA241  1984-06-30   \n",
       "freq                 3              85015               2          25   \n",
       "\n",
       "             Location        Country Latitude Longitude Airport.Code  \\\n",
       "count           88837          88663    34382     34373        50249   \n",
       "unique          27758            219    25592     27156        10375   \n",
       "top     ANCHORAGE, AK  United States  332739N  0112457W         NONE   \n",
       "freq              434          82248       19        24         1488   \n",
       "\n",
       "       Airport.Name  ... Amateur.Built    Engine.Type FAR.Description  \\\n",
       "count         52790  ...         88787          81812           32023   \n",
       "unique        24871  ...             2             13              31   \n",
       "top         Private  ...            No  Reciprocating             091   \n",
       "freq            240  ...         80312          69530           18221   \n",
       "\n",
       "       Schedule Purpose.of.flight Air.carrier Weather.Condition  \\\n",
       "count     12582             82697       16648             84397   \n",
       "unique        3                26       13590                 4   \n",
       "top        NSCH          Personal       Pilot               VMC   \n",
       "freq       4474             49448         258             77303   \n",
       "\n",
       "       Broad.phase.of.flight   Report.Status Publication.Date  \n",
       "count                  61724           82508            73659  \n",
       "unique                    12           17007             2923  \n",
       "top                  Landing  Probable Cause       25-09-2020  \n",
       "freq                   15428           61754            16317  \n",
       "\n",
       "[4 rows x 26 columns]"
      ]
     },
     "execution_count": 6,
     "metadata": {},
     "output_type": "execute_result"
    }
   ],
   "source": [
    "# Describle the non-numerical data\n",
    "aviation_data_raw.describe(include=object)"
   ]
  },
  {
   "cell_type": "code",
   "execution_count": 7,
   "metadata": {
    "ExecuteTime": {
     "end_time": "2023-04-21T15:50:36.840042Z",
     "start_time": "2023-04-21T15:50:36.835352Z"
    }
   },
   "outputs": [
    {
     "data": {
      "text/plain": [
       "(90348, 31)"
      ]
     },
     "execution_count": 7,
     "metadata": {},
     "output_type": "execute_result"
    }
   ],
   "source": [
    "# Check the shape\n",
    "aviation_data_raw.shape"
   ]
  },
  {
   "cell_type": "code",
   "execution_count": 8,
   "metadata": {
    "ExecuteTime": {
     "end_time": "2023-04-21T15:50:36.848095Z",
     "start_time": "2023-04-21T15:50:36.842577Z"
    }
   },
   "outputs": [],
   "source": [
    "# Create a copy for cleaning\n",
    "aviation_data_cleaned = aviation_data_raw"
   ]
  },
  {
   "attachments": {},
   "cell_type": "markdown",
   "metadata": {},
   "source": [
    "## Handling Column Names\n",
    "We will start by cleaning the column names so that they will be easy to access\n",
    "We will:\n",
    "- Strip spaces\n",
    "- Replace periods with underscores\n",
    "- lowercase all column names"
   ]
  },
  {
   "cell_type": "code",
   "execution_count": 9,
   "metadata": {
    "ExecuteTime": {
     "end_time": "2023-04-21T15:50:36.855735Z",
     "start_time": "2023-04-21T15:50:36.850437Z"
    }
   },
   "outputs": [
    {
     "data": {
      "text/plain": [
       "Index(['Event.Id', 'Investigation.Type', 'Accident.Number', 'Event.Date',\n",
       "       'Location', 'Country', 'Latitude', 'Longitude', 'Airport.Code',\n",
       "       'Airport.Name', 'Injury.Severity', 'Aircraft.damage',\n",
       "       'Aircraft.Category', 'Registration.Number', 'Make', 'Model',\n",
       "       'Amateur.Built', 'Number.of.Engines', 'Engine.Type', 'FAR.Description',\n",
       "       'Schedule', 'Purpose.of.flight', 'Air.carrier', 'Total.Fatal.Injuries',\n",
       "       'Total.Serious.Injuries', 'Total.Minor.Injuries', 'Total.Uninjured',\n",
       "       'Weather.Condition', 'Broad.phase.of.flight', 'Report.Status',\n",
       "       'Publication.Date'],\n",
       "      dtype='object')"
      ]
     },
     "execution_count": 9,
     "metadata": {},
     "output_type": "execute_result"
    }
   ],
   "source": [
    "# Check out column names\n",
    "aviation_data_cleaned.columns"
   ]
  },
  {
   "cell_type": "code",
   "execution_count": 10,
   "metadata": {
    "ExecuteTime": {
     "end_time": "2023-04-21T15:50:36.883363Z",
     "start_time": "2023-04-21T15:50:36.858407Z"
    },
    "scrolled": true
   },
   "outputs": [
    {
     "data": {
      "text/plain": [
       "Index(['Event.Id', 'Investigation.Type', 'Accident.Number', 'Event.Date',\n",
       "       'Location', 'Country', 'Latitude', 'Longitude', 'Airport.Code',\n",
       "       'Airport.Name', 'Injury.Severity', 'Aircraft.damage',\n",
       "       'Aircraft.Category', 'Registration.Number', 'Make', 'Model',\n",
       "       'Amateur.Built', 'Number.of.Engines', 'Engine.Type', 'FAR.Description',\n",
       "       'Schedule', 'Purpose.of.flight', 'Air.carrier', 'Total.Fatal.Injuries',\n",
       "       'Total.Serious.Injuries', 'Total.Minor.Injuries', 'Total.Uninjured',\n",
       "       'Weather.Condition', 'Broad.phase.of.flight', 'Report.Status',\n",
       "       'Publication.Date'],\n",
       "      dtype='object')"
      ]
     },
     "execution_count": 10,
     "metadata": {},
     "output_type": "execute_result"
    }
   ],
   "source": [
    "# Start by stripping white space\n",
    "aviation_data_cleaned.columns = aviation_data_cleaned.columns.str.strip()\n",
    "aviation_data_cleaned.columns"
   ]
  },
  {
   "cell_type": "code",
   "execution_count": 11,
   "metadata": {
    "ExecuteTime": {
     "end_time": "2023-04-21T15:50:36.897618Z",
     "start_time": "2023-04-21T15:50:36.885636Z"
    }
   },
   "outputs": [
    {
     "data": {
      "text/plain": [
       "Index(['Event_Id', 'Investigation_Type', 'Accident_Number', 'Event_Date',\n",
       "       'Location', 'Country', 'Latitude', 'Longitude', 'Airport_Code',\n",
       "       'Airport_Name', 'Injury_Severity', 'Aircraft_damage',\n",
       "       'Aircraft_Category', 'Registration_Number', 'Make', 'Model',\n",
       "       'Amateur_Built', 'Number_of_Engines', 'Engine_Type', 'FAR_Description',\n",
       "       'Schedule', 'Purpose_of_flight', 'Air_carrier', 'Total_Fatal_Injuries',\n",
       "       'Total_Serious_Injuries', 'Total_Minor_Injuries', 'Total_Uninjured',\n",
       "       'Weather_Condition', 'Broad_phase_of_flight', 'Report_Status',\n",
       "       'Publication_Date'],\n",
       "      dtype='object')"
      ]
     },
     "execution_count": 11,
     "metadata": {},
     "output_type": "execute_result"
    }
   ],
   "source": [
    "# Replace . with _\n",
    "aviation_data_cleaned.columns = aviation_data_cleaned.columns.str.replace(\".\",\"_\")\n",
    "aviation_data_cleaned.columns"
   ]
  },
  {
   "cell_type": "code",
   "execution_count": 12,
   "metadata": {
    "ExecuteTime": {
     "end_time": "2023-04-21T15:50:36.916467Z",
     "start_time": "2023-04-21T15:50:36.899812Z"
    },
    "scrolled": true
   },
   "outputs": [
    {
     "data": {
      "text/plain": [
       "Index(['event_id', 'investigation_type', 'accident_number', 'event_date',\n",
       "       'location', 'country', 'latitude', 'longitude', 'airport_code',\n",
       "       'airport_name', 'injury_severity', 'aircraft_damage',\n",
       "       'aircraft_category', 'registration_number', 'make', 'model',\n",
       "       'amateur_built', 'number_of_engines', 'engine_type', 'far_description',\n",
       "       'schedule', 'purpose_of_flight', 'air_carrier', 'total_fatal_injuries',\n",
       "       'total_serious_injuries', 'total_minor_injuries', 'total_uninjured',\n",
       "       'weather_condition', 'broad_phase_of_flight', 'report_status',\n",
       "       'publication_date'],\n",
       "      dtype='object')"
      ]
     },
     "execution_count": 12,
     "metadata": {},
     "output_type": "execute_result"
    }
   ],
   "source": [
    "# Lowercase all names\n",
    "aviation_data_cleaned.columns = aviation_data_cleaned.columns.str.lower()\n",
    "aviation_data_cleaned.columns"
   ]
  },
  {
   "attachments": {},
   "cell_type": "markdown",
   "metadata": {},
   "source": [
    "## Handling Duplicate\n",
    "We will check for duplicates and see how we should handle them"
   ]
  },
  {
   "cell_type": "code",
   "execution_count": 13,
   "metadata": {
    "ExecuteTime": {
     "end_time": "2023-04-21T15:50:37.231344Z",
     "start_time": "2023-04-21T15:50:36.919592Z"
    }
   },
   "outputs": [
    {
     "data": {
      "text/plain": [
       "False    88958\n",
       "True      1390\n",
       "dtype: int64"
      ]
     },
     "execution_count": 13,
     "metadata": {},
     "output_type": "execute_result"
    }
   ],
   "source": [
    "#Check for duplicates\n",
    "aviation_data_cleaned.duplicated().value_counts()"
   ]
  },
  {
   "cell_type": "code",
   "execution_count": 14,
   "metadata": {
    "ExecuteTime": {
     "end_time": "2023-04-21T15:50:37.476126Z",
     "start_time": "2023-04-21T15:50:37.233522Z"
    },
    "scrolled": false
   },
   "outputs": [
    {
     "data": {
      "text/html": [
       "<div>\n",
       "<style scoped>\n",
       "    .dataframe tbody tr th:only-of-type {\n",
       "        vertical-align: middle;\n",
       "    }\n",
       "\n",
       "    .dataframe tbody tr th {\n",
       "        vertical-align: top;\n",
       "    }\n",
       "\n",
       "    .dataframe thead th {\n",
       "        text-align: right;\n",
       "    }\n",
       "</style>\n",
       "<table border=\"1\" class=\"dataframe\">\n",
       "  <thead>\n",
       "    <tr style=\"text-align: right;\">\n",
       "      <th></th>\n",
       "      <th>event_id</th>\n",
       "      <th>investigation_type</th>\n",
       "      <th>accident_number</th>\n",
       "      <th>event_date</th>\n",
       "      <th>location</th>\n",
       "      <th>country</th>\n",
       "      <th>latitude</th>\n",
       "      <th>longitude</th>\n",
       "      <th>airport_code</th>\n",
       "      <th>airport_name</th>\n",
       "      <th>...</th>\n",
       "      <th>purpose_of_flight</th>\n",
       "      <th>air_carrier</th>\n",
       "      <th>total_fatal_injuries</th>\n",
       "      <th>total_serious_injuries</th>\n",
       "      <th>total_minor_injuries</th>\n",
       "      <th>total_uninjured</th>\n",
       "      <th>weather_condition</th>\n",
       "      <th>broad_phase_of_flight</th>\n",
       "      <th>report_status</th>\n",
       "      <th>publication_date</th>\n",
       "    </tr>\n",
       "  </thead>\n",
       "  <tbody>\n",
       "    <tr>\n",
       "      <th>64030</th>\n",
       "      <td>NaN</td>\n",
       "      <td>25-09-2020</td>\n",
       "      <td>NaN</td>\n",
       "      <td>NaN</td>\n",
       "      <td>NaN</td>\n",
       "      <td>NaN</td>\n",
       "      <td>NaN</td>\n",
       "      <td>NaN</td>\n",
       "      <td>NaN</td>\n",
       "      <td>NaN</td>\n",
       "      <td>...</td>\n",
       "      <td>NaN</td>\n",
       "      <td>NaN</td>\n",
       "      <td>NaN</td>\n",
       "      <td>NaN</td>\n",
       "      <td>NaN</td>\n",
       "      <td>NaN</td>\n",
       "      <td>NaN</td>\n",
       "      <td>NaN</td>\n",
       "      <td>NaN</td>\n",
       "      <td>NaN</td>\n",
       "    </tr>\n",
       "    <tr>\n",
       "      <th>64050</th>\n",
       "      <td>NaN</td>\n",
       "      <td>25-09-2020</td>\n",
       "      <td>NaN</td>\n",
       "      <td>NaN</td>\n",
       "      <td>NaN</td>\n",
       "      <td>NaN</td>\n",
       "      <td>NaN</td>\n",
       "      <td>NaN</td>\n",
       "      <td>NaN</td>\n",
       "      <td>NaN</td>\n",
       "      <td>...</td>\n",
       "      <td>NaN</td>\n",
       "      <td>NaN</td>\n",
       "      <td>NaN</td>\n",
       "      <td>NaN</td>\n",
       "      <td>NaN</td>\n",
       "      <td>NaN</td>\n",
       "      <td>NaN</td>\n",
       "      <td>NaN</td>\n",
       "      <td>NaN</td>\n",
       "      <td>NaN</td>\n",
       "    </tr>\n",
       "    <tr>\n",
       "      <th>64052</th>\n",
       "      <td>NaN</td>\n",
       "      <td>25-09-2020</td>\n",
       "      <td>NaN</td>\n",
       "      <td>NaN</td>\n",
       "      <td>NaN</td>\n",
       "      <td>NaN</td>\n",
       "      <td>NaN</td>\n",
       "      <td>NaN</td>\n",
       "      <td>NaN</td>\n",
       "      <td>NaN</td>\n",
       "      <td>...</td>\n",
       "      <td>NaN</td>\n",
       "      <td>NaN</td>\n",
       "      <td>NaN</td>\n",
       "      <td>NaN</td>\n",
       "      <td>NaN</td>\n",
       "      <td>NaN</td>\n",
       "      <td>NaN</td>\n",
       "      <td>NaN</td>\n",
       "      <td>NaN</td>\n",
       "      <td>NaN</td>\n",
       "    </tr>\n",
       "    <tr>\n",
       "      <th>64388</th>\n",
       "      <td>NaN</td>\n",
       "      <td>25-09-2020</td>\n",
       "      <td>NaN</td>\n",
       "      <td>NaN</td>\n",
       "      <td>NaN</td>\n",
       "      <td>NaN</td>\n",
       "      <td>NaN</td>\n",
       "      <td>NaN</td>\n",
       "      <td>NaN</td>\n",
       "      <td>NaN</td>\n",
       "      <td>...</td>\n",
       "      <td>NaN</td>\n",
       "      <td>NaN</td>\n",
       "      <td>NaN</td>\n",
       "      <td>NaN</td>\n",
       "      <td>NaN</td>\n",
       "      <td>NaN</td>\n",
       "      <td>NaN</td>\n",
       "      <td>NaN</td>\n",
       "      <td>NaN</td>\n",
       "      <td>NaN</td>\n",
       "    </tr>\n",
       "    <tr>\n",
       "      <th>64541</th>\n",
       "      <td>NaN</td>\n",
       "      <td>25-09-2020</td>\n",
       "      <td>NaN</td>\n",
       "      <td>NaN</td>\n",
       "      <td>NaN</td>\n",
       "      <td>NaN</td>\n",
       "      <td>NaN</td>\n",
       "      <td>NaN</td>\n",
       "      <td>NaN</td>\n",
       "      <td>NaN</td>\n",
       "      <td>...</td>\n",
       "      <td>NaN</td>\n",
       "      <td>NaN</td>\n",
       "      <td>NaN</td>\n",
       "      <td>NaN</td>\n",
       "      <td>NaN</td>\n",
       "      <td>NaN</td>\n",
       "      <td>NaN</td>\n",
       "      <td>NaN</td>\n",
       "      <td>NaN</td>\n",
       "      <td>NaN</td>\n",
       "    </tr>\n",
       "    <tr>\n",
       "      <th>...</th>\n",
       "      <td>...</td>\n",
       "      <td>...</td>\n",
       "      <td>...</td>\n",
       "      <td>...</td>\n",
       "      <td>...</td>\n",
       "      <td>...</td>\n",
       "      <td>...</td>\n",
       "      <td>...</td>\n",
       "      <td>...</td>\n",
       "      <td>...</td>\n",
       "      <td>...</td>\n",
       "      <td>...</td>\n",
       "      <td>...</td>\n",
       "      <td>...</td>\n",
       "      <td>...</td>\n",
       "      <td>...</td>\n",
       "      <td>...</td>\n",
       "      <td>...</td>\n",
       "      <td>...</td>\n",
       "      <td>...</td>\n",
       "      <td>...</td>\n",
       "    </tr>\n",
       "    <tr>\n",
       "      <th>90004</th>\n",
       "      <td>NaN</td>\n",
       "      <td>15-12-2022</td>\n",
       "      <td>NaN</td>\n",
       "      <td>NaN</td>\n",
       "      <td>NaN</td>\n",
       "      <td>NaN</td>\n",
       "      <td>NaN</td>\n",
       "      <td>NaN</td>\n",
       "      <td>NaN</td>\n",
       "      <td>NaN</td>\n",
       "      <td>...</td>\n",
       "      <td>NaN</td>\n",
       "      <td>NaN</td>\n",
       "      <td>NaN</td>\n",
       "      <td>NaN</td>\n",
       "      <td>NaN</td>\n",
       "      <td>NaN</td>\n",
       "      <td>NaN</td>\n",
       "      <td>NaN</td>\n",
       "      <td>NaN</td>\n",
       "      <td>NaN</td>\n",
       "    </tr>\n",
       "    <tr>\n",
       "      <th>90010</th>\n",
       "      <td>NaN</td>\n",
       "      <td>15-12-2022</td>\n",
       "      <td>NaN</td>\n",
       "      <td>NaN</td>\n",
       "      <td>NaN</td>\n",
       "      <td>NaN</td>\n",
       "      <td>NaN</td>\n",
       "      <td>NaN</td>\n",
       "      <td>NaN</td>\n",
       "      <td>NaN</td>\n",
       "      <td>...</td>\n",
       "      <td>NaN</td>\n",
       "      <td>NaN</td>\n",
       "      <td>NaN</td>\n",
       "      <td>NaN</td>\n",
       "      <td>NaN</td>\n",
       "      <td>NaN</td>\n",
       "      <td>NaN</td>\n",
       "      <td>NaN</td>\n",
       "      <td>NaN</td>\n",
       "      <td>NaN</td>\n",
       "    </tr>\n",
       "    <tr>\n",
       "      <th>90031</th>\n",
       "      <td>NaN</td>\n",
       "      <td>15-12-2022</td>\n",
       "      <td>NaN</td>\n",
       "      <td>NaN</td>\n",
       "      <td>NaN</td>\n",
       "      <td>NaN</td>\n",
       "      <td>NaN</td>\n",
       "      <td>NaN</td>\n",
       "      <td>NaN</td>\n",
       "      <td>NaN</td>\n",
       "      <td>...</td>\n",
       "      <td>NaN</td>\n",
       "      <td>NaN</td>\n",
       "      <td>NaN</td>\n",
       "      <td>NaN</td>\n",
       "      <td>NaN</td>\n",
       "      <td>NaN</td>\n",
       "      <td>NaN</td>\n",
       "      <td>NaN</td>\n",
       "      <td>NaN</td>\n",
       "      <td>NaN</td>\n",
       "    </tr>\n",
       "    <tr>\n",
       "      <th>90090</th>\n",
       "      <td>NaN</td>\n",
       "      <td>20-12-2022</td>\n",
       "      <td>NaN</td>\n",
       "      <td>NaN</td>\n",
       "      <td>NaN</td>\n",
       "      <td>NaN</td>\n",
       "      <td>NaN</td>\n",
       "      <td>NaN</td>\n",
       "      <td>NaN</td>\n",
       "      <td>NaN</td>\n",
       "      <td>...</td>\n",
       "      <td>NaN</td>\n",
       "      <td>NaN</td>\n",
       "      <td>NaN</td>\n",
       "      <td>NaN</td>\n",
       "      <td>NaN</td>\n",
       "      <td>NaN</td>\n",
       "      <td>NaN</td>\n",
       "      <td>NaN</td>\n",
       "      <td>NaN</td>\n",
       "      <td>NaN</td>\n",
       "    </tr>\n",
       "    <tr>\n",
       "      <th>90097</th>\n",
       "      <td>NaN</td>\n",
       "      <td>20-12-2022</td>\n",
       "      <td>NaN</td>\n",
       "      <td>NaN</td>\n",
       "      <td>NaN</td>\n",
       "      <td>NaN</td>\n",
       "      <td>NaN</td>\n",
       "      <td>NaN</td>\n",
       "      <td>NaN</td>\n",
       "      <td>NaN</td>\n",
       "      <td>...</td>\n",
       "      <td>NaN</td>\n",
       "      <td>NaN</td>\n",
       "      <td>NaN</td>\n",
       "      <td>NaN</td>\n",
       "      <td>NaN</td>\n",
       "      <td>NaN</td>\n",
       "      <td>NaN</td>\n",
       "      <td>NaN</td>\n",
       "      <td>NaN</td>\n",
       "      <td>NaN</td>\n",
       "    </tr>\n",
       "  </tbody>\n",
       "</table>\n",
       "<p>1447 rows × 31 columns</p>\n",
       "</div>"
      ],
      "text/plain": [
       "      event_id investigation_type accident_number event_date location country  \\\n",
       "64030      NaN         25-09-2020             NaN        NaN      NaN     NaN   \n",
       "64050      NaN         25-09-2020             NaN        NaN      NaN     NaN   \n",
       "64052      NaN         25-09-2020             NaN        NaN      NaN     NaN   \n",
       "64388      NaN         25-09-2020             NaN        NaN      NaN     NaN   \n",
       "64541      NaN         25-09-2020             NaN        NaN      NaN     NaN   \n",
       "...        ...                ...             ...        ...      ...     ...   \n",
       "90004      NaN         15-12-2022             NaN        NaN      NaN     NaN   \n",
       "90010      NaN         15-12-2022             NaN        NaN      NaN     NaN   \n",
       "90031      NaN         15-12-2022             NaN        NaN      NaN     NaN   \n",
       "90090      NaN         20-12-2022             NaN        NaN      NaN     NaN   \n",
       "90097      NaN         20-12-2022             NaN        NaN      NaN     NaN   \n",
       "\n",
       "      latitude longitude airport_code airport_name  ... purpose_of_flight  \\\n",
       "64030      NaN       NaN          NaN          NaN  ...               NaN   \n",
       "64050      NaN       NaN          NaN          NaN  ...               NaN   \n",
       "64052      NaN       NaN          NaN          NaN  ...               NaN   \n",
       "64388      NaN       NaN          NaN          NaN  ...               NaN   \n",
       "64541      NaN       NaN          NaN          NaN  ...               NaN   \n",
       "...        ...       ...          ...          ...  ...               ...   \n",
       "90004      NaN       NaN          NaN          NaN  ...               NaN   \n",
       "90010      NaN       NaN          NaN          NaN  ...               NaN   \n",
       "90031      NaN       NaN          NaN          NaN  ...               NaN   \n",
       "90090      NaN       NaN          NaN          NaN  ...               NaN   \n",
       "90097      NaN       NaN          NaN          NaN  ...               NaN   \n",
       "\n",
       "      air_carrier total_fatal_injuries total_serious_injuries  \\\n",
       "64030         NaN                  NaN                    NaN   \n",
       "64050         NaN                  NaN                    NaN   \n",
       "64052         NaN                  NaN                    NaN   \n",
       "64388         NaN                  NaN                    NaN   \n",
       "64541         NaN                  NaN                    NaN   \n",
       "...           ...                  ...                    ...   \n",
       "90004         NaN                  NaN                    NaN   \n",
       "90010         NaN                  NaN                    NaN   \n",
       "90031         NaN                  NaN                    NaN   \n",
       "90090         NaN                  NaN                    NaN   \n",
       "90097         NaN                  NaN                    NaN   \n",
       "\n",
       "      total_minor_injuries total_uninjured weather_condition  \\\n",
       "64030                  NaN             NaN               NaN   \n",
       "64050                  NaN             NaN               NaN   \n",
       "64052                  NaN             NaN               NaN   \n",
       "64388                  NaN             NaN               NaN   \n",
       "64541                  NaN             NaN               NaN   \n",
       "...                    ...             ...               ...   \n",
       "90004                  NaN             NaN               NaN   \n",
       "90010                  NaN             NaN               NaN   \n",
       "90031                  NaN             NaN               NaN   \n",
       "90090                  NaN             NaN               NaN   \n",
       "90097                  NaN             NaN               NaN   \n",
       "\n",
       "       broad_phase_of_flight report_status publication_date  \n",
       "64030                    NaN           NaN              NaN  \n",
       "64050                    NaN           NaN              NaN  \n",
       "64052                    NaN           NaN              NaN  \n",
       "64388                    NaN           NaN              NaN  \n",
       "64541                    NaN           NaN              NaN  \n",
       "...                      ...           ...              ...  \n",
       "90004                    NaN           NaN              NaN  \n",
       "90010                    NaN           NaN              NaN  \n",
       "90031                    NaN           NaN              NaN  \n",
       "90090                    NaN           NaN              NaN  \n",
       "90097                    NaN           NaN              NaN  \n",
       "\n",
       "[1447 rows x 31 columns]"
      ]
     },
     "execution_count": 14,
     "metadata": {},
     "output_type": "execute_result"
    }
   ],
   "source": [
    "# Investigated duplicates\n",
    "aviation_data_cleaned[aviation_data_cleaned.duplicated(keep=False)]"
   ]
  },
  {
   "attachments": {},
   "cell_type": "markdown",
   "metadata": {},
   "source": [
    "The duplicates seem to be mostly empty data, we can drop these rows"
   ]
  },
  {
   "cell_type": "code",
   "execution_count": 15,
   "metadata": {
    "ExecuteTime": {
     "end_time": "2023-04-21T15:50:37.754196Z",
     "start_time": "2023-04-21T15:50:37.478404Z"
    }
   },
   "outputs": [],
   "source": [
    "# Drop the duplicates\n",
    "aviation_data_cleaned = aviation_data_cleaned.drop_duplicates()"
   ]
  },
  {
   "cell_type": "code",
   "execution_count": 16,
   "metadata": {
    "ExecuteTime": {
     "end_time": "2023-04-21T15:50:37.972735Z",
     "start_time": "2023-04-21T15:50:37.756311Z"
    },
    "scrolled": false
   },
   "outputs": [
    {
     "data": {
      "text/plain": [
       "False    88958\n",
       "dtype: int64"
      ]
     },
     "execution_count": 16,
     "metadata": {},
     "output_type": "execute_result"
    }
   ],
   "source": [
    "#Confirm there are no duplicates in the cleaned data\n",
    "aviation_data_cleaned.duplicated().value_counts()"
   ]
  },
  {
   "cell_type": "code",
   "execution_count": 17,
   "metadata": {
    "ExecuteTime": {
     "end_time": "2023-04-21T15:50:37.994886Z",
     "start_time": "2023-04-21T15:50:37.974490Z"
    },
    "scrolled": false
   },
   "outputs": [
    {
     "data": {
      "text/html": [
       "<div>\n",
       "<style scoped>\n",
       "    .dataframe tbody tr th:only-of-type {\n",
       "        vertical-align: middle;\n",
       "    }\n",
       "\n",
       "    .dataframe tbody tr th {\n",
       "        vertical-align: top;\n",
       "    }\n",
       "\n",
       "    .dataframe thead th {\n",
       "        text-align: right;\n",
       "    }\n",
       "</style>\n",
       "<table border=\"1\" class=\"dataframe\">\n",
       "  <thead>\n",
       "    <tr style=\"text-align: right;\">\n",
       "      <th></th>\n",
       "      <th>event_id</th>\n",
       "      <th>investigation_type</th>\n",
       "      <th>accident_number</th>\n",
       "      <th>event_date</th>\n",
       "      <th>location</th>\n",
       "      <th>country</th>\n",
       "      <th>latitude</th>\n",
       "      <th>longitude</th>\n",
       "      <th>airport_code</th>\n",
       "      <th>airport_name</th>\n",
       "      <th>...</th>\n",
       "      <th>purpose_of_flight</th>\n",
       "      <th>air_carrier</th>\n",
       "      <th>total_fatal_injuries</th>\n",
       "      <th>total_serious_injuries</th>\n",
       "      <th>total_minor_injuries</th>\n",
       "      <th>total_uninjured</th>\n",
       "      <th>weather_condition</th>\n",
       "      <th>broad_phase_of_flight</th>\n",
       "      <th>report_status</th>\n",
       "      <th>publication_date</th>\n",
       "    </tr>\n",
       "  </thead>\n",
       "  <tbody>\n",
       "    <tr>\n",
       "      <th>0</th>\n",
       "      <td>20001218X45444</td>\n",
       "      <td>Accident</td>\n",
       "      <td>SEA87LA080</td>\n",
       "      <td>1948-10-24</td>\n",
       "      <td>MOOSE CREEK, ID</td>\n",
       "      <td>United States</td>\n",
       "      <td>NaN</td>\n",
       "      <td>NaN</td>\n",
       "      <td>NaN</td>\n",
       "      <td>NaN</td>\n",
       "      <td>...</td>\n",
       "      <td>Personal</td>\n",
       "      <td>NaN</td>\n",
       "      <td>2.0</td>\n",
       "      <td>0.0</td>\n",
       "      <td>0.0</td>\n",
       "      <td>0.0</td>\n",
       "      <td>UNK</td>\n",
       "      <td>Cruise</td>\n",
       "      <td>Probable Cause</td>\n",
       "      <td>NaN</td>\n",
       "    </tr>\n",
       "    <tr>\n",
       "      <th>1</th>\n",
       "      <td>20001218X45447</td>\n",
       "      <td>Accident</td>\n",
       "      <td>LAX94LA336</td>\n",
       "      <td>1962-07-19</td>\n",
       "      <td>BRIDGEPORT, CA</td>\n",
       "      <td>United States</td>\n",
       "      <td>NaN</td>\n",
       "      <td>NaN</td>\n",
       "      <td>NaN</td>\n",
       "      <td>NaN</td>\n",
       "      <td>...</td>\n",
       "      <td>Personal</td>\n",
       "      <td>NaN</td>\n",
       "      <td>4.0</td>\n",
       "      <td>0.0</td>\n",
       "      <td>0.0</td>\n",
       "      <td>0.0</td>\n",
       "      <td>UNK</td>\n",
       "      <td>Unknown</td>\n",
       "      <td>Probable Cause</td>\n",
       "      <td>19-09-1996</td>\n",
       "    </tr>\n",
       "    <tr>\n",
       "      <th>2</th>\n",
       "      <td>20061025X01555</td>\n",
       "      <td>Accident</td>\n",
       "      <td>NYC07LA005</td>\n",
       "      <td>1974-08-30</td>\n",
       "      <td>Saltville, VA</td>\n",
       "      <td>United States</td>\n",
       "      <td>36.9222</td>\n",
       "      <td>-81.8781</td>\n",
       "      <td>NaN</td>\n",
       "      <td>NaN</td>\n",
       "      <td>...</td>\n",
       "      <td>Personal</td>\n",
       "      <td>NaN</td>\n",
       "      <td>3.0</td>\n",
       "      <td>NaN</td>\n",
       "      <td>NaN</td>\n",
       "      <td>NaN</td>\n",
       "      <td>IMC</td>\n",
       "      <td>Cruise</td>\n",
       "      <td>Probable Cause</td>\n",
       "      <td>26-02-2007</td>\n",
       "    </tr>\n",
       "    <tr>\n",
       "      <th>3</th>\n",
       "      <td>20001218X45448</td>\n",
       "      <td>Accident</td>\n",
       "      <td>LAX96LA321</td>\n",
       "      <td>1977-06-19</td>\n",
       "      <td>EUREKA, CA</td>\n",
       "      <td>United States</td>\n",
       "      <td>NaN</td>\n",
       "      <td>NaN</td>\n",
       "      <td>NaN</td>\n",
       "      <td>NaN</td>\n",
       "      <td>...</td>\n",
       "      <td>Personal</td>\n",
       "      <td>NaN</td>\n",
       "      <td>2.0</td>\n",
       "      <td>0.0</td>\n",
       "      <td>0.0</td>\n",
       "      <td>0.0</td>\n",
       "      <td>IMC</td>\n",
       "      <td>Cruise</td>\n",
       "      <td>Probable Cause</td>\n",
       "      <td>12-09-2000</td>\n",
       "    </tr>\n",
       "    <tr>\n",
       "      <th>4</th>\n",
       "      <td>20041105X01764</td>\n",
       "      <td>Accident</td>\n",
       "      <td>CHI79FA064</td>\n",
       "      <td>1979-08-02</td>\n",
       "      <td>Canton, OH</td>\n",
       "      <td>United States</td>\n",
       "      <td>NaN</td>\n",
       "      <td>NaN</td>\n",
       "      <td>NaN</td>\n",
       "      <td>NaN</td>\n",
       "      <td>...</td>\n",
       "      <td>Personal</td>\n",
       "      <td>NaN</td>\n",
       "      <td>1.0</td>\n",
       "      <td>2.0</td>\n",
       "      <td>NaN</td>\n",
       "      <td>0.0</td>\n",
       "      <td>VMC</td>\n",
       "      <td>Approach</td>\n",
       "      <td>Probable Cause</td>\n",
       "      <td>16-04-1980</td>\n",
       "    </tr>\n",
       "  </tbody>\n",
       "</table>\n",
       "<p>5 rows × 31 columns</p>\n",
       "</div>"
      ],
      "text/plain": [
       "         event_id investigation_type accident_number  event_date  \\\n",
       "0  20001218X45444           Accident      SEA87LA080  1948-10-24   \n",
       "1  20001218X45447           Accident      LAX94LA336  1962-07-19   \n",
       "2  20061025X01555           Accident      NYC07LA005  1974-08-30   \n",
       "3  20001218X45448           Accident      LAX96LA321  1977-06-19   \n",
       "4  20041105X01764           Accident      CHI79FA064  1979-08-02   \n",
       "\n",
       "          location        country latitude longitude airport_code  \\\n",
       "0  MOOSE CREEK, ID  United States      NaN       NaN          NaN   \n",
       "1   BRIDGEPORT, CA  United States      NaN       NaN          NaN   \n",
       "2    Saltville, VA  United States  36.9222  -81.8781          NaN   \n",
       "3       EUREKA, CA  United States      NaN       NaN          NaN   \n",
       "4       Canton, OH  United States      NaN       NaN          NaN   \n",
       "\n",
       "  airport_name  ... purpose_of_flight air_carrier total_fatal_injuries  \\\n",
       "0          NaN  ...          Personal         NaN                  2.0   \n",
       "1          NaN  ...          Personal         NaN                  4.0   \n",
       "2          NaN  ...          Personal         NaN                  3.0   \n",
       "3          NaN  ...          Personal         NaN                  2.0   \n",
       "4          NaN  ...          Personal         NaN                  1.0   \n",
       "\n",
       "  total_serious_injuries total_minor_injuries total_uninjured  \\\n",
       "0                    0.0                  0.0             0.0   \n",
       "1                    0.0                  0.0             0.0   \n",
       "2                    NaN                  NaN             NaN   \n",
       "3                    0.0                  0.0             0.0   \n",
       "4                    2.0                  NaN             0.0   \n",
       "\n",
       "  weather_condition  broad_phase_of_flight   report_status publication_date  \n",
       "0               UNK                 Cruise  Probable Cause              NaN  \n",
       "1               UNK                Unknown  Probable Cause       19-09-1996  \n",
       "2               IMC                 Cruise  Probable Cause       26-02-2007  \n",
       "3               IMC                 Cruise  Probable Cause       12-09-2000  \n",
       "4               VMC               Approach  Probable Cause       16-04-1980  \n",
       "\n",
       "[5 rows x 31 columns]"
      ]
     },
     "execution_count": 17,
     "metadata": {},
     "output_type": "execute_result"
    }
   ],
   "source": [
    "# Check out dataframe to see what other columns we may want to check for duplicates\n",
    "aviation_data_cleaned.head()"
   ]
  },
  {
   "cell_type": "code",
   "execution_count": 18,
   "metadata": {
    "ExecuteTime": {
     "end_time": "2023-04-21T15:50:38.024591Z",
     "start_time": "2023-04-21T15:50:37.997293Z"
    },
    "scrolled": true
   },
   "outputs": [
    {
     "data": {
      "text/plain": [
       "False    87952\n",
       "True      1006\n",
       "Name: event_id, dtype: int64"
      ]
     },
     "execution_count": 18,
     "metadata": {},
     "output_type": "execute_result"
    }
   ],
   "source": [
    "# Check for duplicates in event_id\n",
    "aviation_data_cleaned['event_id'].duplicated().value_counts()"
   ]
  },
  {
   "cell_type": "code",
   "execution_count": 19,
   "metadata": {
    "ExecuteTime": {
     "end_time": "2023-04-21T15:50:38.092371Z",
     "start_time": "2023-04-21T15:50:38.028608Z"
    },
    "scrolled": false
   },
   "outputs": [
    {
     "data": {
      "text/html": [
       "<div>\n",
       "<style scoped>\n",
       "    .dataframe tbody tr th:only-of-type {\n",
       "        vertical-align: middle;\n",
       "    }\n",
       "\n",
       "    .dataframe tbody tr th {\n",
       "        vertical-align: top;\n",
       "    }\n",
       "\n",
       "    .dataframe thead th {\n",
       "        text-align: right;\n",
       "    }\n",
       "</style>\n",
       "<table border=\"1\" class=\"dataframe\">\n",
       "  <thead>\n",
       "    <tr style=\"text-align: right;\">\n",
       "      <th></th>\n",
       "      <th>event_id</th>\n",
       "      <th>investigation_type</th>\n",
       "      <th>accident_number</th>\n",
       "      <th>event_date</th>\n",
       "      <th>location</th>\n",
       "      <th>country</th>\n",
       "      <th>latitude</th>\n",
       "      <th>longitude</th>\n",
       "      <th>airport_code</th>\n",
       "      <th>airport_name</th>\n",
       "      <th>...</th>\n",
       "      <th>purpose_of_flight</th>\n",
       "      <th>air_carrier</th>\n",
       "      <th>total_fatal_injuries</th>\n",
       "      <th>total_serious_injuries</th>\n",
       "      <th>total_minor_injuries</th>\n",
       "      <th>total_uninjured</th>\n",
       "      <th>weather_condition</th>\n",
       "      <th>broad_phase_of_flight</th>\n",
       "      <th>report_status</th>\n",
       "      <th>publication_date</th>\n",
       "    </tr>\n",
       "  </thead>\n",
       "  <tbody>\n",
       "    <tr>\n",
       "      <th>45562</th>\n",
       "      <td>20001204X00086</td>\n",
       "      <td>Accident</td>\n",
       "      <td>LAX99LA086B</td>\n",
       "      <td>1999-01-29</td>\n",
       "      <td>MADERA, CA</td>\n",
       "      <td>United States</td>\n",
       "      <td>NaN</td>\n",
       "      <td>NaN</td>\n",
       "      <td>MAE</td>\n",
       "      <td>MADERA MUNICIPAL AIRPORT</td>\n",
       "      <td>...</td>\n",
       "      <td>Personal</td>\n",
       "      <td>NaN</td>\n",
       "      <td>0.0</td>\n",
       "      <td>0.0</td>\n",
       "      <td>0.0</td>\n",
       "      <td>2.0</td>\n",
       "      <td>VMC</td>\n",
       "      <td>Taxi</td>\n",
       "      <td>Probable Cause</td>\n",
       "      <td>30-11-2000</td>\n",
       "    </tr>\n",
       "    <tr>\n",
       "      <th>45564</th>\n",
       "      <td>20001204X00086</td>\n",
       "      <td>Accident</td>\n",
       "      <td>LAX99LA086A</td>\n",
       "      <td>1999-01-29</td>\n",
       "      <td>MADERA, CA</td>\n",
       "      <td>United States</td>\n",
       "      <td>NaN</td>\n",
       "      <td>NaN</td>\n",
       "      <td>MAE</td>\n",
       "      <td>MADERA MUNICIPAL AIRPORT</td>\n",
       "      <td>...</td>\n",
       "      <td>Personal</td>\n",
       "      <td>NaN</td>\n",
       "      <td>0.0</td>\n",
       "      <td>0.0</td>\n",
       "      <td>0.0</td>\n",
       "      <td>2.0</td>\n",
       "      <td>VMC</td>\n",
       "      <td>Taxi</td>\n",
       "      <td>Probable Cause</td>\n",
       "      <td>30-11-2000</td>\n",
       "    </tr>\n",
       "    <tr>\n",
       "      <th>45703</th>\n",
       "      <td>20001205X00276</td>\n",
       "      <td>Incident</td>\n",
       "      <td>CHI99IA100B</td>\n",
       "      <td>1999-03-02</td>\n",
       "      <td>SALINA, KS</td>\n",
       "      <td>United States</td>\n",
       "      <td>NaN</td>\n",
       "      <td>NaN</td>\n",
       "      <td>NaN</td>\n",
       "      <td>NaN</td>\n",
       "      <td>...</td>\n",
       "      <td>Unknown</td>\n",
       "      <td>NaN</td>\n",
       "      <td>0.0</td>\n",
       "      <td>0.0</td>\n",
       "      <td>0.0</td>\n",
       "      <td>6.0</td>\n",
       "      <td>VMC</td>\n",
       "      <td>Cruise</td>\n",
       "      <td>Probable Cause</td>\n",
       "      <td>30-11-2000</td>\n",
       "    </tr>\n",
       "    <tr>\n",
       "      <th>45704</th>\n",
       "      <td>20001205X00276</td>\n",
       "      <td>Incident</td>\n",
       "      <td>CHI99IA100A</td>\n",
       "      <td>1999-03-02</td>\n",
       "      <td>SALINA, KS</td>\n",
       "      <td>United States</td>\n",
       "      <td>NaN</td>\n",
       "      <td>NaN</td>\n",
       "      <td>NaN</td>\n",
       "      <td>NaN</td>\n",
       "      <td>...</td>\n",
       "      <td>Unknown</td>\n",
       "      <td>NaN</td>\n",
       "      <td>0.0</td>\n",
       "      <td>0.0</td>\n",
       "      <td>0.0</td>\n",
       "      <td>6.0</td>\n",
       "      <td>VMC</td>\n",
       "      <td>Cruise</td>\n",
       "      <td>Probable Cause</td>\n",
       "      <td>30-11-2000</td>\n",
       "    </tr>\n",
       "    <tr>\n",
       "      <th>45716</th>\n",
       "      <td>20001205X00305</td>\n",
       "      <td>Accident</td>\n",
       "      <td>DEN99LA047B</td>\n",
       "      <td>1999-03-05</td>\n",
       "      <td>DENVER, CO</td>\n",
       "      <td>United States</td>\n",
       "      <td>NaN</td>\n",
       "      <td>NaN</td>\n",
       "      <td>DEN</td>\n",
       "      <td>DENVER INTERNATIONAL</td>\n",
       "      <td>...</td>\n",
       "      <td>Unknown</td>\n",
       "      <td>NaN</td>\n",
       "      <td>0.0</td>\n",
       "      <td>0.0</td>\n",
       "      <td>0.0</td>\n",
       "      <td>2.0</td>\n",
       "      <td>VMC</td>\n",
       "      <td>Taxi</td>\n",
       "      <td>Probable Cause</td>\n",
       "      <td>25-04-2001</td>\n",
       "    </tr>\n",
       "    <tr>\n",
       "      <th>...</th>\n",
       "      <td>...</td>\n",
       "      <td>...</td>\n",
       "      <td>...</td>\n",
       "      <td>...</td>\n",
       "      <td>...</td>\n",
       "      <td>...</td>\n",
       "      <td>...</td>\n",
       "      <td>...</td>\n",
       "      <td>...</td>\n",
       "      <td>...</td>\n",
       "      <td>...</td>\n",
       "      <td>...</td>\n",
       "      <td>...</td>\n",
       "      <td>...</td>\n",
       "      <td>...</td>\n",
       "      <td>...</td>\n",
       "      <td>...</td>\n",
       "      <td>...</td>\n",
       "      <td>...</td>\n",
       "      <td>...</td>\n",
       "      <td>...</td>\n",
       "    </tr>\n",
       "    <tr>\n",
       "      <th>89440</th>\n",
       "      <td>NaN</td>\n",
       "      <td>02-12-2022</td>\n",
       "      <td>NaN</td>\n",
       "      <td>NaN</td>\n",
       "      <td>NaN</td>\n",
       "      <td>NaN</td>\n",
       "      <td>NaN</td>\n",
       "      <td>NaN</td>\n",
       "      <td>NaN</td>\n",
       "      <td>NaN</td>\n",
       "      <td>...</td>\n",
       "      <td>NaN</td>\n",
       "      <td>NaN</td>\n",
       "      <td>NaN</td>\n",
       "      <td>NaN</td>\n",
       "      <td>NaN</td>\n",
       "      <td>NaN</td>\n",
       "      <td>NaN</td>\n",
       "      <td>NaN</td>\n",
       "      <td>NaN</td>\n",
       "      <td>NaN</td>\n",
       "    </tr>\n",
       "    <tr>\n",
       "      <th>89492</th>\n",
       "      <td>NaN</td>\n",
       "      <td>05-08-2022</td>\n",
       "      <td>NaN</td>\n",
       "      <td>NaN</td>\n",
       "      <td>NaN</td>\n",
       "      <td>NaN</td>\n",
       "      <td>NaN</td>\n",
       "      <td>NaN</td>\n",
       "      <td>NaN</td>\n",
       "      <td>NaN</td>\n",
       "      <td>...</td>\n",
       "      <td>NaN</td>\n",
       "      <td>NaN</td>\n",
       "      <td>NaN</td>\n",
       "      <td>NaN</td>\n",
       "      <td>NaN</td>\n",
       "      <td>NaN</td>\n",
       "      <td>NaN</td>\n",
       "      <td>NaN</td>\n",
       "      <td>NaN</td>\n",
       "      <td>NaN</td>\n",
       "    </tr>\n",
       "    <tr>\n",
       "      <th>89763</th>\n",
       "      <td>NaN</td>\n",
       "      <td>08-12-2022</td>\n",
       "      <td>NaN</td>\n",
       "      <td>NaN</td>\n",
       "      <td>NaN</td>\n",
       "      <td>NaN</td>\n",
       "      <td>NaN</td>\n",
       "      <td>NaN</td>\n",
       "      <td>NaN</td>\n",
       "      <td>NaN</td>\n",
       "      <td>...</td>\n",
       "      <td>NaN</td>\n",
       "      <td>NaN</td>\n",
       "      <td>NaN</td>\n",
       "      <td>NaN</td>\n",
       "      <td>NaN</td>\n",
       "      <td>NaN</td>\n",
       "      <td>NaN</td>\n",
       "      <td>NaN</td>\n",
       "      <td>NaN</td>\n",
       "      <td>NaN</td>\n",
       "    </tr>\n",
       "    <tr>\n",
       "      <th>89943</th>\n",
       "      <td>NaN</td>\n",
       "      <td>15-12-2022</td>\n",
       "      <td>NaN</td>\n",
       "      <td>NaN</td>\n",
       "      <td>NaN</td>\n",
       "      <td>NaN</td>\n",
       "      <td>NaN</td>\n",
       "      <td>NaN</td>\n",
       "      <td>NaN</td>\n",
       "      <td>NaN</td>\n",
       "      <td>...</td>\n",
       "      <td>NaN</td>\n",
       "      <td>NaN</td>\n",
       "      <td>NaN</td>\n",
       "      <td>NaN</td>\n",
       "      <td>NaN</td>\n",
       "      <td>NaN</td>\n",
       "      <td>NaN</td>\n",
       "      <td>NaN</td>\n",
       "      <td>NaN</td>\n",
       "      <td>NaN</td>\n",
       "    </tr>\n",
       "    <tr>\n",
       "      <th>90090</th>\n",
       "      <td>NaN</td>\n",
       "      <td>20-12-2022</td>\n",
       "      <td>NaN</td>\n",
       "      <td>NaN</td>\n",
       "      <td>NaN</td>\n",
       "      <td>NaN</td>\n",
       "      <td>NaN</td>\n",
       "      <td>NaN</td>\n",
       "      <td>NaN</td>\n",
       "      <td>NaN</td>\n",
       "      <td>...</td>\n",
       "      <td>NaN</td>\n",
       "      <td>NaN</td>\n",
       "      <td>NaN</td>\n",
       "      <td>NaN</td>\n",
       "      <td>NaN</td>\n",
       "      <td>NaN</td>\n",
       "      <td>NaN</td>\n",
       "      <td>NaN</td>\n",
       "      <td>NaN</td>\n",
       "      <td>NaN</td>\n",
       "    </tr>\n",
       "  </tbody>\n",
       "</table>\n",
       "<p>1943 rows × 31 columns</p>\n",
       "</div>"
      ],
      "text/plain": [
       "             event_id investigation_type accident_number  event_date  \\\n",
       "45562  20001204X00086           Accident     LAX99LA086B  1999-01-29   \n",
       "45564  20001204X00086           Accident     LAX99LA086A  1999-01-29   \n",
       "45703  20001205X00276           Incident     CHI99IA100B  1999-03-02   \n",
       "45704  20001205X00276           Incident     CHI99IA100A  1999-03-02   \n",
       "45716  20001205X00305           Accident     DEN99LA047B  1999-03-05   \n",
       "...               ...                ...             ...         ...   \n",
       "89440             NaN         02-12-2022             NaN         NaN   \n",
       "89492             NaN         05-08-2022             NaN         NaN   \n",
       "89763             NaN         08-12-2022             NaN         NaN   \n",
       "89943             NaN         15-12-2022             NaN         NaN   \n",
       "90090             NaN         20-12-2022             NaN         NaN   \n",
       "\n",
       "         location        country latitude longitude airport_code  \\\n",
       "45562  MADERA, CA  United States      NaN       NaN          MAE   \n",
       "45564  MADERA, CA  United States      NaN       NaN          MAE   \n",
       "45703  SALINA, KS  United States      NaN       NaN          NaN   \n",
       "45704  SALINA, KS  United States      NaN       NaN          NaN   \n",
       "45716  DENVER, CO  United States      NaN       NaN          DEN   \n",
       "...           ...            ...      ...       ...          ...   \n",
       "89440         NaN            NaN      NaN       NaN          NaN   \n",
       "89492         NaN            NaN      NaN       NaN          NaN   \n",
       "89763         NaN            NaN      NaN       NaN          NaN   \n",
       "89943         NaN            NaN      NaN       NaN          NaN   \n",
       "90090         NaN            NaN      NaN       NaN          NaN   \n",
       "\n",
       "                   airport_name  ... purpose_of_flight air_carrier  \\\n",
       "45562  MADERA MUNICIPAL AIRPORT  ...          Personal         NaN   \n",
       "45564  MADERA MUNICIPAL AIRPORT  ...          Personal         NaN   \n",
       "45703                       NaN  ...           Unknown         NaN   \n",
       "45704                       NaN  ...           Unknown         NaN   \n",
       "45716      DENVER INTERNATIONAL  ...           Unknown         NaN   \n",
       "...                         ...  ...               ...         ...   \n",
       "89440                       NaN  ...               NaN         NaN   \n",
       "89492                       NaN  ...               NaN         NaN   \n",
       "89763                       NaN  ...               NaN         NaN   \n",
       "89943                       NaN  ...               NaN         NaN   \n",
       "90090                       NaN  ...               NaN         NaN   \n",
       "\n",
       "      total_fatal_injuries total_serious_injuries total_minor_injuries  \\\n",
       "45562                  0.0                    0.0                  0.0   \n",
       "45564                  0.0                    0.0                  0.0   \n",
       "45703                  0.0                    0.0                  0.0   \n",
       "45704                  0.0                    0.0                  0.0   \n",
       "45716                  0.0                    0.0                  0.0   \n",
       "...                    ...                    ...                  ...   \n",
       "89440                  NaN                    NaN                  NaN   \n",
       "89492                  NaN                    NaN                  NaN   \n",
       "89763                  NaN                    NaN                  NaN   \n",
       "89943                  NaN                    NaN                  NaN   \n",
       "90090                  NaN                    NaN                  NaN   \n",
       "\n",
       "      total_uninjured weather_condition  broad_phase_of_flight  \\\n",
       "45562             2.0               VMC                   Taxi   \n",
       "45564             2.0               VMC                   Taxi   \n",
       "45703             6.0               VMC                 Cruise   \n",
       "45704             6.0               VMC                 Cruise   \n",
       "45716             2.0               VMC                   Taxi   \n",
       "...               ...               ...                    ...   \n",
       "89440             NaN               NaN                    NaN   \n",
       "89492             NaN               NaN                    NaN   \n",
       "89763             NaN               NaN                    NaN   \n",
       "89943             NaN               NaN                    NaN   \n",
       "90090             NaN               NaN                    NaN   \n",
       "\n",
       "        report_status publication_date  \n",
       "45562  Probable Cause       30-11-2000  \n",
       "45564  Probable Cause       30-11-2000  \n",
       "45703  Probable Cause       30-11-2000  \n",
       "45704  Probable Cause       30-11-2000  \n",
       "45716  Probable Cause       25-04-2001  \n",
       "...               ...              ...  \n",
       "89440             NaN              NaN  \n",
       "89492             NaN              NaN  \n",
       "89763             NaN              NaN  \n",
       "89943             NaN              NaN  \n",
       "90090             NaN              NaN  \n",
       "\n",
       "[1943 rows x 31 columns]"
      ]
     },
     "execution_count": 19,
     "metadata": {},
     "output_type": "execute_result"
    }
   ],
   "source": [
    "# Investigate the event_id duplicates\n",
    "aviation_data_cleaned[aviation_data_cleaned['event_id'].duplicated(keep=False)].sort_values(by=['event_id'])"
   ]
  },
  {
   "attachments": {},
   "cell_type": "markdown",
   "metadata": {
    "ExecuteTime": {
     "end_time": "2023-04-17T22:18:05.545449Z",
     "start_time": "2023-04-17T22:18:05.540233Z"
    }
   },
   "source": [
    "**Observations**\n",
    "- The duplicates seem to be caused by multiple accident numbers referring to the same event\n",
    "- Some have different air carriers\n",
    "- Some have different broad_phase_of_flight\t\n",
    "- We can likely keep one pair for each duplicate as the data is still good"
   ]
  },
  {
   "cell_type": "code",
   "execution_count": 20,
   "metadata": {
    "ExecuteTime": {
     "end_time": "2023-04-21T15:50:38.149454Z",
     "start_time": "2023-04-21T15:50:38.097660Z"
    }
   },
   "outputs": [],
   "source": [
    "# Drip duplicate events but keep the first reported event\n",
    "aviation_data_cleaned = aviation_data_cleaned.drop_duplicates(subset=['event_id'], keep='first')"
   ]
  },
  {
   "cell_type": "code",
   "execution_count": 21,
   "metadata": {
    "ExecuteTime": {
     "end_time": "2023-04-21T15:50:38.183590Z",
     "start_time": "2023-04-21T15:50:38.160622Z"
    },
    "scrolled": true
   },
   "outputs": [
    {
     "data": {
      "text/plain": [
       "False    87952\n",
       "Name: event_id, dtype: int64"
      ]
     },
     "execution_count": 21,
     "metadata": {},
     "output_type": "execute_result"
    }
   ],
   "source": [
    "# Confirm there are no more event_id duplicates\n",
    "aviation_data_cleaned['event_id'].duplicated().value_counts()"
   ]
  },
  {
   "attachments": {},
   "cell_type": "markdown",
   "metadata": {},
   "source": [
    "### Removing undesired data \n",
    "We don't want all the data so let's remove what we don't want\n",
    "- We only want USA based planes\n",
    "- We don't want amateur built planes\n",
    "- We don't want old data"
   ]
  },
  {
   "cell_type": "code",
   "execution_count": 22,
   "metadata": {
    "ExecuteTime": {
     "end_time": "2023-04-21T15:50:38.304958Z",
     "start_time": "2023-04-21T15:50:38.193495Z"
    },
    "scrolled": false
   },
   "outputs": [
    {
     "name": "stdout",
     "output_type": "stream",
     "text": [
      "<class 'pandas.core.frame.DataFrame'>\n",
      "Int64Index: 87952 entries, 0 to 90347\n",
      "Data columns (total 31 columns):\n",
      " #   Column                  Non-Null Count  Dtype  \n",
      "---  ------                  --------------  -----  \n",
      " 0   event_id                87951 non-null  object \n",
      " 1   investigation_type      87952 non-null  object \n",
      " 2   accident_number         87951 non-null  object \n",
      " 3   event_date              87951 non-null  object \n",
      " 4   location                87899 non-null  object \n",
      " 5   country                 87729 non-null  object \n",
      " 6   latitude                34212 non-null  object \n",
      " 7   longitude               34203 non-null  object \n",
      " 8   airport_code            49601 non-null  object \n",
      " 9   airport_name            52117 non-null  object \n",
      " 10  injury_severity         86961 non-null  object \n",
      " 11  aircraft_damage         84848 non-null  object \n",
      " 12  aircraft_category       32181 non-null  object \n",
      " 13  registration_number     86666 non-null  object \n",
      " 14  make                    87888 non-null  object \n",
      " 15  model                   87859 non-null  object \n",
      " 16  amateur_built           87851 non-null  object \n",
      " 17  number_of_engines       81924 non-null  float64\n",
      " 18  engine_type             80927 non-null  object \n",
      " 19  far_description         31915 non-null  object \n",
      " 20  schedule                12360 non-null  object \n",
      " 21  purpose_of_flight       81829 non-null  object \n",
      " 22  air_carrier             16533 non-null  object \n",
      " 23  total_fatal_injuries    76684 non-null  float64\n",
      " 24  total_serious_injuries  75629 non-null  float64\n",
      " 25  total_minor_injuries    76191 non-null  float64\n",
      " 26  total_uninjured         82088 non-null  float64\n",
      " 27  weather_condition       83478 non-null  object \n",
      " 28  broad_phase_of_flight   60837 non-null  object \n",
      " 29  report_status           81590 non-null  object \n",
      " 30  publication_date        72894 non-null  object \n",
      "dtypes: float64(5), object(26)\n",
      "memory usage: 21.5+ MB\n"
     ]
    }
   ],
   "source": [
    "# Investigate the data\n",
    "aviation_data_cleaned.info()"
   ]
  },
  {
   "cell_type": "code",
   "execution_count": 23,
   "metadata": {
    "ExecuteTime": {
     "end_time": "2023-04-21T15:50:38.357445Z",
     "start_time": "2023-04-21T15:50:38.306940Z"
    }
   },
   "outputs": [],
   "source": [
    "# Including data only from the USA\n",
    "usa_filter = aviation_data_cleaned['country'] == 'United States'\n",
    "aviation_data_cleaned = aviation_data_cleaned[usa_filter]"
   ]
  },
  {
   "cell_type": "code",
   "execution_count": 24,
   "metadata": {
    "ExecuteTime": {
     "end_time": "2023-04-21T15:50:38.376421Z",
     "start_time": "2023-04-21T15:50:38.359612Z"
    },
    "scrolled": true
   },
   "outputs": [
    {
     "data": {
      "text/plain": [
       "United States    81355\n",
       "Name: country, dtype: int64"
      ]
     },
     "execution_count": 24,
     "metadata": {},
     "output_type": "execute_result"
    }
   ],
   "source": [
    "# Check the value counts of country\n",
    "aviation_data_cleaned['country'].value_counts()"
   ]
  },
  {
   "cell_type": "code",
   "execution_count": 25,
   "metadata": {
    "ExecuteTime": {
     "end_time": "2023-04-21T15:50:38.521196Z",
     "start_time": "2023-04-21T15:50:38.388398Z"
    },
    "scrolled": false
   },
   "outputs": [
    {
     "name": "stdout",
     "output_type": "stream",
     "text": [
      "<class 'pandas.core.frame.DataFrame'>\n",
      "Int64Index: 81355 entries, 0 to 90347\n",
      "Data columns (total 30 columns):\n",
      " #   Column                  Non-Null Count  Dtype  \n",
      "---  ------                  --------------  -----  \n",
      " 0   event_id                81355 non-null  object \n",
      " 1   investigation_type      81355 non-null  object \n",
      " 2   accident_number         81355 non-null  object \n",
      " 3   event_date              81355 non-null  object \n",
      " 4   location                81344 non-null  object \n",
      " 5   latitude                32103 non-null  object \n",
      " 6   longitude               32093 non-null  object \n",
      " 7   airport_code            48548 non-null  object \n",
      " 8   airport_name            50990 non-null  object \n",
      " 9   injury_severity         81250 non-null  object \n",
      " 10  aircraft_damage         79453 non-null  object \n",
      " 11  aircraft_category       28062 non-null  object \n",
      " 12  registration_number     81318 non-null  object \n",
      " 13  make                    81334 non-null  object \n",
      " 14  model                   81317 non-null  object \n",
      " 15  amateur_built           81335 non-null  object \n",
      " 16  number_of_engines       79509 non-null  float64\n",
      " 17  engine_type             78363 non-null  object \n",
      " 18  far_description         28132 non-null  object \n",
      " 19  schedule                10098 non-null  object \n",
      " 20  purpose_of_flight       78979 non-null  object \n",
      " 21  air_carrier             14389 non-null  object \n",
      " 22  total_fatal_injuries    70828 non-null  float64\n",
      " 23  total_serious_injuries  70149 non-null  float64\n",
      " 24  total_minor_injuries    70781 non-null  float64\n",
      " 25  total_uninjured         76389 non-null  float64\n",
      " 26  weather_condition       80714 non-null  object \n",
      " 27  broad_phase_of_flight   60283 non-null  object \n",
      " 28  report_status           78756 non-null  object \n",
      " 29  publication_date        67379 non-null  object \n",
      "dtypes: float64(5), object(25)\n",
      "memory usage: 19.2+ MB\n"
     ]
    }
   ],
   "source": [
    "# Drop the column since there is now only one value\n",
    "aviation_data_cleaned = aviation_data_cleaned.drop('country', axis=1)\n",
    "aviation_data_cleaned.info()"
   ]
  },
  {
   "attachments": {},
   "cell_type": "markdown",
   "metadata": {},
   "source": [
    "**Removing Amateur Built Airplanes**"
   ]
  },
  {
   "cell_type": "code",
   "execution_count": 26,
   "metadata": {
    "ExecuteTime": {
     "end_time": "2023-04-21T15:50:38.541355Z",
     "start_time": "2023-04-21T15:50:38.523688Z"
    }
   },
   "outputs": [
    {
     "data": {
      "text/plain": [
       "No     73068\n",
       "Yes     8267\n",
       "Name: amateur_built, dtype: int64"
      ]
     },
     "execution_count": 26,
     "metadata": {},
     "output_type": "execute_result"
    }
   ],
   "source": [
    "# Check out the data for amateur_built column\n",
    "aviation_data_cleaned['amateur_built'].value_counts()"
   ]
  },
  {
   "cell_type": "code",
   "execution_count": 27,
   "metadata": {
    "ExecuteTime": {
     "end_time": "2023-04-21T15:50:38.590622Z",
     "start_time": "2023-04-21T15:50:38.546389Z"
    }
   },
   "outputs": [],
   "source": [
    "# We don't want any amateur built airplanes so let's remove the data \n",
    "pro_filter = aviation_data_cleaned['amateur_built'] == 'No'\n",
    "aviation_data_cleaned = aviation_data_cleaned[pro_filter]"
   ]
  },
  {
   "cell_type": "code",
   "execution_count": 28,
   "metadata": {
    "ExecuteTime": {
     "end_time": "2023-04-21T15:50:38.699538Z",
     "start_time": "2023-04-21T15:50:38.603640Z"
    }
   },
   "outputs": [
    {
     "name": "stdout",
     "output_type": "stream",
     "text": [
      "<class 'pandas.core.frame.DataFrame'>\n",
      "Int64Index: 73068 entries, 0 to 90347\n",
      "Data columns (total 29 columns):\n",
      " #   Column                  Non-Null Count  Dtype  \n",
      "---  ------                  --------------  -----  \n",
      " 0   event_id                73068 non-null  object \n",
      " 1   investigation_type      73068 non-null  object \n",
      " 2   accident_number         73068 non-null  object \n",
      " 3   event_date              73068 non-null  object \n",
      " 4   location                73058 non-null  object \n",
      " 5   latitude                27974 non-null  object \n",
      " 6   longitude               27967 non-null  object \n",
      " 7   airport_code            43439 non-null  object \n",
      " 8   airport_name            45668 non-null  object \n",
      " 9   injury_severity         72963 non-null  object \n",
      " 10  aircraft_damage         71187 non-null  object \n",
      " 11  aircraft_category       24609 non-null  object \n",
      " 12  registration_number     73031 non-null  object \n",
      " 13  make                    73059 non-null  object \n",
      " 14  model                   73053 non-null  object \n",
      " 15  number_of_engines       71426 non-null  float64\n",
      " 16  engine_type             70348 non-null  object \n",
      " 17  far_description         24678 non-null  object \n",
      " 18  schedule                9898 non-null   object \n",
      " 19  purpose_of_flight       70695 non-null  object \n",
      " 20  air_carrier             13412 non-null  object \n",
      " 21  total_fatal_injuries    63705 non-null  float64\n",
      " 22  total_serious_injuries  63167 non-null  float64\n",
      " 23  total_minor_injuries    63746 non-null  float64\n",
      " 24  total_uninjured         69027 non-null  float64\n",
      " 25  weather_condition       72451 non-null  object \n",
      " 26  broad_phase_of_flight   54773 non-null  object \n",
      " 27  report_status           70750 non-null  object \n",
      " 28  publication_date        60185 non-null  object \n",
      "dtypes: float64(5), object(24)\n",
      "memory usage: 16.7+ MB\n"
     ]
    }
   ],
   "source": [
    "# Now drop the amateur_built column since all remaining aircraft are professionally built\n",
    "aviation_data_cleaned = aviation_data_cleaned.drop('amateur_built', axis=1)\n",
    "aviation_data_cleaned.info()"
   ]
  },
  {
   "attachments": {},
   "cell_type": "markdown",
   "metadata": {},
   "source": [
    "**Removing Old Data**"
   ]
  },
  {
   "attachments": {},
   "cell_type": "markdown",
   "metadata": {},
   "source": [
    "The dates are in the `Event.Date` column in the format 'YYYY-MM-DD'"
   ]
  },
  {
   "cell_type": "code",
   "execution_count": 29,
   "metadata": {
    "ExecuteTime": {
     "end_time": "2023-04-21T15:50:38.722617Z",
     "start_time": "2023-04-21T15:50:38.702007Z"
    },
    "scrolled": true
   },
   "outputs": [
    {
     "data": {
      "text/plain": [
       "0   1948-10-24\n",
       "1   1962-07-19\n",
       "2   1974-08-30\n",
       "3   1977-06-19\n",
       "4   1979-08-02\n",
       "Name: event_date, dtype: datetime64[ns]"
      ]
     },
     "execution_count": 29,
     "metadata": {},
     "output_type": "execute_result"
    }
   ],
   "source": [
    "# Check chaging the Event.Date column to dates\n",
    "pd.to_datetime(aviation_data_cleaned['event_date']).head()"
   ]
  },
  {
   "cell_type": "code",
   "execution_count": 30,
   "metadata": {
    "ExecuteTime": {
     "end_time": "2023-04-21T15:50:38.776237Z",
     "start_time": "2023-04-21T15:50:38.724585Z"
    },
    "scrolled": true
   },
   "outputs": [],
   "source": [
    "# Update the column to the correct datetime type\n",
    "aviation_data_cleaned['event_date'] = pd.to_datetime(aviation_data_cleaned['event_date'])"
   ]
  },
  {
   "cell_type": "code",
   "execution_count": 31,
   "metadata": {
    "ExecuteTime": {
     "end_time": "2023-04-21T15:50:38.784686Z",
     "start_time": "2023-04-21T15:50:38.779269Z"
    },
    "scrolled": true
   },
   "outputs": [
    {
     "data": {
      "text/plain": [
       "0   1948-10-24\n",
       "1   1962-07-19\n",
       "2   1974-08-30\n",
       "3   1977-06-19\n",
       "4   1979-08-02\n",
       "Name: event_date, dtype: datetime64[ns]"
      ]
     },
     "execution_count": 31,
     "metadata": {},
     "output_type": "execute_result"
    }
   ],
   "source": [
    "# Confirm that it worked\n",
    "aviation_data_cleaned['event_date'].head()"
   ]
  },
  {
   "cell_type": "code",
   "execution_count": 32,
   "metadata": {
    "ExecuteTime": {
     "end_time": "2023-04-21T15:50:38.958424Z",
     "start_time": "2023-04-21T15:50:38.786913Z"
    }
   },
   "outputs": [
    {
     "name": "stdout",
     "output_type": "stream",
     "text": [
      "<class 'pandas.core.frame.DataFrame'>\n",
      "Int64Index: 73068 entries, 0 to 90347\n",
      "Data columns (total 29 columns):\n",
      " #   Column                  Non-Null Count  Dtype         \n",
      "---  ------                  --------------  -----         \n",
      " 0   event_id                73068 non-null  object        \n",
      " 1   investigation_type      73068 non-null  object        \n",
      " 2   accident_number         73068 non-null  object        \n",
      " 3   event_date              73068 non-null  datetime64[ns]\n",
      " 4   location                73058 non-null  object        \n",
      " 5   latitude                27974 non-null  object        \n",
      " 6   longitude               27967 non-null  object        \n",
      " 7   airport_code            43439 non-null  object        \n",
      " 8   airport_name            45668 non-null  object        \n",
      " 9   injury_severity         72963 non-null  object        \n",
      " 10  aircraft_damage         71187 non-null  object        \n",
      " 11  aircraft_category       24609 non-null  object        \n",
      " 12  registration_number     73031 non-null  object        \n",
      " 13  make                    73059 non-null  object        \n",
      " 14  model                   73053 non-null  object        \n",
      " 15  number_of_engines       71426 non-null  float64       \n",
      " 16  engine_type             70348 non-null  object        \n",
      " 17  far_description         24678 non-null  object        \n",
      " 18  schedule                9898 non-null   object        \n",
      " 19  purpose_of_flight       70695 non-null  object        \n",
      " 20  air_carrier             13412 non-null  object        \n",
      " 21  total_fatal_injuries    63705 non-null  float64       \n",
      " 22  total_serious_injuries  63167 non-null  float64       \n",
      " 23  total_minor_injuries    63746 non-null  float64       \n",
      " 24  total_uninjured         69027 non-null  float64       \n",
      " 25  weather_condition       72451 non-null  object        \n",
      " 26  broad_phase_of_flight   54773 non-null  object        \n",
      " 27  report_status           70750 non-null  object        \n",
      " 28  publication_date        60185 non-null  object        \n",
      "dtypes: datetime64[ns](1), float64(5), object(23)\n",
      "memory usage: 16.7+ MB\n"
     ]
    }
   ],
   "source": [
    "aviation_data_cleaned.info()"
   ]
  },
  {
   "attachments": {},
   "cell_type": "markdown",
   "metadata": {},
   "source": [
    "Great! It looks like it worked, now let's investigate the timframes we are working with"
   ]
  },
  {
   "cell_type": "code",
   "execution_count": 33,
   "metadata": {
    "ExecuteTime": {
     "end_time": "2023-04-21T15:50:38.974011Z",
     "start_time": "2023-04-21T15:50:38.962283Z"
    },
    "scrolled": false
   },
   "outputs": [
    {
     "data": {
      "text/plain": [
       "1982    3275\n",
       "1983    3196\n",
       "1984    3143\n",
       "1985    2842\n",
       "1986    2597\n",
       "1987    2565\n",
       "1988    2452\n",
       "1989    2283\n",
       "1990    2243\n",
       "1991    2178\n",
       "1992    2027\n",
       "1993    2016\n",
       "1995    1965\n",
       "1994    1957\n",
       "1996    1871\n",
       "1997    1816\n",
       "1999    1813\n",
       "1998    1807\n",
       "2000    1765\n",
       "2003    1694\n",
       "2001    1653\n",
       "2002    1629\n",
       "2005    1597\n",
       "2007    1566\n",
       "2004    1565\n",
       "2008    1485\n",
       "2006    1427\n",
       "2011    1382\n",
       "2010    1364\n",
       "2009    1363\n",
       "2012    1356\n",
       "2016    1166\n",
       "2013    1162\n",
       "2018    1154\n",
       "2017    1142\n",
       "2015    1130\n",
       "2019    1128\n",
       "2014    1119\n",
       "2022    1114\n",
       "2021    1067\n",
       "2020     987\n",
       "1979       2\n",
       "1977       1\n",
       "1948       1\n",
       "1981       1\n",
       "1962       1\n",
       "1974       1\n",
       "Name: event_date, dtype: int64"
      ]
     },
     "execution_count": 33,
     "metadata": {},
     "output_type": "execute_result"
    }
   ],
   "source": [
    "aviation_data_cleaned['event_date'].dt.year.value_counts()"
   ]
  },
  {
   "cell_type": "code",
   "execution_count": 34,
   "metadata": {
    "ExecuteTime": {
     "end_time": "2023-04-21T15:50:39.013008Z",
     "start_time": "2023-04-21T15:50:38.977134Z"
    }
   },
   "outputs": [],
   "source": [
    "# There are only a few datapoints before 1082 so let's remove them\n",
    "aviation_data_cleaned = aviation_data_cleaned[aviation_data_cleaned['event_date'].dt.year >= 1982]"
   ]
  },
  {
   "cell_type": "code",
   "execution_count": 35,
   "metadata": {
    "ExecuteTime": {
     "end_time": "2023-04-21T15:50:39.027488Z",
     "start_time": "2023-04-21T15:50:39.016273Z"
    },
    "scrolled": false
   },
   "outputs": [
    {
     "data": {
      "text/plain": [
       "1982    3275\n",
       "1983    3196\n",
       "1984    3143\n",
       "1985    2842\n",
       "1986    2597\n",
       "1987    2565\n",
       "1988    2452\n",
       "1989    2283\n",
       "1990    2243\n",
       "1991    2178\n",
       "1992    2027\n",
       "1993    2016\n",
       "1995    1965\n",
       "1994    1957\n",
       "1996    1871\n",
       "1997    1816\n",
       "1999    1813\n",
       "1998    1807\n",
       "2000    1765\n",
       "2003    1694\n",
       "2001    1653\n",
       "2002    1629\n",
       "2005    1597\n",
       "2007    1566\n",
       "2004    1565\n",
       "2008    1485\n",
       "2006    1427\n",
       "2011    1382\n",
       "2010    1364\n",
       "2009    1363\n",
       "2012    1356\n",
       "2016    1166\n",
       "2013    1162\n",
       "2018    1154\n",
       "2017    1142\n",
       "2015    1130\n",
       "2019    1128\n",
       "2014    1119\n",
       "2022    1114\n",
       "2021    1067\n",
       "2020     987\n",
       "Name: event_date, dtype: int64"
      ]
     },
     "execution_count": 35,
     "metadata": {},
     "output_type": "execute_result"
    }
   ],
   "source": [
    "# Check to make sure we now only have the dates we want\n",
    "aviation_data_cleaned['event_date'].dt.year.value_counts()"
   ]
  },
  {
   "cell_type": "code",
   "execution_count": 36,
   "metadata": {
    "ExecuteTime": {
     "end_time": "2023-04-21T15:50:39.048393Z",
     "start_time": "2023-04-21T15:50:39.032239Z"
    },
    "scrolled": false
   },
   "outputs": [
    {
     "data": {
      "text/plain": [
       "25-09-2020    12704\n",
       "26-09-2020     1079\n",
       "31-03-1993      399\n",
       "25-11-2003      346\n",
       "15-02-2001      325\n",
       "              ...  \n",
       "17-12-2020        1\n",
       "19-09-2017        1\n",
       "10-02-2009        1\n",
       "01-08-2001        1\n",
       "14-04-2005        1\n",
       "Name: publication_date, Length: 1986, dtype: int64"
      ]
     },
     "execution_count": 36,
     "metadata": {},
     "output_type": "execute_result"
    }
   ],
   "source": [
    "aviation_data_cleaned['publication_date'].value_counts()"
   ]
  },
  {
   "attachments": {},
   "cell_type": "markdown",
   "metadata": {
    "ExecuteTime": {
     "end_time": "2023-04-19T23:11:09.100811Z",
     "start_time": "2023-04-19T23:11:09.094521Z"
    }
   },
   "source": [
    "### Investigate the type of investitaion"
   ]
  },
  {
   "cell_type": "code",
   "execution_count": 37,
   "metadata": {
    "ExecuteTime": {
     "end_time": "2023-04-21T15:50:39.073543Z",
     "start_time": "2023-04-21T15:50:39.054318Z"
    }
   },
   "outputs": [
    {
     "data": {
      "text/plain": [
       "Accident    70848\n",
       "Incident     2213\n",
       "Name: investigation_type, dtype: int64"
      ]
     },
     "execution_count": 37,
     "metadata": {},
     "output_type": "execute_result"
    }
   ],
   "source": [
    "# Check the value counts\n",
    "aviation_data_cleaned['investigation_type'].value_counts()"
   ]
  },
  {
   "cell_type": "code",
   "execution_count": 38,
   "metadata": {
    "ExecuteTime": {
     "end_time": "2023-04-21T15:50:39.093801Z",
     "start_time": "2023-04-21T15:50:39.076891Z"
    }
   },
   "outputs": [
    {
     "data": {
      "text/plain": [
       "Probable Cause                                                                                                                                                                                                                                                                                                                                                                                               1749\n",
       "Foreign                                                                                                                                                                                                                                                                                                                                                                                                         4\n",
       "A failure of the nose landing gear end cap due to fatigue. Contributing to the failure were the ineffective inspection and the unknown effect of grain direction on fatigue life.                                                                                                                                                                                                                               3\n",
       "The balloon's encounter with unforecast strong gusting wind, which resulted in a high-wind landing. Contributing to the accident was the National Weather Service's misjudgment of the timing and underestimation of the magnitude of the frontal boundary moving across the region.                                                                                                                            2\n",
       "The failure of the nose landing gear due to unanticipated fatigue loads.                                                                                                                                                                                                                                                                                                                                        2\n",
       "                                                                                                                                                                                                                                                                                                                                                                                                             ... \n",
       "the drone pilot's decision to fly without pre-coordination, and without the requisite skills and knowledge, to maneuver the drone in close proximity to another aircraft.                                                                                                                                                                                                                                       1\n",
       "The local air traffic controller's failure to follow published procedures and directives, resulting in a landing airplane coming in close proximity to runway workers.                                                                                                                                                                                                                                          1\n",
       "The combination of fuel leaking from the integrated drive generator (IDG) fuel/oil heat exchanger and the coincident arcing of the IDG power feeder cables that ignited the leaking fuel.  Contributing to the ignition of the fuel was the misrouting of the IDG power feeder cables, which resulted in chaffed cables that exposed the electrical wire that contacted a metal bracket, creating an arc.       1\n",
       "The local controller did not visually scan the runways and ensure that the E145 had crossed runway 24L prior to issuing a takeoff clearance to the DH8, did not ensure separation between the two airplanes, and did not cancel takeoff clearance for the DH8 in a timely manner.                                                                                                                               1\n",
       "Preliminary                                                                                                                                                                                                                                                                                                                                                                                                     1\n",
       "Name: report_status, Length: 412, dtype: int64"
      ]
     },
     "execution_count": 38,
     "metadata": {},
     "output_type": "execute_result"
    }
   ],
   "source": [
    "# Check out what incidents look like\n",
    "aviation_data_cleaned[aviation_data_cleaned['investigation_type']=='Incident']['report_status'].value_counts()"
   ]
  },
  {
   "cell_type": "code",
   "execution_count": 39,
   "metadata": {
    "ExecuteTime": {
     "end_time": "2023-04-21T15:50:39.135610Z",
     "start_time": "2023-04-21T15:50:39.096641Z"
    }
   },
   "outputs": [],
   "source": [
    "# Remove the incidents, only keep accidents\n",
    "aviation_data_cleaned = aviation_data_cleaned[aviation_data_cleaned['investigation_type']=='Accident']"
   ]
  },
  {
   "attachments": {},
   "cell_type": "markdown",
   "metadata": {},
   "source": [
    "## Removing unneeded columns\n",
    "Columns we don't need include:\n",
    "- event_id: we've made the dataset unique on event_id and we don't need the id for joins\n",
    "- accident_number: we already have an event_id and have removed duplicates because of accident_numbers\n",
    "- registration_number: private information not needed for the analysis\n",
    "- publication_date: we don't need to know when the data was published for the analysis\n",
    "- investigation_type: we already filtered to just accidents\n",
    "- report_status: the data is long sentance form and we don't have the ability to parse it"
   ]
  },
  {
   "cell_type": "code",
   "execution_count": 40,
   "metadata": {
    "ExecuteTime": {
     "end_time": "2023-04-21T15:50:39.217558Z",
     "start_time": "2023-04-21T15:50:39.139224Z"
    }
   },
   "outputs": [
    {
     "name": "stdout",
     "output_type": "stream",
     "text": [
      "<class 'pandas.core.frame.DataFrame'>\n",
      "Int64Index: 70848 entries, 7 to 90347\n",
      "Data columns (total 23 columns):\n",
      " #   Column                  Non-Null Count  Dtype         \n",
      "---  ------                  --------------  -----         \n",
      " 0   event_date              70848 non-null  datetime64[ns]\n",
      " 1   location                70838 non-null  object        \n",
      " 2   latitude                27253 non-null  object        \n",
      " 3   longitude               27246 non-null  object        \n",
      " 4   airport_code            41898 non-null  object        \n",
      " 5   airport_name            44097 non-null  object        \n",
      " 6   injury_severity         70798 non-null  object        \n",
      " 7   aircraft_damage         69747 non-null  object        \n",
      " 8   aircraft_category       24000 non-null  object        \n",
      " 9   make                    70848 non-null  object        \n",
      " 10  model                   70842 non-null  object        \n",
      " 11  number_of_engines       69305 non-null  float64       \n",
      " 12  engine_type             68237 non-null  object        \n",
      " 13  far_description         24055 non-null  object        \n",
      " 14  schedule                8373 non-null   object        \n",
      " 15  purpose_of_flight       68999 non-null  object        \n",
      " 16  air_carrier             12244 non-null  object        \n",
      " 17  total_fatal_injuries    61837 non-null  float64       \n",
      " 18  total_serious_injuries  61301 non-null  float64       \n",
      " 19  total_minor_injuries    61864 non-null  float64       \n",
      " 20  total_uninjured         66818 non-null  float64       \n",
      " 21  weather_condition       70310 non-null  object        \n",
      " 22  broad_phase_of_flight   53022 non-null  object        \n",
      "dtypes: datetime64[ns](1), float64(5), object(17)\n",
      "memory usage: 13.0+ MB\n"
     ]
    }
   ],
   "source": [
    "aviation_data_cleaned = aviation_data_cleaned.drop([\n",
    "    'event_id',\n",
    "    'accident_number',\n",
    "    'registration_number',\n",
    "    'publication_date',\n",
    "    'investigation_type',\n",
    "    'report_status'\n",
    "    ], axis=1)\n",
    "aviation_data_cleaned.info()"
   ]
  },
  {
   "attachments": {},
   "cell_type": "markdown",
   "metadata": {},
   "source": [
    "We also want to remove columns with low data coverage"
   ]
  },
  {
   "cell_type": "code",
   "execution_count": 41,
   "metadata": {
    "ExecuteTime": {
     "end_time": "2023-04-21T15:50:39.273903Z",
     "start_time": "2023-04-21T15:50:39.221272Z"
    }
   },
   "outputs": [
    {
     "data": {
      "text/plain": [
       "schedule                  0.881817\n",
       "air_carrier               0.827179\n",
       "aircraft_category         0.661247\n",
       "far_description           0.660470\n",
       "longitude                 0.615430\n",
       "latitude                  0.615331\n",
       "airport_code              0.408621\n",
       "airport_name              0.377583\n",
       "broad_phase_of_flight     0.251609\n",
       "total_serious_injuries    0.134753\n",
       "total_fatal_injuries      0.127188\n",
       "total_minor_injuries      0.126807\n",
       "total_uninjured           0.056882\n",
       "engine_type               0.036854\n",
       "purpose_of_flight         0.026098\n",
       "number_of_engines         0.021779\n",
       "aircraft_damage           0.015540\n",
       "weather_condition         0.007594\n",
       "injury_severity           0.000706\n",
       "location                  0.000141\n",
       "model                     0.000085\n",
       "make                      0.000000\n",
       "event_date                0.000000\n",
       "dtype: float64"
      ]
     },
     "execution_count": 41,
     "metadata": {},
     "output_type": "execute_result"
    }
   ],
   "source": [
    "missing_data = (aviation_data_cleaned.isna().sum() / len(aviation_data_cleaned)).sort_values(ascending=False)\n",
    "missing_data"
   ]
  },
  {
   "attachments": {},
   "cell_type": "markdown",
   "metadata": {},
   "source": [
    "**Observations**\n",
    "- We can likely exclude the columns with significant missing data\n",
    "- We should keep those relevant to our business questions such as `airport_code` and `airport_name`"
   ]
  },
  {
   "cell_type": "code",
   "execution_count": 42,
   "metadata": {
    "ExecuteTime": {
     "end_time": "2023-04-21T15:50:39.283411Z",
     "start_time": "2023-04-21T15:50:39.276108Z"
    }
   },
   "outputs": [
    {
     "data": {
      "text/plain": [
       "['schedule',\n",
       " 'air_carrier',\n",
       " 'aircraft_category',\n",
       " 'far_description',\n",
       " 'longitude',\n",
       " 'latitude']"
      ]
     },
     "execution_count": 42,
     "metadata": {},
     "output_type": "execute_result"
    }
   ],
   "source": [
    "# Pull out columns to drop\n",
    "columns_to_drop = missing_data[missing_data.values > 0.6].index.to_list()\n",
    "columns_to_drop"
   ]
  },
  {
   "cell_type": "code",
   "execution_count": 43,
   "metadata": {
    "ExecuteTime": {
     "end_time": "2023-04-21T15:50:39.352634Z",
     "start_time": "2023-04-21T15:50:39.286961Z"
    }
   },
   "outputs": [
    {
     "name": "stdout",
     "output_type": "stream",
     "text": [
      "<class 'pandas.core.frame.DataFrame'>\n",
      "Int64Index: 70848 entries, 7 to 90347\n",
      "Data columns (total 17 columns):\n",
      " #   Column                  Non-Null Count  Dtype         \n",
      "---  ------                  --------------  -----         \n",
      " 0   event_date              70848 non-null  datetime64[ns]\n",
      " 1   location                70838 non-null  object        \n",
      " 2   airport_code            41898 non-null  object        \n",
      " 3   airport_name            44097 non-null  object        \n",
      " 4   injury_severity         70798 non-null  object        \n",
      " 5   aircraft_damage         69747 non-null  object        \n",
      " 6   make                    70848 non-null  object        \n",
      " 7   model                   70842 non-null  object        \n",
      " 8   number_of_engines       69305 non-null  float64       \n",
      " 9   engine_type             68237 non-null  object        \n",
      " 10  purpose_of_flight       68999 non-null  object        \n",
      " 11  total_fatal_injuries    61837 non-null  float64       \n",
      " 12  total_serious_injuries  61301 non-null  float64       \n",
      " 13  total_minor_injuries    61864 non-null  float64       \n",
      " 14  total_uninjured         66818 non-null  float64       \n",
      " 15  weather_condition       70310 non-null  object        \n",
      " 16  broad_phase_of_flight   53022 non-null  object        \n",
      "dtypes: datetime64[ns](1), float64(5), object(11)\n",
      "memory usage: 9.7+ MB\n"
     ]
    }
   ],
   "source": [
    "aviation_data_cleaned = aviation_data_cleaned.drop(columns_to_drop, axis=1)\n",
    "aviation_data_cleaned.info()"
   ]
  },
  {
   "attachments": {},
   "cell_type": "markdown",
   "metadata": {},
   "source": [
    "## Handling NaNs\n",
    "- Look through each column and decide how to handle NaN values\n"
   ]
  },
  {
   "cell_type": "code",
   "execution_count": 44,
   "metadata": {
    "ExecuteTime": {
     "end_time": "2023-04-21T15:50:39.380812Z",
     "start_time": "2023-04-21T15:50:39.358259Z"
    },
    "scrolled": true
   },
   "outputs": [
    {
     "data": {
      "text/html": [
       "<div>\n",
       "<style scoped>\n",
       "    .dataframe tbody tr th:only-of-type {\n",
       "        vertical-align: middle;\n",
       "    }\n",
       "\n",
       "    .dataframe tbody tr th {\n",
       "        vertical-align: top;\n",
       "    }\n",
       "\n",
       "    .dataframe thead th {\n",
       "        text-align: right;\n",
       "    }\n",
       "</style>\n",
       "<table border=\"1\" class=\"dataframe\">\n",
       "  <thead>\n",
       "    <tr style=\"text-align: right;\">\n",
       "      <th></th>\n",
       "      <th>event_date</th>\n",
       "      <th>location</th>\n",
       "      <th>airport_code</th>\n",
       "      <th>airport_name</th>\n",
       "      <th>injury_severity</th>\n",
       "      <th>aircraft_damage</th>\n",
       "      <th>make</th>\n",
       "      <th>model</th>\n",
       "      <th>number_of_engines</th>\n",
       "      <th>engine_type</th>\n",
       "      <th>purpose_of_flight</th>\n",
       "      <th>total_fatal_injuries</th>\n",
       "      <th>total_serious_injuries</th>\n",
       "      <th>total_minor_injuries</th>\n",
       "      <th>total_uninjured</th>\n",
       "      <th>weather_condition</th>\n",
       "      <th>broad_phase_of_flight</th>\n",
       "    </tr>\n",
       "  </thead>\n",
       "  <tbody>\n",
       "    <tr>\n",
       "      <th>7</th>\n",
       "      <td>1982-01-01</td>\n",
       "      <td>PULLMAN, WA</td>\n",
       "      <td>NaN</td>\n",
       "      <td>BLACKBURN AG STRIP</td>\n",
       "      <td>Non-Fatal</td>\n",
       "      <td>Substantial</td>\n",
       "      <td>Cessna</td>\n",
       "      <td>140</td>\n",
       "      <td>1.0</td>\n",
       "      <td>Reciprocating</td>\n",
       "      <td>Personal</td>\n",
       "      <td>0.0</td>\n",
       "      <td>0.0</td>\n",
       "      <td>0.0</td>\n",
       "      <td>2.0</td>\n",
       "      <td>VMC</td>\n",
       "      <td>Takeoff</td>\n",
       "    </tr>\n",
       "    <tr>\n",
       "      <th>8</th>\n",
       "      <td>1982-01-01</td>\n",
       "      <td>EAST HANOVER, NJ</td>\n",
       "      <td>N58</td>\n",
       "      <td>HANOVER</td>\n",
       "      <td>Non-Fatal</td>\n",
       "      <td>Substantial</td>\n",
       "      <td>Cessna</td>\n",
       "      <td>401B</td>\n",
       "      <td>2.0</td>\n",
       "      <td>Reciprocating</td>\n",
       "      <td>Business</td>\n",
       "      <td>0.0</td>\n",
       "      <td>0.0</td>\n",
       "      <td>0.0</td>\n",
       "      <td>2.0</td>\n",
       "      <td>IMC</td>\n",
       "      <td>Landing</td>\n",
       "    </tr>\n",
       "    <tr>\n",
       "      <th>9</th>\n",
       "      <td>1982-01-01</td>\n",
       "      <td>JACKSONVILLE, FL</td>\n",
       "      <td>JAX</td>\n",
       "      <td>JACKSONVILLE INTL</td>\n",
       "      <td>Non-Fatal</td>\n",
       "      <td>Substantial</td>\n",
       "      <td>North American</td>\n",
       "      <td>NAVION L-17B</td>\n",
       "      <td>1.0</td>\n",
       "      <td>Reciprocating</td>\n",
       "      <td>Personal</td>\n",
       "      <td>0.0</td>\n",
       "      <td>0.0</td>\n",
       "      <td>3.0</td>\n",
       "      <td>0.0</td>\n",
       "      <td>IMC</td>\n",
       "      <td>Cruise</td>\n",
       "    </tr>\n",
       "    <tr>\n",
       "      <th>10</th>\n",
       "      <td>1982-01-01</td>\n",
       "      <td>HOBBS, NM</td>\n",
       "      <td>NaN</td>\n",
       "      <td>NaN</td>\n",
       "      <td>Non-Fatal</td>\n",
       "      <td>Substantial</td>\n",
       "      <td>Piper</td>\n",
       "      <td>PA-28-161</td>\n",
       "      <td>1.0</td>\n",
       "      <td>Reciprocating</td>\n",
       "      <td>Personal</td>\n",
       "      <td>0.0</td>\n",
       "      <td>0.0</td>\n",
       "      <td>0.0</td>\n",
       "      <td>1.0</td>\n",
       "      <td>VMC</td>\n",
       "      <td>Approach</td>\n",
       "    </tr>\n",
       "    <tr>\n",
       "      <th>11</th>\n",
       "      <td>1982-01-01</td>\n",
       "      <td>TUSKEGEE, AL</td>\n",
       "      <td>NaN</td>\n",
       "      <td>TUSKEGEE</td>\n",
       "      <td>Non-Fatal</td>\n",
       "      <td>Substantial</td>\n",
       "      <td>Beech</td>\n",
       "      <td>V35B</td>\n",
       "      <td>1.0</td>\n",
       "      <td>Reciprocating</td>\n",
       "      <td>Personal</td>\n",
       "      <td>0.0</td>\n",
       "      <td>0.0</td>\n",
       "      <td>0.0</td>\n",
       "      <td>1.0</td>\n",
       "      <td>VMC</td>\n",
       "      <td>Landing</td>\n",
       "    </tr>\n",
       "  </tbody>\n",
       "</table>\n",
       "</div>"
      ],
      "text/plain": [
       "   event_date          location airport_code        airport_name  \\\n",
       "7  1982-01-01       PULLMAN, WA          NaN  BLACKBURN AG STRIP   \n",
       "8  1982-01-01  EAST HANOVER, NJ          N58             HANOVER   \n",
       "9  1982-01-01  JACKSONVILLE, FL          JAX   JACKSONVILLE INTL   \n",
       "10 1982-01-01         HOBBS, NM          NaN                 NaN   \n",
       "11 1982-01-01      TUSKEGEE, AL          NaN            TUSKEGEE   \n",
       "\n",
       "   injury_severity aircraft_damage            make         model  \\\n",
       "7        Non-Fatal     Substantial          Cessna           140   \n",
       "8        Non-Fatal     Substantial          Cessna          401B   \n",
       "9        Non-Fatal     Substantial  North American  NAVION L-17B   \n",
       "10       Non-Fatal     Substantial           Piper     PA-28-161   \n",
       "11       Non-Fatal     Substantial           Beech          V35B   \n",
       "\n",
       "    number_of_engines    engine_type purpose_of_flight  total_fatal_injuries  \\\n",
       "7                 1.0  Reciprocating          Personal                   0.0   \n",
       "8                 2.0  Reciprocating          Business                   0.0   \n",
       "9                 1.0  Reciprocating          Personal                   0.0   \n",
       "10                1.0  Reciprocating          Personal                   0.0   \n",
       "11                1.0  Reciprocating          Personal                   0.0   \n",
       "\n",
       "    total_serious_injuries  total_minor_injuries  total_uninjured  \\\n",
       "7                      0.0                   0.0              2.0   \n",
       "8                      0.0                   0.0              2.0   \n",
       "9                      0.0                   3.0              0.0   \n",
       "10                     0.0                   0.0              1.0   \n",
       "11                     0.0                   0.0              1.0   \n",
       "\n",
       "   weather_condition broad_phase_of_flight  \n",
       "7                VMC               Takeoff  \n",
       "8                IMC               Landing  \n",
       "9                IMC                Cruise  \n",
       "10               VMC              Approach  \n",
       "11               VMC               Landing  "
      ]
     },
     "execution_count": 44,
     "metadata": {},
     "output_type": "execute_result"
    }
   ],
   "source": [
    "# Check out the data again\n",
    "aviation_data_cleaned.head()"
   ]
  },
  {
   "cell_type": "code",
   "execution_count": 45,
   "metadata": {
    "ExecuteTime": {
     "end_time": "2023-04-21T15:50:39.434720Z",
     "start_time": "2023-04-21T15:50:39.383445Z"
    },
    "scrolled": false
   },
   "outputs": [
    {
     "data": {
      "text/plain": [
       "event_date                    0\n",
       "location                     10\n",
       "airport_code              28950\n",
       "airport_name              26751\n",
       "injury_severity              50\n",
       "aircraft_damage            1101\n",
       "make                          0\n",
       "model                         6\n",
       "number_of_engines          1543\n",
       "engine_type                2611\n",
       "purpose_of_flight          1849\n",
       "total_fatal_injuries       9011\n",
       "total_serious_injuries     9547\n",
       "total_minor_injuries       8984\n",
       "total_uninjured            4030\n",
       "weather_condition           538\n",
       "broad_phase_of_flight     17826\n",
       "dtype: int64"
      ]
     },
     "execution_count": 45,
     "metadata": {},
     "output_type": "execute_result"
    }
   ],
   "source": [
    "# Explore the number of nulls\n",
    "aviation_data_cleaned.isna().sum()"
   ]
  },
  {
   "attachments": {},
   "cell_type": "markdown",
   "metadata": {
    "ExecuteTime": {
     "end_time": "2023-04-18T15:13:40.111839Z",
     "start_time": "2023-04-18T15:13:40.103688Z"
    }
   },
   "source": [
    "### location"
   ]
  },
  {
   "cell_type": "code",
   "execution_count": 46,
   "metadata": {
    "ExecuteTime": {
     "end_time": "2023-04-21T15:50:39.451856Z",
     "start_time": "2023-04-21T15:50:39.441099Z"
    },
    "scrolled": true
   },
   "outputs": [
    {
     "data": {
      "text/plain": [
       "7          PULLMAN, WA\n",
       "8     EAST HANOVER, NJ\n",
       "9     JACKSONVILLE, FL\n",
       "10           HOBBS, NM\n",
       "11        TUSKEGEE, AL\n",
       "Name: location, dtype: object"
      ]
     },
     "execution_count": 46,
     "metadata": {},
     "output_type": "execute_result"
    }
   ],
   "source": [
    "# Check data\n",
    "aviation_data_cleaned['location'].head()"
   ]
  },
  {
   "attachments": {},
   "cell_type": "markdown",
   "metadata": {},
   "source": [
    "There are only 10 events with missing location data which is a crucial piece of of information so we can drop them"
   ]
  },
  {
   "cell_type": "code",
   "execution_count": 47,
   "metadata": {
    "ExecuteTime": {
     "end_time": "2023-04-21T15:50:39.482747Z",
     "start_time": "2023-04-21T15:50:39.457553Z"
    }
   },
   "outputs": [],
   "source": [
    "# Check data\n",
    "aviation_data_cleaned = aviation_data_cleaned[aviation_data_cleaned['location'].notna()]"
   ]
  },
  {
   "cell_type": "code",
   "execution_count": 48,
   "metadata": {
    "ExecuteTime": {
     "end_time": "2023-04-21T15:50:39.504104Z",
     "start_time": "2023-04-21T15:50:39.490838Z"
    }
   },
   "outputs": [
    {
     "data": {
      "text/plain": [
       "0"
      ]
     },
     "execution_count": 48,
     "metadata": {},
     "output_type": "execute_result"
    }
   ],
   "source": [
    "# Check to confirm we dropped nulles\n",
    "aviation_data_cleaned['location'].isna().sum()"
   ]
  },
  {
   "attachments": {},
   "cell_type": "markdown",
   "metadata": {
    "ExecuteTime": {
     "end_time": "2023-04-18T15:16:53.916379Z",
     "start_time": "2023-04-18T15:16:53.890684Z"
    }
   },
   "source": [
    "### Airport Code"
   ]
  },
  {
   "cell_type": "code",
   "execution_count": 49,
   "metadata": {
    "ExecuteTime": {
     "end_time": "2023-04-21T15:50:39.534191Z",
     "start_time": "2023-04-21T15:50:39.509450Z"
    }
   },
   "outputs": [
    {
     "data": {
      "text/html": [
       "<div>\n",
       "<style scoped>\n",
       "    .dataframe tbody tr th:only-of-type {\n",
       "        vertical-align: middle;\n",
       "    }\n",
       "\n",
       "    .dataframe tbody tr th {\n",
       "        vertical-align: top;\n",
       "    }\n",
       "\n",
       "    .dataframe thead th {\n",
       "        text-align: right;\n",
       "    }\n",
       "</style>\n",
       "<table border=\"1\" class=\"dataframe\">\n",
       "  <thead>\n",
       "    <tr style=\"text-align: right;\">\n",
       "      <th></th>\n",
       "      <th>airport_code</th>\n",
       "      <th>airport_name</th>\n",
       "    </tr>\n",
       "  </thead>\n",
       "  <tbody>\n",
       "    <tr>\n",
       "      <th>7</th>\n",
       "      <td>NaN</td>\n",
       "      <td>BLACKBURN AG STRIP</td>\n",
       "    </tr>\n",
       "    <tr>\n",
       "      <th>8</th>\n",
       "      <td>N58</td>\n",
       "      <td>HANOVER</td>\n",
       "    </tr>\n",
       "    <tr>\n",
       "      <th>9</th>\n",
       "      <td>JAX</td>\n",
       "      <td>JACKSONVILLE INTL</td>\n",
       "    </tr>\n",
       "    <tr>\n",
       "      <th>10</th>\n",
       "      <td>NaN</td>\n",
       "      <td>NaN</td>\n",
       "    </tr>\n",
       "    <tr>\n",
       "      <th>11</th>\n",
       "      <td>NaN</td>\n",
       "      <td>TUSKEGEE</td>\n",
       "    </tr>\n",
       "  </tbody>\n",
       "</table>\n",
       "</div>"
      ],
      "text/plain": [
       "   airport_code        airport_name\n",
       "7           NaN  BLACKBURN AG STRIP\n",
       "8           N58             HANOVER\n",
       "9           JAX   JACKSONVILLE INTL\n",
       "10          NaN                 NaN\n",
       "11          NaN            TUSKEGEE"
      ]
     },
     "execution_count": 49,
     "metadata": {},
     "output_type": "execute_result"
    }
   ],
   "source": [
    "# Check data\n",
    "aviation_data_cleaned[['airport_code', 'airport_name']].head()"
   ]
  },
  {
   "attachments": {},
   "cell_type": "markdown",
   "metadata": {},
   "source": [
    "We have 30k missing airport codes and names, so we can replace missing with unknown"
   ]
  },
  {
   "cell_type": "code",
   "execution_count": 50,
   "metadata": {
    "ExecuteTime": {
     "end_time": "2023-04-21T15:50:39.581977Z",
     "start_time": "2023-04-21T15:50:39.542732Z"
    }
   },
   "outputs": [],
   "source": [
    "# Replace missing airport data with unknowns\n",
    "aviation_data_cleaned[['airport_code', 'airport_name']] = aviation_data_cleaned[['airport_code', 'airport_name']].fillna('Unknown')"
   ]
  },
  {
   "cell_type": "code",
   "execution_count": 51,
   "metadata": {
    "ExecuteTime": {
     "end_time": "2023-04-21T15:50:39.603318Z",
     "start_time": "2023-04-21T15:50:39.588954Z"
    },
    "scrolled": true
   },
   "outputs": [
    {
     "data": {
      "text/html": [
       "<div>\n",
       "<style scoped>\n",
       "    .dataframe tbody tr th:only-of-type {\n",
       "        vertical-align: middle;\n",
       "    }\n",
       "\n",
       "    .dataframe tbody tr th {\n",
       "        vertical-align: top;\n",
       "    }\n",
       "\n",
       "    .dataframe thead th {\n",
       "        text-align: right;\n",
       "    }\n",
       "</style>\n",
       "<table border=\"1\" class=\"dataframe\">\n",
       "  <thead>\n",
       "    <tr style=\"text-align: right;\">\n",
       "      <th></th>\n",
       "      <th>airport_code</th>\n",
       "      <th>airport_name</th>\n",
       "    </tr>\n",
       "  </thead>\n",
       "  <tbody>\n",
       "    <tr>\n",
       "      <th>7</th>\n",
       "      <td>Unknown</td>\n",
       "      <td>BLACKBURN AG STRIP</td>\n",
       "    </tr>\n",
       "    <tr>\n",
       "      <th>8</th>\n",
       "      <td>N58</td>\n",
       "      <td>HANOVER</td>\n",
       "    </tr>\n",
       "    <tr>\n",
       "      <th>9</th>\n",
       "      <td>JAX</td>\n",
       "      <td>JACKSONVILLE INTL</td>\n",
       "    </tr>\n",
       "    <tr>\n",
       "      <th>10</th>\n",
       "      <td>Unknown</td>\n",
       "      <td>Unknown</td>\n",
       "    </tr>\n",
       "    <tr>\n",
       "      <th>11</th>\n",
       "      <td>Unknown</td>\n",
       "      <td>TUSKEGEE</td>\n",
       "    </tr>\n",
       "  </tbody>\n",
       "</table>\n",
       "</div>"
      ],
      "text/plain": [
       "   airport_code        airport_name\n",
       "7       Unknown  BLACKBURN AG STRIP\n",
       "8           N58             HANOVER\n",
       "9           JAX   JACKSONVILLE INTL\n",
       "10      Unknown             Unknown\n",
       "11      Unknown            TUSKEGEE"
      ]
     },
     "execution_count": 51,
     "metadata": {},
     "output_type": "execute_result"
    }
   ],
   "source": [
    "# Check dataset to make sure NaNs were removed\n",
    "aviation_data_cleaned[['airport_code', 'airport_name']].head()"
   ]
  },
  {
   "attachments": {},
   "cell_type": "markdown",
   "metadata": {},
   "source": [
    "### Handling injuries"
   ]
  },
  {
   "cell_type": "code",
   "execution_count": 52,
   "metadata": {
    "ExecuteTime": {
     "end_time": "2023-04-21T15:50:39.623014Z",
     "start_time": "2023-04-21T15:50:39.605850Z"
    }
   },
   "outputs": [
    {
     "data": {
      "text/plain": [
       "injury_severity             50\n",
       "total_fatal_injuries      9008\n",
       "total_serious_injuries    9542\n",
       "total_minor_injuries      8978\n",
       "total_uninjured           4027\n",
       "dtype: int64"
      ]
     },
     "execution_count": 52,
     "metadata": {},
     "output_type": "execute_result"
    }
   ],
   "source": [
    "# Check out the number of missing data for injury data\n",
    "aviation_data_cleaned[[\n",
    "    'injury_severity', \n",
    "    'total_fatal_injuries', \n",
    "    'total_serious_injuries',\n",
    "    'total_minor_injuries',\n",
    "    'total_uninjured'\n",
    "]].isna().sum()"
   ]
  },
  {
   "cell_type": "code",
   "execution_count": 53,
   "metadata": {
    "ExecuteTime": {
     "end_time": "2023-04-21T15:50:39.645831Z",
     "start_time": "2023-04-21T15:50:39.628803Z"
    },
    "scrolled": true
   },
   "outputs": [
    {
     "data": {
      "text/plain": [
       "31605"
      ]
     },
     "execution_count": 53,
     "metadata": {},
     "output_type": "execute_result"
    }
   ],
   "source": [
    "# Check to see if the missing data overlaps\n",
    "aviation_data_cleaned[[\n",
    "    'injury_severity', \n",
    "    'total_fatal_injuries', \n",
    "    'total_serious_injuries',\n",
    "    'total_minor_injuries',\n",
    "    'total_uninjured'\n",
    "]].isna().sum(axis=1).sum()"
   ]
  },
  {
   "attachments": {},
   "cell_type": "markdown",
   "metadata": {},
   "source": [
    "We have 30k rows with at least one injury column being missing. Thus we can't just drop them all.\n",
    "\n",
    "The total columns are numerical so replacing the values will require investigation"
   ]
  },
  {
   "attachments": {},
   "cell_type": "markdown",
   "metadata": {
    "ExecuteTime": {
     "end_time": "2023-04-18T15:32:20.903494Z",
     "start_time": "2023-04-18T15:32:20.885448Z"
    }
   },
   "source": [
    "**Injury Severity**"
   ]
  },
  {
   "cell_type": "code",
   "execution_count": 54,
   "metadata": {
    "ExecuteTime": {
     "end_time": "2023-04-21T15:50:39.672482Z",
     "start_time": "2023-04-21T15:50:39.649252Z"
    },
    "scrolled": false
   },
   "outputs": [],
   "source": [
    "# We can drop these rows since there's only 15\n",
    "aviation_data_cleaned.dropna(subset=['injury_severity'], inplace=True)"
   ]
  },
  {
   "cell_type": "code",
   "execution_count": 55,
   "metadata": {
    "ExecuteTime": {
     "end_time": "2023-04-21T15:50:39.690894Z",
     "start_time": "2023-04-21T15:50:39.677727Z"
    }
   },
   "outputs": [
    {
     "data": {
      "text/plain": [
       "injury_severity              0\n",
       "total_fatal_injuries      9008\n",
       "total_serious_injuries    9542\n",
       "total_minor_injuries      8978\n",
       "total_uninjured           4027\n",
       "dtype: int64"
      ]
     },
     "execution_count": 55,
     "metadata": {},
     "output_type": "execute_result"
    }
   ],
   "source": [
    "aviation_data_cleaned[[\n",
    "    'injury_severity', \n",
    "    'total_fatal_injuries', \n",
    "    'total_serious_injuries',\n",
    "    'total_minor_injuries',\n",
    "    'total_uninjured'\n",
    "]].isna().sum()"
   ]
  },
  {
   "attachments": {},
   "cell_type": "markdown",
   "metadata": {},
   "source": [
    "**Handling the Totals**"
   ]
  },
  {
   "cell_type": "code",
   "execution_count": 56,
   "metadata": {
    "ExecuteTime": {
     "end_time": "2023-04-21T15:50:39.736077Z",
     "start_time": "2023-04-21T15:50:39.692839Z"
    },
    "scrolled": true
   },
   "outputs": [
    {
     "data": {
      "text/html": [
       "<div>\n",
       "<style scoped>\n",
       "    .dataframe tbody tr th:only-of-type {\n",
       "        vertical-align: middle;\n",
       "    }\n",
       "\n",
       "    .dataframe tbody tr th {\n",
       "        vertical-align: top;\n",
       "    }\n",
       "\n",
       "    .dataframe thead th {\n",
       "        text-align: right;\n",
       "    }\n",
       "</style>\n",
       "<table border=\"1\" class=\"dataframe\">\n",
       "  <thead>\n",
       "    <tr style=\"text-align: right;\">\n",
       "      <th></th>\n",
       "      <th>total_fatal_injuries</th>\n",
       "      <th>total_serious_injuries</th>\n",
       "      <th>total_minor_injuries</th>\n",
       "      <th>total_uninjured</th>\n",
       "    </tr>\n",
       "  </thead>\n",
       "  <tbody>\n",
       "    <tr>\n",
       "      <th>count</th>\n",
       "      <td>61780.000000</td>\n",
       "      <td>61246.000000</td>\n",
       "      <td>61810.000000</td>\n",
       "      <td>66761.000000</td>\n",
       "    </tr>\n",
       "    <tr>\n",
       "      <th>mean</th>\n",
       "      <td>0.427031</td>\n",
       "      <td>0.261144</td>\n",
       "      <td>0.338893</td>\n",
       "      <td>2.879615</td>\n",
       "    </tr>\n",
       "    <tr>\n",
       "      <th>std</th>\n",
       "      <td>2.573864</td>\n",
       "      <td>1.153832</td>\n",
       "      <td>1.327737</td>\n",
       "      <td>17.011328</td>\n",
       "    </tr>\n",
       "    <tr>\n",
       "      <th>min</th>\n",
       "      <td>0.000000</td>\n",
       "      <td>0.000000</td>\n",
       "      <td>0.000000</td>\n",
       "      <td>0.000000</td>\n",
       "    </tr>\n",
       "    <tr>\n",
       "      <th>25%</th>\n",
       "      <td>0.000000</td>\n",
       "      <td>0.000000</td>\n",
       "      <td>0.000000</td>\n",
       "      <td>0.000000</td>\n",
       "    </tr>\n",
       "    <tr>\n",
       "      <th>50%</th>\n",
       "      <td>0.000000</td>\n",
       "      <td>0.000000</td>\n",
       "      <td>0.000000</td>\n",
       "      <td>1.000000</td>\n",
       "    </tr>\n",
       "    <tr>\n",
       "      <th>75%</th>\n",
       "      <td>0.000000</td>\n",
       "      <td>0.000000</td>\n",
       "      <td>0.000000</td>\n",
       "      <td>2.000000</td>\n",
       "    </tr>\n",
       "    <tr>\n",
       "      <th>max</th>\n",
       "      <td>265.000000</td>\n",
       "      <td>137.000000</td>\n",
       "      <td>125.000000</td>\n",
       "      <td>699.000000</td>\n",
       "    </tr>\n",
       "  </tbody>\n",
       "</table>\n",
       "</div>"
      ],
      "text/plain": [
       "       total_fatal_injuries  total_serious_injuries  total_minor_injuries  \\\n",
       "count          61780.000000            61246.000000          61810.000000   \n",
       "mean               0.427031                0.261144              0.338893   \n",
       "std                2.573864                1.153832              1.327737   \n",
       "min                0.000000                0.000000              0.000000   \n",
       "25%                0.000000                0.000000              0.000000   \n",
       "50%                0.000000                0.000000              0.000000   \n",
       "75%                0.000000                0.000000              0.000000   \n",
       "max              265.000000              137.000000            125.000000   \n",
       "\n",
       "       total_uninjured  \n",
       "count     66761.000000  \n",
       "mean          2.879615  \n",
       "std          17.011328  \n",
       "min           0.000000  \n",
       "25%           0.000000  \n",
       "50%           1.000000  \n",
       "75%           2.000000  \n",
       "max         699.000000  "
      ]
     },
     "execution_count": 56,
     "metadata": {},
     "output_type": "execute_result"
    }
   ],
   "source": [
    "aviation_data_cleaned[[\n",
    "    'total_fatal_injuries', \n",
    "    'total_serious_injuries',\n",
    "    'total_minor_injuries',\n",
    "    'total_uninjured'\n",
    "]].describe()"
   ]
  },
  {
   "attachments": {},
   "cell_type": "markdown",
   "metadata": {
    "ExecuteTime": {
     "end_time": "2023-04-18T15:42:58.137049Z",
     "start_time": "2023-04-18T15:42:58.126996Z"
    }
   },
   "source": [
    "**Observations**\n",
    "- We have significant outliers so we can't replace missing with means\n",
    "- We want all the data, uninjured can be used to figure out the deadliness of the crash\n",
    "- min, 25%, 50%, and 75% are 0 for all but uninjured\n",
    "\n",
    "Conclusion: \n",
    "- Replace missing injury records with 0 since most seem to be 0\n",
    "- Replace missing uninjured counts with the median since we don't know the number of passengers"
   ]
  },
  {
   "cell_type": "code",
   "execution_count": 57,
   "metadata": {
    "ExecuteTime": {
     "end_time": "2023-04-21T15:50:39.751789Z",
     "start_time": "2023-04-21T15:50:39.738343Z"
    }
   },
   "outputs": [],
   "source": [
    "# Replace total uninjured with median\n",
    "total_uninjured_median = aviation_data_cleaned['total_uninjured'].median()\n",
    "aviation_data_cleaned['total_uninjured'].fillna(value=total_uninjured_median, inplace=True)"
   ]
  },
  {
   "cell_type": "code",
   "execution_count": 58,
   "metadata": {
    "ExecuteTime": {
     "end_time": "2023-04-21T15:50:39.764755Z",
     "start_time": "2023-04-21T15:50:39.755687Z"
    }
   },
   "outputs": [],
   "source": [
    "# Assume missing injury data had 0 in column\n",
    "aviation_data_cleaned['total_fatal_injuries'].fillna(value=0, inplace=True)\n",
    "aviation_data_cleaned['total_serious_injuries'].fillna(value=0, inplace=True)\n",
    "aviation_data_cleaned['total_minor_injuries'].fillna(value=0, inplace=True)"
   ]
  },
  {
   "cell_type": "code",
   "execution_count": 59,
   "metadata": {
    "ExecuteTime": {
     "end_time": "2023-04-21T15:50:39.787775Z",
     "start_time": "2023-04-21T15:50:39.767867Z"
    },
    "scrolled": true
   },
   "outputs": [
    {
     "data": {
      "text/plain": [
       "injury_severity           0\n",
       "total_fatal_injuries      0\n",
       "total_serious_injuries    0\n",
       "total_minor_injuries      0\n",
       "total_uninjured           0\n",
       "dtype: int64"
      ]
     },
     "execution_count": 59,
     "metadata": {},
     "output_type": "execute_result"
    }
   ],
   "source": [
    "# Check to make sure NaNs were removed\n",
    "aviation_data_cleaned[[\n",
    "    'injury_severity', \n",
    "    'total_fatal_injuries', \n",
    "    'total_serious_injuries',\n",
    "    'total_minor_injuries',\n",
    "    'total_uninjured'\n",
    "]].isna().sum()"
   ]
  },
  {
   "cell_type": "code",
   "execution_count": 60,
   "metadata": {
    "ExecuteTime": {
     "end_time": "2023-04-21T15:50:39.837814Z",
     "start_time": "2023-04-21T15:50:39.790886Z"
    }
   },
   "outputs": [
    {
     "data": {
      "text/plain": [
       "event_date                    0\n",
       "location                      0\n",
       "airport_code                  0\n",
       "airport_name                  0\n",
       "injury_severity               0\n",
       "aircraft_damage            1082\n",
       "make                          0\n",
       "model                         6\n",
       "number_of_engines          1521\n",
       "engine_type                2579\n",
       "purpose_of_flight          1814\n",
       "total_fatal_injuries          0\n",
       "total_serious_injuries        0\n",
       "total_minor_injuries          0\n",
       "total_uninjured               0\n",
       "weather_condition           514\n",
       "broad_phase_of_flight     17776\n",
       "dtype: int64"
      ]
     },
     "execution_count": 60,
     "metadata": {},
     "output_type": "execute_result"
    }
   ],
   "source": [
    "# Explore the number of nulls\n",
    "aviation_data_cleaned.isna().sum()"
   ]
  },
  {
   "attachments": {},
   "cell_type": "markdown",
   "metadata": {},
   "source": [
    "### Replacing categorical data with unknown\n",
    "There is some categorical data we will want to replace with unknown:\n",
    "- aircraft_damage\n",
    "- make\n",
    "- model\n",
    "- purpose_of_flight\n",
    "- weather_condition\n",
    "- broad_phase_of_flight"
   ]
  },
  {
   "cell_type": "code",
   "execution_count": 61,
   "metadata": {
    "ExecuteTime": {
     "end_time": "2023-04-21T15:50:39.872828Z",
     "start_time": "2023-04-21T15:50:39.841495Z"
    }
   },
   "outputs": [],
   "source": [
    "# Replace NaNs in these columns with unknowns\n",
    "aviation_data_cleaned['aircraft_damage'].fillna(value='Unknown', inplace=True)\n",
    "aviation_data_cleaned['make'].fillna(value='Unknown', inplace=True)\n",
    "aviation_data_cleaned['model'].fillna(value='Unknown', inplace=True)\n",
    "aviation_data_cleaned['purpose_of_flight'].fillna(value='Unknown', inplace=True)\n",
    "aviation_data_cleaned['weather_condition'].fillna(value='Unknown', inplace=True)\n",
    "aviation_data_cleaned['broad_phase_of_flight'].fillna(value='Unknown', inplace=True)"
   ]
  },
  {
   "cell_type": "code",
   "execution_count": 62,
   "metadata": {
    "ExecuteTime": {
     "end_time": "2023-04-21T15:50:39.920954Z",
     "start_time": "2023-04-21T15:50:39.876266Z"
    },
    "scrolled": false
   },
   "outputs": [
    {
     "data": {
      "text/plain": [
       "event_date                   0\n",
       "location                     0\n",
       "airport_code                 0\n",
       "airport_name                 0\n",
       "injury_severity              0\n",
       "aircraft_damage              0\n",
       "make                         0\n",
       "model                        0\n",
       "number_of_engines         1521\n",
       "engine_type               2579\n",
       "purpose_of_flight            0\n",
       "total_fatal_injuries         0\n",
       "total_serious_injuries       0\n",
       "total_minor_injuries         0\n",
       "total_uninjured              0\n",
       "weather_condition            0\n",
       "broad_phase_of_flight        0\n",
       "dtype: int64"
      ]
     },
     "execution_count": 62,
     "metadata": {},
     "output_type": "execute_result"
    }
   ],
   "source": [
    "# Explore the number of nulls\n",
    "aviation_data_cleaned.isna().sum()"
   ]
  },
  {
   "attachments": {},
   "cell_type": "markdown",
   "metadata": {},
   "source": [
    "### Handle number of engines"
   ]
  },
  {
   "cell_type": "code",
   "execution_count": 63,
   "metadata": {
    "ExecuteTime": {
     "end_time": "2023-04-21T15:50:39.958731Z",
     "start_time": "2023-04-21T15:50:39.923655Z"
    }
   },
   "outputs": [
    {
     "data": {
      "text/html": [
       "<div>\n",
       "<style scoped>\n",
       "    .dataframe tbody tr th:only-of-type {\n",
       "        vertical-align: middle;\n",
       "    }\n",
       "\n",
       "    .dataframe tbody tr th {\n",
       "        vertical-align: top;\n",
       "    }\n",
       "\n",
       "    .dataframe thead th {\n",
       "        text-align: right;\n",
       "    }\n",
       "</style>\n",
       "<table border=\"1\" class=\"dataframe\">\n",
       "  <thead>\n",
       "    <tr style=\"text-align: right;\">\n",
       "      <th></th>\n",
       "      <th>event_date</th>\n",
       "      <th>location</th>\n",
       "      <th>airport_code</th>\n",
       "      <th>airport_name</th>\n",
       "      <th>injury_severity</th>\n",
       "      <th>aircraft_damage</th>\n",
       "      <th>make</th>\n",
       "      <th>model</th>\n",
       "      <th>number_of_engines</th>\n",
       "      <th>engine_type</th>\n",
       "      <th>purpose_of_flight</th>\n",
       "      <th>total_fatal_injuries</th>\n",
       "      <th>total_serious_injuries</th>\n",
       "      <th>total_minor_injuries</th>\n",
       "      <th>total_uninjured</th>\n",
       "      <th>weather_condition</th>\n",
       "      <th>broad_phase_of_flight</th>\n",
       "    </tr>\n",
       "  </thead>\n",
       "  <tbody>\n",
       "    <tr>\n",
       "      <th>3600</th>\n",
       "      <td>1983-01-01</td>\n",
       "      <td>ARROYO GRANDE, CA</td>\n",
       "      <td>Unknown</td>\n",
       "      <td>Unknown</td>\n",
       "      <td>Non-Fatal</td>\n",
       "      <td>Unknown</td>\n",
       "      <td>Piccard</td>\n",
       "      <td>AX-6</td>\n",
       "      <td>NaN</td>\n",
       "      <td>Unknown</td>\n",
       "      <td>Personal</td>\n",
       "      <td>0.0</td>\n",
       "      <td>1.0</td>\n",
       "      <td>0.0</td>\n",
       "      <td>1.0</td>\n",
       "      <td>VMC</td>\n",
       "      <td>Landing</td>\n",
       "    </tr>\n",
       "    <tr>\n",
       "      <th>3741</th>\n",
       "      <td>1983-01-22</td>\n",
       "      <td>NORTH SHORE, CA</td>\n",
       "      <td>Unknown</td>\n",
       "      <td>DESERT AIR SKY RANCH</td>\n",
       "      <td>Non-Fatal</td>\n",
       "      <td>Substantial</td>\n",
       "      <td>Schweizer</td>\n",
       "      <td>2-33A</td>\n",
       "      <td>NaN</td>\n",
       "      <td>Unknown</td>\n",
       "      <td>Instructional</td>\n",
       "      <td>0.0</td>\n",
       "      <td>1.0</td>\n",
       "      <td>0.0</td>\n",
       "      <td>0.0</td>\n",
       "      <td>VMC</td>\n",
       "      <td>Takeoff</td>\n",
       "    </tr>\n",
       "    <tr>\n",
       "      <th>3772</th>\n",
       "      <td>1983-01-29</td>\n",
       "      <td>HEMPSTEAD, TX</td>\n",
       "      <td>35R</td>\n",
       "      <td>HEMPSTEAD</td>\n",
       "      <td>Fatal(1)</td>\n",
       "      <td>Destroyed</td>\n",
       "      <td>Schweizer</td>\n",
       "      <td>SGS 1-26B</td>\n",
       "      <td>NaN</td>\n",
       "      <td>Unknown</td>\n",
       "      <td>Instructional</td>\n",
       "      <td>1.0</td>\n",
       "      <td>0.0</td>\n",
       "      <td>0.0</td>\n",
       "      <td>0.0</td>\n",
       "      <td>VMC</td>\n",
       "      <td>Approach</td>\n",
       "    </tr>\n",
       "    <tr>\n",
       "      <th>3870</th>\n",
       "      <td>1983-02-12</td>\n",
       "      <td>LITTLEFIELD, TX</td>\n",
       "      <td>Q00</td>\n",
       "      <td>LITTLEFIELD</td>\n",
       "      <td>Non-Fatal</td>\n",
       "      <td>Substantial</td>\n",
       "      <td>Pratt-read</td>\n",
       "      <td>PRG-1</td>\n",
       "      <td>NaN</td>\n",
       "      <td>Unknown</td>\n",
       "      <td>Instructional</td>\n",
       "      <td>0.0</td>\n",
       "      <td>0.0</td>\n",
       "      <td>0.0</td>\n",
       "      <td>1.0</td>\n",
       "      <td>VMC</td>\n",
       "      <td>Cruise</td>\n",
       "    </tr>\n",
       "    <tr>\n",
       "      <th>4004</th>\n",
       "      <td>1983-02-28</td>\n",
       "      <td>ANCHORAGE, AK</td>\n",
       "      <td>MRI</td>\n",
       "      <td>MERRILL FIELD</td>\n",
       "      <td>Non-Fatal</td>\n",
       "      <td>Unknown</td>\n",
       "      <td>Raven</td>\n",
       "      <td>RX-7</td>\n",
       "      <td>NaN</td>\n",
       "      <td>Unknown</td>\n",
       "      <td>Personal</td>\n",
       "      <td>0.0</td>\n",
       "      <td>0.0</td>\n",
       "      <td>0.0</td>\n",
       "      <td>5.0</td>\n",
       "      <td>VMC</td>\n",
       "      <td>Climb</td>\n",
       "    </tr>\n",
       "    <tr>\n",
       "      <th>...</th>\n",
       "      <td>...</td>\n",
       "      <td>...</td>\n",
       "      <td>...</td>\n",
       "      <td>...</td>\n",
       "      <td>...</td>\n",
       "      <td>...</td>\n",
       "      <td>...</td>\n",
       "      <td>...</td>\n",
       "      <td>...</td>\n",
       "      <td>...</td>\n",
       "      <td>...</td>\n",
       "      <td>...</td>\n",
       "      <td>...</td>\n",
       "      <td>...</td>\n",
       "      <td>...</td>\n",
       "      <td>...</td>\n",
       "      <td>...</td>\n",
       "    </tr>\n",
       "    <tr>\n",
       "      <th>90339</th>\n",
       "      <td>2022-12-18</td>\n",
       "      <td>San Manual, AZ</td>\n",
       "      <td>Unknown</td>\n",
       "      <td>Unknown</td>\n",
       "      <td>Non-Fatal</td>\n",
       "      <td>Unknown</td>\n",
       "      <td>PIPER</td>\n",
       "      <td>PA28</td>\n",
       "      <td>NaN</td>\n",
       "      <td>NaN</td>\n",
       "      <td>Personal</td>\n",
       "      <td>0.0</td>\n",
       "      <td>0.0</td>\n",
       "      <td>0.0</td>\n",
       "      <td>3.0</td>\n",
       "      <td>Unknown</td>\n",
       "      <td>Unknown</td>\n",
       "    </tr>\n",
       "    <tr>\n",
       "      <th>90340</th>\n",
       "      <td>2022-12-21</td>\n",
       "      <td>Auburn Hills, MI</td>\n",
       "      <td>Unknown</td>\n",
       "      <td>Unknown</td>\n",
       "      <td>Minor</td>\n",
       "      <td>Unknown</td>\n",
       "      <td>CESSNA</td>\n",
       "      <td>172F</td>\n",
       "      <td>NaN</td>\n",
       "      <td>NaN</td>\n",
       "      <td>Personal</td>\n",
       "      <td>0.0</td>\n",
       "      <td>1.0</td>\n",
       "      <td>0.0</td>\n",
       "      <td>0.0</td>\n",
       "      <td>Unknown</td>\n",
       "      <td>Unknown</td>\n",
       "    </tr>\n",
       "    <tr>\n",
       "      <th>90341</th>\n",
       "      <td>2022-12-21</td>\n",
       "      <td>Reserve, LA</td>\n",
       "      <td>Unknown</td>\n",
       "      <td>Unknown</td>\n",
       "      <td>Minor</td>\n",
       "      <td>Unknown</td>\n",
       "      <td>GRUMMAN AMERICAN AVN. CORP.</td>\n",
       "      <td>AA-5B</td>\n",
       "      <td>NaN</td>\n",
       "      <td>NaN</td>\n",
       "      <td>Instructional</td>\n",
       "      <td>0.0</td>\n",
       "      <td>1.0</td>\n",
       "      <td>0.0</td>\n",
       "      <td>1.0</td>\n",
       "      <td>Unknown</td>\n",
       "      <td>Unknown</td>\n",
       "    </tr>\n",
       "    <tr>\n",
       "      <th>90343</th>\n",
       "      <td>2022-12-26</td>\n",
       "      <td>Annapolis, MD</td>\n",
       "      <td>Unknown</td>\n",
       "      <td>Unknown</td>\n",
       "      <td>Minor</td>\n",
       "      <td>Unknown</td>\n",
       "      <td>PIPER</td>\n",
       "      <td>PA-28-151</td>\n",
       "      <td>NaN</td>\n",
       "      <td>NaN</td>\n",
       "      <td>Personal</td>\n",
       "      <td>0.0</td>\n",
       "      <td>1.0</td>\n",
       "      <td>0.0</td>\n",
       "      <td>0.0</td>\n",
       "      <td>Unknown</td>\n",
       "      <td>Unknown</td>\n",
       "    </tr>\n",
       "    <tr>\n",
       "      <th>90347</th>\n",
       "      <td>2022-12-29</td>\n",
       "      <td>Athens, GA</td>\n",
       "      <td>Unknown</td>\n",
       "      <td>Unknown</td>\n",
       "      <td>Minor</td>\n",
       "      <td>Unknown</td>\n",
       "      <td>PIPER</td>\n",
       "      <td>PA-24-260</td>\n",
       "      <td>NaN</td>\n",
       "      <td>NaN</td>\n",
       "      <td>Personal</td>\n",
       "      <td>0.0</td>\n",
       "      <td>1.0</td>\n",
       "      <td>0.0</td>\n",
       "      <td>1.0</td>\n",
       "      <td>Unknown</td>\n",
       "      <td>Unknown</td>\n",
       "    </tr>\n",
       "  </tbody>\n",
       "</table>\n",
       "<p>1521 rows × 17 columns</p>\n",
       "</div>"
      ],
      "text/plain": [
       "      event_date           location airport_code          airport_name  \\\n",
       "3600  1983-01-01  ARROYO GRANDE, CA      Unknown               Unknown   \n",
       "3741  1983-01-22    NORTH SHORE, CA      Unknown  DESERT AIR SKY RANCH   \n",
       "3772  1983-01-29      HEMPSTEAD, TX          35R             HEMPSTEAD   \n",
       "3870  1983-02-12    LITTLEFIELD, TX          Q00           LITTLEFIELD   \n",
       "4004  1983-02-28      ANCHORAGE, AK          MRI         MERRILL FIELD   \n",
       "...          ...                ...          ...                   ...   \n",
       "90339 2022-12-18     San Manual, AZ      Unknown               Unknown   \n",
       "90340 2022-12-21   Auburn Hills, MI      Unknown               Unknown   \n",
       "90341 2022-12-21        Reserve, LA      Unknown               Unknown   \n",
       "90343 2022-12-26      Annapolis, MD      Unknown               Unknown   \n",
       "90347 2022-12-29         Athens, GA      Unknown               Unknown   \n",
       "\n",
       "      injury_severity aircraft_damage                         make      model  \\\n",
       "3600        Non-Fatal         Unknown                      Piccard       AX-6   \n",
       "3741        Non-Fatal     Substantial                    Schweizer      2-33A   \n",
       "3772         Fatal(1)       Destroyed                    Schweizer  SGS 1-26B   \n",
       "3870        Non-Fatal     Substantial                   Pratt-read      PRG-1   \n",
       "4004        Non-Fatal         Unknown                        Raven       RX-7   \n",
       "...               ...             ...                          ...        ...   \n",
       "90339       Non-Fatal         Unknown                        PIPER       PA28   \n",
       "90340           Minor         Unknown                       CESSNA       172F   \n",
       "90341           Minor         Unknown  GRUMMAN AMERICAN AVN. CORP.      AA-5B   \n",
       "90343           Minor         Unknown                        PIPER  PA-28-151   \n",
       "90347           Minor         Unknown                        PIPER  PA-24-260   \n",
       "\n",
       "       number_of_engines engine_type purpose_of_flight  total_fatal_injuries  \\\n",
       "3600                 NaN     Unknown          Personal                   0.0   \n",
       "3741                 NaN     Unknown     Instructional                   0.0   \n",
       "3772                 NaN     Unknown     Instructional                   1.0   \n",
       "3870                 NaN     Unknown     Instructional                   0.0   \n",
       "4004                 NaN     Unknown          Personal                   0.0   \n",
       "...                  ...         ...               ...                   ...   \n",
       "90339                NaN         NaN          Personal                   0.0   \n",
       "90340                NaN         NaN          Personal                   0.0   \n",
       "90341                NaN         NaN     Instructional                   0.0   \n",
       "90343                NaN         NaN          Personal                   0.0   \n",
       "90347                NaN         NaN          Personal                   0.0   \n",
       "\n",
       "       total_serious_injuries  total_minor_injuries  total_uninjured  \\\n",
       "3600                      1.0                   0.0              1.0   \n",
       "3741                      1.0                   0.0              0.0   \n",
       "3772                      0.0                   0.0              0.0   \n",
       "3870                      0.0                   0.0              1.0   \n",
       "4004                      0.0                   0.0              5.0   \n",
       "...                       ...                   ...              ...   \n",
       "90339                     0.0                   0.0              3.0   \n",
       "90340                     1.0                   0.0              0.0   \n",
       "90341                     1.0                   0.0              1.0   \n",
       "90343                     1.0                   0.0              0.0   \n",
       "90347                     1.0                   0.0              1.0   \n",
       "\n",
       "      weather_condition broad_phase_of_flight  \n",
       "3600                VMC               Landing  \n",
       "3741                VMC               Takeoff  \n",
       "3772                VMC              Approach  \n",
       "3870                VMC                Cruise  \n",
       "4004                VMC                 Climb  \n",
       "...                 ...                   ...  \n",
       "90339           Unknown               Unknown  \n",
       "90340           Unknown               Unknown  \n",
       "90341           Unknown               Unknown  \n",
       "90343           Unknown               Unknown  \n",
       "90347           Unknown               Unknown  \n",
       "\n",
       "[1521 rows x 17 columns]"
      ]
     },
     "execution_count": 63,
     "metadata": {},
     "output_type": "execute_result"
    }
   ],
   "source": [
    "aviation_data_cleaned[aviation_data_cleaned['number_of_engines'].isna()]"
   ]
  },
  {
   "cell_type": "code",
   "execution_count": 64,
   "metadata": {
    "ExecuteTime": {
     "end_time": "2023-04-21T15:50:41.317205Z",
     "start_time": "2023-04-21T15:50:39.967561Z"
    },
    "scrolled": true
   },
   "outputs": [
    {
     "data": {
      "text/plain": [
       "[('1200', 'G103'),\n",
       " ('177MF LLC', 'PITTS MODEL 12'),\n",
       " ('2021FX3 LLC', 'CCX-2000'),\n",
       " ('A. Schleicher GMBH & Co.', 'ASW 27-18'),\n",
       " ('AAA AIRCRAFT LLC', 'CCX-2000')]"
      ]
     },
     "execution_count": 64,
     "metadata": {},
     "output_type": "execute_result"
    }
   ],
   "source": [
    "# Create a map for the number of engines, take the first mode if there's a tie\n",
    "filter_nans = aviation_data_cleaned['number_of_engines'].notna()\n",
    "enginer_number_map = dict(aviation_data_cleaned[filter_nans].groupby(['make', 'model'])['number_of_engines'].agg(lambda x : pd.Series.mode(x)[0]))\n",
    "list(enginer_number_map.keys())[:5]"
   ]
  },
  {
   "cell_type": "code",
   "execution_count": 65,
   "metadata": {
    "ExecuteTime": {
     "end_time": "2023-04-21T15:50:41.438646Z",
     "start_time": "2023-04-21T15:50:41.322770Z"
    }
   },
   "outputs": [
    {
     "data": {
      "text/plain": [
       "7                               (Cessna, 140)\n",
       "8                              (Cessna, 401B)\n",
       "9              (North American, NAVION L-17B)\n",
       "10                         (Piper, PA-28-161)\n",
       "11                              (Beech, V35B)\n",
       "                         ...                 \n",
       "90340                          (CESSNA, 172F)\n",
       "90341    (GRUMMAN AMERICAN AVN. CORP., AA-5B)\n",
       "90343                      (PIPER, PA-28-151)\n",
       "90345     (AMERICAN CHAMPION AIRCRAFT, 8GCBC)\n",
       "90347                      (PIPER, PA-24-260)\n",
       "Name: engine_number_map, Length: 70788, dtype: object"
      ]
     },
     "execution_count": 65,
     "metadata": {},
     "output_type": "execute_result"
    }
   ],
   "source": [
    "# Apply this map to the numer of enginers column to replace missing values\n",
    "aviation_data_cleaned['engine_number_map'] = tuple(zip(aviation_data_cleaned['make'], aviation_data_cleaned['model']))\n",
    "aviation_data_cleaned['engine_number_map']"
   ]
  },
  {
   "cell_type": "code",
   "execution_count": 66,
   "metadata": {
    "ExecuteTime": {
     "end_time": "2023-04-21T15:50:41.601488Z",
     "start_time": "2023-04-21T15:50:41.453280Z"
    },
    "scrolled": true
   },
   "outputs": [],
   "source": [
    "# Map the engine number to the new column\n",
    "aviation_data_cleaned['engine_number_map'] = aviation_data_cleaned['engine_number_map'].map(enginer_number_map)"
   ]
  },
  {
   "cell_type": "code",
   "execution_count": 67,
   "metadata": {
    "ExecuteTime": {
     "end_time": "2023-04-21T15:50:41.624291Z",
     "start_time": "2023-04-21T15:50:41.606956Z"
    },
    "scrolled": true
   },
   "outputs": [
    {
     "data": {
      "text/html": [
       "<div>\n",
       "<style scoped>\n",
       "    .dataframe tbody tr th:only-of-type {\n",
       "        vertical-align: middle;\n",
       "    }\n",
       "\n",
       "    .dataframe tbody tr th {\n",
       "        vertical-align: top;\n",
       "    }\n",
       "\n",
       "    .dataframe thead th {\n",
       "        text-align: right;\n",
       "    }\n",
       "</style>\n",
       "<table border=\"1\" class=\"dataframe\">\n",
       "  <thead>\n",
       "    <tr style=\"text-align: right;\">\n",
       "      <th></th>\n",
       "      <th>event_date</th>\n",
       "      <th>location</th>\n",
       "      <th>airport_code</th>\n",
       "      <th>airport_name</th>\n",
       "      <th>injury_severity</th>\n",
       "      <th>aircraft_damage</th>\n",
       "      <th>make</th>\n",
       "      <th>model</th>\n",
       "      <th>number_of_engines</th>\n",
       "      <th>engine_type</th>\n",
       "      <th>purpose_of_flight</th>\n",
       "      <th>total_fatal_injuries</th>\n",
       "      <th>total_serious_injuries</th>\n",
       "      <th>total_minor_injuries</th>\n",
       "      <th>total_uninjured</th>\n",
       "      <th>weather_condition</th>\n",
       "      <th>broad_phase_of_flight</th>\n",
       "      <th>engine_number_map</th>\n",
       "    </tr>\n",
       "  </thead>\n",
       "  <tbody>\n",
       "    <tr>\n",
       "      <th>7</th>\n",
       "      <td>1982-01-01</td>\n",
       "      <td>PULLMAN, WA</td>\n",
       "      <td>Unknown</td>\n",
       "      <td>BLACKBURN AG STRIP</td>\n",
       "      <td>Non-Fatal</td>\n",
       "      <td>Substantial</td>\n",
       "      <td>Cessna</td>\n",
       "      <td>140</td>\n",
       "      <td>1.0</td>\n",
       "      <td>Reciprocating</td>\n",
       "      <td>Personal</td>\n",
       "      <td>0.0</td>\n",
       "      <td>0.0</td>\n",
       "      <td>0.0</td>\n",
       "      <td>2.0</td>\n",
       "      <td>VMC</td>\n",
       "      <td>Takeoff</td>\n",
       "      <td>1.0</td>\n",
       "    </tr>\n",
       "    <tr>\n",
       "      <th>8</th>\n",
       "      <td>1982-01-01</td>\n",
       "      <td>EAST HANOVER, NJ</td>\n",
       "      <td>N58</td>\n",
       "      <td>HANOVER</td>\n",
       "      <td>Non-Fatal</td>\n",
       "      <td>Substantial</td>\n",
       "      <td>Cessna</td>\n",
       "      <td>401B</td>\n",
       "      <td>2.0</td>\n",
       "      <td>Reciprocating</td>\n",
       "      <td>Business</td>\n",
       "      <td>0.0</td>\n",
       "      <td>0.0</td>\n",
       "      <td>0.0</td>\n",
       "      <td>2.0</td>\n",
       "      <td>IMC</td>\n",
       "      <td>Landing</td>\n",
       "      <td>2.0</td>\n",
       "    </tr>\n",
       "    <tr>\n",
       "      <th>9</th>\n",
       "      <td>1982-01-01</td>\n",
       "      <td>JACKSONVILLE, FL</td>\n",
       "      <td>JAX</td>\n",
       "      <td>JACKSONVILLE INTL</td>\n",
       "      <td>Non-Fatal</td>\n",
       "      <td>Substantial</td>\n",
       "      <td>North American</td>\n",
       "      <td>NAVION L-17B</td>\n",
       "      <td>1.0</td>\n",
       "      <td>Reciprocating</td>\n",
       "      <td>Personal</td>\n",
       "      <td>0.0</td>\n",
       "      <td>0.0</td>\n",
       "      <td>3.0</td>\n",
       "      <td>0.0</td>\n",
       "      <td>IMC</td>\n",
       "      <td>Cruise</td>\n",
       "      <td>1.0</td>\n",
       "    </tr>\n",
       "    <tr>\n",
       "      <th>10</th>\n",
       "      <td>1982-01-01</td>\n",
       "      <td>HOBBS, NM</td>\n",
       "      <td>Unknown</td>\n",
       "      <td>Unknown</td>\n",
       "      <td>Non-Fatal</td>\n",
       "      <td>Substantial</td>\n",
       "      <td>Piper</td>\n",
       "      <td>PA-28-161</td>\n",
       "      <td>1.0</td>\n",
       "      <td>Reciprocating</td>\n",
       "      <td>Personal</td>\n",
       "      <td>0.0</td>\n",
       "      <td>0.0</td>\n",
       "      <td>0.0</td>\n",
       "      <td>1.0</td>\n",
       "      <td>VMC</td>\n",
       "      <td>Approach</td>\n",
       "      <td>1.0</td>\n",
       "    </tr>\n",
       "    <tr>\n",
       "      <th>11</th>\n",
       "      <td>1982-01-01</td>\n",
       "      <td>TUSKEGEE, AL</td>\n",
       "      <td>Unknown</td>\n",
       "      <td>TUSKEGEE</td>\n",
       "      <td>Non-Fatal</td>\n",
       "      <td>Substantial</td>\n",
       "      <td>Beech</td>\n",
       "      <td>V35B</td>\n",
       "      <td>1.0</td>\n",
       "      <td>Reciprocating</td>\n",
       "      <td>Personal</td>\n",
       "      <td>0.0</td>\n",
       "      <td>0.0</td>\n",
       "      <td>0.0</td>\n",
       "      <td>1.0</td>\n",
       "      <td>VMC</td>\n",
       "      <td>Landing</td>\n",
       "      <td>1.0</td>\n",
       "    </tr>\n",
       "  </tbody>\n",
       "</table>\n",
       "</div>"
      ],
      "text/plain": [
       "   event_date          location airport_code        airport_name  \\\n",
       "7  1982-01-01       PULLMAN, WA      Unknown  BLACKBURN AG STRIP   \n",
       "8  1982-01-01  EAST HANOVER, NJ          N58             HANOVER   \n",
       "9  1982-01-01  JACKSONVILLE, FL          JAX   JACKSONVILLE INTL   \n",
       "10 1982-01-01         HOBBS, NM      Unknown             Unknown   \n",
       "11 1982-01-01      TUSKEGEE, AL      Unknown            TUSKEGEE   \n",
       "\n",
       "   injury_severity aircraft_damage            make         model  \\\n",
       "7        Non-Fatal     Substantial          Cessna           140   \n",
       "8        Non-Fatal     Substantial          Cessna          401B   \n",
       "9        Non-Fatal     Substantial  North American  NAVION L-17B   \n",
       "10       Non-Fatal     Substantial           Piper     PA-28-161   \n",
       "11       Non-Fatal     Substantial           Beech          V35B   \n",
       "\n",
       "    number_of_engines    engine_type purpose_of_flight  total_fatal_injuries  \\\n",
       "7                 1.0  Reciprocating          Personal                   0.0   \n",
       "8                 2.0  Reciprocating          Business                   0.0   \n",
       "9                 1.0  Reciprocating          Personal                   0.0   \n",
       "10                1.0  Reciprocating          Personal                   0.0   \n",
       "11                1.0  Reciprocating          Personal                   0.0   \n",
       "\n",
       "    total_serious_injuries  total_minor_injuries  total_uninjured  \\\n",
       "7                      0.0                   0.0              2.0   \n",
       "8                      0.0                   0.0              2.0   \n",
       "9                      0.0                   3.0              0.0   \n",
       "10                     0.0                   0.0              1.0   \n",
       "11                     0.0                   0.0              1.0   \n",
       "\n",
       "   weather_condition broad_phase_of_flight  engine_number_map  \n",
       "7                VMC               Takeoff                1.0  \n",
       "8                IMC               Landing                2.0  \n",
       "9                IMC                Cruise                1.0  \n",
       "10               VMC              Approach                1.0  \n",
       "11               VMC               Landing                1.0  "
      ]
     },
     "execution_count": 67,
     "metadata": {},
     "output_type": "execute_result"
    }
   ],
   "source": [
    "# Check out our data with the new column\n",
    "aviation_data_cleaned.head()"
   ]
  },
  {
   "cell_type": "code",
   "execution_count": 68,
   "metadata": {
    "ExecuteTime": {
     "end_time": "2023-04-21T15:50:41.683406Z",
     "start_time": "2023-04-21T15:50:41.629714Z"
    }
   },
   "outputs": [
    {
     "name": "stdout",
     "output_type": "stream",
     "text": [
      "<class 'pandas.core.frame.DataFrame'>\n",
      "Int64Index: 70788 entries, 7 to 90347\n",
      "Data columns (total 18 columns):\n",
      " #   Column                  Non-Null Count  Dtype         \n",
      "---  ------                  --------------  -----         \n",
      " 0   event_date              70788 non-null  datetime64[ns]\n",
      " 1   location                70788 non-null  object        \n",
      " 2   airport_code            70788 non-null  object        \n",
      " 3   airport_name            70788 non-null  object        \n",
      " 4   injury_severity         70788 non-null  object        \n",
      " 5   aircraft_damage         70788 non-null  object        \n",
      " 6   make                    70788 non-null  object        \n",
      " 7   model                   70788 non-null  object        \n",
      " 8   number_of_engines       69267 non-null  float64       \n",
      " 9   engine_type             68209 non-null  object        \n",
      " 10  purpose_of_flight       70788 non-null  object        \n",
      " 11  total_fatal_injuries    70788 non-null  float64       \n",
      " 12  total_serious_injuries  70788 non-null  float64       \n",
      " 13  total_minor_injuries    70788 non-null  float64       \n",
      " 14  total_uninjured         70788 non-null  float64       \n",
      " 15  weather_condition       70788 non-null  object        \n",
      " 16  broad_phase_of_flight   70788 non-null  object        \n",
      " 17  engine_number_map       70245 non-null  float64       \n",
      "dtypes: datetime64[ns](1), float64(6), object(11)\n",
      "memory usage: 10.3+ MB\n"
     ]
    }
   ],
   "source": [
    "# Confirm the new column type\n",
    "aviation_data_cleaned.info()"
   ]
  },
  {
   "cell_type": "code",
   "execution_count": 69,
   "metadata": {
    "ExecuteTime": {
     "end_time": "2023-04-21T15:50:41.690267Z",
     "start_time": "2023-04-21T15:50:41.685506Z"
    }
   },
   "outputs": [],
   "source": [
    "# Fill the missing number of engine data with the best guess based on make and model\n",
    "aviation_data_cleaned['number_of_engines'].fillna(value=aviation_data_cleaned['engine_number_map'], inplace=True)"
   ]
  },
  {
   "cell_type": "code",
   "execution_count": 70,
   "metadata": {
    "ExecuteTime": {
     "end_time": "2023-04-21T15:50:41.702444Z",
     "start_time": "2023-04-21T15:50:41.692004Z"
    }
   },
   "outputs": [
    {
     "data": {
      "text/plain": [
       "543"
      ]
     },
     "execution_count": 70,
     "metadata": {},
     "output_type": "execute_result"
    }
   ],
   "source": [
    "# Check the number of missing numbers from the number of engines column\n",
    "aviation_data_cleaned['number_of_engines'].isna().sum()"
   ]
  },
  {
   "cell_type": "code",
   "execution_count": 71,
   "metadata": {
    "ExecuteTime": {
     "end_time": "2023-04-21T15:50:41.752133Z",
     "start_time": "2023-04-21T15:50:41.704665Z"
    }
   },
   "outputs": [
    {
     "data": {
      "text/plain": [
       "event_date                   0\n",
       "location                     0\n",
       "airport_code                 0\n",
       "airport_name                 0\n",
       "injury_severity              0\n",
       "aircraft_damage              0\n",
       "make                         0\n",
       "model                        0\n",
       "number_of_engines          543\n",
       "engine_type               2579\n",
       "purpose_of_flight            0\n",
       "total_fatal_injuries         0\n",
       "total_serious_injuries       0\n",
       "total_minor_injuries         0\n",
       "total_uninjured              0\n",
       "weather_condition            0\n",
       "broad_phase_of_flight        0\n",
       "engine_number_map          543\n",
       "dtype: int64"
      ]
     },
     "execution_count": 71,
     "metadata": {},
     "output_type": "execute_result"
    }
   ],
   "source": [
    "# Check the number of missing data in the dataset\n",
    "aviation_data_cleaned.isna().sum()"
   ]
  },
  {
   "cell_type": "code",
   "execution_count": 72,
   "metadata": {
    "ExecuteTime": {
     "end_time": "2023-04-21T15:50:41.791263Z",
     "start_time": "2023-04-21T15:50:41.754852Z"
    },
    "scrolled": false
   },
   "outputs": [
    {
     "data": {
      "text/html": [
       "<div>\n",
       "<style scoped>\n",
       "    .dataframe tbody tr th:only-of-type {\n",
       "        vertical-align: middle;\n",
       "    }\n",
       "\n",
       "    .dataframe tbody tr th {\n",
       "        vertical-align: top;\n",
       "    }\n",
       "\n",
       "    .dataframe thead th {\n",
       "        text-align: right;\n",
       "    }\n",
       "</style>\n",
       "<table border=\"1\" class=\"dataframe\">\n",
       "  <thead>\n",
       "    <tr style=\"text-align: right;\">\n",
       "      <th></th>\n",
       "      <th>event_date</th>\n",
       "      <th>location</th>\n",
       "      <th>airport_code</th>\n",
       "      <th>airport_name</th>\n",
       "      <th>injury_severity</th>\n",
       "      <th>aircraft_damage</th>\n",
       "      <th>make</th>\n",
       "      <th>model</th>\n",
       "      <th>number_of_engines</th>\n",
       "      <th>engine_type</th>\n",
       "      <th>purpose_of_flight</th>\n",
       "      <th>total_fatal_injuries</th>\n",
       "      <th>total_serious_injuries</th>\n",
       "      <th>total_minor_injuries</th>\n",
       "      <th>total_uninjured</th>\n",
       "      <th>weather_condition</th>\n",
       "      <th>broad_phase_of_flight</th>\n",
       "      <th>engine_number_map</th>\n",
       "    </tr>\n",
       "  </thead>\n",
       "  <tbody>\n",
       "    <tr>\n",
       "      <th>3870</th>\n",
       "      <td>1983-02-12</td>\n",
       "      <td>LITTLEFIELD, TX</td>\n",
       "      <td>Q00</td>\n",
       "      <td>LITTLEFIELD</td>\n",
       "      <td>Non-Fatal</td>\n",
       "      <td>Substantial</td>\n",
       "      <td>Pratt-read</td>\n",
       "      <td>PRG-1</td>\n",
       "      <td>NaN</td>\n",
       "      <td>Unknown</td>\n",
       "      <td>Instructional</td>\n",
       "      <td>0.0</td>\n",
       "      <td>0.0</td>\n",
       "      <td>0.0</td>\n",
       "      <td>1.0</td>\n",
       "      <td>VMC</td>\n",
       "      <td>Cruise</td>\n",
       "      <td>NaN</td>\n",
       "    </tr>\n",
       "    <tr>\n",
       "      <th>4703</th>\n",
       "      <td>1983-05-17</td>\n",
       "      <td>STOCKBRIDGE, MI</td>\n",
       "      <td>Unknown</td>\n",
       "      <td>Unknown</td>\n",
       "      <td>Non-Fatal</td>\n",
       "      <td>Substantial</td>\n",
       "      <td>Schaffer-provencher</td>\n",
       "      <td>UW</td>\n",
       "      <td>NaN</td>\n",
       "      <td>Unknown</td>\n",
       "      <td>Personal</td>\n",
       "      <td>0.0</td>\n",
       "      <td>1.0</td>\n",
       "      <td>0.0</td>\n",
       "      <td>2.0</td>\n",
       "      <td>VMC</td>\n",
       "      <td>Landing</td>\n",
       "      <td>NaN</td>\n",
       "    </tr>\n",
       "    <tr>\n",
       "      <th>4813</th>\n",
       "      <td>1983-05-28</td>\n",
       "      <td>DECATUR, AL</td>\n",
       "      <td>Unknown</td>\n",
       "      <td>Unknown</td>\n",
       "      <td>Non-Fatal</td>\n",
       "      <td>Destroyed</td>\n",
       "      <td>Barnes</td>\n",
       "      <td>AX-6B</td>\n",
       "      <td>NaN</td>\n",
       "      <td>Unknown</td>\n",
       "      <td>Personal</td>\n",
       "      <td>0.0</td>\n",
       "      <td>1.0</td>\n",
       "      <td>1.0</td>\n",
       "      <td>0.0</td>\n",
       "      <td>VMC</td>\n",
       "      <td>Takeoff</td>\n",
       "      <td>NaN</td>\n",
       "    </tr>\n",
       "    <tr>\n",
       "      <th>4822</th>\n",
       "      <td>1983-05-28</td>\n",
       "      <td>LOS LUNAS, NM</td>\n",
       "      <td>E98</td>\n",
       "      <td>MID VALLEY</td>\n",
       "      <td>Non-Fatal</td>\n",
       "      <td>Substantial</td>\n",
       "      <td>Glasflugel</td>\n",
       "      <td>H-301</td>\n",
       "      <td>NaN</td>\n",
       "      <td>Unknown</td>\n",
       "      <td>Personal</td>\n",
       "      <td>0.0</td>\n",
       "      <td>0.0</td>\n",
       "      <td>0.0</td>\n",
       "      <td>1.0</td>\n",
       "      <td>VMC</td>\n",
       "      <td>Takeoff</td>\n",
       "      <td>NaN</td>\n",
       "    </tr>\n",
       "    <tr>\n",
       "      <th>4957</th>\n",
       "      <td>1983-06-07</td>\n",
       "      <td>RENO, NV</td>\n",
       "      <td>4SD</td>\n",
       "      <td>STEAD</td>\n",
       "      <td>Non-Fatal</td>\n",
       "      <td>Substantial</td>\n",
       "      <td>I.c.a. Brasov</td>\n",
       "      <td>IS-29D2</td>\n",
       "      <td>NaN</td>\n",
       "      <td>Unknown</td>\n",
       "      <td>Personal</td>\n",
       "      <td>0.0</td>\n",
       "      <td>0.0</td>\n",
       "      <td>0.0</td>\n",
       "      <td>2.0</td>\n",
       "      <td>VMC</td>\n",
       "      <td>Approach</td>\n",
       "      <td>NaN</td>\n",
       "    </tr>\n",
       "    <tr>\n",
       "      <th>...</th>\n",
       "      <td>...</td>\n",
       "      <td>...</td>\n",
       "      <td>...</td>\n",
       "      <td>...</td>\n",
       "      <td>...</td>\n",
       "      <td>...</td>\n",
       "      <td>...</td>\n",
       "      <td>...</td>\n",
       "      <td>...</td>\n",
       "      <td>...</td>\n",
       "      <td>...</td>\n",
       "      <td>...</td>\n",
       "      <td>...</td>\n",
       "      <td>...</td>\n",
       "      <td>...</td>\n",
       "      <td>...</td>\n",
       "      <td>...</td>\n",
       "      <td>...</td>\n",
       "    </tr>\n",
       "    <tr>\n",
       "      <th>90102</th>\n",
       "      <td>2022-10-07</td>\n",
       "      <td>Albuquerque, NM</td>\n",
       "      <td>Unknown</td>\n",
       "      <td>Unknown</td>\n",
       "      <td>Serious</td>\n",
       "      <td>Minor</td>\n",
       "      <td>AEROSTAR INTERNATIONAL</td>\n",
       "      <td>S53A</td>\n",
       "      <td>NaN</td>\n",
       "      <td>NaN</td>\n",
       "      <td>Personal</td>\n",
       "      <td>0.0</td>\n",
       "      <td>1.0</td>\n",
       "      <td>1.0</td>\n",
       "      <td>1.0</td>\n",
       "      <td>Unknown</td>\n",
       "      <td>Unknown</td>\n",
       "      <td>NaN</td>\n",
       "    </tr>\n",
       "    <tr>\n",
       "      <th>90205</th>\n",
       "      <td>2022-11-02</td>\n",
       "      <td>New Orleans, LA</td>\n",
       "      <td>Unknown</td>\n",
       "      <td>Unknown</td>\n",
       "      <td>Serious</td>\n",
       "      <td>Unknown</td>\n",
       "      <td>AIRBUS</td>\n",
       "      <td>A319-132</td>\n",
       "      <td>NaN</td>\n",
       "      <td>NaN</td>\n",
       "      <td>Unknown</td>\n",
       "      <td>0.0</td>\n",
       "      <td>0.0</td>\n",
       "      <td>1.0</td>\n",
       "      <td>115.0</td>\n",
       "      <td>Unknown</td>\n",
       "      <td>Unknown</td>\n",
       "      <td>NaN</td>\n",
       "    </tr>\n",
       "    <tr>\n",
       "      <th>90259</th>\n",
       "      <td>2022-11-19</td>\n",
       "      <td>Omaha, NE</td>\n",
       "      <td>Unknown</td>\n",
       "      <td>Unknown</td>\n",
       "      <td>Non-Fatal</td>\n",
       "      <td>Unknown</td>\n",
       "      <td>AIRBUS INDUSTRIE</td>\n",
       "      <td>A320-211</td>\n",
       "      <td>NaN</td>\n",
       "      <td>NaN</td>\n",
       "      <td>Unknown</td>\n",
       "      <td>0.0</td>\n",
       "      <td>0.0</td>\n",
       "      <td>0.0</td>\n",
       "      <td>153.0</td>\n",
       "      <td>Unknown</td>\n",
       "      <td>Unknown</td>\n",
       "      <td>NaN</td>\n",
       "    </tr>\n",
       "    <tr>\n",
       "      <th>90314</th>\n",
       "      <td>2022-12-08</td>\n",
       "      <td>Newark, NJ</td>\n",
       "      <td>Unknown</td>\n",
       "      <td>Unknown</td>\n",
       "      <td>Serious</td>\n",
       "      <td>Unknown</td>\n",
       "      <td>BOEING</td>\n",
       "      <td>767-322</td>\n",
       "      <td>NaN</td>\n",
       "      <td>NaN</td>\n",
       "      <td>Unknown</td>\n",
       "      <td>0.0</td>\n",
       "      <td>3.0</td>\n",
       "      <td>1.0</td>\n",
       "      <td>175.0</td>\n",
       "      <td>Unknown</td>\n",
       "      <td>Unknown</td>\n",
       "      <td>NaN</td>\n",
       "    </tr>\n",
       "    <tr>\n",
       "      <th>90337</th>\n",
       "      <td>2022-12-17</td>\n",
       "      <td>Cottonwood, CA</td>\n",
       "      <td>Unknown</td>\n",
       "      <td>Unknown</td>\n",
       "      <td>Minor</td>\n",
       "      <td>Unknown</td>\n",
       "      <td>ROYSE RALPH L</td>\n",
       "      <td>GLASAIR</td>\n",
       "      <td>NaN</td>\n",
       "      <td>NaN</td>\n",
       "      <td>Personal</td>\n",
       "      <td>0.0</td>\n",
       "      <td>1.0</td>\n",
       "      <td>0.0</td>\n",
       "      <td>0.0</td>\n",
       "      <td>Unknown</td>\n",
       "      <td>Unknown</td>\n",
       "      <td>NaN</td>\n",
       "    </tr>\n",
       "  </tbody>\n",
       "</table>\n",
       "<p>543 rows × 18 columns</p>\n",
       "</div>"
      ],
      "text/plain": [
       "      event_date         location airport_code airport_name injury_severity  \\\n",
       "3870  1983-02-12  LITTLEFIELD, TX          Q00  LITTLEFIELD       Non-Fatal   \n",
       "4703  1983-05-17  STOCKBRIDGE, MI      Unknown      Unknown       Non-Fatal   \n",
       "4813  1983-05-28      DECATUR, AL      Unknown      Unknown       Non-Fatal   \n",
       "4822  1983-05-28    LOS LUNAS, NM          E98   MID VALLEY       Non-Fatal   \n",
       "4957  1983-06-07         RENO, NV          4SD        STEAD       Non-Fatal   \n",
       "...          ...              ...          ...          ...             ...   \n",
       "90102 2022-10-07  Albuquerque, NM      Unknown      Unknown         Serious   \n",
       "90205 2022-11-02  New Orleans, LA      Unknown      Unknown         Serious   \n",
       "90259 2022-11-19        Omaha, NE      Unknown      Unknown       Non-Fatal   \n",
       "90314 2022-12-08       Newark, NJ      Unknown      Unknown         Serious   \n",
       "90337 2022-12-17   Cottonwood, CA      Unknown      Unknown           Minor   \n",
       "\n",
       "      aircraft_damage                    make     model  number_of_engines  \\\n",
       "3870      Substantial              Pratt-read     PRG-1                NaN   \n",
       "4703      Substantial     Schaffer-provencher        UW                NaN   \n",
       "4813        Destroyed                  Barnes     AX-6B                NaN   \n",
       "4822      Substantial              Glasflugel     H-301                NaN   \n",
       "4957      Substantial           I.c.a. Brasov   IS-29D2                NaN   \n",
       "...               ...                     ...       ...                ...   \n",
       "90102           Minor  AEROSTAR INTERNATIONAL      S53A                NaN   \n",
       "90205         Unknown                  AIRBUS  A319-132                NaN   \n",
       "90259         Unknown        AIRBUS INDUSTRIE  A320-211                NaN   \n",
       "90314         Unknown                  BOEING   767-322                NaN   \n",
       "90337         Unknown           ROYSE RALPH L   GLASAIR                NaN   \n",
       "\n",
       "      engine_type purpose_of_flight  total_fatal_injuries  \\\n",
       "3870      Unknown     Instructional                   0.0   \n",
       "4703      Unknown          Personal                   0.0   \n",
       "4813      Unknown          Personal                   0.0   \n",
       "4822      Unknown          Personal                   0.0   \n",
       "4957      Unknown          Personal                   0.0   \n",
       "...           ...               ...                   ...   \n",
       "90102         NaN          Personal                   0.0   \n",
       "90205         NaN           Unknown                   0.0   \n",
       "90259         NaN           Unknown                   0.0   \n",
       "90314         NaN           Unknown                   0.0   \n",
       "90337         NaN          Personal                   0.0   \n",
       "\n",
       "       total_serious_injuries  total_minor_injuries  total_uninjured  \\\n",
       "3870                      0.0                   0.0              1.0   \n",
       "4703                      1.0                   0.0              2.0   \n",
       "4813                      1.0                   1.0              0.0   \n",
       "4822                      0.0                   0.0              1.0   \n",
       "4957                      0.0                   0.0              2.0   \n",
       "...                       ...                   ...              ...   \n",
       "90102                     1.0                   1.0              1.0   \n",
       "90205                     0.0                   1.0            115.0   \n",
       "90259                     0.0                   0.0            153.0   \n",
       "90314                     3.0                   1.0            175.0   \n",
       "90337                     1.0                   0.0              0.0   \n",
       "\n",
       "      weather_condition broad_phase_of_flight  engine_number_map  \n",
       "3870                VMC                Cruise                NaN  \n",
       "4703                VMC               Landing                NaN  \n",
       "4813                VMC               Takeoff                NaN  \n",
       "4822                VMC               Takeoff                NaN  \n",
       "4957                VMC              Approach                NaN  \n",
       "...                 ...                   ...                ...  \n",
       "90102           Unknown               Unknown                NaN  \n",
       "90205           Unknown               Unknown                NaN  \n",
       "90259           Unknown               Unknown                NaN  \n",
       "90314           Unknown               Unknown                NaN  \n",
       "90337           Unknown               Unknown                NaN  \n",
       "\n",
       "[543 rows x 18 columns]"
      ]
     },
     "execution_count": 72,
     "metadata": {},
     "output_type": "execute_result"
    }
   ],
   "source": [
    "# Check out the remaining missing data\n",
    "aviation_data_cleaned[aviation_data_cleaned['number_of_engines'].isna()]"
   ]
  },
  {
   "cell_type": "code",
   "execution_count": 73,
   "metadata": {
    "ExecuteTime": {
     "end_time": "2023-04-21T15:50:41.817169Z",
     "start_time": "2023-04-21T15:50:41.797228Z"
    }
   },
   "outputs": [],
   "source": [
    "# The remaining data can be dropped since it is a small amount\n",
    "aviation_data_cleaned = aviation_data_cleaned[aviation_data_cleaned['number_of_engines'].notna()]"
   ]
  },
  {
   "attachments": {},
   "cell_type": "markdown",
   "metadata": {
    "ExecuteTime": {
     "end_time": "2023-04-18T16:29:18.607871Z",
     "start_time": "2023-04-18T16:29:18.596599Z"
    }
   },
   "source": [
    "**Engine Type**\n",
    "- We can take a similar map approach as the number of engines"
   ]
  },
  {
   "cell_type": "code",
   "execution_count": 74,
   "metadata": {
    "ExecuteTime": {
     "end_time": "2023-04-21T15:50:41.873695Z",
     "start_time": "2023-04-21T15:50:41.819441Z"
    }
   },
   "outputs": [
    {
     "data": {
      "text/html": [
       "<div>\n",
       "<style scoped>\n",
       "    .dataframe tbody tr th:only-of-type {\n",
       "        vertical-align: middle;\n",
       "    }\n",
       "\n",
       "    .dataframe tbody tr th {\n",
       "        vertical-align: top;\n",
       "    }\n",
       "\n",
       "    .dataframe thead th {\n",
       "        text-align: right;\n",
       "    }\n",
       "</style>\n",
       "<table border=\"1\" class=\"dataframe\">\n",
       "  <thead>\n",
       "    <tr style=\"text-align: right;\">\n",
       "      <th></th>\n",
       "      <th>make</th>\n",
       "      <th>model</th>\n",
       "      <th>engine_type</th>\n",
       "      <th>count</th>\n",
       "    </tr>\n",
       "  </thead>\n",
       "  <tbody>\n",
       "    <tr>\n",
       "      <th>0</th>\n",
       "      <td>177MF LLC</td>\n",
       "      <td>PITTS MODEL 12</td>\n",
       "      <td>Reciprocating</td>\n",
       "      <td>1</td>\n",
       "    </tr>\n",
       "    <tr>\n",
       "      <th>1</th>\n",
       "      <td>2021FX3 LLC</td>\n",
       "      <td>CCX-2000</td>\n",
       "      <td>Reciprocating</td>\n",
       "      <td>1</td>\n",
       "    </tr>\n",
       "    <tr>\n",
       "      <th>2</th>\n",
       "      <td>AB SPORTINE AVIACIJA</td>\n",
       "      <td>LAK 17</td>\n",
       "      <td>Reciprocating</td>\n",
       "      <td>1</td>\n",
       "    </tr>\n",
       "    <tr>\n",
       "      <th>3</th>\n",
       "      <td>AERO ADVENTURE</td>\n",
       "      <td>ZEPHYR II</td>\n",
       "      <td>Reciprocating</td>\n",
       "      <td>1</td>\n",
       "    </tr>\n",
       "    <tr>\n",
       "      <th>4</th>\n",
       "      <td>AERO AT SP ZOO</td>\n",
       "      <td>AT-4 LSA</td>\n",
       "      <td>Reciprocating</td>\n",
       "      <td>1</td>\n",
       "    </tr>\n",
       "    <tr>\n",
       "      <th>...</th>\n",
       "      <td>...</td>\n",
       "      <td>...</td>\n",
       "      <td>...</td>\n",
       "      <td>...</td>\n",
       "    </tr>\n",
       "    <tr>\n",
       "      <th>9923</th>\n",
       "      <td>de Havilland</td>\n",
       "      <td>DHC-2</td>\n",
       "      <td>Reciprocating</td>\n",
       "      <td>4</td>\n",
       "    </tr>\n",
       "    <tr>\n",
       "      <th>9924</th>\n",
       "      <td>de Havilland</td>\n",
       "      <td>DHC-2 MK I</td>\n",
       "      <td>Reciprocating</td>\n",
       "      <td>1</td>\n",
       "    </tr>\n",
       "    <tr>\n",
       "      <th>9925</th>\n",
       "      <td>de Havilland</td>\n",
       "      <td>DHC-3</td>\n",
       "      <td>Turbo Prop</td>\n",
       "      <td>1</td>\n",
       "    </tr>\n",
       "    <tr>\n",
       "      <th>9926</th>\n",
       "      <td>de Havilland</td>\n",
       "      <td>DHC-6-200</td>\n",
       "      <td>Turbo Prop</td>\n",
       "      <td>1</td>\n",
       "    </tr>\n",
       "    <tr>\n",
       "      <th>9927</th>\n",
       "      <td>de Havilland</td>\n",
       "      <td>DHC-8-202</td>\n",
       "      <td>Turbo Prop</td>\n",
       "      <td>1</td>\n",
       "    </tr>\n",
       "  </tbody>\n",
       "</table>\n",
       "<p>9928 rows × 4 columns</p>\n",
       "</div>"
      ],
      "text/plain": [
       "                      make           model    engine_type  count\n",
       "0                177MF LLC  PITTS MODEL 12  Reciprocating      1\n",
       "1              2021FX3 LLC        CCX-2000  Reciprocating      1\n",
       "2     AB SPORTINE AVIACIJA          LAK 17  Reciprocating      1\n",
       "3           AERO ADVENTURE       ZEPHYR II  Reciprocating      1\n",
       "4           AERO AT SP ZOO        AT-4 LSA  Reciprocating      1\n",
       "...                    ...             ...            ...    ...\n",
       "9923          de Havilland           DHC-2  Reciprocating      4\n",
       "9924          de Havilland      DHC-2 MK I  Reciprocating      1\n",
       "9925          de Havilland           DHC-3     Turbo Prop      1\n",
       "9926          de Havilland       DHC-6-200     Turbo Prop      1\n",
       "9927          de Havilland       DHC-8-202     Turbo Prop      1\n",
       "\n",
       "[9928 rows x 4 columns]"
      ]
     },
     "execution_count": 74,
     "metadata": {},
     "output_type": "execute_result"
    }
   ],
   "source": [
    "# Create a map for the engine type based on the make and model\n",
    "engine_type_dict = aviation_data_cleaned.groupby(['make', 'model', 'engine_type']).size().reset_index().rename(columns={0:'count'})\n",
    "engine_type_dict"
   ]
  },
  {
   "cell_type": "code",
   "execution_count": 75,
   "metadata": {
    "ExecuteTime": {
     "end_time": "2023-04-21T15:50:41.890192Z",
     "start_time": "2023-04-21T15:50:41.875765Z"
    }
   },
   "outputs": [
    {
     "data": {
      "text/plain": [
       "0"
      ]
     },
     "execution_count": 75,
     "metadata": {},
     "output_type": "execute_result"
    }
   ],
   "source": [
    "# Check for Duplicates\n",
    "engine_type_dict[['make', 'model', 'engine_type']].duplicated().sum()"
   ]
  },
  {
   "cell_type": "code",
   "execution_count": 76,
   "metadata": {
    "ExecuteTime": {
     "end_time": "2023-04-21T15:50:41.935442Z",
     "start_time": "2023-04-21T15:50:41.894751Z"
    },
    "scrolled": true
   },
   "outputs": [
    {
     "data": {
      "text/html": [
       "<div>\n",
       "<style scoped>\n",
       "    .dataframe tbody tr th:only-of-type {\n",
       "        vertical-align: middle;\n",
       "    }\n",
       "\n",
       "    .dataframe tbody tr th {\n",
       "        vertical-align: top;\n",
       "    }\n",
       "\n",
       "    .dataframe thead th {\n",
       "        text-align: right;\n",
       "    }\n",
       "</style>\n",
       "<table border=\"1\" class=\"dataframe\">\n",
       "  <thead>\n",
       "    <tr style=\"text-align: right;\">\n",
       "      <th></th>\n",
       "      <th>make</th>\n",
       "      <th>model</th>\n",
       "      <th>engine_type</th>\n",
       "      <th>count</th>\n",
       "      <th>make_model</th>\n",
       "    </tr>\n",
       "  </thead>\n",
       "  <tbody>\n",
       "    <tr>\n",
       "      <th>0</th>\n",
       "      <td>177MF LLC</td>\n",
       "      <td>PITTS MODEL 12</td>\n",
       "      <td>Reciprocating</td>\n",
       "      <td>1</td>\n",
       "      <td>(177MF LLC, PITTS MODEL 12)</td>\n",
       "    </tr>\n",
       "    <tr>\n",
       "      <th>1</th>\n",
       "      <td>2021FX3 LLC</td>\n",
       "      <td>CCX-2000</td>\n",
       "      <td>Reciprocating</td>\n",
       "      <td>1</td>\n",
       "      <td>(2021FX3 LLC, CCX-2000)</td>\n",
       "    </tr>\n",
       "    <tr>\n",
       "      <th>2</th>\n",
       "      <td>AB SPORTINE AVIACIJA</td>\n",
       "      <td>LAK 17</td>\n",
       "      <td>Reciprocating</td>\n",
       "      <td>1</td>\n",
       "      <td>(AB SPORTINE AVIACIJA, LAK 17)</td>\n",
       "    </tr>\n",
       "    <tr>\n",
       "      <th>3</th>\n",
       "      <td>AERO ADVENTURE</td>\n",
       "      <td>ZEPHYR II</td>\n",
       "      <td>Reciprocating</td>\n",
       "      <td>1</td>\n",
       "      <td>(AERO ADVENTURE, ZEPHYR II)</td>\n",
       "    </tr>\n",
       "    <tr>\n",
       "      <th>4</th>\n",
       "      <td>AERO AT SP ZOO</td>\n",
       "      <td>AT-4 LSA</td>\n",
       "      <td>Reciprocating</td>\n",
       "      <td>1</td>\n",
       "      <td>(AERO AT SP ZOO, AT-4 LSA)</td>\n",
       "    </tr>\n",
       "  </tbody>\n",
       "</table>\n",
       "</div>"
      ],
      "text/plain": [
       "                   make           model    engine_type  count  \\\n",
       "0             177MF LLC  PITTS MODEL 12  Reciprocating      1   \n",
       "1           2021FX3 LLC        CCX-2000  Reciprocating      1   \n",
       "2  AB SPORTINE AVIACIJA          LAK 17  Reciprocating      1   \n",
       "3        AERO ADVENTURE       ZEPHYR II  Reciprocating      1   \n",
       "4        AERO AT SP ZOO        AT-4 LSA  Reciprocating      1   \n",
       "\n",
       "                       make_model  \n",
       "0     (177MF LLC, PITTS MODEL 12)  \n",
       "1         (2021FX3 LLC, CCX-2000)  \n",
       "2  (AB SPORTINE AVIACIJA, LAK 17)  \n",
       "3     (AERO ADVENTURE, ZEPHYR II)  \n",
       "4      (AERO AT SP ZOO, AT-4 LSA)  "
      ]
     },
     "execution_count": 76,
     "metadata": {},
     "output_type": "execute_result"
    }
   ],
   "source": [
    "# Create a new column to map the data to\n",
    "engine_type_dict['make_model'] = tuple(zip(engine_type_dict['make'], engine_type_dict['model']))\n",
    "engine_type_dict.head()"
   ]
  },
  {
   "cell_type": "code",
   "execution_count": 77,
   "metadata": {
    "ExecuteTime": {
     "end_time": "2023-04-21T15:50:41.964711Z",
     "start_time": "2023-04-21T15:50:41.937991Z"
    }
   },
   "outputs": [
    {
     "data": {
      "text/plain": [
       "[('177MF LLC', 'PITTS MODEL 12'),\n",
       " ('2021FX3 LLC', 'CCX-2000'),\n",
       " ('AB SPORTINE AVIACIJA', 'LAK 17'),\n",
       " ('AERO ADVENTURE', 'ZEPHYR II'),\n",
       " ('AERO AT SP ZOO', 'AT-4 LSA')]"
      ]
     },
     "execution_count": 77,
     "metadata": {},
     "output_type": "execute_result"
    }
   ],
   "source": [
    "# Make this data frame into a map\n",
    "engine_type_map = dict(zip(engine_type_dict['make_model'], engine_type_dict['engine_type']))\n",
    "list(engine_type_map.keys())[:5]"
   ]
  },
  {
   "cell_type": "code",
   "execution_count": 78,
   "metadata": {
    "ExecuteTime": {
     "end_time": "2023-04-21T15:50:42.315650Z",
     "start_time": "2023-04-21T15:50:42.000191Z"
    },
    "scrolled": true
   },
   "outputs": [
    {
     "data": {
      "text/html": [
       "<div>\n",
       "<style scoped>\n",
       "    .dataframe tbody tr th:only-of-type {\n",
       "        vertical-align: middle;\n",
       "    }\n",
       "\n",
       "    .dataframe tbody tr th {\n",
       "        vertical-align: top;\n",
       "    }\n",
       "\n",
       "    .dataframe thead th {\n",
       "        text-align: right;\n",
       "    }\n",
       "</style>\n",
       "<table border=\"1\" class=\"dataframe\">\n",
       "  <thead>\n",
       "    <tr style=\"text-align: right;\">\n",
       "      <th></th>\n",
       "      <th>event_date</th>\n",
       "      <th>location</th>\n",
       "      <th>airport_code</th>\n",
       "      <th>airport_name</th>\n",
       "      <th>injury_severity</th>\n",
       "      <th>aircraft_damage</th>\n",
       "      <th>make</th>\n",
       "      <th>model</th>\n",
       "      <th>number_of_engines</th>\n",
       "      <th>engine_type</th>\n",
       "      <th>purpose_of_flight</th>\n",
       "      <th>total_fatal_injuries</th>\n",
       "      <th>total_serious_injuries</th>\n",
       "      <th>total_minor_injuries</th>\n",
       "      <th>total_uninjured</th>\n",
       "      <th>weather_condition</th>\n",
       "      <th>broad_phase_of_flight</th>\n",
       "      <th>engine_number_map</th>\n",
       "      <th>engine_type_map</th>\n",
       "    </tr>\n",
       "  </thead>\n",
       "  <tbody>\n",
       "    <tr>\n",
       "      <th>7</th>\n",
       "      <td>1982-01-01</td>\n",
       "      <td>PULLMAN, WA</td>\n",
       "      <td>Unknown</td>\n",
       "      <td>BLACKBURN AG STRIP</td>\n",
       "      <td>Non-Fatal</td>\n",
       "      <td>Substantial</td>\n",
       "      <td>Cessna</td>\n",
       "      <td>140</td>\n",
       "      <td>1.0</td>\n",
       "      <td>Reciprocating</td>\n",
       "      <td>Personal</td>\n",
       "      <td>0.0</td>\n",
       "      <td>0.0</td>\n",
       "      <td>0.0</td>\n",
       "      <td>2.0</td>\n",
       "      <td>VMC</td>\n",
       "      <td>Takeoff</td>\n",
       "      <td>1.0</td>\n",
       "      <td>Reciprocating</td>\n",
       "    </tr>\n",
       "    <tr>\n",
       "      <th>8</th>\n",
       "      <td>1982-01-01</td>\n",
       "      <td>EAST HANOVER, NJ</td>\n",
       "      <td>N58</td>\n",
       "      <td>HANOVER</td>\n",
       "      <td>Non-Fatal</td>\n",
       "      <td>Substantial</td>\n",
       "      <td>Cessna</td>\n",
       "      <td>401B</td>\n",
       "      <td>2.0</td>\n",
       "      <td>Reciprocating</td>\n",
       "      <td>Business</td>\n",
       "      <td>0.0</td>\n",
       "      <td>0.0</td>\n",
       "      <td>0.0</td>\n",
       "      <td>2.0</td>\n",
       "      <td>IMC</td>\n",
       "      <td>Landing</td>\n",
       "      <td>2.0</td>\n",
       "      <td>Reciprocating</td>\n",
       "    </tr>\n",
       "    <tr>\n",
       "      <th>9</th>\n",
       "      <td>1982-01-01</td>\n",
       "      <td>JACKSONVILLE, FL</td>\n",
       "      <td>JAX</td>\n",
       "      <td>JACKSONVILLE INTL</td>\n",
       "      <td>Non-Fatal</td>\n",
       "      <td>Substantial</td>\n",
       "      <td>North American</td>\n",
       "      <td>NAVION L-17B</td>\n",
       "      <td>1.0</td>\n",
       "      <td>Reciprocating</td>\n",
       "      <td>Personal</td>\n",
       "      <td>0.0</td>\n",
       "      <td>0.0</td>\n",
       "      <td>3.0</td>\n",
       "      <td>0.0</td>\n",
       "      <td>IMC</td>\n",
       "      <td>Cruise</td>\n",
       "      <td>1.0</td>\n",
       "      <td>Reciprocating</td>\n",
       "    </tr>\n",
       "    <tr>\n",
       "      <th>10</th>\n",
       "      <td>1982-01-01</td>\n",
       "      <td>HOBBS, NM</td>\n",
       "      <td>Unknown</td>\n",
       "      <td>Unknown</td>\n",
       "      <td>Non-Fatal</td>\n",
       "      <td>Substantial</td>\n",
       "      <td>Piper</td>\n",
       "      <td>PA-28-161</td>\n",
       "      <td>1.0</td>\n",
       "      <td>Reciprocating</td>\n",
       "      <td>Personal</td>\n",
       "      <td>0.0</td>\n",
       "      <td>0.0</td>\n",
       "      <td>0.0</td>\n",
       "      <td>1.0</td>\n",
       "      <td>VMC</td>\n",
       "      <td>Approach</td>\n",
       "      <td>1.0</td>\n",
       "      <td>Unknown</td>\n",
       "    </tr>\n",
       "    <tr>\n",
       "      <th>11</th>\n",
       "      <td>1982-01-01</td>\n",
       "      <td>TUSKEGEE, AL</td>\n",
       "      <td>Unknown</td>\n",
       "      <td>TUSKEGEE</td>\n",
       "      <td>Non-Fatal</td>\n",
       "      <td>Substantial</td>\n",
       "      <td>Beech</td>\n",
       "      <td>V35B</td>\n",
       "      <td>1.0</td>\n",
       "      <td>Reciprocating</td>\n",
       "      <td>Personal</td>\n",
       "      <td>0.0</td>\n",
       "      <td>0.0</td>\n",
       "      <td>0.0</td>\n",
       "      <td>1.0</td>\n",
       "      <td>VMC</td>\n",
       "      <td>Landing</td>\n",
       "      <td>1.0</td>\n",
       "      <td>Reciprocating</td>\n",
       "    </tr>\n",
       "  </tbody>\n",
       "</table>\n",
       "</div>"
      ],
      "text/plain": [
       "   event_date          location airport_code        airport_name  \\\n",
       "7  1982-01-01       PULLMAN, WA      Unknown  BLACKBURN AG STRIP   \n",
       "8  1982-01-01  EAST HANOVER, NJ          N58             HANOVER   \n",
       "9  1982-01-01  JACKSONVILLE, FL          JAX   JACKSONVILLE INTL   \n",
       "10 1982-01-01         HOBBS, NM      Unknown             Unknown   \n",
       "11 1982-01-01      TUSKEGEE, AL      Unknown            TUSKEGEE   \n",
       "\n",
       "   injury_severity aircraft_damage            make         model  \\\n",
       "7        Non-Fatal     Substantial          Cessna           140   \n",
       "8        Non-Fatal     Substantial          Cessna          401B   \n",
       "9        Non-Fatal     Substantial  North American  NAVION L-17B   \n",
       "10       Non-Fatal     Substantial           Piper     PA-28-161   \n",
       "11       Non-Fatal     Substantial           Beech          V35B   \n",
       "\n",
       "    number_of_engines    engine_type purpose_of_flight  total_fatal_injuries  \\\n",
       "7                 1.0  Reciprocating          Personal                   0.0   \n",
       "8                 2.0  Reciprocating          Business                   0.0   \n",
       "9                 1.0  Reciprocating          Personal                   0.0   \n",
       "10                1.0  Reciprocating          Personal                   0.0   \n",
       "11                1.0  Reciprocating          Personal                   0.0   \n",
       "\n",
       "    total_serious_injuries  total_minor_injuries  total_uninjured  \\\n",
       "7                      0.0                   0.0              2.0   \n",
       "8                      0.0                   0.0              2.0   \n",
       "9                      0.0                   3.0              0.0   \n",
       "10                     0.0                   0.0              1.0   \n",
       "11                     0.0                   0.0              1.0   \n",
       "\n",
       "   weather_condition broad_phase_of_flight  engine_number_map engine_type_map  \n",
       "7                VMC               Takeoff                1.0   Reciprocating  \n",
       "8                IMC               Landing                2.0   Reciprocating  \n",
       "9                IMC                Cruise                1.0   Reciprocating  \n",
       "10               VMC              Approach                1.0         Unknown  \n",
       "11               VMC               Landing                1.0   Reciprocating  "
      ]
     },
     "execution_count": 78,
     "metadata": {},
     "output_type": "execute_result"
    }
   ],
   "source": [
    "# Map the engine type to a column\n",
    "aviation_data_cleaned['engine_type_map'] = tuple(zip(aviation_data_cleaned['make'], aviation_data_cleaned['model']))\n",
    "aviation_data_cleaned['engine_type_map'] = aviation_data_cleaned['engine_type_map'].map(engine_type_map)\n",
    "aviation_data_cleaned.head()\n"
   ]
  },
  {
   "cell_type": "code",
   "execution_count": 79,
   "metadata": {
    "ExecuteTime": {
     "end_time": "2023-04-21T15:50:42.325664Z",
     "start_time": "2023-04-21T15:50:42.318173Z"
    }
   },
   "outputs": [],
   "source": [
    "# Fill the missing number of engine data with the best guess based on make and model\n",
    "aviation_data_cleaned['engine_type'].fillna(value=aviation_data_cleaned['engine_type_map'], inplace=True)"
   ]
  },
  {
   "cell_type": "code",
   "execution_count": 80,
   "metadata": {
    "ExecuteTime": {
     "end_time": "2023-04-21T15:50:42.338338Z",
     "start_time": "2023-04-21T15:50:42.330512Z"
    }
   },
   "outputs": [
    {
     "data": {
      "text/plain": [
       "781"
      ]
     },
     "execution_count": 80,
     "metadata": {},
     "output_type": "execute_result"
    }
   ],
   "source": [
    "# Check out null counts\n",
    "aviation_data_cleaned['engine_type'].isna().sum()"
   ]
  },
  {
   "cell_type": "code",
   "execution_count": 81,
   "metadata": {
    "ExecuteTime": {
     "end_time": "2023-04-21T15:50:42.348602Z",
     "start_time": "2023-04-21T15:50:42.341314Z"
    }
   },
   "outputs": [],
   "source": [
    "# We still have some null values so lets replace the rest with 'Unknown'\n",
    "aviation_data_cleaned['engine_type'].fillna(value='Unknown', inplace=True)"
   ]
  },
  {
   "cell_type": "code",
   "execution_count": 82,
   "metadata": {
    "ExecuteTime": {
     "end_time": "2023-04-21T15:50:42.363394Z",
     "start_time": "2023-04-21T15:50:42.350664Z"
    }
   },
   "outputs": [
    {
     "data": {
      "text/plain": [
       "0"
      ]
     },
     "execution_count": 82,
     "metadata": {},
     "output_type": "execute_result"
    }
   ],
   "source": [
    "# Check out null counts\n",
    "aviation_data_cleaned['engine_type'].isna().sum()"
   ]
  },
  {
   "cell_type": "code",
   "execution_count": 83,
   "metadata": {
    "ExecuteTime": {
     "end_time": "2023-04-21T15:50:42.394610Z",
     "start_time": "2023-04-21T15:50:42.365687Z"
    }
   },
   "outputs": [],
   "source": [
    "# Drop Extra Columns\n",
    "aviation_data_cleaned.drop(columns=['engine_number_map', 'engine_type_map'], inplace=True)"
   ]
  },
  {
   "cell_type": "code",
   "execution_count": 84,
   "metadata": {
    "ExecuteTime": {
     "end_time": "2023-04-21T15:50:42.448486Z",
     "start_time": "2023-04-21T15:50:42.400504Z"
    },
    "scrolled": true
   },
   "outputs": [
    {
     "data": {
      "text/plain": [
       "event_date                0\n",
       "location                  0\n",
       "airport_code              0\n",
       "airport_name              0\n",
       "injury_severity           0\n",
       "aircraft_damage           0\n",
       "make                      0\n",
       "model                     0\n",
       "number_of_engines         0\n",
       "engine_type               0\n",
       "purpose_of_flight         0\n",
       "total_fatal_injuries      0\n",
       "total_serious_injuries    0\n",
       "total_minor_injuries      0\n",
       "total_uninjured           0\n",
       "weather_condition         0\n",
       "broad_phase_of_flight     0\n",
       "dtype: int64"
      ]
     },
     "execution_count": 84,
     "metadata": {},
     "output_type": "execute_result"
    }
   ],
   "source": [
    "# Check out null counts for dataset\n",
    "aviation_data_cleaned.isna().sum()"
   ]
  },
  {
   "cell_type": "code",
   "execution_count": 85,
   "metadata": {
    "ExecuteTime": {
     "end_time": "2023-04-21T15:50:42.481820Z",
     "start_time": "2023-04-21T15:50:42.451228Z"
    },
    "scrolled": false
   },
   "outputs": [
    {
     "data": {
      "text/html": [
       "<div>\n",
       "<style scoped>\n",
       "    .dataframe tbody tr th:only-of-type {\n",
       "        vertical-align: middle;\n",
       "    }\n",
       "\n",
       "    .dataframe tbody tr th {\n",
       "        vertical-align: top;\n",
       "    }\n",
       "\n",
       "    .dataframe thead th {\n",
       "        text-align: right;\n",
       "    }\n",
       "</style>\n",
       "<table border=\"1\" class=\"dataframe\">\n",
       "  <thead>\n",
       "    <tr style=\"text-align: right;\">\n",
       "      <th></th>\n",
       "      <th>event_date</th>\n",
       "      <th>location</th>\n",
       "      <th>airport_code</th>\n",
       "      <th>airport_name</th>\n",
       "      <th>injury_severity</th>\n",
       "      <th>aircraft_damage</th>\n",
       "      <th>make</th>\n",
       "      <th>model</th>\n",
       "      <th>number_of_engines</th>\n",
       "      <th>engine_type</th>\n",
       "      <th>purpose_of_flight</th>\n",
       "      <th>total_fatal_injuries</th>\n",
       "      <th>total_serious_injuries</th>\n",
       "      <th>total_minor_injuries</th>\n",
       "      <th>total_uninjured</th>\n",
       "      <th>weather_condition</th>\n",
       "      <th>broad_phase_of_flight</th>\n",
       "    </tr>\n",
       "  </thead>\n",
       "  <tbody>\n",
       "    <tr>\n",
       "      <th>7</th>\n",
       "      <td>1982-01-01</td>\n",
       "      <td>PULLMAN, WA</td>\n",
       "      <td>Unknown</td>\n",
       "      <td>BLACKBURN AG STRIP</td>\n",
       "      <td>Non-Fatal</td>\n",
       "      <td>Substantial</td>\n",
       "      <td>Cessna</td>\n",
       "      <td>140</td>\n",
       "      <td>1.0</td>\n",
       "      <td>Reciprocating</td>\n",
       "      <td>Personal</td>\n",
       "      <td>0.0</td>\n",
       "      <td>0.0</td>\n",
       "      <td>0.0</td>\n",
       "      <td>2.0</td>\n",
       "      <td>VMC</td>\n",
       "      <td>Takeoff</td>\n",
       "    </tr>\n",
       "    <tr>\n",
       "      <th>8</th>\n",
       "      <td>1982-01-01</td>\n",
       "      <td>EAST HANOVER, NJ</td>\n",
       "      <td>N58</td>\n",
       "      <td>HANOVER</td>\n",
       "      <td>Non-Fatal</td>\n",
       "      <td>Substantial</td>\n",
       "      <td>Cessna</td>\n",
       "      <td>401B</td>\n",
       "      <td>2.0</td>\n",
       "      <td>Reciprocating</td>\n",
       "      <td>Business</td>\n",
       "      <td>0.0</td>\n",
       "      <td>0.0</td>\n",
       "      <td>0.0</td>\n",
       "      <td>2.0</td>\n",
       "      <td>IMC</td>\n",
       "      <td>Landing</td>\n",
       "    </tr>\n",
       "    <tr>\n",
       "      <th>9</th>\n",
       "      <td>1982-01-01</td>\n",
       "      <td>JACKSONVILLE, FL</td>\n",
       "      <td>JAX</td>\n",
       "      <td>JACKSONVILLE INTL</td>\n",
       "      <td>Non-Fatal</td>\n",
       "      <td>Substantial</td>\n",
       "      <td>North American</td>\n",
       "      <td>NAVION L-17B</td>\n",
       "      <td>1.0</td>\n",
       "      <td>Reciprocating</td>\n",
       "      <td>Personal</td>\n",
       "      <td>0.0</td>\n",
       "      <td>0.0</td>\n",
       "      <td>3.0</td>\n",
       "      <td>0.0</td>\n",
       "      <td>IMC</td>\n",
       "      <td>Cruise</td>\n",
       "    </tr>\n",
       "    <tr>\n",
       "      <th>10</th>\n",
       "      <td>1982-01-01</td>\n",
       "      <td>HOBBS, NM</td>\n",
       "      <td>Unknown</td>\n",
       "      <td>Unknown</td>\n",
       "      <td>Non-Fatal</td>\n",
       "      <td>Substantial</td>\n",
       "      <td>Piper</td>\n",
       "      <td>PA-28-161</td>\n",
       "      <td>1.0</td>\n",
       "      <td>Reciprocating</td>\n",
       "      <td>Personal</td>\n",
       "      <td>0.0</td>\n",
       "      <td>0.0</td>\n",
       "      <td>0.0</td>\n",
       "      <td>1.0</td>\n",
       "      <td>VMC</td>\n",
       "      <td>Approach</td>\n",
       "    </tr>\n",
       "    <tr>\n",
       "      <th>11</th>\n",
       "      <td>1982-01-01</td>\n",
       "      <td>TUSKEGEE, AL</td>\n",
       "      <td>Unknown</td>\n",
       "      <td>TUSKEGEE</td>\n",
       "      <td>Non-Fatal</td>\n",
       "      <td>Substantial</td>\n",
       "      <td>Beech</td>\n",
       "      <td>V35B</td>\n",
       "      <td>1.0</td>\n",
       "      <td>Reciprocating</td>\n",
       "      <td>Personal</td>\n",
       "      <td>0.0</td>\n",
       "      <td>0.0</td>\n",
       "      <td>0.0</td>\n",
       "      <td>1.0</td>\n",
       "      <td>VMC</td>\n",
       "      <td>Landing</td>\n",
       "    </tr>\n",
       "    <tr>\n",
       "      <th>...</th>\n",
       "      <td>...</td>\n",
       "      <td>...</td>\n",
       "      <td>...</td>\n",
       "      <td>...</td>\n",
       "      <td>...</td>\n",
       "      <td>...</td>\n",
       "      <td>...</td>\n",
       "      <td>...</td>\n",
       "      <td>...</td>\n",
       "      <td>...</td>\n",
       "      <td>...</td>\n",
       "      <td>...</td>\n",
       "      <td>...</td>\n",
       "      <td>...</td>\n",
       "      <td>...</td>\n",
       "      <td>...</td>\n",
       "      <td>...</td>\n",
       "    </tr>\n",
       "    <tr>\n",
       "      <th>90340</th>\n",
       "      <td>2022-12-21</td>\n",
       "      <td>Auburn Hills, MI</td>\n",
       "      <td>Unknown</td>\n",
       "      <td>Unknown</td>\n",
       "      <td>Minor</td>\n",
       "      <td>Unknown</td>\n",
       "      <td>CESSNA</td>\n",
       "      <td>172F</td>\n",
       "      <td>1.0</td>\n",
       "      <td>Reciprocating</td>\n",
       "      <td>Personal</td>\n",
       "      <td>0.0</td>\n",
       "      <td>1.0</td>\n",
       "      <td>0.0</td>\n",
       "      <td>0.0</td>\n",
       "      <td>Unknown</td>\n",
       "      <td>Unknown</td>\n",
       "    </tr>\n",
       "    <tr>\n",
       "      <th>90341</th>\n",
       "      <td>2022-12-21</td>\n",
       "      <td>Reserve, LA</td>\n",
       "      <td>Unknown</td>\n",
       "      <td>Unknown</td>\n",
       "      <td>Minor</td>\n",
       "      <td>Unknown</td>\n",
       "      <td>GRUMMAN AMERICAN AVN. CORP.</td>\n",
       "      <td>AA-5B</td>\n",
       "      <td>1.0</td>\n",
       "      <td>Reciprocating</td>\n",
       "      <td>Instructional</td>\n",
       "      <td>0.0</td>\n",
       "      <td>1.0</td>\n",
       "      <td>0.0</td>\n",
       "      <td>1.0</td>\n",
       "      <td>Unknown</td>\n",
       "      <td>Unknown</td>\n",
       "    </tr>\n",
       "    <tr>\n",
       "      <th>90343</th>\n",
       "      <td>2022-12-26</td>\n",
       "      <td>Annapolis, MD</td>\n",
       "      <td>Unknown</td>\n",
       "      <td>Unknown</td>\n",
       "      <td>Minor</td>\n",
       "      <td>Unknown</td>\n",
       "      <td>PIPER</td>\n",
       "      <td>PA-28-151</td>\n",
       "      <td>1.0</td>\n",
       "      <td>Reciprocating</td>\n",
       "      <td>Personal</td>\n",
       "      <td>0.0</td>\n",
       "      <td>1.0</td>\n",
       "      <td>0.0</td>\n",
       "      <td>0.0</td>\n",
       "      <td>Unknown</td>\n",
       "      <td>Unknown</td>\n",
       "    </tr>\n",
       "    <tr>\n",
       "      <th>90345</th>\n",
       "      <td>2022-12-26</td>\n",
       "      <td>Payson, AZ</td>\n",
       "      <td>PAN</td>\n",
       "      <td>PAYSON</td>\n",
       "      <td>Non-Fatal</td>\n",
       "      <td>Substantial</td>\n",
       "      <td>AMERICAN CHAMPION AIRCRAFT</td>\n",
       "      <td>8GCBC</td>\n",
       "      <td>1.0</td>\n",
       "      <td>Reciprocating</td>\n",
       "      <td>Personal</td>\n",
       "      <td>0.0</td>\n",
       "      <td>0.0</td>\n",
       "      <td>0.0</td>\n",
       "      <td>1.0</td>\n",
       "      <td>VMC</td>\n",
       "      <td>Unknown</td>\n",
       "    </tr>\n",
       "    <tr>\n",
       "      <th>90347</th>\n",
       "      <td>2022-12-29</td>\n",
       "      <td>Athens, GA</td>\n",
       "      <td>Unknown</td>\n",
       "      <td>Unknown</td>\n",
       "      <td>Minor</td>\n",
       "      <td>Unknown</td>\n",
       "      <td>PIPER</td>\n",
       "      <td>PA-24-260</td>\n",
       "      <td>1.0</td>\n",
       "      <td>Reciprocating</td>\n",
       "      <td>Personal</td>\n",
       "      <td>0.0</td>\n",
       "      <td>1.0</td>\n",
       "      <td>0.0</td>\n",
       "      <td>1.0</td>\n",
       "      <td>Unknown</td>\n",
       "      <td>Unknown</td>\n",
       "    </tr>\n",
       "  </tbody>\n",
       "</table>\n",
       "<p>70245 rows × 17 columns</p>\n",
       "</div>"
      ],
      "text/plain": [
       "      event_date          location airport_code        airport_name  \\\n",
       "7     1982-01-01       PULLMAN, WA      Unknown  BLACKBURN AG STRIP   \n",
       "8     1982-01-01  EAST HANOVER, NJ          N58             HANOVER   \n",
       "9     1982-01-01  JACKSONVILLE, FL          JAX   JACKSONVILLE INTL   \n",
       "10    1982-01-01         HOBBS, NM      Unknown             Unknown   \n",
       "11    1982-01-01      TUSKEGEE, AL      Unknown            TUSKEGEE   \n",
       "...          ...               ...          ...                 ...   \n",
       "90340 2022-12-21  Auburn Hills, MI      Unknown             Unknown   \n",
       "90341 2022-12-21       Reserve, LA      Unknown             Unknown   \n",
       "90343 2022-12-26     Annapolis, MD      Unknown             Unknown   \n",
       "90345 2022-12-26        Payson, AZ          PAN              PAYSON   \n",
       "90347 2022-12-29        Athens, GA      Unknown             Unknown   \n",
       "\n",
       "      injury_severity aircraft_damage                         make  \\\n",
       "7           Non-Fatal     Substantial                       Cessna   \n",
       "8           Non-Fatal     Substantial                       Cessna   \n",
       "9           Non-Fatal     Substantial               North American   \n",
       "10          Non-Fatal     Substantial                        Piper   \n",
       "11          Non-Fatal     Substantial                        Beech   \n",
       "...               ...             ...                          ...   \n",
       "90340           Minor         Unknown                       CESSNA   \n",
       "90341           Minor         Unknown  GRUMMAN AMERICAN AVN. CORP.   \n",
       "90343           Minor         Unknown                        PIPER   \n",
       "90345       Non-Fatal     Substantial   AMERICAN CHAMPION AIRCRAFT   \n",
       "90347           Minor         Unknown                        PIPER   \n",
       "\n",
       "              model  number_of_engines    engine_type purpose_of_flight  \\\n",
       "7               140                1.0  Reciprocating          Personal   \n",
       "8              401B                2.0  Reciprocating          Business   \n",
       "9      NAVION L-17B                1.0  Reciprocating          Personal   \n",
       "10        PA-28-161                1.0  Reciprocating          Personal   \n",
       "11             V35B                1.0  Reciprocating          Personal   \n",
       "...             ...                ...            ...               ...   \n",
       "90340          172F                1.0  Reciprocating          Personal   \n",
       "90341         AA-5B                1.0  Reciprocating     Instructional   \n",
       "90343     PA-28-151                1.0  Reciprocating          Personal   \n",
       "90345         8GCBC                1.0  Reciprocating          Personal   \n",
       "90347     PA-24-260                1.0  Reciprocating          Personal   \n",
       "\n",
       "       total_fatal_injuries  total_serious_injuries  total_minor_injuries  \\\n",
       "7                       0.0                     0.0                   0.0   \n",
       "8                       0.0                     0.0                   0.0   \n",
       "9                       0.0                     0.0                   3.0   \n",
       "10                      0.0                     0.0                   0.0   \n",
       "11                      0.0                     0.0                   0.0   \n",
       "...                     ...                     ...                   ...   \n",
       "90340                   0.0                     1.0                   0.0   \n",
       "90341                   0.0                     1.0                   0.0   \n",
       "90343                   0.0                     1.0                   0.0   \n",
       "90345                   0.0                     0.0                   0.0   \n",
       "90347                   0.0                     1.0                   0.0   \n",
       "\n",
       "       total_uninjured weather_condition broad_phase_of_flight  \n",
       "7                  2.0               VMC               Takeoff  \n",
       "8                  2.0               IMC               Landing  \n",
       "9                  0.0               IMC                Cruise  \n",
       "10                 1.0               VMC              Approach  \n",
       "11                 1.0               VMC               Landing  \n",
       "...                ...               ...                   ...  \n",
       "90340              0.0           Unknown               Unknown  \n",
       "90341              1.0           Unknown               Unknown  \n",
       "90343              0.0           Unknown               Unknown  \n",
       "90345              1.0               VMC               Unknown  \n",
       "90347              1.0           Unknown               Unknown  \n",
       "\n",
       "[70245 rows x 17 columns]"
      ]
     },
     "execution_count": 85,
     "metadata": {},
     "output_type": "execute_result"
    }
   ],
   "source": [
    "# Check out our dataset after filling in NaNs\n",
    "aviation_data_cleaned"
   ]
  },
  {
   "attachments": {},
   "cell_type": "markdown",
   "metadata": {},
   "source": [
    "## Creating New Columns"
   ]
  },
  {
   "attachments": {},
   "cell_type": "markdown",
   "metadata": {},
   "source": [
    "The first column we will create will be the passenger count collumn. We will be assuming that:\n",
    "- Passenger Count = [Total Injured] + [Total Uninjured]"
   ]
  },
  {
   "cell_type": "code",
   "execution_count": 87,
   "metadata": {
    "ExecuteTime": {
     "end_time": "2023-04-21T15:50:42.531738Z",
     "start_time": "2023-04-21T15:50:42.519744Z"
    }
   },
   "outputs": [],
   "source": [
    "aviation_data_cleaned['passenger_count'] = aviation_data_cleaned[['total_fatal_injuries','total_serious_injuries','total_minor_injuries','total_uninjured']].sum(axis=1)"
   ]
  },
  {
   "cell_type": "code",
   "execution_count": 88,
   "metadata": {
    "ExecuteTime": {
     "end_time": "2023-04-21T15:50:42.579103Z",
     "start_time": "2023-04-21T15:50:42.538017Z"
    }
   },
   "outputs": [
    {
     "data": {
      "text/html": [
       "<div>\n",
       "<style scoped>\n",
       "    .dataframe tbody tr th:only-of-type {\n",
       "        vertical-align: middle;\n",
       "    }\n",
       "\n",
       "    .dataframe tbody tr th {\n",
       "        vertical-align: top;\n",
       "    }\n",
       "\n",
       "    .dataframe thead th {\n",
       "        text-align: right;\n",
       "    }\n",
       "</style>\n",
       "<table border=\"1\" class=\"dataframe\">\n",
       "  <thead>\n",
       "    <tr style=\"text-align: right;\">\n",
       "      <th></th>\n",
       "      <th>event_date</th>\n",
       "      <th>location</th>\n",
       "      <th>airport_code</th>\n",
       "      <th>airport_name</th>\n",
       "      <th>injury_severity</th>\n",
       "      <th>aircraft_damage</th>\n",
       "      <th>make</th>\n",
       "      <th>model</th>\n",
       "      <th>number_of_engines</th>\n",
       "      <th>engine_type</th>\n",
       "      <th>purpose_of_flight</th>\n",
       "      <th>total_fatal_injuries</th>\n",
       "      <th>total_serious_injuries</th>\n",
       "      <th>total_minor_injuries</th>\n",
       "      <th>total_uninjured</th>\n",
       "      <th>weather_condition</th>\n",
       "      <th>broad_phase_of_flight</th>\n",
       "      <th>passenger_count</th>\n",
       "    </tr>\n",
       "  </thead>\n",
       "  <tbody>\n",
       "    <tr>\n",
       "      <th>7</th>\n",
       "      <td>1982-01-01</td>\n",
       "      <td>PULLMAN, WA</td>\n",
       "      <td>Unknown</td>\n",
       "      <td>BLACKBURN AG STRIP</td>\n",
       "      <td>Non-Fatal</td>\n",
       "      <td>Substantial</td>\n",
       "      <td>Cessna</td>\n",
       "      <td>140</td>\n",
       "      <td>1.0</td>\n",
       "      <td>Reciprocating</td>\n",
       "      <td>Personal</td>\n",
       "      <td>0.0</td>\n",
       "      <td>0.0</td>\n",
       "      <td>0.0</td>\n",
       "      <td>2.0</td>\n",
       "      <td>VMC</td>\n",
       "      <td>Takeoff</td>\n",
       "      <td>2.0</td>\n",
       "    </tr>\n",
       "    <tr>\n",
       "      <th>8</th>\n",
       "      <td>1982-01-01</td>\n",
       "      <td>EAST HANOVER, NJ</td>\n",
       "      <td>N58</td>\n",
       "      <td>HANOVER</td>\n",
       "      <td>Non-Fatal</td>\n",
       "      <td>Substantial</td>\n",
       "      <td>Cessna</td>\n",
       "      <td>401B</td>\n",
       "      <td>2.0</td>\n",
       "      <td>Reciprocating</td>\n",
       "      <td>Business</td>\n",
       "      <td>0.0</td>\n",
       "      <td>0.0</td>\n",
       "      <td>0.0</td>\n",
       "      <td>2.0</td>\n",
       "      <td>IMC</td>\n",
       "      <td>Landing</td>\n",
       "      <td>2.0</td>\n",
       "    </tr>\n",
       "    <tr>\n",
       "      <th>9</th>\n",
       "      <td>1982-01-01</td>\n",
       "      <td>JACKSONVILLE, FL</td>\n",
       "      <td>JAX</td>\n",
       "      <td>JACKSONVILLE INTL</td>\n",
       "      <td>Non-Fatal</td>\n",
       "      <td>Substantial</td>\n",
       "      <td>North American</td>\n",
       "      <td>NAVION L-17B</td>\n",
       "      <td>1.0</td>\n",
       "      <td>Reciprocating</td>\n",
       "      <td>Personal</td>\n",
       "      <td>0.0</td>\n",
       "      <td>0.0</td>\n",
       "      <td>3.0</td>\n",
       "      <td>0.0</td>\n",
       "      <td>IMC</td>\n",
       "      <td>Cruise</td>\n",
       "      <td>3.0</td>\n",
       "    </tr>\n",
       "    <tr>\n",
       "      <th>10</th>\n",
       "      <td>1982-01-01</td>\n",
       "      <td>HOBBS, NM</td>\n",
       "      <td>Unknown</td>\n",
       "      <td>Unknown</td>\n",
       "      <td>Non-Fatal</td>\n",
       "      <td>Substantial</td>\n",
       "      <td>Piper</td>\n",
       "      <td>PA-28-161</td>\n",
       "      <td>1.0</td>\n",
       "      <td>Reciprocating</td>\n",
       "      <td>Personal</td>\n",
       "      <td>0.0</td>\n",
       "      <td>0.0</td>\n",
       "      <td>0.0</td>\n",
       "      <td>1.0</td>\n",
       "      <td>VMC</td>\n",
       "      <td>Approach</td>\n",
       "      <td>1.0</td>\n",
       "    </tr>\n",
       "    <tr>\n",
       "      <th>11</th>\n",
       "      <td>1982-01-01</td>\n",
       "      <td>TUSKEGEE, AL</td>\n",
       "      <td>Unknown</td>\n",
       "      <td>TUSKEGEE</td>\n",
       "      <td>Non-Fatal</td>\n",
       "      <td>Substantial</td>\n",
       "      <td>Beech</td>\n",
       "      <td>V35B</td>\n",
       "      <td>1.0</td>\n",
       "      <td>Reciprocating</td>\n",
       "      <td>Personal</td>\n",
       "      <td>0.0</td>\n",
       "      <td>0.0</td>\n",
       "      <td>0.0</td>\n",
       "      <td>1.0</td>\n",
       "      <td>VMC</td>\n",
       "      <td>Landing</td>\n",
       "      <td>1.0</td>\n",
       "    </tr>\n",
       "    <tr>\n",
       "      <th>...</th>\n",
       "      <td>...</td>\n",
       "      <td>...</td>\n",
       "      <td>...</td>\n",
       "      <td>...</td>\n",
       "      <td>...</td>\n",
       "      <td>...</td>\n",
       "      <td>...</td>\n",
       "      <td>...</td>\n",
       "      <td>...</td>\n",
       "      <td>...</td>\n",
       "      <td>...</td>\n",
       "      <td>...</td>\n",
       "      <td>...</td>\n",
       "      <td>...</td>\n",
       "      <td>...</td>\n",
       "      <td>...</td>\n",
       "      <td>...</td>\n",
       "      <td>...</td>\n",
       "    </tr>\n",
       "    <tr>\n",
       "      <th>90340</th>\n",
       "      <td>2022-12-21</td>\n",
       "      <td>Auburn Hills, MI</td>\n",
       "      <td>Unknown</td>\n",
       "      <td>Unknown</td>\n",
       "      <td>Minor</td>\n",
       "      <td>Unknown</td>\n",
       "      <td>CESSNA</td>\n",
       "      <td>172F</td>\n",
       "      <td>1.0</td>\n",
       "      <td>Reciprocating</td>\n",
       "      <td>Personal</td>\n",
       "      <td>0.0</td>\n",
       "      <td>1.0</td>\n",
       "      <td>0.0</td>\n",
       "      <td>0.0</td>\n",
       "      <td>Unknown</td>\n",
       "      <td>Unknown</td>\n",
       "      <td>1.0</td>\n",
       "    </tr>\n",
       "    <tr>\n",
       "      <th>90341</th>\n",
       "      <td>2022-12-21</td>\n",
       "      <td>Reserve, LA</td>\n",
       "      <td>Unknown</td>\n",
       "      <td>Unknown</td>\n",
       "      <td>Minor</td>\n",
       "      <td>Unknown</td>\n",
       "      <td>GRUMMAN AMERICAN AVN. CORP.</td>\n",
       "      <td>AA-5B</td>\n",
       "      <td>1.0</td>\n",
       "      <td>Reciprocating</td>\n",
       "      <td>Instructional</td>\n",
       "      <td>0.0</td>\n",
       "      <td>1.0</td>\n",
       "      <td>0.0</td>\n",
       "      <td>1.0</td>\n",
       "      <td>Unknown</td>\n",
       "      <td>Unknown</td>\n",
       "      <td>2.0</td>\n",
       "    </tr>\n",
       "    <tr>\n",
       "      <th>90343</th>\n",
       "      <td>2022-12-26</td>\n",
       "      <td>Annapolis, MD</td>\n",
       "      <td>Unknown</td>\n",
       "      <td>Unknown</td>\n",
       "      <td>Minor</td>\n",
       "      <td>Unknown</td>\n",
       "      <td>PIPER</td>\n",
       "      <td>PA-28-151</td>\n",
       "      <td>1.0</td>\n",
       "      <td>Reciprocating</td>\n",
       "      <td>Personal</td>\n",
       "      <td>0.0</td>\n",
       "      <td>1.0</td>\n",
       "      <td>0.0</td>\n",
       "      <td>0.0</td>\n",
       "      <td>Unknown</td>\n",
       "      <td>Unknown</td>\n",
       "      <td>1.0</td>\n",
       "    </tr>\n",
       "    <tr>\n",
       "      <th>90345</th>\n",
       "      <td>2022-12-26</td>\n",
       "      <td>Payson, AZ</td>\n",
       "      <td>PAN</td>\n",
       "      <td>PAYSON</td>\n",
       "      <td>Non-Fatal</td>\n",
       "      <td>Substantial</td>\n",
       "      <td>AMERICAN CHAMPION AIRCRAFT</td>\n",
       "      <td>8GCBC</td>\n",
       "      <td>1.0</td>\n",
       "      <td>Reciprocating</td>\n",
       "      <td>Personal</td>\n",
       "      <td>0.0</td>\n",
       "      <td>0.0</td>\n",
       "      <td>0.0</td>\n",
       "      <td>1.0</td>\n",
       "      <td>VMC</td>\n",
       "      <td>Unknown</td>\n",
       "      <td>1.0</td>\n",
       "    </tr>\n",
       "    <tr>\n",
       "      <th>90347</th>\n",
       "      <td>2022-12-29</td>\n",
       "      <td>Athens, GA</td>\n",
       "      <td>Unknown</td>\n",
       "      <td>Unknown</td>\n",
       "      <td>Minor</td>\n",
       "      <td>Unknown</td>\n",
       "      <td>PIPER</td>\n",
       "      <td>PA-24-260</td>\n",
       "      <td>1.0</td>\n",
       "      <td>Reciprocating</td>\n",
       "      <td>Personal</td>\n",
       "      <td>0.0</td>\n",
       "      <td>1.0</td>\n",
       "      <td>0.0</td>\n",
       "      <td>1.0</td>\n",
       "      <td>Unknown</td>\n",
       "      <td>Unknown</td>\n",
       "      <td>2.0</td>\n",
       "    </tr>\n",
       "  </tbody>\n",
       "</table>\n",
       "<p>70245 rows × 18 columns</p>\n",
       "</div>"
      ],
      "text/plain": [
       "      event_date          location airport_code        airport_name  \\\n",
       "7     1982-01-01       PULLMAN, WA      Unknown  BLACKBURN AG STRIP   \n",
       "8     1982-01-01  EAST HANOVER, NJ          N58             HANOVER   \n",
       "9     1982-01-01  JACKSONVILLE, FL          JAX   JACKSONVILLE INTL   \n",
       "10    1982-01-01         HOBBS, NM      Unknown             Unknown   \n",
       "11    1982-01-01      TUSKEGEE, AL      Unknown            TUSKEGEE   \n",
       "...          ...               ...          ...                 ...   \n",
       "90340 2022-12-21  Auburn Hills, MI      Unknown             Unknown   \n",
       "90341 2022-12-21       Reserve, LA      Unknown             Unknown   \n",
       "90343 2022-12-26     Annapolis, MD      Unknown             Unknown   \n",
       "90345 2022-12-26        Payson, AZ          PAN              PAYSON   \n",
       "90347 2022-12-29        Athens, GA      Unknown             Unknown   \n",
       "\n",
       "      injury_severity aircraft_damage                         make  \\\n",
       "7           Non-Fatal     Substantial                       Cessna   \n",
       "8           Non-Fatal     Substantial                       Cessna   \n",
       "9           Non-Fatal     Substantial               North American   \n",
       "10          Non-Fatal     Substantial                        Piper   \n",
       "11          Non-Fatal     Substantial                        Beech   \n",
       "...               ...             ...                          ...   \n",
       "90340           Minor         Unknown                       CESSNA   \n",
       "90341           Minor         Unknown  GRUMMAN AMERICAN AVN. CORP.   \n",
       "90343           Minor         Unknown                        PIPER   \n",
       "90345       Non-Fatal     Substantial   AMERICAN CHAMPION AIRCRAFT   \n",
       "90347           Minor         Unknown                        PIPER   \n",
       "\n",
       "              model  number_of_engines    engine_type purpose_of_flight  \\\n",
       "7               140                1.0  Reciprocating          Personal   \n",
       "8              401B                2.0  Reciprocating          Business   \n",
       "9      NAVION L-17B                1.0  Reciprocating          Personal   \n",
       "10        PA-28-161                1.0  Reciprocating          Personal   \n",
       "11             V35B                1.0  Reciprocating          Personal   \n",
       "...             ...                ...            ...               ...   \n",
       "90340          172F                1.0  Reciprocating          Personal   \n",
       "90341         AA-5B                1.0  Reciprocating     Instructional   \n",
       "90343     PA-28-151                1.0  Reciprocating          Personal   \n",
       "90345         8GCBC                1.0  Reciprocating          Personal   \n",
       "90347     PA-24-260                1.0  Reciprocating          Personal   \n",
       "\n",
       "       total_fatal_injuries  total_serious_injuries  total_minor_injuries  \\\n",
       "7                       0.0                     0.0                   0.0   \n",
       "8                       0.0                     0.0                   0.0   \n",
       "9                       0.0                     0.0                   3.0   \n",
       "10                      0.0                     0.0                   0.0   \n",
       "11                      0.0                     0.0                   0.0   \n",
       "...                     ...                     ...                   ...   \n",
       "90340                   0.0                     1.0                   0.0   \n",
       "90341                   0.0                     1.0                   0.0   \n",
       "90343                   0.0                     1.0                   0.0   \n",
       "90345                   0.0                     0.0                   0.0   \n",
       "90347                   0.0                     1.0                   0.0   \n",
       "\n",
       "       total_uninjured weather_condition broad_phase_of_flight  \\\n",
       "7                  2.0               VMC               Takeoff   \n",
       "8                  2.0               IMC               Landing   \n",
       "9                  0.0               IMC                Cruise   \n",
       "10                 1.0               VMC              Approach   \n",
       "11                 1.0               VMC               Landing   \n",
       "...                ...               ...                   ...   \n",
       "90340              0.0           Unknown               Unknown   \n",
       "90341              1.0           Unknown               Unknown   \n",
       "90343              0.0           Unknown               Unknown   \n",
       "90345              1.0               VMC               Unknown   \n",
       "90347              1.0           Unknown               Unknown   \n",
       "\n",
       "       passenger_count  \n",
       "7                  2.0  \n",
       "8                  2.0  \n",
       "9                  3.0  \n",
       "10                 1.0  \n",
       "11                 1.0  \n",
       "...                ...  \n",
       "90340              1.0  \n",
       "90341              2.0  \n",
       "90343              1.0  \n",
       "90345              1.0  \n",
       "90347              2.0  \n",
       "\n",
       "[70245 rows x 18 columns]"
      ]
     },
     "execution_count": 88,
     "metadata": {},
     "output_type": "execute_result"
    }
   ],
   "source": [
    "aviation_data_cleaned"
   ]
  },
  {
   "attachments": {},
   "cell_type": "markdown",
   "metadata": {},
   "source": [
    "## Column Cleaning"
   ]
  },
  {
   "attachments": {},
   "cell_type": "markdown",
   "metadata": {},
   "source": [
    "This section is for cleaning columns.\n",
    "- Clean make to make sure there aren't duplicate makes\n",
    "- Separate out City and State"
   ]
  },
  {
   "attachments": {},
   "cell_type": "markdown",
   "metadata": {},
   "source": [
    "### Makes"
   ]
  },
  {
   "cell_type": "code",
   "execution_count": 89,
   "metadata": {
    "ExecuteTime": {
     "end_time": "2023-04-21T15:50:42.614466Z",
     "start_time": "2023-04-21T15:50:42.587896Z"
    }
   },
   "outputs": [
    {
     "data": {
      "text/plain": [
       "array(['Cessna', 'North American', 'Piper', ..., 'PHANTOM',\n",
       "       'JAMES R DERNOVSEK', 'ORLICAN S R O'], dtype=object)"
      ]
     },
     "execution_count": 89,
     "metadata": {},
     "output_type": "execute_result"
    }
   ],
   "source": [
    "# Start by checking out the different makes\n",
    "aviation_data_cleaned['make'].unique()"
   ]
  },
  {
   "cell_type": "code",
   "execution_count": 90,
   "metadata": {
    "ExecuteTime": {
     "end_time": "2023-04-21T15:50:42.641711Z",
     "start_time": "2023-04-21T15:50:42.622364Z"
    }
   },
   "outputs": [
    {
     "data": {
      "text/plain": [
       "2050"
      ]
     },
     "execution_count": 90,
     "metadata": {},
     "output_type": "execute_result"
    }
   ],
   "source": [
    "# Find the current number of unique makes\n",
    "len(aviation_data_cleaned['make'].unique())"
   ]
  },
  {
   "cell_type": "code",
   "execution_count": 91,
   "metadata": {
    "ExecuteTime": {
     "end_time": "2023-04-21T15:50:42.709095Z",
     "start_time": "2023-04-21T15:50:42.658631Z"
    }
   },
   "outputs": [
    {
     "name": "stdout",
     "output_type": "stream",
     "text": [
      "['Cessna' 'North American' 'Piper' ... 'Phantom' 'James R Dernovsek'\n",
      " 'Orlican S R O']\n"
     ]
    },
    {
     "data": {
      "text/plain": [
       "1683"
      ]
     },
     "execution_count": 91,
     "metadata": {},
     "output_type": "execute_result"
    }
   ],
   "source": [
    "# Change names to be capitalized and check the length\n",
    "cleaned_makes = aviation_data_cleaned['make'].str.title().unique()\n",
    "print(cleaned_makes)\n",
    "len(cleaned_makes)"
   ]
  },
  {
   "cell_type": "code",
   "execution_count": 92,
   "metadata": {
    "ExecuteTime": {
     "end_time": "2023-04-21T15:50:42.756667Z",
     "start_time": "2023-04-21T15:50:42.719360Z"
    }
   },
   "outputs": [],
   "source": [
    "# That looks like we cleaned a bunch of duplicates, let's assign the column and check\n",
    "aviation_data_cleaned['make'] = aviation_data_cleaned['make'].str.title()"
   ]
  },
  {
   "cell_type": "code",
   "execution_count": 93,
   "metadata": {
    "ExecuteTime": {
     "end_time": "2023-04-21T15:50:42.773607Z",
     "start_time": "2023-04-21T15:50:42.760231Z"
    },
    "scrolled": true
   },
   "outputs": [
    {
     "data": {
      "text/plain": [
       "1683"
      ]
     },
     "execution_count": 93,
     "metadata": {},
     "output_type": "execute_result"
    }
   ],
   "source": [
    "# Check the length\n",
    "len(aviation_data_cleaned['make'].unique())"
   ]
  },
  {
   "attachments": {},
   "cell_type": "markdown",
   "metadata": {
    "ExecuteTime": {
     "end_time": "2023-04-20T17:38:47.296670Z",
     "start_time": "2023-04-20T17:38:47.284315Z"
    }
   },
   "source": [
    "### Clean the Top 5 makes specifically"
   ]
  },
  {
   "cell_type": "code",
   "execution_count": 94,
   "metadata": {
    "ExecuteTime": {
     "end_time": "2023-04-21T15:50:42.783987Z",
     "start_time": "2023-04-21T15:50:42.776681Z"
    }
   },
   "outputs": [
    {
     "data": {
      "text/plain": [
       "(70245, 18)"
      ]
     },
     "execution_count": 94,
     "metadata": {},
     "output_type": "execute_result"
    }
   ],
   "source": [
    "aviation_data_cleaned.shape"
   ]
  },
  {
   "cell_type": "code",
   "execution_count": 95,
   "metadata": {
    "ExecuteTime": {
     "end_time": "2023-04-21T15:50:43.208536Z",
     "start_time": "2023-04-21T15:50:42.788600Z"
    },
    "scrolled": true
   },
   "outputs": [
    {
     "data": {
      "text/plain": [
       "{'Beech': 'Beech',\n",
       " 'Beechcraft': 'Beech',\n",
       " 'Hawker Beechcraft Corp': 'Beech',\n",
       " 'Hawker Beechcraft': 'Beech',\n",
       " 'Hawker Beechcraft Corporation': 'Beech',\n",
       " 'Hawker Beechcraft Corp.': 'Beech',\n",
       " 'Hawker-Beechcraft': 'Beech',\n",
       " 'Hawker-Beechcraft Corporation': 'Beech',\n",
       " 'Beechcraft Corporation': 'Beech',\n",
       " 'Hawker Beech': 'Beech',\n",
       " 'Cessna': 'Cessna',\n",
       " 'Cessna Aircraft Co': 'Cessna',\n",
       " 'Cessna Ector': 'Cessna',\n",
       " 'Cessna/Air Repair Inc': 'Cessna',\n",
       " 'Cessna Wren': 'Cessna',\n",
       " 'Cessna Aircraft Co.': 'Cessna',\n",
       " 'Cessna Robertson': 'Cessna',\n",
       " 'Cessna Soloy': 'Cessna',\n",
       " 'Cessna/Weaver': 'Cessna',\n",
       " 'Cessna Aircraft': 'Cessna',\n",
       " 'Cirrus Design Corp': 'Cirrus',\n",
       " 'Cirrus': 'Cirrus',\n",
       " 'Cirrus Design Corp.': 'Cirrus',\n",
       " 'Cirrus Design Corporation': 'Cirrus',\n",
       " 'Cirrus Design': 'Cirrus',\n",
       " 'Piper': 'Piper',\n",
       " 'Piper Aircraft Inc': 'Piper',\n",
       " 'Piper/Cub Crafters': 'Piper',\n",
       " 'New Piper Aircraft Inc': 'Piper',\n",
       " 'Piper Aircraft': 'Piper',\n",
       " 'New Piper': 'Piper',\n",
       " 'Piper Aerostar': 'Piper',\n",
       " \"Piper/Wally'S Flyers Inc\": 'Piper',\n",
       " 'Jetprop Dlx Piper': 'Piper',\n",
       " 'Piper / Laudeman': 'Piper',\n",
       " 'Piper Aircraft Corporation': 'Piper',\n",
       " 'Piper Cub Crafters': 'Piper',\n",
       " 'Piper-Aerostar': 'Piper',\n",
       " 'Piper-Harris': 'Piper',\n",
       " 'Piper/Stevens': 'Piper',\n",
       " 'Piper Aircraft, Inc.': 'Piper',\n",
       " 'Diamond Aircraft Ind Inc': 'Diamond',\n",
       " 'Diamond Aircraft Industries': 'Diamond',\n",
       " 'Diamond': 'Diamond',\n",
       " 'Diamond Aircraft Ind Gmbh': 'Diamond',\n",
       " 'Diamond Aircraft': 'Diamond',\n",
       " 'Diamond Aicraft Industries Inc': 'Diamond',\n",
       " 'Diamond Aircraft Industry Inc': 'Diamond',\n",
       " 'Lockheed': 'Lockheed',\n",
       " 'Airbus': 'Airbus',\n",
       " 'Airbus Industrie': 'Airbus',\n",
       " 'Airbus Helicopters': 'Airbus',\n",
       " 'Airbus Helicopters Inc': 'Airbus',\n",
       " 'Airbus/Eurocopter': 'Airbus',\n",
       " 'Airbus Helicopters (Eurocopte': 'Airbus',\n",
       " 'Airbus Helicopters Deutschland': 'Airbus',\n",
       " 'Grumman': 'Grumman',\n",
       " 'Grumman American': 'Grumman',\n",
       " 'Grumman-Schweizer': 'Grumman',\n",
       " 'Grumman Acft Eng Cor-Schweizer': 'Grumman',\n",
       " 'Grumman American Avn. Corp.': 'Grumman',\n",
       " 'Grumman Aircraft Eng Corp': 'Grumman',\n",
       " 'Grumman Schweizer': 'Grumman',\n",
       " 'Grumman American Aviation': 'Grumman',\n",
       " 'Grumman Acft Eng': 'Grumman',\n",
       " 'Grumman American Avn. Corp': 'Grumman',\n",
       " 'Grumman American Aviation Corp': 'Grumman',\n",
       " 'Grumman Aircraft': 'Grumman',\n",
       " 'Grumman Acft Eng Cor': 'Grumman',\n",
       " 'Grumman Aircraft Cor-Schweizer': 'Grumman',\n",
       " 'Raytheon Aircraft Company': 'Raytheon',\n",
       " 'Raytheon': 'Raytheon',\n",
       " 'Raytheon Corporate Jets': 'Raytheon',\n",
       " 'Boeing': 'Boeing',\n",
       " 'Boeing Stearman': 'Boeing',\n",
       " 'Boeing Vertol': 'Boeing',\n",
       " 'Boeing Helicopters Div.': 'Boeing',\n",
       " 'Boeing - Canada (De Havilland)': 'Boeing',\n",
       " 'Boeing Of Canada/Dehav Div': 'Boeing',\n",
       " 'Boeing (Stearman)': 'Boeing',\n",
       " 'Boeing Company': 'Boeing',\n",
       " 'Boeing-Stearman': 'Boeing',\n",
       " 'Boeing-Brown': 'Boeing'}"
      ]
     },
     "execution_count": 95,
     "metadata": {},
     "output_type": "execute_result"
    }
   ],
   "source": [
    "## Create a list of top brands and a map\n",
    "top_makes_list = ['Beech', 'Cessna', 'Cirrus', 'Piper', 'Diamond',\n",
    "                  'Lockheed', 'Airbus', 'Grumman', 'Raytheon', 'Boeing']\n",
    "top_makes_map = {}\n",
    "\n",
    "for make in top_makes_list:\n",
    "    beech_dict = aviation_data_cleaned[aviation_data_cleaned['make']\n",
    "                                       .str.contains(make)]['make'].value_counts().to_frame()\n",
    "    beech_dict['make'] = make\n",
    "    top_makes_map.update(dict(beech_dict['make']))\n",
    "# Check out the top makes map\n",
    "top_makes_map"
   ]
  },
  {
   "cell_type": "code",
   "execution_count": 96,
   "metadata": {
    "ExecuteTime": {
     "end_time": "2023-04-21T15:50:43.250418Z",
     "start_time": "2023-04-21T15:50:43.210554Z"
    },
    "scrolled": true
   },
   "outputs": [
    {
     "name": "stderr",
     "output_type": "stream",
     "text": [
      "<ipython-input-96-9edcf83bf972>:3: SettingWithCopyWarning: \n",
      "A value is trying to be set on a copy of a slice from a DataFrame.\n",
      "Try using .loc[row_indexer,col_indexer] = value instead\n",
      "\n",
      "See the caveats in the documentation: https://pandas.pydata.org/pandas-docs/stable/user_guide/indexing.html#returning-a-view-versus-a-copy\n",
      "  aviation_data_cleaned[top_makes_filter]['make'] = aviation_data_cleaned['make'].map(top_makes_map)\n"
     ]
    }
   ],
   "source": [
    "# Apply the Top Makes Map to the data\n",
    "top_makes_filter = aviation_data_cleaned['make'].isin(top_makes_list)\n",
    "aviation_data_cleaned[top_makes_filter]['make'] = aviation_data_cleaned['make'].map(top_makes_map)"
   ]
  },
  {
   "cell_type": "code",
   "execution_count": 97,
   "metadata": {
    "ExecuteTime": {
     "end_time": "2023-04-21T15:50:43.264756Z",
     "start_time": "2023-04-21T15:50:43.255445Z"
    }
   },
   "outputs": [
    {
     "data": {
      "text/plain": [
       "(70245, 18)"
      ]
     },
     "execution_count": 97,
     "metadata": {},
     "output_type": "execute_result"
    }
   ],
   "source": [
    "aviation_data_cleaned.shape"
   ]
  },
  {
   "cell_type": "code",
   "execution_count": 98,
   "metadata": {
    "ExecuteTime": {
     "end_time": "2023-04-21T15:50:43.275753Z",
     "start_time": "2023-04-21T15:50:43.267320Z"
    }
   },
   "outputs": [],
   "source": [
    "aviation_data_cleaned['top_make'] = aviation_data_cleaned['make'].isin(top_makes_list)"
   ]
  },
  {
   "cell_type": "code",
   "execution_count": 99,
   "metadata": {
    "ExecuteTime": {
     "end_time": "2023-04-21T15:50:43.304035Z",
     "start_time": "2023-04-21T15:50:43.286601Z"
    },
    "scrolled": true
   },
   "outputs": [
    {
     "data": {
      "text/plain": [
       "True     0.656516\n",
       "False    0.343484\n",
       "Name: top_make, dtype: float64"
      ]
     },
     "execution_count": 99,
     "metadata": {},
     "output_type": "execute_result"
    }
   ],
   "source": [
    "aviation_data_cleaned['top_make'].value_counts(normalize=True)"
   ]
  },
  {
   "cell_type": "code",
   "execution_count": 100,
   "metadata": {
    "ExecuteTime": {
     "end_time": "2023-04-21T15:50:43.337664Z",
     "start_time": "2023-04-21T15:50:43.306767Z"
    }
   },
   "outputs": [
    {
     "data": {
      "text/plain": [
       "10"
      ]
     },
     "execution_count": 100,
     "metadata": {},
     "output_type": "execute_result"
    }
   ],
   "source": [
    "len(aviation_data_cleaned[aviation_data_cleaned['top_make']]['make'].value_counts())"
   ]
  },
  {
   "cell_type": "code",
   "execution_count": 132,
   "metadata": {
    "ExecuteTime": {
     "end_time": "2023-04-21T19:37:32.285840Z",
     "start_time": "2023-04-21T19:37:32.102732Z"
    }
   },
   "outputs": [
    {
     "data": {
      "text/html": [
       "<div>\n",
       "<style scoped>\n",
       "    .dataframe tbody tr th:only-of-type {\n",
       "        vertical-align: middle;\n",
       "    }\n",
       "\n",
       "    .dataframe tbody tr th {\n",
       "        vertical-align: top;\n",
       "    }\n",
       "\n",
       "    .dataframe thead th {\n",
       "        text-align: right;\n",
       "    }\n",
       "</style>\n",
       "<table border=\"1\" class=\"dataframe\">\n",
       "  <thead>\n",
       "    <tr style=\"text-align: right;\">\n",
       "      <th></th>\n",
       "      <th>event_date</th>\n",
       "      <th>location</th>\n",
       "      <th>airport_code</th>\n",
       "      <th>airport_name</th>\n",
       "      <th>injury_severity</th>\n",
       "      <th>aircraft_damage</th>\n",
       "      <th>model</th>\n",
       "      <th>number_of_engines</th>\n",
       "      <th>engine_type</th>\n",
       "      <th>purpose_of_flight</th>\n",
       "      <th>...</th>\n",
       "      <th>weather_condition</th>\n",
       "      <th>broad_phase_of_flight</th>\n",
       "      <th>passenger_count</th>\n",
       "      <th>top_make</th>\n",
       "      <th>use_category</th>\n",
       "      <th>top_model</th>\n",
       "      <th>city</th>\n",
       "      <th>state</th>\n",
       "      <th>fatality_rate</th>\n",
       "      <th>percent_uninjured</th>\n",
       "    </tr>\n",
       "    <tr>\n",
       "      <th>make</th>\n",
       "      <th></th>\n",
       "      <th></th>\n",
       "      <th></th>\n",
       "      <th></th>\n",
       "      <th></th>\n",
       "      <th></th>\n",
       "      <th></th>\n",
       "      <th></th>\n",
       "      <th></th>\n",
       "      <th></th>\n",
       "      <th></th>\n",
       "      <th></th>\n",
       "      <th></th>\n",
       "      <th></th>\n",
       "      <th></th>\n",
       "      <th></th>\n",
       "      <th></th>\n",
       "      <th></th>\n",
       "      <th></th>\n",
       "      <th></th>\n",
       "      <th></th>\n",
       "    </tr>\n",
       "  </thead>\n",
       "  <tbody>\n",
       "    <tr>\n",
       "      <th>Airbus</th>\n",
       "      <td>69</td>\n",
       "      <td>69</td>\n",
       "      <td>69</td>\n",
       "      <td>69</td>\n",
       "      <td>69</td>\n",
       "      <td>69</td>\n",
       "      <td>69</td>\n",
       "      <td>69</td>\n",
       "      <td>69</td>\n",
       "      <td>69</td>\n",
       "      <td>...</td>\n",
       "      <td>69</td>\n",
       "      <td>69</td>\n",
       "      <td>69</td>\n",
       "      <td>69</td>\n",
       "      <td>69</td>\n",
       "      <td>69</td>\n",
       "      <td>69</td>\n",
       "      <td>69</td>\n",
       "      <td>69</td>\n",
       "      <td>69</td>\n",
       "    </tr>\n",
       "    <tr>\n",
       "      <th>Beech</th>\n",
       "      <td>4838</td>\n",
       "      <td>4838</td>\n",
       "      <td>4838</td>\n",
       "      <td>4838</td>\n",
       "      <td>4838</td>\n",
       "      <td>4838</td>\n",
       "      <td>4838</td>\n",
       "      <td>4838</td>\n",
       "      <td>4838</td>\n",
       "      <td>4838</td>\n",
       "      <td>...</td>\n",
       "      <td>4838</td>\n",
       "      <td>4838</td>\n",
       "      <td>4838</td>\n",
       "      <td>4838</td>\n",
       "      <td>4838</td>\n",
       "      <td>4838</td>\n",
       "      <td>4838</td>\n",
       "      <td>4838</td>\n",
       "      <td>4838</td>\n",
       "      <td>4838</td>\n",
       "    </tr>\n",
       "    <tr>\n",
       "      <th>Boeing</th>\n",
       "      <td>868</td>\n",
       "      <td>868</td>\n",
       "      <td>868</td>\n",
       "      <td>868</td>\n",
       "      <td>868</td>\n",
       "      <td>868</td>\n",
       "      <td>868</td>\n",
       "      <td>868</td>\n",
       "      <td>868</td>\n",
       "      <td>868</td>\n",
       "      <td>...</td>\n",
       "      <td>868</td>\n",
       "      <td>868</td>\n",
       "      <td>868</td>\n",
       "      <td>868</td>\n",
       "      <td>868</td>\n",
       "      <td>868</td>\n",
       "      <td>868</td>\n",
       "      <td>868</td>\n",
       "      <td>868</td>\n",
       "      <td>868</td>\n",
       "    </tr>\n",
       "    <tr>\n",
       "      <th>Cessna</th>\n",
       "      <td>25157</td>\n",
       "      <td>25157</td>\n",
       "      <td>25157</td>\n",
       "      <td>25157</td>\n",
       "      <td>25157</td>\n",
       "      <td>25157</td>\n",
       "      <td>25157</td>\n",
       "      <td>25157</td>\n",
       "      <td>25157</td>\n",
       "      <td>25157</td>\n",
       "      <td>...</td>\n",
       "      <td>25157</td>\n",
       "      <td>25157</td>\n",
       "      <td>25157</td>\n",
       "      <td>25157</td>\n",
       "      <td>25157</td>\n",
       "      <td>25157</td>\n",
       "      <td>25157</td>\n",
       "      <td>25157</td>\n",
       "      <td>25157</td>\n",
       "      <td>25157</td>\n",
       "    </tr>\n",
       "    <tr>\n",
       "      <th>Cirrus</th>\n",
       "      <td>96</td>\n",
       "      <td>96</td>\n",
       "      <td>96</td>\n",
       "      <td>96</td>\n",
       "      <td>96</td>\n",
       "      <td>96</td>\n",
       "      <td>96</td>\n",
       "      <td>96</td>\n",
       "      <td>96</td>\n",
       "      <td>96</td>\n",
       "      <td>...</td>\n",
       "      <td>96</td>\n",
       "      <td>96</td>\n",
       "      <td>96</td>\n",
       "      <td>96</td>\n",
       "      <td>96</td>\n",
       "      <td>96</td>\n",
       "      <td>96</td>\n",
       "      <td>96</td>\n",
       "      <td>96</td>\n",
       "      <td>96</td>\n",
       "    </tr>\n",
       "    <tr>\n",
       "      <th>Diamond</th>\n",
       "      <td>35</td>\n",
       "      <td>35</td>\n",
       "      <td>35</td>\n",
       "      <td>35</td>\n",
       "      <td>35</td>\n",
       "      <td>35</td>\n",
       "      <td>35</td>\n",
       "      <td>35</td>\n",
       "      <td>35</td>\n",
       "      <td>35</td>\n",
       "      <td>...</td>\n",
       "      <td>35</td>\n",
       "      <td>35</td>\n",
       "      <td>35</td>\n",
       "      <td>35</td>\n",
       "      <td>35</td>\n",
       "      <td>35</td>\n",
       "      <td>35</td>\n",
       "      <td>35</td>\n",
       "      <td>35</td>\n",
       "      <td>35</td>\n",
       "    </tr>\n",
       "    <tr>\n",
       "      <th>Grumman</th>\n",
       "      <td>1110</td>\n",
       "      <td>1110</td>\n",
       "      <td>1110</td>\n",
       "      <td>1110</td>\n",
       "      <td>1110</td>\n",
       "      <td>1110</td>\n",
       "      <td>1110</td>\n",
       "      <td>1110</td>\n",
       "      <td>1110</td>\n",
       "      <td>1110</td>\n",
       "      <td>...</td>\n",
       "      <td>1110</td>\n",
       "      <td>1110</td>\n",
       "      <td>1110</td>\n",
       "      <td>1110</td>\n",
       "      <td>1110</td>\n",
       "      <td>1110</td>\n",
       "      <td>1110</td>\n",
       "      <td>1110</td>\n",
       "      <td>1110</td>\n",
       "      <td>1110</td>\n",
       "    </tr>\n",
       "    <tr>\n",
       "      <th>Lockheed</th>\n",
       "      <td>66</td>\n",
       "      <td>66</td>\n",
       "      <td>66</td>\n",
       "      <td>66</td>\n",
       "      <td>66</td>\n",
       "      <td>66</td>\n",
       "      <td>66</td>\n",
       "      <td>66</td>\n",
       "      <td>66</td>\n",
       "      <td>66</td>\n",
       "      <td>...</td>\n",
       "      <td>66</td>\n",
       "      <td>66</td>\n",
       "      <td>66</td>\n",
       "      <td>66</td>\n",
       "      <td>66</td>\n",
       "      <td>66</td>\n",
       "      <td>66</td>\n",
       "      <td>66</td>\n",
       "      <td>66</td>\n",
       "      <td>66</td>\n",
       "    </tr>\n",
       "    <tr>\n",
       "      <th>Piper</th>\n",
       "      <td>13830</td>\n",
       "      <td>13830</td>\n",
       "      <td>13830</td>\n",
       "      <td>13830</td>\n",
       "      <td>13830</td>\n",
       "      <td>13830</td>\n",
       "      <td>13830</td>\n",
       "      <td>13830</td>\n",
       "      <td>13830</td>\n",
       "      <td>13830</td>\n",
       "      <td>...</td>\n",
       "      <td>13830</td>\n",
       "      <td>13830</td>\n",
       "      <td>13830</td>\n",
       "      <td>13830</td>\n",
       "      <td>13830</td>\n",
       "      <td>13830</td>\n",
       "      <td>13830</td>\n",
       "      <td>13830</td>\n",
       "      <td>13830</td>\n",
       "      <td>13830</td>\n",
       "    </tr>\n",
       "    <tr>\n",
       "      <th>Raytheon</th>\n",
       "      <td>16</td>\n",
       "      <td>16</td>\n",
       "      <td>16</td>\n",
       "      <td>16</td>\n",
       "      <td>16</td>\n",
       "      <td>16</td>\n",
       "      <td>16</td>\n",
       "      <td>16</td>\n",
       "      <td>16</td>\n",
       "      <td>16</td>\n",
       "      <td>...</td>\n",
       "      <td>16</td>\n",
       "      <td>16</td>\n",
       "      <td>16</td>\n",
       "      <td>16</td>\n",
       "      <td>16</td>\n",
       "      <td>16</td>\n",
       "      <td>16</td>\n",
       "      <td>16</td>\n",
       "      <td>16</td>\n",
       "      <td>16</td>\n",
       "    </tr>\n",
       "  </tbody>\n",
       "</table>\n",
       "<p>10 rows × 24 columns</p>\n",
       "</div>"
      ],
      "text/plain": [
       "          event_date  location  airport_code  airport_name  injury_severity  \\\n",
       "make                                                                          \n",
       "Airbus            69        69            69            69               69   \n",
       "Beech           4838      4838          4838          4838             4838   \n",
       "Boeing           868       868           868           868              868   \n",
       "Cessna         25157     25157         25157         25157            25157   \n",
       "Cirrus            96        96            96            96               96   \n",
       "Diamond           35        35            35            35               35   \n",
       "Grumman         1110      1110          1110          1110             1110   \n",
       "Lockheed          66        66            66            66               66   \n",
       "Piper          13830     13830         13830         13830            13830   \n",
       "Raytheon          16        16            16            16               16   \n",
       "\n",
       "          aircraft_damage  model  number_of_engines  engine_type  \\\n",
       "make                                                               \n",
       "Airbus                 69     69                 69           69   \n",
       "Beech                4838   4838               4838         4838   \n",
       "Boeing                868    868                868          868   \n",
       "Cessna              25157  25157              25157        25157   \n",
       "Cirrus                 96     96                 96           96   \n",
       "Diamond                35     35                 35           35   \n",
       "Grumman              1110   1110               1110         1110   \n",
       "Lockheed               66     66                 66           66   \n",
       "Piper               13830  13830              13830        13830   \n",
       "Raytheon               16     16                 16           16   \n",
       "\n",
       "          purpose_of_flight  ...  weather_condition  broad_phase_of_flight  \\\n",
       "make                         ...                                             \n",
       "Airbus                   69  ...                 69                     69   \n",
       "Beech                  4838  ...               4838                   4838   \n",
       "Boeing                  868  ...                868                    868   \n",
       "Cessna                25157  ...              25157                  25157   \n",
       "Cirrus                   96  ...                 96                     96   \n",
       "Diamond                  35  ...                 35                     35   \n",
       "Grumman                1110  ...               1110                   1110   \n",
       "Lockheed                 66  ...                 66                     66   \n",
       "Piper                 13830  ...              13830                  13830   \n",
       "Raytheon                 16  ...                 16                     16   \n",
       "\n",
       "          passenger_count  top_make  use_category  top_model   city  state  \\\n",
       "make                                                                         \n",
       "Airbus                 69        69            69         69     69     69   \n",
       "Beech                4838      4838          4838       4838   4838   4838   \n",
       "Boeing                868       868           868        868    868    868   \n",
       "Cessna              25157     25157         25157      25157  25157  25157   \n",
       "Cirrus                 96        96            96         96     96     96   \n",
       "Diamond                35        35            35         35     35     35   \n",
       "Grumman              1110      1110          1110       1110   1110   1110   \n",
       "Lockheed               66        66            66         66     66     66   \n",
       "Piper               13830     13830         13830      13830  13830  13830   \n",
       "Raytheon               16        16            16         16     16     16   \n",
       "\n",
       "          fatality_rate  percent_uninjured  \n",
       "make                                        \n",
       "Airbus               69                 69  \n",
       "Beech              4838               4838  \n",
       "Boeing              868                868  \n",
       "Cessna            25157              25157  \n",
       "Cirrus               96                 96  \n",
       "Diamond              35                 35  \n",
       "Grumman            1110               1110  \n",
       "Lockheed             66                 66  \n",
       "Piper             13830              13830  \n",
       "Raytheon             16                 16  \n",
       "\n",
       "[10 rows x 24 columns]"
      ]
     },
     "execution_count": 132,
     "metadata": {},
     "output_type": "execute_result"
    }
   ],
   "source": [
    "aviation_data_cleaned[aviation_data_cleaned['top_make']].groupby('make').count()"
   ]
  },
  {
   "attachments": {},
   "cell_type": "markdown",
   "metadata": {},
   "source": [
    "### Determine Commercial or Private"
   ]
  },
  {
   "cell_type": "code",
   "execution_count": 101,
   "metadata": {
    "ExecuteTime": {
     "end_time": "2023-04-21T15:50:43.347591Z",
     "start_time": "2023-04-21T15:50:43.340009Z"
    }
   },
   "outputs": [],
   "source": [
    "def private_or_commercial(make):\n",
    "    private = ['Beech', 'Cessna', 'Cirrus', 'Piper', 'Diamond']\n",
    "    commercial = ['Lockheed', 'Airbus', 'Grumman', 'Raytheon', 'Boeing']\n",
    "    if make in private:\n",
    "        return 'Private Enterprise'\n",
    "    elif make in commercial:\n",
    "        return 'Commercial'\n",
    "    else:\n",
    "        return 'Unknown'"
   ]
  },
  {
   "cell_type": "code",
   "execution_count": 102,
   "metadata": {
    "ExecuteTime": {
     "end_time": "2023-04-21T15:50:43.457229Z",
     "start_time": "2023-04-21T15:50:43.357198Z"
    }
   },
   "outputs": [
    {
     "data": {
      "text/plain": [
       "Private Enterprise    43986\n",
       "Unknown               24128\n",
       "Commercial             2131\n",
       "Name: use_category, dtype: int64"
      ]
     },
     "execution_count": 102,
     "metadata": {},
     "output_type": "execute_result"
    }
   ],
   "source": [
    "# Create a column to designate commercial or private\n",
    "aviation_data_cleaned['use_category'] = aviation_data_cleaned['make'].apply(private_or_commercial)\n",
    "aviation_data_cleaned['use_category'].value_counts()"
   ]
  },
  {
   "attachments": {},
   "cell_type": "markdown",
   "metadata": {},
   "source": [
    "### Top 3 Models per make"
   ]
  },
  {
   "cell_type": "code",
   "execution_count": 103,
   "metadata": {
    "ExecuteTime": {
     "end_time": "2023-04-21T15:50:43.562357Z",
     "start_time": "2023-04-21T15:50:43.466017Z"
    }
   },
   "outputs": [
    {
     "data": {
      "text/plain": [
       "7            140\n",
       "8           401B\n",
       "9     NAVIONL17B\n",
       "10       PA28161\n",
       "11          V35B\n",
       "Name: model, dtype: object"
      ]
     },
     "execution_count": 103,
     "metadata": {},
     "output_type": "execute_result"
    }
   ],
   "source": [
    "# Remove exccess white space from data and remove \"-\"\n",
    "aviation_data_cleaned['model'] = aviation_data_cleaned['model'].str.strip().str.replace('-','').str.replace(' ','')\n",
    "aviation_data_cleaned['model'].head()"
   ]
  },
  {
   "cell_type": "code",
   "execution_count": 104,
   "metadata": {
    "ExecuteTime": {
     "end_time": "2023-04-21T15:50:43.569319Z",
     "start_time": "2023-04-21T15:50:43.564473Z"
    }
   },
   "outputs": [],
   "source": [
    "def model_cleaning_function(model):\n",
    "    model = str(model)\n",
    "    if model.startswith('1') or model.startswith('2'):\n",
    "         model = model[:3]\n",
    "    elif any(map(model.startswith, ['PA','A','DA','G','SR','C','L'])):\n",
    "        model = model[:4]\n",
    "    elif model.startswith('HAWKER'):\n",
    "         model = 'HAWKER'\n",
    "    else: \n",
    "        model = model\n",
    "    return model"
   ]
  },
  {
   "cell_type": "code",
   "execution_count": 105,
   "metadata": {
    "ExecuteTime": {
     "end_time": "2023-04-21T15:50:43.653721Z",
     "start_time": "2023-04-21T15:50:43.571981Z"
    }
   },
   "outputs": [],
   "source": [
    "aviation_data_cleaned['model'] = aviation_data_cleaned['model'].apply(model_cleaning_function)"
   ]
  },
  {
   "cell_type": "code",
   "execution_count": 106,
   "metadata": {
    "ExecuteTime": {
     "end_time": "2023-04-21T15:50:43.659829Z",
     "start_time": "2023-04-21T15:50:43.655789Z"
    }
   },
   "outputs": [],
   "source": [
    "top_commercial_models_list = ['A330', '747', '777', '727', 'CRJ', 'A320', '747', '737', 'DC3']"
   ]
  },
  {
   "cell_type": "code",
   "execution_count": 107,
   "metadata": {
    "ExecuteTime": {
     "end_time": "2023-04-21T15:50:43.733197Z",
     "start_time": "2023-04-21T15:50:43.662198Z"
    }
   },
   "outputs": [
    {
     "data": {
      "text/plain": [
       "['172',\n",
       " 'PA28',\n",
       " '150',\n",
       " '182',\n",
       " 'PA18',\n",
       " 'PA32',\n",
       " 'A36',\n",
       " 'C23',\n",
       " '58',\n",
       " 'SR22',\n",
       " 'DA20',\n",
       " 'SR20',\n",
       " 'DA40',\n",
       " 'DA42',\n",
       " 'A330',\n",
       " '747',\n",
       " '777',\n",
       " '727',\n",
       " 'CRJ',\n",
       " 'A320',\n",
       " '747',\n",
       " '737',\n",
       " 'DC3']"
      ]
     },
     "execution_count": 107,
     "metadata": {},
     "output_type": "execute_result"
    }
   ],
   "source": [
    "only_private = aviation_data_cleaned['use_category'] == 'Private Enterprise'\n",
    "top_models_list = aviation_data_cleaned[top_makes_filter & only_private].groupby(['make','model']).count().reset_index()\n",
    "top_models_list = list(top_models_list.sort_values('event_date',ascending=False).groupby('make').head(3)['model'])\n",
    "top_models_list.extend(top_commercial_models_list)\n",
    "top_models_list"
   ]
  },
  {
   "attachments": {},
   "cell_type": "markdown",
   "metadata": {},
   "source": [
    "**Top Commercial Models**\n",
    "- Airbus A330\n",
    "- Boeing 747\n",
    "- Boeing 777\n",
    "- Boeing 727\n",
    "- CRJ Series\n",
    "- Airbus A320\n",
    "- Boeing 747\n",
    "- Embraer E-Jet Family\n",
    "- Boeing 737\n",
    "- Douglas DC-3"
   ]
  },
  {
   "cell_type": "code",
   "execution_count": 108,
   "metadata": {
    "ExecuteTime": {
     "end_time": "2023-04-21T15:50:43.740660Z",
     "start_time": "2023-04-21T15:50:43.736790Z"
    }
   },
   "outputs": [],
   "source": [
    "def commercial_model_cleaning_function(model):\n",
    "    top_commercial_models_list = ['A330', '747', '777', '727', 'CRJ', 'A320', '747', '737', 'DC3']\n",
    "    model = str(model)\n",
    "    for top_model in top_commercial_models_list:\n",
    "        if model.startswith(top_model):\n",
    "            return top_model\n",
    "            break\n",
    "        else:\n",
    "            return model"
   ]
  },
  {
   "cell_type": "code",
   "execution_count": 109,
   "metadata": {
    "ExecuteTime": {
     "end_time": "2023-04-21T15:50:43.787655Z",
     "start_time": "2023-04-21T15:50:43.742688Z"
    }
   },
   "outputs": [],
   "source": [
    "aviation_data_cleaned['model'] = aviation_data_cleaned['model'].apply(commercial_model_cleaning_function)"
   ]
  },
  {
   "cell_type": "code",
   "execution_count": 110,
   "metadata": {
    "ExecuteTime": {
     "end_time": "2023-04-21T15:50:43.802300Z",
     "start_time": "2023-04-21T15:50:43.789340Z"
    },
    "scrolled": false
   },
   "outputs": [
    {
     "data": {
      "text/plain": [
       "108"
      ]
     },
     "execution_count": 110,
     "metadata": {},
     "output_type": "execute_result"
    }
   ],
   "source": [
    "aviation_data_cleaned[aviation_data_cleaned['model'].isin(top_commercial_models_list)]['model'].count()"
   ]
  },
  {
   "cell_type": "code",
   "execution_count": 111,
   "metadata": {
    "ExecuteTime": {
     "end_time": "2023-04-21T15:50:43.816027Z",
     "start_time": "2023-04-21T15:50:43.805599Z"
    }
   },
   "outputs": [],
   "source": [
    "aviation_data_cleaned['top_model'] = aviation_data_cleaned['model'].isin(top_models_list)"
   ]
  },
  {
   "cell_type": "code",
   "execution_count": 112,
   "metadata": {
    "ExecuteTime": {
     "end_time": "2023-04-21T15:50:43.837457Z",
     "start_time": "2023-04-21T15:50:43.819309Z"
    }
   },
   "outputs": [
    {
     "data": {
      "text/plain": [
       "False    0.701274\n",
       "True     0.298726\n",
       "Name: top_model, dtype: float64"
      ]
     },
     "execution_count": 112,
     "metadata": {},
     "output_type": "execute_result"
    }
   ],
   "source": [
    "aviation_data_cleaned['top_model'].value_counts(normalize=True)"
   ]
  },
  {
   "attachments": {},
   "cell_type": "markdown",
   "metadata": {},
   "source": [
    "### Location to City & State"
   ]
  },
  {
   "cell_type": "code",
   "execution_count": 113,
   "metadata": {
    "ExecuteTime": {
     "end_time": "2023-04-21T15:50:43.985511Z",
     "start_time": "2023-04-21T15:50:43.840262Z"
    }
   },
   "outputs": [],
   "source": [
    "# Add new city and state columns\n",
    "aviation_data_cleaned[['city', 'state']] = aviation_data_cleaned['location'].str.rsplit(', ', 1, expand = True)"
   ]
  },
  {
   "cell_type": "code",
   "execution_count": 114,
   "metadata": {
    "ExecuteTime": {
     "end_time": "2023-04-21T15:50:44.032137Z",
     "start_time": "2023-04-21T15:50:43.987744Z"
    }
   },
   "outputs": [],
   "source": [
    "aviation_data_cleaned['city'] = aviation_data_cleaned['city'].str.capitalize()"
   ]
  },
  {
   "cell_type": "code",
   "execution_count": 115,
   "metadata": {
    "ExecuteTime": {
     "end_time": "2023-04-21T15:50:44.072065Z",
     "start_time": "2023-04-21T15:50:44.036508Z"
    }
   },
   "outputs": [
    {
     "data": {
      "text/html": [
       "<div>\n",
       "<style scoped>\n",
       "    .dataframe tbody tr th:only-of-type {\n",
       "        vertical-align: middle;\n",
       "    }\n",
       "\n",
       "    .dataframe tbody tr th {\n",
       "        vertical-align: top;\n",
       "    }\n",
       "\n",
       "    .dataframe thead th {\n",
       "        text-align: right;\n",
       "    }\n",
       "</style>\n",
       "<table border=\"1\" class=\"dataframe\">\n",
       "  <thead>\n",
       "    <tr style=\"text-align: right;\">\n",
       "      <th></th>\n",
       "      <th>city</th>\n",
       "      <th>state</th>\n",
       "    </tr>\n",
       "  </thead>\n",
       "  <tbody>\n",
       "    <tr>\n",
       "      <th>7</th>\n",
       "      <td>Pullman</td>\n",
       "      <td>WA</td>\n",
       "    </tr>\n",
       "    <tr>\n",
       "      <th>8</th>\n",
       "      <td>East hanover</td>\n",
       "      <td>NJ</td>\n",
       "    </tr>\n",
       "    <tr>\n",
       "      <th>9</th>\n",
       "      <td>Jacksonville</td>\n",
       "      <td>FL</td>\n",
       "    </tr>\n",
       "    <tr>\n",
       "      <th>10</th>\n",
       "      <td>Hobbs</td>\n",
       "      <td>NM</td>\n",
       "    </tr>\n",
       "    <tr>\n",
       "      <th>11</th>\n",
       "      <td>Tuskegee</td>\n",
       "      <td>AL</td>\n",
       "    </tr>\n",
       "  </tbody>\n",
       "</table>\n",
       "</div>"
      ],
      "text/plain": [
       "            city state\n",
       "7        Pullman    WA\n",
       "8   East hanover    NJ\n",
       "9   Jacksonville    FL\n",
       "10         Hobbs    NM\n",
       "11      Tuskegee    AL"
      ]
     },
     "execution_count": 115,
     "metadata": {},
     "output_type": "execute_result"
    }
   ],
   "source": [
    "aviation_data_cleaned[['city', 'state']].head()"
   ]
  },
  {
   "cell_type": "code",
   "execution_count": 116,
   "metadata": {
    "ExecuteTime": {
     "end_time": "2023-04-21T15:50:44.097268Z",
     "start_time": "2023-04-21T15:50:44.074369Z"
    }
   },
   "outputs": [
    {
     "data": {
      "text/plain": [
       "city      0\n",
       "state    51\n",
       "dtype: int64"
      ]
     },
     "execution_count": 116,
     "metadata": {},
     "output_type": "execute_result"
    }
   ],
   "source": [
    "# Check for missing data\n",
    "aviation_data_cleaned[['city', 'state']].isna().sum()"
   ]
  },
  {
   "cell_type": "code",
   "execution_count": 117,
   "metadata": {
    "ExecuteTime": {
     "end_time": "2023-04-21T15:50:44.130142Z",
     "start_time": "2023-04-21T15:50:44.099202Z"
    }
   },
   "outputs": [],
   "source": [
    "# There are only a few so we can remove them\n",
    "aviation_data_cleaned = aviation_data_cleaned[aviation_data_cleaned['state'].notna()]"
   ]
  },
  {
   "cell_type": "code",
   "execution_count": 118,
   "metadata": {
    "ExecuteTime": {
     "end_time": "2023-04-21T15:50:44.169546Z",
     "start_time": "2023-04-21T15:50:44.140689Z"
    }
   },
   "outputs": [
    {
     "data": {
      "text/plain": [
       "city     0\n",
       "state    0\n",
       "dtype: int64"
      ]
     },
     "execution_count": 118,
     "metadata": {},
     "output_type": "execute_result"
    }
   ],
   "source": [
    "# Confirm the missing data is gone\n",
    "aviation_data_cleaned[['city', 'state']].isna().sum()"
   ]
  },
  {
   "cell_type": "code",
   "execution_count": 119,
   "metadata": {
    "ExecuteTime": {
     "end_time": "2023-04-21T15:50:44.234165Z",
     "start_time": "2023-04-21T15:50:44.174600Z"
    }
   },
   "outputs": [
    {
     "data": {
      "text/plain": [
       "event_date                0\n",
       "location                  0\n",
       "airport_code              0\n",
       "airport_name              0\n",
       "injury_severity           0\n",
       "aircraft_damage           0\n",
       "make                      0\n",
       "model                     0\n",
       "number_of_engines         0\n",
       "engine_type               0\n",
       "purpose_of_flight         0\n",
       "total_fatal_injuries      0\n",
       "total_serious_injuries    0\n",
       "total_minor_injuries      0\n",
       "total_uninjured           0\n",
       "weather_condition         0\n",
       "broad_phase_of_flight     0\n",
       "passenger_count           0\n",
       "top_make                  0\n",
       "use_category              0\n",
       "top_model                 0\n",
       "city                      0\n",
       "state                     0\n",
       "dtype: int64"
      ]
     },
     "execution_count": 119,
     "metadata": {},
     "output_type": "execute_result"
    }
   ],
   "source": [
    "# Confirm the missing data is gone\n",
    "aviation_data_cleaned.isna().sum()"
   ]
  },
  {
   "attachments": {},
   "cell_type": "markdown",
   "metadata": {},
   "source": [
    "### Weather conditions"
   ]
  },
  {
   "cell_type": "code",
   "execution_count": 120,
   "metadata": {
    "ExecuteTime": {
     "end_time": "2023-04-21T15:50:44.250180Z",
     "start_time": "2023-04-21T15:50:44.237663Z"
    },
    "scrolled": true
   },
   "outputs": [
    {
     "data": {
      "text/plain": [
       "VMC        63918\n",
       "IMC         5231\n",
       "Unknown      484\n",
       "UNK          473\n",
       "Unk           88\n",
       "Name: weather_condition, dtype: int64"
      ]
     },
     "execution_count": 120,
     "metadata": {},
     "output_type": "execute_result"
    }
   ],
   "source": [
    "aviation_data_cleaned['weather_condition'].value_counts()"
   ]
  },
  {
   "cell_type": "code",
   "execution_count": 121,
   "metadata": {
    "ExecuteTime": {
     "end_time": "2023-04-21T15:50:44.269506Z",
     "start_time": "2023-04-21T15:50:44.253301Z"
    }
   },
   "outputs": [
    {
     "name": "stderr",
     "output_type": "stream",
     "text": [
      "<ipython-input-121-41ea5d073c37>:9: SettingWithCopyWarning: \n",
      "A value is trying to be set on a copy of a slice from a DataFrame.\n",
      "Try using .loc[row_indexer,col_indexer] = value instead\n",
      "\n",
      "See the caveats in the documentation: https://pandas.pydata.org/pandas-docs/stable/user_guide/indexing.html#returning-a-view-versus-a-copy\n",
      "  aviation_data_cleaned['weather_condition'] = aviation_data_cleaned['weather_condition'].map(weather_map)\n"
     ]
    }
   ],
   "source": [
    "# Update weather conditions names\n",
    "weather_map = { 'VMC' : 'Visual Meteorological Conditions',\n",
    "                 'IMC' : 'Instrument Meteorological Conditions',\n",
    "                 'Unknown' : 'Unknown Meteorological Conditions',\n",
    "                 'UNK' : 'Unknown Meteorological Conditions',\n",
    "                 'Unk' : 'Unknown Meteorological Conditions'\n",
    "}\n",
    "\n",
    "aviation_data_cleaned['weather_condition'] = aviation_data_cleaned['weather_condition'].map(weather_map)"
   ]
  },
  {
   "attachments": {},
   "cell_type": "markdown",
   "metadata": {},
   "source": [
    "### Injury Severity"
   ]
  },
  {
   "cell_type": "code",
   "execution_count": 122,
   "metadata": {
    "ExecuteTime": {
     "end_time": "2023-04-21T15:50:44.287153Z",
     "start_time": "2023-04-21T15:50:44.273220Z"
    },
    "scrolled": true
   },
   "outputs": [
    {
     "data": {
      "text/plain": [
       "Non-Fatal      57453\n",
       "Fatal(1)        4556\n",
       "Fatal(2)        2989\n",
       "Fatal           2851\n",
       "Fatal(3)         955\n",
       "Fatal(4)         663\n",
       "Minor            178\n",
       "Fatal(5)         166\n",
       "Serious          128\n",
       "Fatal(6)         104\n",
       "Fatal(7)          30\n",
       "Fatal(8)          26\n",
       "Fatal(10)         15\n",
       "Unavailable       14\n",
       "Fatal(9)           8\n",
       "Fatal(14)          5\n",
       "Fatal(12)          5\n",
       "Fatal(13)          3\n",
       "Fatal(11)          3\n",
       "Fatal(18)          3\n",
       "Fatal(23)          2\n",
       "Fatal(20)          2\n",
       "Fatal(17)          2\n",
       "Fatal(25)          2\n",
       "Fatal(228)         1\n",
       "Fatal(21)          1\n",
       "Fatal(15)          1\n",
       "Fatal(19)          1\n",
       "Fatal(88)          1\n",
       "Fatal(49)          1\n",
       "Fatal(78)          1\n",
       "Fatal(153)         1\n",
       "Fatal(44)          1\n",
       "Fatal(31)          1\n",
       "Fatal(16)          1\n",
       "Fatal(92)          1\n",
       "Fatal(37)          1\n",
       "Fatal(28)          1\n",
       "Fatal(135)         1\n",
       "Fatal(64)          1\n",
       "Fatal(110)         1\n",
       "Fatal(230)         1\n",
       "Fatal(73)          1\n",
       "Fatal(111)         1\n",
       "Fatal(68)          1\n",
       "Fatal(132)         1\n",
       "Fatal(265)         1\n",
       "Fatal(34)          1\n",
       "Fatal(27)          1\n",
       "Fatal(156)         1\n",
       "Fatal(29)          1\n",
       "Fatal(70)          1\n",
       "Fatal(43)          1\n",
       "Fatal(65)          1\n",
       "Fatal(82)          1\n",
       "Name: injury_severity, dtype: int64"
      ]
     },
     "execution_count": 122,
     "metadata": {},
     "output_type": "execute_result"
    }
   ],
   "source": [
    "# Check out injury severity\n",
    "aviation_data_cleaned['injury_severity'].value_counts()"
   ]
  },
  {
   "cell_type": "code",
   "execution_count": 123,
   "metadata": {
    "ExecuteTime": {
     "end_time": "2023-04-21T15:50:44.446926Z",
     "start_time": "2023-04-21T15:50:44.289195Z"
    }
   },
   "outputs": [
    {
     "name": "stderr",
     "output_type": "stream",
     "text": [
      "<ipython-input-123-8a01635113c5>:2: SettingWithCopyWarning: \n",
      "A value is trying to be set on a copy of a slice from a DataFrame.\n",
      "Try using .loc[row_indexer,col_indexer] = value instead\n",
      "\n",
      "See the caveats in the documentation: https://pandas.pydata.org/pandas-docs/stable/user_guide/indexing.html#returning-a-view-versus-a-copy\n",
      "  aviation_data_cleaned['injury_severity'] = aviation_data_cleaned['injury_severity'].str.split('(', 1, expand = True)\n"
     ]
    }
   ],
   "source": [
    "# Clean up the injury severity\n",
    "aviation_data_cleaned['injury_severity'] = aviation_data_cleaned['injury_severity'].str.split('(', 1, expand = True)"
   ]
  },
  {
   "cell_type": "code",
   "execution_count": 124,
   "metadata": {
    "ExecuteTime": {
     "end_time": "2023-04-21T15:50:44.455763Z",
     "start_time": "2023-04-21T15:50:44.449321Z"
    }
   },
   "outputs": [
    {
     "data": {
      "text/plain": [
       "7     Non-Fatal\n",
       "8     Non-Fatal\n",
       "9     Non-Fatal\n",
       "10    Non-Fatal\n",
       "11    Non-Fatal\n",
       "Name: injury_severity, dtype: object"
      ]
     },
     "execution_count": 124,
     "metadata": {},
     "output_type": "execute_result"
    }
   ],
   "source": [
    "aviation_data_cleaned['injury_severity'].head()"
   ]
  },
  {
   "attachments": {},
   "cell_type": "markdown",
   "metadata": {
    "ExecuteTime": {
     "end_time": "2023-04-21T14:36:50.333784Z",
     "start_time": "2023-04-21T14:36:50.330338Z"
    }
   },
   "source": [
    "## Create key metrics\n",
    "- Fatality rate\n",
    "- % uninjured"
   ]
  },
  {
   "cell_type": "code",
   "execution_count": 125,
   "metadata": {
    "ExecuteTime": {
     "end_time": "2023-04-21T15:50:44.465299Z",
     "start_time": "2023-04-21T15:50:44.458009Z"
    }
   },
   "outputs": [
    {
     "name": "stderr",
     "output_type": "stream",
     "text": [
      "<ipython-input-125-f7f133f62319>:2: SettingWithCopyWarning: \n",
      "A value is trying to be set on a copy of a slice from a DataFrame.\n",
      "Try using .loc[row_indexer,col_indexer] = value instead\n",
      "\n",
      "See the caveats in the documentation: https://pandas.pydata.org/pandas-docs/stable/user_guide/indexing.html#returning-a-view-versus-a-copy\n",
      "  aviation_data_cleaned['fatality_rate'] = aviation_data_cleaned['total_fatal_injuries']/aviation_data_cleaned['passenger_count']\n",
      "<ipython-input-125-f7f133f62319>:4: SettingWithCopyWarning: \n",
      "A value is trying to be set on a copy of a slice from a DataFrame.\n",
      "Try using .loc[row_indexer,col_indexer] = value instead\n",
      "\n",
      "See the caveats in the documentation: https://pandas.pydata.org/pandas-docs/stable/user_guide/indexing.html#returning-a-view-versus-a-copy\n",
      "  aviation_data_cleaned['percent_uninjured'] = aviation_data_cleaned['total_uninjured']/aviation_data_cleaned['passenger_count']\n"
     ]
    }
   ],
   "source": [
    "# Create a column call fatality rate to figure out the deadliness of the accident\n",
    "aviation_data_cleaned['fatality_rate'] = aviation_data_cleaned['total_fatal_injuries']/aviation_data_cleaned['passenger_count']\n",
    "# Create a column call fatality rate to figure out the deadliness of the accident\n",
    "aviation_data_cleaned['percent_uninjured'] = aviation_data_cleaned['total_uninjured']/aviation_data_cleaned['passenger_count']"
   ]
  },
  {
   "cell_type": "code",
   "execution_count": 131,
   "metadata": {
    "ExecuteTime": {
     "end_time": "2023-04-21T18:22:32.846945Z",
     "start_time": "2023-04-21T18:22:32.754446Z"
    }
   },
   "outputs": [
    {
     "name": "stderr",
     "output_type": "stream",
     "text": [
      "/Users/willbennett/anaconda3/envs/learn-env/lib/python3.8/site-packages/pandas/core/frame.py:4317: SettingWithCopyWarning: \n",
      "A value is trying to be set on a copy of a slice from a DataFrame\n",
      "\n",
      "See the caveats in the documentation: https://pandas.pydata.org/pandas-docs/stable/user_guide/indexing.html#returning-a-view-versus-a-copy\n",
      "  return super().fillna(\n"
     ]
    }
   ],
   "source": [
    "aviation_data_cleaned.fillna(0, inplace=True)"
   ]
  },
  {
   "attachments": {},
   "cell_type": "markdown",
   "metadata": {},
   "source": [
    "## Conclusion\n",
    "We now have a cleaned up data set with mostly non-null values and have focused on the columns we need"
   ]
  },
  {
   "cell_type": "code",
   "execution_count": 126,
   "metadata": {
    "ExecuteTime": {
     "end_time": "2023-04-21T15:50:44.533071Z",
     "start_time": "2023-04-21T15:50:44.467700Z"
    }
   },
   "outputs": [
    {
     "name": "stdout",
     "output_type": "stream",
     "text": [
      "<class 'pandas.core.frame.DataFrame'>\n",
      "Int64Index: 70194 entries, 7 to 90347\n",
      "Data columns (total 25 columns):\n",
      " #   Column                  Non-Null Count  Dtype         \n",
      "---  ------                  --------------  -----         \n",
      " 0   event_date              70194 non-null  datetime64[ns]\n",
      " 1   location                70194 non-null  object        \n",
      " 2   airport_code            70194 non-null  object        \n",
      " 3   airport_name            70194 non-null  object        \n",
      " 4   injury_severity         70194 non-null  object        \n",
      " 5   aircraft_damage         70194 non-null  object        \n",
      " 6   make                    70194 non-null  object        \n",
      " 7   model                   70194 non-null  object        \n",
      " 8   number_of_engines       70194 non-null  float64       \n",
      " 9   engine_type             70194 non-null  object        \n",
      " 10  purpose_of_flight       70194 non-null  object        \n",
      " 11  total_fatal_injuries    70194 non-null  float64       \n",
      " 12  total_serious_injuries  70194 non-null  float64       \n",
      " 13  total_minor_injuries    70194 non-null  float64       \n",
      " 14  total_uninjured         70194 non-null  float64       \n",
      " 15  weather_condition       70194 non-null  object        \n",
      " 16  broad_phase_of_flight   70194 non-null  object        \n",
      " 17  passenger_count         70194 non-null  float64       \n",
      " 18  top_make                70194 non-null  bool          \n",
      " 19  use_category            70194 non-null  object        \n",
      " 20  top_model               70194 non-null  bool          \n",
      " 21  city                    70194 non-null  object        \n",
      " 22  state                   70194 non-null  object        \n",
      " 23  fatality_rate           70174 non-null  float64       \n",
      " 24  percent_uninjured       70174 non-null  float64       \n",
      "dtypes: bool(2), datetime64[ns](1), float64(8), object(14)\n",
      "memory usage: 13.0+ MB\n"
     ]
    }
   ],
   "source": [
    "aviation_data_cleaned.info()"
   ]
  },
  {
   "cell_type": "code",
   "execution_count": null,
   "metadata": {},
   "outputs": [],
   "source": []
  }
 ],
 "metadata": {
  "kernelspec": {
   "display_name": "Python 3",
   "language": "python",
   "name": "python3"
  },
  "language_info": {
   "codemirror_mode": {
    "name": "ipython",
    "version": 3
   },
   "file_extension": ".py",
   "mimetype": "text/x-python",
   "name": "python",
   "nbconvert_exporter": "python",
   "pygments_lexer": "ipython3",
   "version": "3.10.11"
  }
 },
 "nbformat": 4,
 "nbformat_minor": 4
}
