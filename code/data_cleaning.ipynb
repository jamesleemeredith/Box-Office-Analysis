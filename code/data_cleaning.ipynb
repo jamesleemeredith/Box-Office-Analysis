{
 "cells": [
  {
   "attachments": {},
   "cell_type": "markdown",
   "metadata": {},
   "source": [
    "## Importing and Exploring the datasets\n",
    "Steps will be:\n",
    "- Import the data\n",
    "- Check out the data\n",
    "- Check the info\n",
    "- Describe the data\n",
    "- Check the shape"
   ]
  },
  {
   "cell_type": "code",
   "execution_count": 105,
   "metadata": {
    "ExecuteTime": {
     "end_time": "2023-04-21T15:50:34.833100Z",
     "start_time": "2023-04-21T15:50:34.465358Z"
    }
   },
   "outputs": [],
   "source": [
    "import sqlite3\n",
    "import pandas as pd"
   ]
  },
  {
   "cell_type": "code",
   "execution_count": 117,
   "metadata": {
    "ExecuteTime": {
     "end_time": "2023-04-21T19:40:21.938841Z",
     "start_time": "2023-04-21T19:40:20.888038Z"
    },
    "scrolled": true
   },
   "outputs": [],
   "source": [
    "# Imports the data\n",
    "bom_raw = pd.read_csv(\"../data/bom.movie_gross.csv.gz\")\n",
    "conn = sqlite3.connect(\"../data/im.db\")\n",
    "rt_movie_info_raw = pd.read_csv(\"../data/rt.movie_info.tsv.gz\", delimiter=\"\\t\")\n",
    "rt_reviews_raw = pd.read_csv(\"../data/rt.reviews.tsv.gz\", delimiter=\"\\t\", encoding='cp1252')\n",
    "tmdb_movies_raw = pd.read_csv(\"../data/tmdb.movies.csv.gz\")\n",
    "tn_movie_budgets_raw = pd.read_csv(\"../data/tn.movie_budgets.csv.gz\")"
   ]
  },
  {
   "cell_type": "code",
   "execution_count": 107,
   "metadata": {},
   "outputs": [
    {
     "name": "stdout",
     "output_type": "stream",
     "text": [
      "<_io.TextIOWrapper name='../data/rt.reviews.tsv.gz' mode='r' encoding='cp1252'>\n"
     ]
    }
   ],
   "source": [
    "# rt_review_data_raw initially doesn't load due to an encoding error. Here we detect the encoding type before inserting it into the codeblock above\n",
    "with open(\"../data/rt.reviews.tsv.gz\") as rt_reviews:\n",
    "    print(rt_reviews)"
   ]
  },
  {
   "attachments": {},
   "cell_type": "markdown",
   "metadata": {},
   "source": [
    "***Checking out the Data***"
   ]
  },
  {
   "cell_type": "code",
   "execution_count": 108,
   "metadata": {
    "ExecuteTime": {
     "end_time": "2023-04-21T15:50:35.538996Z",
     "start_time": "2023-04-21T15:50:35.404138Z"
    },
    "scrolled": false
   },
   "outputs": [
    {
     "data": {
      "text/html": [
       "<div>\n",
       "<style scoped>\n",
       "    .dataframe tbody tr th:only-of-type {\n",
       "        vertical-align: middle;\n",
       "    }\n",
       "\n",
       "    .dataframe tbody tr th {\n",
       "        vertical-align: top;\n",
       "    }\n",
       "\n",
       "    .dataframe thead th {\n",
       "        text-align: right;\n",
       "    }\n",
       "</style>\n",
       "<table border=\"1\" class=\"dataframe\">\n",
       "  <thead>\n",
       "    <tr style=\"text-align: right;\">\n",
       "      <th></th>\n",
       "      <th>title</th>\n",
       "      <th>studio</th>\n",
       "      <th>domestic_gross</th>\n",
       "      <th>foreign_gross</th>\n",
       "      <th>year</th>\n",
       "    </tr>\n",
       "  </thead>\n",
       "  <tbody>\n",
       "    <tr>\n",
       "      <th>0</th>\n",
       "      <td>Toy Story 3</td>\n",
       "      <td>BV</td>\n",
       "      <td>415000000.0</td>\n",
       "      <td>652000000</td>\n",
       "      <td>2010</td>\n",
       "    </tr>\n",
       "    <tr>\n",
       "      <th>1</th>\n",
       "      <td>Alice in Wonderland (2010)</td>\n",
       "      <td>BV</td>\n",
       "      <td>334200000.0</td>\n",
       "      <td>691300000</td>\n",
       "      <td>2010</td>\n",
       "    </tr>\n",
       "    <tr>\n",
       "      <th>2</th>\n",
       "      <td>Harry Potter and the Deathly Hallows Part 1</td>\n",
       "      <td>WB</td>\n",
       "      <td>296000000.0</td>\n",
       "      <td>664300000</td>\n",
       "      <td>2010</td>\n",
       "    </tr>\n",
       "    <tr>\n",
       "      <th>3</th>\n",
       "      <td>Inception</td>\n",
       "      <td>WB</td>\n",
       "      <td>292600000.0</td>\n",
       "      <td>535700000</td>\n",
       "      <td>2010</td>\n",
       "    </tr>\n",
       "    <tr>\n",
       "      <th>4</th>\n",
       "      <td>Shrek Forever After</td>\n",
       "      <td>P/DW</td>\n",
       "      <td>238700000.0</td>\n",
       "      <td>513900000</td>\n",
       "      <td>2010</td>\n",
       "    </tr>\n",
       "  </tbody>\n",
       "</table>\n",
       "</div>"
      ],
      "text/plain": [
       "                                         title studio  domestic_gross  \\\n",
       "0                                  Toy Story 3     BV     415000000.0   \n",
       "1                   Alice in Wonderland (2010)     BV     334200000.0   \n",
       "2  Harry Potter and the Deathly Hallows Part 1     WB     296000000.0   \n",
       "3                                    Inception     WB     292600000.0   \n",
       "4                          Shrek Forever After   P/DW     238700000.0   \n",
       "\n",
       "  foreign_gross  year  \n",
       "0     652000000  2010  \n",
       "1     691300000  2010  \n",
       "2     664300000  2010  \n",
       "3     535700000  2010  \n",
       "4     513900000  2010  "
      ]
     },
     "execution_count": 108,
     "metadata": {},
     "output_type": "execute_result"
    }
   ],
   "source": [
    "# Check out the data\n",
    "bom_raw.head()"
   ]
  },
  {
   "cell_type": "code",
   "execution_count": 109,
   "metadata": {},
   "outputs": [
    {
     "data": {
      "text/html": [
       "<div>\n",
       "<style scoped>\n",
       "    .dataframe tbody tr th:only-of-type {\n",
       "        vertical-align: middle;\n",
       "    }\n",
       "\n",
       "    .dataframe tbody tr th {\n",
       "        vertical-align: top;\n",
       "    }\n",
       "\n",
       "    .dataframe thead th {\n",
       "        text-align: right;\n",
       "    }\n",
       "</style>\n",
       "<table border=\"1\" class=\"dataframe\">\n",
       "  <thead>\n",
       "    <tr style=\"text-align: right;\">\n",
       "      <th></th>\n",
       "      <th>type</th>\n",
       "      <th>name</th>\n",
       "      <th>tbl_name</th>\n",
       "      <th>rootpage</th>\n",
       "      <th>sql</th>\n",
       "    </tr>\n",
       "  </thead>\n",
       "  <tbody>\n",
       "    <tr>\n",
       "      <th>0</th>\n",
       "      <td>table</td>\n",
       "      <td>movie_basics</td>\n",
       "      <td>movie_basics</td>\n",
       "      <td>2</td>\n",
       "      <td>CREATE TABLE \"movie_basics\" (\\n\"movie_id\" TEXT...</td>\n",
       "    </tr>\n",
       "    <tr>\n",
       "      <th>1</th>\n",
       "      <td>table</td>\n",
       "      <td>directors</td>\n",
       "      <td>directors</td>\n",
       "      <td>3</td>\n",
       "      <td>CREATE TABLE \"directors\" (\\n\"movie_id\" TEXT,\\n...</td>\n",
       "    </tr>\n",
       "    <tr>\n",
       "      <th>2</th>\n",
       "      <td>table</td>\n",
       "      <td>known_for</td>\n",
       "      <td>known_for</td>\n",
       "      <td>4</td>\n",
       "      <td>CREATE TABLE \"known_for\" (\\n\"person_id\" TEXT,\\...</td>\n",
       "    </tr>\n",
       "    <tr>\n",
       "      <th>3</th>\n",
       "      <td>table</td>\n",
       "      <td>movie_akas</td>\n",
       "      <td>movie_akas</td>\n",
       "      <td>5</td>\n",
       "      <td>CREATE TABLE \"movie_akas\" (\\n\"movie_id\" TEXT,\\...</td>\n",
       "    </tr>\n",
       "    <tr>\n",
       "      <th>4</th>\n",
       "      <td>table</td>\n",
       "      <td>movie_ratings</td>\n",
       "      <td>movie_ratings</td>\n",
       "      <td>6</td>\n",
       "      <td>CREATE TABLE \"movie_ratings\" (\\n\"movie_id\" TEX...</td>\n",
       "    </tr>\n",
       "    <tr>\n",
       "      <th>5</th>\n",
       "      <td>table</td>\n",
       "      <td>persons</td>\n",
       "      <td>persons</td>\n",
       "      <td>7</td>\n",
       "      <td>CREATE TABLE \"persons\" (\\n\"person_id\" TEXT,\\n ...</td>\n",
       "    </tr>\n",
       "    <tr>\n",
       "      <th>6</th>\n",
       "      <td>table</td>\n",
       "      <td>principals</td>\n",
       "      <td>principals</td>\n",
       "      <td>8</td>\n",
       "      <td>CREATE TABLE \"principals\" (\\n\"movie_id\" TEXT,\\...</td>\n",
       "    </tr>\n",
       "    <tr>\n",
       "      <th>7</th>\n",
       "      <td>table</td>\n",
       "      <td>writers</td>\n",
       "      <td>writers</td>\n",
       "      <td>9</td>\n",
       "      <td>CREATE TABLE \"writers\" (\\n\"movie_id\" TEXT,\\n  ...</td>\n",
       "    </tr>\n",
       "  </tbody>\n",
       "</table>\n",
       "</div>"
      ],
      "text/plain": [
       "    type           name       tbl_name  rootpage  \\\n",
       "0  table   movie_basics   movie_basics         2   \n",
       "1  table      directors      directors         3   \n",
       "2  table      known_for      known_for         4   \n",
       "3  table     movie_akas     movie_akas         5   \n",
       "4  table  movie_ratings  movie_ratings         6   \n",
       "5  table        persons        persons         7   \n",
       "6  table     principals     principals         8   \n",
       "7  table        writers        writers         9   \n",
       "\n",
       "                                                 sql  \n",
       "0  CREATE TABLE \"movie_basics\" (\\n\"movie_id\" TEXT...  \n",
       "1  CREATE TABLE \"directors\" (\\n\"movie_id\" TEXT,\\n...  \n",
       "2  CREATE TABLE \"known_for\" (\\n\"person_id\" TEXT,\\...  \n",
       "3  CREATE TABLE \"movie_akas\" (\\n\"movie_id\" TEXT,\\...  \n",
       "4  CREATE TABLE \"movie_ratings\" (\\n\"movie_id\" TEX...  \n",
       "5  CREATE TABLE \"persons\" (\\n\"person_id\" TEXT,\\n ...  \n",
       "6  CREATE TABLE \"principals\" (\\n\"movie_id\" TEXT,\\...  \n",
       "7  CREATE TABLE \"writers\" (\\n\"movie_id\" TEXT,\\n  ...  "
      ]
     },
     "execution_count": 109,
     "metadata": {},
     "output_type": "execute_result"
    }
   ],
   "source": [
    "imdb_raw = pd.read_sql(\n",
    "    \"\"\"\n",
    "    SELECT *\n",
    "    FROM sqlite_master\n",
    "    \"\"\"\n",
    ", conn\n",
    ")\n",
    "imdb_raw"
   ]
  },
  {
   "cell_type": "code",
   "execution_count": 118,
   "metadata": {},
   "outputs": [
    {
     "name": "stdout",
     "output_type": "stream",
     "text": [
      "Table: movie_basics\n",
      "    movie_id                    primary_title   original_title  start_year  \\\n",
      "0  tt0063540                        Sunghursh        Sunghursh        2013   \n",
      "1  tt0066787  One Day Before the Rainy Season  Ashad Ka Ek Din        2019   \n",
      "\n",
      "   runtime_minutes              genres  \n",
      "0            175.0  Action,Crime,Drama  \n",
      "1            114.0     Biography,Drama   \n",
      "\n",
      "Table: directors\n",
      "    movie_id  person_id\n",
      "0  tt0285252  nm0899854\n",
      "1  tt0462036  nm1940585 \n",
      "\n",
      "Table: known_for\n",
      "   person_id   movie_id\n",
      "0  nm0061671  tt0837562\n",
      "1  nm0061671  tt2398241 \n",
      "\n",
      "Table: movie_akas\n",
      "    movie_id  ordering              title region language        types  \\\n",
      "0  tt0369610        10      Джурасик свят     BG       bg         None   \n",
      "1  tt0369610        11  Jurashikku warudo     JP     None  imdbDisplay   \n",
      "\n",
      "  attributes  is_original_title  \n",
      "0       None                0.0  \n",
      "1       None                0.0   \n",
      "\n",
      "Table: movie_ratings\n",
      "     movie_id  averagerating  numvotes\n",
      "0  tt10356526            8.3        31\n",
      "1  tt10384606            8.9       559 \n",
      "\n",
      "Table: persons\n",
      "   person_id       primary_name  birth_year  death_year  \\\n",
      "0  nm0061671  Mary Ellen Bauder         NaN         NaN   \n",
      "1  nm0061865       Joseph Bauer         NaN         NaN   \n",
      "\n",
      "                           primary_profession  \n",
      "0   miscellaneous,production_manager,producer  \n",
      "1  composer,music_department,sound_department   \n",
      "\n",
      "Table: principals\n",
      "    movie_id  ordering  person_id  category   job   characters\n",
      "0  tt0111414         1  nm0246005     actor  None  [\"The Man\"]\n",
      "1  tt0111414         2  nm0398271  director  None         None \n",
      "\n",
      "Table: writers\n",
      "    movie_id  person_id\n",
      "0  tt0285252  nm0899854\n",
      "1  tt0438973  nm0175726 \n",
      "\n"
     ]
    }
   ],
   "source": [
    "# Get a list of all tables in the database\n",
    "cursor = conn.cursor()\n",
    "cursor.execute(\"SELECT name FROM sqlite_master WHERE type='table';\")\n",
    "imdb_tables = cursor.fetchall()\n",
    "\n",
    "# Loop through each table and display its head using pandas\n",
    "for table_name in imdb_tables:\n",
    "    df = pd.read_sql_query(f\"SELECT * from {table_name[0]}\", conn)\n",
    "    print(f\"Table: {table_name[0]}\")\n",
    "    print(df.head(2),\"\\n\")"
   ]
  },
  {
   "cell_type": "code",
   "execution_count": 111,
   "metadata": {},
   "outputs": [
    {
     "data": {
      "text/html": [
       "<div>\n",
       "<style scoped>\n",
       "    .dataframe tbody tr th:only-of-type {\n",
       "        vertical-align: middle;\n",
       "    }\n",
       "\n",
       "    .dataframe tbody tr th {\n",
       "        vertical-align: top;\n",
       "    }\n",
       "\n",
       "    .dataframe thead th {\n",
       "        text-align: right;\n",
       "    }\n",
       "</style>\n",
       "<table border=\"1\" class=\"dataframe\">\n",
       "  <thead>\n",
       "    <tr style=\"text-align: right;\">\n",
       "      <th></th>\n",
       "      <th>id</th>\n",
       "      <th>synopsis</th>\n",
       "      <th>rating</th>\n",
       "      <th>genre</th>\n",
       "      <th>director</th>\n",
       "      <th>writer</th>\n",
       "      <th>theater_date</th>\n",
       "      <th>dvd_date</th>\n",
       "      <th>currency</th>\n",
       "      <th>box_office</th>\n",
       "      <th>runtime</th>\n",
       "      <th>studio</th>\n",
       "    </tr>\n",
       "  </thead>\n",
       "  <tbody>\n",
       "    <tr>\n",
       "      <th>0</th>\n",
       "      <td>1</td>\n",
       "      <td>This gritty, fast-paced, and innovative police...</td>\n",
       "      <td>R</td>\n",
       "      <td>Action and Adventure|Classics|Drama</td>\n",
       "      <td>William Friedkin</td>\n",
       "      <td>Ernest Tidyman</td>\n",
       "      <td>Oct 9, 1971</td>\n",
       "      <td>Sep 25, 2001</td>\n",
       "      <td>NaN</td>\n",
       "      <td>NaN</td>\n",
       "      <td>104 minutes</td>\n",
       "      <td>NaN</td>\n",
       "    </tr>\n",
       "    <tr>\n",
       "      <th>1</th>\n",
       "      <td>3</td>\n",
       "      <td>New York City, not-too-distant-future: Eric Pa...</td>\n",
       "      <td>R</td>\n",
       "      <td>Drama|Science Fiction and Fantasy</td>\n",
       "      <td>David Cronenberg</td>\n",
       "      <td>David Cronenberg|Don DeLillo</td>\n",
       "      <td>Aug 17, 2012</td>\n",
       "      <td>Jan 1, 2013</td>\n",
       "      <td>$</td>\n",
       "      <td>600,000</td>\n",
       "      <td>108 minutes</td>\n",
       "      <td>Entertainment One</td>\n",
       "    </tr>\n",
       "    <tr>\n",
       "      <th>2</th>\n",
       "      <td>5</td>\n",
       "      <td>Illeana Douglas delivers a superb performance ...</td>\n",
       "      <td>R</td>\n",
       "      <td>Drama|Musical and Performing Arts</td>\n",
       "      <td>Allison Anders</td>\n",
       "      <td>Allison Anders</td>\n",
       "      <td>Sep 13, 1996</td>\n",
       "      <td>Apr 18, 2000</td>\n",
       "      <td>NaN</td>\n",
       "      <td>NaN</td>\n",
       "      <td>116 minutes</td>\n",
       "      <td>NaN</td>\n",
       "    </tr>\n",
       "    <tr>\n",
       "      <th>3</th>\n",
       "      <td>6</td>\n",
       "      <td>Michael Douglas runs afoul of a treacherous su...</td>\n",
       "      <td>R</td>\n",
       "      <td>Drama|Mystery and Suspense</td>\n",
       "      <td>Barry Levinson</td>\n",
       "      <td>Paul Attanasio|Michael Crichton</td>\n",
       "      <td>Dec 9, 1994</td>\n",
       "      <td>Aug 27, 1997</td>\n",
       "      <td>NaN</td>\n",
       "      <td>NaN</td>\n",
       "      <td>128 minutes</td>\n",
       "      <td>NaN</td>\n",
       "    </tr>\n",
       "    <tr>\n",
       "      <th>4</th>\n",
       "      <td>7</td>\n",
       "      <td>NaN</td>\n",
       "      <td>NR</td>\n",
       "      <td>Drama|Romance</td>\n",
       "      <td>Rodney Bennett</td>\n",
       "      <td>Giles Cooper</td>\n",
       "      <td>NaN</td>\n",
       "      <td>NaN</td>\n",
       "      <td>NaN</td>\n",
       "      <td>NaN</td>\n",
       "      <td>200 minutes</td>\n",
       "      <td>NaN</td>\n",
       "    </tr>\n",
       "  </tbody>\n",
       "</table>\n",
       "</div>"
      ],
      "text/plain": [
       "   id                                           synopsis rating  \\\n",
       "0   1  This gritty, fast-paced, and innovative police...      R   \n",
       "1   3  New York City, not-too-distant-future: Eric Pa...      R   \n",
       "2   5  Illeana Douglas delivers a superb performance ...      R   \n",
       "3   6  Michael Douglas runs afoul of a treacherous su...      R   \n",
       "4   7                                                NaN     NR   \n",
       "\n",
       "                                 genre          director  \\\n",
       "0  Action and Adventure|Classics|Drama  William Friedkin   \n",
       "1    Drama|Science Fiction and Fantasy  David Cronenberg   \n",
       "2    Drama|Musical and Performing Arts    Allison Anders   \n",
       "3           Drama|Mystery and Suspense    Barry Levinson   \n",
       "4                        Drama|Romance    Rodney Bennett   \n",
       "\n",
       "                            writer  theater_date      dvd_date currency  \\\n",
       "0                   Ernest Tidyman   Oct 9, 1971  Sep 25, 2001      NaN   \n",
       "1     David Cronenberg|Don DeLillo  Aug 17, 2012   Jan 1, 2013        $   \n",
       "2                   Allison Anders  Sep 13, 1996  Apr 18, 2000      NaN   \n",
       "3  Paul Attanasio|Michael Crichton   Dec 9, 1994  Aug 27, 1997      NaN   \n",
       "4                     Giles Cooper           NaN           NaN      NaN   \n",
       "\n",
       "  box_office      runtime             studio  \n",
       "0        NaN  104 minutes                NaN  \n",
       "1    600,000  108 minutes  Entertainment One  \n",
       "2        NaN  116 minutes                NaN  \n",
       "3        NaN  128 minutes                NaN  \n",
       "4        NaN  200 minutes                NaN  "
      ]
     },
     "execution_count": 111,
     "metadata": {},
     "output_type": "execute_result"
    }
   ],
   "source": [
    "rt_movie_info_raw.head()"
   ]
  },
  {
   "cell_type": "code",
   "execution_count": 112,
   "metadata": {},
   "outputs": [
    {
     "data": {
      "text/html": [
       "<div>\n",
       "<style scoped>\n",
       "    .dataframe tbody tr th:only-of-type {\n",
       "        vertical-align: middle;\n",
       "    }\n",
       "\n",
       "    .dataframe tbody tr th {\n",
       "        vertical-align: top;\n",
       "    }\n",
       "\n",
       "    .dataframe thead th {\n",
       "        text-align: right;\n",
       "    }\n",
       "</style>\n",
       "<table border=\"1\" class=\"dataframe\">\n",
       "  <thead>\n",
       "    <tr style=\"text-align: right;\">\n",
       "      <th></th>\n",
       "      <th>id</th>\n",
       "      <th>review</th>\n",
       "      <th>rating</th>\n",
       "      <th>fresh</th>\n",
       "      <th>critic</th>\n",
       "      <th>top_critic</th>\n",
       "      <th>publisher</th>\n",
       "      <th>date</th>\n",
       "    </tr>\n",
       "  </thead>\n",
       "  <tbody>\n",
       "    <tr>\n",
       "      <th>0</th>\n",
       "      <td>3</td>\n",
       "      <td>A distinctly gallows take on contemporary fina...</td>\n",
       "      <td>3/5</td>\n",
       "      <td>fresh</td>\n",
       "      <td>PJ Nabarro</td>\n",
       "      <td>0</td>\n",
       "      <td>Patrick Nabarro</td>\n",
       "      <td>November 10, 2018</td>\n",
       "    </tr>\n",
       "    <tr>\n",
       "      <th>1</th>\n",
       "      <td>3</td>\n",
       "      <td>It's an allegory in search of a meaning that n...</td>\n",
       "      <td>NaN</td>\n",
       "      <td>rotten</td>\n",
       "      <td>Annalee Newitz</td>\n",
       "      <td>0</td>\n",
       "      <td>io9.com</td>\n",
       "      <td>May 23, 2018</td>\n",
       "    </tr>\n",
       "    <tr>\n",
       "      <th>2</th>\n",
       "      <td>3</td>\n",
       "      <td>... life lived in a bubble in financial dealin...</td>\n",
       "      <td>NaN</td>\n",
       "      <td>fresh</td>\n",
       "      <td>Sean Axmaker</td>\n",
       "      <td>0</td>\n",
       "      <td>Stream on Demand</td>\n",
       "      <td>January 4, 2018</td>\n",
       "    </tr>\n",
       "    <tr>\n",
       "      <th>3</th>\n",
       "      <td>3</td>\n",
       "      <td>Continuing along a line introduced in last yea...</td>\n",
       "      <td>NaN</td>\n",
       "      <td>fresh</td>\n",
       "      <td>Daniel Kasman</td>\n",
       "      <td>0</td>\n",
       "      <td>MUBI</td>\n",
       "      <td>November 16, 2017</td>\n",
       "    </tr>\n",
       "    <tr>\n",
       "      <th>4</th>\n",
       "      <td>3</td>\n",
       "      <td>... a perverse twist on neorealism...</td>\n",
       "      <td>NaN</td>\n",
       "      <td>fresh</td>\n",
       "      <td>NaN</td>\n",
       "      <td>0</td>\n",
       "      <td>Cinema Scope</td>\n",
       "      <td>October 12, 2017</td>\n",
       "    </tr>\n",
       "  </tbody>\n",
       "</table>\n",
       "</div>"
      ],
      "text/plain": [
       "   id                                             review rating   fresh  \\\n",
       "0   3  A distinctly gallows take on contemporary fina...    3/5   fresh   \n",
       "1   3  It's an allegory in search of a meaning that n...    NaN  rotten   \n",
       "2   3  ... life lived in a bubble in financial dealin...    NaN   fresh   \n",
       "3   3  Continuing along a line introduced in last yea...    NaN   fresh   \n",
       "4   3             ... a perverse twist on neorealism...     NaN   fresh   \n",
       "\n",
       "           critic  top_critic         publisher               date  \n",
       "0      PJ Nabarro           0   Patrick Nabarro  November 10, 2018  \n",
       "1  Annalee Newitz           0           io9.com       May 23, 2018  \n",
       "2    Sean Axmaker           0  Stream on Demand    January 4, 2018  \n",
       "3   Daniel Kasman           0              MUBI  November 16, 2017  \n",
       "4             NaN           0      Cinema Scope   October 12, 2017  "
      ]
     },
     "execution_count": 112,
     "metadata": {},
     "output_type": "execute_result"
    }
   ],
   "source": [
    "rt_reviews_raw.head()"
   ]
  },
  {
   "cell_type": "code",
   "execution_count": 113,
   "metadata": {},
   "outputs": [
    {
     "data": {
      "text/html": [
       "<div>\n",
       "<style scoped>\n",
       "    .dataframe tbody tr th:only-of-type {\n",
       "        vertical-align: middle;\n",
       "    }\n",
       "\n",
       "    .dataframe tbody tr th {\n",
       "        vertical-align: top;\n",
       "    }\n",
       "\n",
       "    .dataframe thead th {\n",
       "        text-align: right;\n",
       "    }\n",
       "</style>\n",
       "<table border=\"1\" class=\"dataframe\">\n",
       "  <thead>\n",
       "    <tr style=\"text-align: right;\">\n",
       "      <th></th>\n",
       "      <th>Unnamed: 0</th>\n",
       "      <th>genre_ids</th>\n",
       "      <th>id</th>\n",
       "      <th>original_language</th>\n",
       "      <th>original_title</th>\n",
       "      <th>popularity</th>\n",
       "      <th>release_date</th>\n",
       "      <th>title</th>\n",
       "      <th>vote_average</th>\n",
       "      <th>vote_count</th>\n",
       "    </tr>\n",
       "  </thead>\n",
       "  <tbody>\n",
       "    <tr>\n",
       "      <th>0</th>\n",
       "      <td>0</td>\n",
       "      <td>[12, 14, 10751]</td>\n",
       "      <td>12444</td>\n",
       "      <td>en</td>\n",
       "      <td>Harry Potter and the Deathly Hallows: Part 1</td>\n",
       "      <td>33.533</td>\n",
       "      <td>2010-11-19</td>\n",
       "      <td>Harry Potter and the Deathly Hallows: Part 1</td>\n",
       "      <td>7.7</td>\n",
       "      <td>10788</td>\n",
       "    </tr>\n",
       "    <tr>\n",
       "      <th>1</th>\n",
       "      <td>1</td>\n",
       "      <td>[14, 12, 16, 10751]</td>\n",
       "      <td>10191</td>\n",
       "      <td>en</td>\n",
       "      <td>How to Train Your Dragon</td>\n",
       "      <td>28.734</td>\n",
       "      <td>2010-03-26</td>\n",
       "      <td>How to Train Your Dragon</td>\n",
       "      <td>7.7</td>\n",
       "      <td>7610</td>\n",
       "    </tr>\n",
       "    <tr>\n",
       "      <th>2</th>\n",
       "      <td>2</td>\n",
       "      <td>[12, 28, 878]</td>\n",
       "      <td>10138</td>\n",
       "      <td>en</td>\n",
       "      <td>Iron Man 2</td>\n",
       "      <td>28.515</td>\n",
       "      <td>2010-05-07</td>\n",
       "      <td>Iron Man 2</td>\n",
       "      <td>6.8</td>\n",
       "      <td>12368</td>\n",
       "    </tr>\n",
       "    <tr>\n",
       "      <th>3</th>\n",
       "      <td>3</td>\n",
       "      <td>[16, 35, 10751]</td>\n",
       "      <td>862</td>\n",
       "      <td>en</td>\n",
       "      <td>Toy Story</td>\n",
       "      <td>28.005</td>\n",
       "      <td>1995-11-22</td>\n",
       "      <td>Toy Story</td>\n",
       "      <td>7.9</td>\n",
       "      <td>10174</td>\n",
       "    </tr>\n",
       "    <tr>\n",
       "      <th>4</th>\n",
       "      <td>4</td>\n",
       "      <td>[28, 878, 12]</td>\n",
       "      <td>27205</td>\n",
       "      <td>en</td>\n",
       "      <td>Inception</td>\n",
       "      <td>27.920</td>\n",
       "      <td>2010-07-16</td>\n",
       "      <td>Inception</td>\n",
       "      <td>8.3</td>\n",
       "      <td>22186</td>\n",
       "    </tr>\n",
       "  </tbody>\n",
       "</table>\n",
       "</div>"
      ],
      "text/plain": [
       "   Unnamed: 0            genre_ids     id original_language  \\\n",
       "0           0      [12, 14, 10751]  12444                en   \n",
       "1           1  [14, 12, 16, 10751]  10191                en   \n",
       "2           2        [12, 28, 878]  10138                en   \n",
       "3           3      [16, 35, 10751]    862                en   \n",
       "4           4        [28, 878, 12]  27205                en   \n",
       "\n",
       "                                 original_title  popularity release_date  \\\n",
       "0  Harry Potter and the Deathly Hallows: Part 1      33.533   2010-11-19   \n",
       "1                      How to Train Your Dragon      28.734   2010-03-26   \n",
       "2                                    Iron Man 2      28.515   2010-05-07   \n",
       "3                                     Toy Story      28.005   1995-11-22   \n",
       "4                                     Inception      27.920   2010-07-16   \n",
       "\n",
       "                                          title  vote_average  vote_count  \n",
       "0  Harry Potter and the Deathly Hallows: Part 1           7.7       10788  \n",
       "1                      How to Train Your Dragon           7.7        7610  \n",
       "2                                    Iron Man 2           6.8       12368  \n",
       "3                                     Toy Story           7.9       10174  \n",
       "4                                     Inception           8.3       22186  "
      ]
     },
     "execution_count": 113,
     "metadata": {},
     "output_type": "execute_result"
    }
   ],
   "source": [
    "tmdb_movies_raw.head()"
   ]
  },
  {
   "cell_type": "code",
   "execution_count": 114,
   "metadata": {},
   "outputs": [
    {
     "data": {
      "text/html": [
       "<div>\n",
       "<style scoped>\n",
       "    .dataframe tbody tr th:only-of-type {\n",
       "        vertical-align: middle;\n",
       "    }\n",
       "\n",
       "    .dataframe tbody tr th {\n",
       "        vertical-align: top;\n",
       "    }\n",
       "\n",
       "    .dataframe thead th {\n",
       "        text-align: right;\n",
       "    }\n",
       "</style>\n",
       "<table border=\"1\" class=\"dataframe\">\n",
       "  <thead>\n",
       "    <tr style=\"text-align: right;\">\n",
       "      <th></th>\n",
       "      <th>id</th>\n",
       "      <th>release_date</th>\n",
       "      <th>movie</th>\n",
       "      <th>production_budget</th>\n",
       "      <th>domestic_gross</th>\n",
       "      <th>worldwide_gross</th>\n",
       "    </tr>\n",
       "  </thead>\n",
       "  <tbody>\n",
       "    <tr>\n",
       "      <th>0</th>\n",
       "      <td>1</td>\n",
       "      <td>Dec 18, 2009</td>\n",
       "      <td>Avatar</td>\n",
       "      <td>$425,000,000</td>\n",
       "      <td>$760,507,625</td>\n",
       "      <td>$2,776,345,279</td>\n",
       "    </tr>\n",
       "    <tr>\n",
       "      <th>1</th>\n",
       "      <td>2</td>\n",
       "      <td>May 20, 2011</td>\n",
       "      <td>Pirates of the Caribbean: On Stranger Tides</td>\n",
       "      <td>$410,600,000</td>\n",
       "      <td>$241,063,875</td>\n",
       "      <td>$1,045,663,875</td>\n",
       "    </tr>\n",
       "    <tr>\n",
       "      <th>2</th>\n",
       "      <td>3</td>\n",
       "      <td>Jun 7, 2019</td>\n",
       "      <td>Dark Phoenix</td>\n",
       "      <td>$350,000,000</td>\n",
       "      <td>$42,762,350</td>\n",
       "      <td>$149,762,350</td>\n",
       "    </tr>\n",
       "    <tr>\n",
       "      <th>3</th>\n",
       "      <td>4</td>\n",
       "      <td>May 1, 2015</td>\n",
       "      <td>Avengers: Age of Ultron</td>\n",
       "      <td>$330,600,000</td>\n",
       "      <td>$459,005,868</td>\n",
       "      <td>$1,403,013,963</td>\n",
       "    </tr>\n",
       "    <tr>\n",
       "      <th>4</th>\n",
       "      <td>5</td>\n",
       "      <td>Dec 15, 2017</td>\n",
       "      <td>Star Wars Ep. VIII: The Last Jedi</td>\n",
       "      <td>$317,000,000</td>\n",
       "      <td>$620,181,382</td>\n",
       "      <td>$1,316,721,747</td>\n",
       "    </tr>\n",
       "  </tbody>\n",
       "</table>\n",
       "</div>"
      ],
      "text/plain": [
       "   id  release_date                                        movie  \\\n",
       "0   1  Dec 18, 2009                                       Avatar   \n",
       "1   2  May 20, 2011  Pirates of the Caribbean: On Stranger Tides   \n",
       "2   3   Jun 7, 2019                                 Dark Phoenix   \n",
       "3   4   May 1, 2015                      Avengers: Age of Ultron   \n",
       "4   5  Dec 15, 2017            Star Wars Ep. VIII: The Last Jedi   \n",
       "\n",
       "  production_budget domestic_gross worldwide_gross  \n",
       "0      $425,000,000   $760,507,625  $2,776,345,279  \n",
       "1      $410,600,000   $241,063,875  $1,045,663,875  \n",
       "2      $350,000,000    $42,762,350    $149,762,350  \n",
       "3      $330,600,000   $459,005,868  $1,403,013,963  \n",
       "4      $317,000,000   $620,181,382  $1,316,721,747  "
      ]
     },
     "execution_count": 114,
     "metadata": {},
     "output_type": "execute_result"
    }
   ],
   "source": [
    "tn_movie_budgets_raw.head()"
   ]
  },
  {
   "attachments": {},
   "cell_type": "markdown",
   "metadata": {},
   "source": [
    "**Checking the Info of Each Database**"
   ]
  },
  {
   "cell_type": "code",
   "execution_count": 115,
   "metadata": {
    "ExecuteTime": {
     "end_time": "2023-04-21T15:50:35.707175Z",
     "start_time": "2023-04-21T15:50:35.542585Z"
    },
    "scrolled": false
   },
   "outputs": [
    {
     "name": "stdout",
     "output_type": "stream",
     "text": [
      "<class 'pandas.core.frame.DataFrame'>\n",
      "RangeIndex: 3387 entries, 0 to 3386\n",
      "Data columns (total 5 columns):\n",
      " #   Column          Non-Null Count  Dtype  \n",
      "---  ------          --------------  -----  \n",
      " 0   title           3387 non-null   object \n",
      " 1   studio          3382 non-null   object \n",
      " 2   domestic_gross  3359 non-null   float64\n",
      " 3   foreign_gross   2037 non-null   object \n",
      " 4   year            3387 non-null   int64  \n",
      "dtypes: float64(1), int64(1), object(3)\n",
      "memory usage: 132.4+ KB\n"
     ]
    }
   ],
   "source": [
    "# Check the information of the data set\n",
    "bom_raw.info()"
   ]
  },
  {
   "cell_type": "code",
   "execution_count": 116,
   "metadata": {},
   "outputs": [
    {
     "name": "stdout",
     "output_type": "stream",
     "text": [
      "Table: movie_basics\n",
      "<class 'pandas.core.frame.DataFrame'>\n",
      "RangeIndex: 146144 entries, 0 to 146143\n",
      "Data columns (total 6 columns):\n",
      " #   Column           Non-Null Count   Dtype  \n",
      "---  ------           --------------   -----  \n",
      " 0   movie_id         146144 non-null  object \n",
      " 1   primary_title    146144 non-null  object \n",
      " 2   original_title   146123 non-null  object \n",
      " 3   start_year       146144 non-null  int64  \n",
      " 4   runtime_minutes  114405 non-null  float64\n",
      " 5   genres           140736 non-null  object \n",
      "dtypes: float64(1), int64(1), object(4)\n",
      "memory usage: 6.7+ MB\n",
      "None\n",
      "Table: directors\n",
      "<class 'pandas.core.frame.DataFrame'>\n",
      "RangeIndex: 291174 entries, 0 to 291173\n",
      "Data columns (total 2 columns):\n",
      " #   Column     Non-Null Count   Dtype \n",
      "---  ------     --------------   ----- \n",
      " 0   movie_id   291174 non-null  object\n",
      " 1   person_id  291174 non-null  object\n",
      "dtypes: object(2)\n",
      "memory usage: 4.4+ MB\n",
      "None\n",
      "Table: known_for\n",
      "<class 'pandas.core.frame.DataFrame'>\n",
      "RangeIndex: 1638260 entries, 0 to 1638259\n",
      "Data columns (total 2 columns):\n",
      " #   Column     Non-Null Count    Dtype \n",
      "---  ------     --------------    ----- \n",
      " 0   person_id  1638260 non-null  object\n",
      " 1   movie_id   1638260 non-null  object\n",
      "dtypes: object(2)\n",
      "memory usage: 25.0+ MB\n",
      "None\n",
      "Table: movie_akas\n",
      "<class 'pandas.core.frame.DataFrame'>\n",
      "RangeIndex: 331703 entries, 0 to 331702\n",
      "Data columns (total 8 columns):\n",
      " #   Column             Non-Null Count   Dtype  \n",
      "---  ------             --------------   -----  \n",
      " 0   movie_id           331703 non-null  object \n",
      " 1   ordering           331703 non-null  int64  \n",
      " 2   title              331703 non-null  object \n",
      " 3   region             278410 non-null  object \n",
      " 4   language           41715 non-null   object \n",
      " 5   types              168447 non-null  object \n",
      " 6   attributes         14925 non-null   object \n",
      " 7   is_original_title  331678 non-null  float64\n",
      "dtypes: float64(1), int64(1), object(6)\n",
      "memory usage: 20.2+ MB\n",
      "None\n",
      "Table: movie_ratings\n",
      "<class 'pandas.core.frame.DataFrame'>\n",
      "RangeIndex: 73856 entries, 0 to 73855\n",
      "Data columns (total 3 columns):\n",
      " #   Column         Non-Null Count  Dtype  \n",
      "---  ------         --------------  -----  \n",
      " 0   movie_id       73856 non-null  object \n",
      " 1   averagerating  73856 non-null  float64\n",
      " 2   numvotes       73856 non-null  int64  \n",
      "dtypes: float64(1), int64(1), object(1)\n",
      "memory usage: 1.7+ MB\n",
      "None\n",
      "Table: persons\n",
      "<class 'pandas.core.frame.DataFrame'>\n",
      "RangeIndex: 606648 entries, 0 to 606647\n",
      "Data columns (total 5 columns):\n",
      " #   Column              Non-Null Count   Dtype  \n",
      "---  ------              --------------   -----  \n",
      " 0   person_id           606648 non-null  object \n",
      " 1   primary_name        606648 non-null  object \n",
      " 2   birth_year          82736 non-null   float64\n",
      " 3   death_year          6783 non-null    float64\n",
      " 4   primary_profession  555308 non-null  object \n",
      "dtypes: float64(2), object(3)\n",
      "memory usage: 23.1+ MB\n",
      "None\n"
     ]
    },
    {
     "ename": "KeyboardInterrupt",
     "evalue": "",
     "output_type": "error",
     "traceback": [
      "\u001b[1;31m---------------------------------------------------------------------------\u001b[0m",
      "\u001b[1;31mKeyboardInterrupt\u001b[0m                         Traceback (most recent call last)",
      "\u001b[1;32mc:\\Users\\James\\code\\Flatiron\\Projects\\Box-Office-Analysis\\code\\data_cleaning.ipynb Cell 15\u001b[0m in \u001b[0;36m<cell line: 2>\u001b[1;34m()\u001b[0m\n\u001b[0;32m      <a href='vscode-notebook-cell:/c%3A/Users/James/code/Flatiron/Projects/Box-Office-Analysis/code/data_cleaning.ipynb#X21sZmlsZQ%3D%3D?line=0'>1</a>\u001b[0m \u001b[39m# Loop through each table and display its head using pandas\u001b[39;00m\n\u001b[0;32m      <a href='vscode-notebook-cell:/c%3A/Users/James/code/Flatiron/Projects/Box-Office-Analysis/code/data_cleaning.ipynb#X21sZmlsZQ%3D%3D?line=1'>2</a>\u001b[0m \u001b[39mfor\u001b[39;00m table_name \u001b[39min\u001b[39;00m imdb_tables:\n\u001b[1;32m----> <a href='vscode-notebook-cell:/c%3A/Users/James/code/Flatiron/Projects/Box-Office-Analysis/code/data_cleaning.ipynb#X21sZmlsZQ%3D%3D?line=2'>3</a>\u001b[0m     df \u001b[39m=\u001b[39m pd\u001b[39m.\u001b[39;49mread_sql_query(\u001b[39mf\u001b[39;49m\u001b[39m\"\u001b[39;49m\u001b[39mSELECT * from \u001b[39;49m\u001b[39m{\u001b[39;49;00mtable_name[\u001b[39m0\u001b[39;49m]\u001b[39m}\u001b[39;49;00m\u001b[39m\"\u001b[39;49m, conn)\n\u001b[0;32m      <a href='vscode-notebook-cell:/c%3A/Users/James/code/Flatiron/Projects/Box-Office-Analysis/code/data_cleaning.ipynb#X21sZmlsZQ%3D%3D?line=3'>4</a>\u001b[0m     \u001b[39mprint\u001b[39m(\u001b[39mf\u001b[39m\u001b[39m\"\u001b[39m\u001b[39mTable: \u001b[39m\u001b[39m{\u001b[39;00mtable_name[\u001b[39m0\u001b[39m]\u001b[39m}\u001b[39;00m\u001b[39m\"\u001b[39m)\n\u001b[0;32m      <a href='vscode-notebook-cell:/c%3A/Users/James/code/Flatiron/Projects/Box-Office-Analysis/code/data_cleaning.ipynb#X21sZmlsZQ%3D%3D?line=4'>5</a>\u001b[0m     \u001b[39mprint\u001b[39m(df\u001b[39m.\u001b[39minfo())\n",
      "File \u001b[1;32m~\\AppData\\Local\\Packages\\PythonSoftwareFoundation.Python.3.10_qbz5n2kfra8p0\\LocalCache\\local-packages\\Python310\\site-packages\\pandas\\io\\sql.py:399\u001b[0m, in \u001b[0;36mread_sql_query\u001b[1;34m(sql, con, index_col, coerce_float, params, parse_dates, chunksize, dtype)\u001b[0m\n\u001b[0;32m    341\u001b[0m \u001b[39m\"\"\"\u001b[39;00m\n\u001b[0;32m    342\u001b[0m \u001b[39mRead SQL query into a DataFrame.\u001b[39;00m\n\u001b[0;32m    343\u001b[0m \n\u001b[1;32m   (...)\u001b[0m\n\u001b[0;32m    396\u001b[0m \u001b[39mparameter will be converted to UTC.\u001b[39;00m\n\u001b[0;32m    397\u001b[0m \u001b[39m\"\"\"\u001b[39;00m\n\u001b[0;32m    398\u001b[0m pandas_sql \u001b[39m=\u001b[39m pandasSQL_builder(con)\n\u001b[1;32m--> 399\u001b[0m \u001b[39mreturn\u001b[39;00m pandas_sql\u001b[39m.\u001b[39;49mread_query(\n\u001b[0;32m    400\u001b[0m     sql,\n\u001b[0;32m    401\u001b[0m     index_col\u001b[39m=\u001b[39;49mindex_col,\n\u001b[0;32m    402\u001b[0m     params\u001b[39m=\u001b[39;49mparams,\n\u001b[0;32m    403\u001b[0m     coerce_float\u001b[39m=\u001b[39;49mcoerce_float,\n\u001b[0;32m    404\u001b[0m     parse_dates\u001b[39m=\u001b[39;49mparse_dates,\n\u001b[0;32m    405\u001b[0m     chunksize\u001b[39m=\u001b[39;49mchunksize,\n\u001b[0;32m    406\u001b[0m     dtype\u001b[39m=\u001b[39;49mdtype,\n\u001b[0;32m    407\u001b[0m )\n",
      "File \u001b[1;32m~\\AppData\\Local\\Packages\\PythonSoftwareFoundation.Python.3.10_qbz5n2kfra8p0\\LocalCache\\local-packages\\Python310\\site-packages\\pandas\\io\\sql.py:2094\u001b[0m, in \u001b[0;36mSQLiteDatabase.read_query\u001b[1;34m(self, sql, index_col, coerce_float, params, parse_dates, chunksize, dtype)\u001b[0m\n\u001b[0;32m   2084\u001b[0m     \u001b[39mreturn\u001b[39;00m \u001b[39mself\u001b[39m\u001b[39m.\u001b[39m_query_iterator(\n\u001b[0;32m   2085\u001b[0m         cursor,\n\u001b[0;32m   2086\u001b[0m         chunksize,\n\u001b[1;32m   (...)\u001b[0m\n\u001b[0;32m   2091\u001b[0m         dtype\u001b[39m=\u001b[39mdtype,\n\u001b[0;32m   2092\u001b[0m     )\n\u001b[0;32m   2093\u001b[0m \u001b[39melse\u001b[39;00m:\n\u001b[1;32m-> 2094\u001b[0m     data \u001b[39m=\u001b[39m \u001b[39mself\u001b[39;49m\u001b[39m.\u001b[39;49m_fetchall_as_list(cursor)\n\u001b[0;32m   2095\u001b[0m     cursor\u001b[39m.\u001b[39mclose()\n\u001b[0;32m   2097\u001b[0m     frame \u001b[39m=\u001b[39m _wrap_result(\n\u001b[0;32m   2098\u001b[0m         data,\n\u001b[0;32m   2099\u001b[0m         columns,\n\u001b[1;32m   (...)\u001b[0m\n\u001b[0;32m   2103\u001b[0m         dtype\u001b[39m=\u001b[39mdtype,\n\u001b[0;32m   2104\u001b[0m     )\n",
      "File \u001b[1;32m~\\AppData\\Local\\Packages\\PythonSoftwareFoundation.Python.3.10_qbz5n2kfra8p0\\LocalCache\\local-packages\\Python310\\site-packages\\pandas\\io\\sql.py:2108\u001b[0m, in \u001b[0;36mSQLiteDatabase._fetchall_as_list\u001b[1;34m(self, cur)\u001b[0m\n\u001b[0;32m   2107\u001b[0m \u001b[39mdef\u001b[39;00m \u001b[39m_fetchall_as_list\u001b[39m(\u001b[39mself\u001b[39m, cur):\n\u001b[1;32m-> 2108\u001b[0m     result \u001b[39m=\u001b[39m cur\u001b[39m.\u001b[39;49mfetchall()\n\u001b[0;32m   2109\u001b[0m     \u001b[39mif\u001b[39;00m \u001b[39mnot\u001b[39;00m \u001b[39misinstance\u001b[39m(result, \u001b[39mlist\u001b[39m):\n\u001b[0;32m   2110\u001b[0m         result \u001b[39m=\u001b[39m \u001b[39mlist\u001b[39m(result)\n",
      "\u001b[1;31mKeyboardInterrupt\u001b[0m: "
     ]
    }
   ],
   "source": [
    "# Loop through each table and display its head using pandas\n",
    "for table_name in imdb_tables:\n",
    "    df = pd.read_sql_query(f\"SELECT * from {table_name[0]}\", conn)\n",
    "    print(f\"Table: {table_name[0]}\")\n",
    "    print(df.info())"
   ]
  },
  {
   "cell_type": "code",
   "execution_count": null,
   "metadata": {},
   "outputs": [
    {
     "name": "stdout",
     "output_type": "stream",
     "text": [
      "<class 'pandas.core.frame.DataFrame'>\n",
      "RangeIndex: 1560 entries, 0 to 1559\n",
      "Data columns (total 12 columns):\n",
      " #   Column        Non-Null Count  Dtype \n",
      "---  ------        --------------  ----- \n",
      " 0   id            1560 non-null   int64 \n",
      " 1   synopsis      1498 non-null   object\n",
      " 2   rating        1557 non-null   object\n",
      " 3   genre         1552 non-null   object\n",
      " 4   director      1361 non-null   object\n",
      " 5   writer        1111 non-null   object\n",
      " 6   theater_date  1201 non-null   object\n",
      " 7   dvd_date      1201 non-null   object\n",
      " 8   currency      340 non-null    object\n",
      " 9   box_office    340 non-null    object\n",
      " 10  runtime       1530 non-null   object\n",
      " 11  studio        494 non-null    object\n",
      "dtypes: int64(1), object(11)\n",
      "memory usage: 146.4+ KB\n"
     ]
    }
   ],
   "source": [
    "rt_movie_info_raw.info()"
   ]
  },
  {
   "cell_type": "code",
   "execution_count": null,
   "metadata": {},
   "outputs": [
    {
     "name": "stdout",
     "output_type": "stream",
     "text": [
      "<class 'pandas.core.frame.DataFrame'>\n",
      "RangeIndex: 54432 entries, 0 to 54431\n",
      "Data columns (total 8 columns):\n",
      " #   Column      Non-Null Count  Dtype \n",
      "---  ------      --------------  ----- \n",
      " 0   id          54432 non-null  int64 \n",
      " 1   review      48869 non-null  object\n",
      " 2   rating      40915 non-null  object\n",
      " 3   fresh       54432 non-null  object\n",
      " 4   critic      51710 non-null  object\n",
      " 5   top_critic  54432 non-null  int64 \n",
      " 6   publisher   54123 non-null  object\n",
      " 7   date        54432 non-null  object\n",
      "dtypes: int64(2), object(6)\n",
      "memory usage: 3.3+ MB\n"
     ]
    }
   ],
   "source": [
    "rt_reviews_raw.info()"
   ]
  },
  {
   "cell_type": "code",
   "execution_count": null,
   "metadata": {},
   "outputs": [
    {
     "name": "stdout",
     "output_type": "stream",
     "text": [
      "<class 'pandas.core.frame.DataFrame'>\n",
      "RangeIndex: 26517 entries, 0 to 26516\n",
      "Data columns (total 10 columns):\n",
      " #   Column             Non-Null Count  Dtype  \n",
      "---  ------             --------------  -----  \n",
      " 0   Unnamed: 0         26517 non-null  int64  \n",
      " 1   genre_ids          26517 non-null  object \n",
      " 2   id                 26517 non-null  int64  \n",
      " 3   original_language  26517 non-null  object \n",
      " 4   original_title     26517 non-null  object \n",
      " 5   popularity         26517 non-null  float64\n",
      " 6   release_date       26517 non-null  object \n",
      " 7   title              26517 non-null  object \n",
      " 8   vote_average       26517 non-null  float64\n",
      " 9   vote_count         26517 non-null  int64  \n",
      "dtypes: float64(2), int64(3), object(5)\n",
      "memory usage: 2.0+ MB\n"
     ]
    }
   ],
   "source": [
    "tmdb_movies_raw.info()"
   ]
  },
  {
   "cell_type": "code",
   "execution_count": null,
   "metadata": {},
   "outputs": [
    {
     "name": "stdout",
     "output_type": "stream",
     "text": [
      "<class 'pandas.core.frame.DataFrame'>\n",
      "RangeIndex: 5782 entries, 0 to 5781\n",
      "Data columns (total 6 columns):\n",
      " #   Column             Non-Null Count  Dtype \n",
      "---  ------             --------------  ----- \n",
      " 0   id                 5782 non-null   int64 \n",
      " 1   release_date       5782 non-null   object\n",
      " 2   movie              5782 non-null   object\n",
      " 3   production_budget  5782 non-null   object\n",
      " 4   domestic_gross     5782 non-null   object\n",
      " 5   worldwide_gross    5782 non-null   object\n",
      "dtypes: int64(1), object(5)\n",
      "memory usage: 271.2+ KB\n"
     ]
    }
   ],
   "source": [
    "tn_movie_budgets_raw.info()"
   ]
  },
  {
   "attachments": {},
   "cell_type": "markdown",
   "metadata": {},
   "source": [
    "**Observations**\n",
    "- Currency fields will need to be converted to a consistent datatype (ideally float)\n",
    "- We will have to handle dates\n",
    "- There are a significant number of nulls"
   ]
  },
  {
   "cell_type": "code",
   "execution_count": null,
   "metadata": {
    "ExecuteTime": {
     "end_time": "2023-04-21T15:50:35.759582Z",
     "start_time": "2023-04-21T15:50:35.709299Z"
    },
    "scrolled": true
   },
   "outputs": [
    {
     "name": "stdout",
     "output_type": "stream",
     "text": [
      "       domestic_gross         year\n",
      "count    3.359000e+03  3387.000000\n",
      "mean     2.874585e+07  2013.958075\n",
      "std      6.698250e+07     2.478141\n",
      "min      1.000000e+02  2010.000000\n",
      "25%      1.200000e+05  2012.000000\n",
      "50%      1.400000e+06  2014.000000\n",
      "75%      2.790000e+07  2016.000000\n",
      "max      9.367000e+08  2018.000000 \n",
      "\n",
      "            title studio foreign_gross\n",
      "count        3387   3382          2037\n",
      "unique       3386    257          1204\n",
      "top     Bluebeard    IFC       1200000\n",
      "freq            2    166            23\n"
     ]
    }
   ],
   "source": [
    "# Describe the numerical data\n",
    "print(bom_raw.describe(),\"\\n\")\n",
    "print(bom_raw.describe(include=object))"
   ]
  },
  {
   "cell_type": "code",
   "execution_count": null,
   "metadata": {},
   "outputs": [
    {
     "name": "stdout",
     "output_type": "stream",
     "text": [
      "Table: movie_basics\n",
      "          start_year  runtime_minutes\n",
      "count  146144.000000    114405.000000\n",
      "mean     2014.621798        86.187247\n",
      "std         2.733583       166.360590\n",
      "min      2010.000000         1.000000\n",
      "25%      2012.000000        70.000000\n",
      "50%      2015.000000        87.000000\n",
      "75%      2017.000000        99.000000\n",
      "max      2115.000000     51420.000000 \n",
      "\n",
      "         movie_id primary_title original_title       genres\n",
      "count      146144        146144         146123       140736\n",
      "unique     146144        136071         137773         1085\n",
      "top     tt0063540          Home         Broken  Documentary\n",
      "freq            1            24             19        32185 \n",
      "\n",
      "Table: directors\n",
      "         movie_id  person_id\n",
      "count      291174     291174\n",
      "unique     140417     109253\n",
      "top     tt4050462  nm6935209\n",
      "freq         3818        238 \n",
      "\n",
      "         movie_id  person_id\n",
      "count      291174     291174\n",
      "unique     140417     109253\n",
      "top     tt4050462  nm6935209\n",
      "freq         3818        238 \n",
      "\n",
      "Table: known_for\n",
      "        person_id   movie_id\n",
      "count     1638260    1638260\n",
      "unique     576444     514781\n",
      "top     nm1202937  tt0806910\n",
      "freq            6        633 \n",
      "\n",
      "        person_id   movie_id\n",
      "count     1638260    1638260\n",
      "unique     576444     514781\n",
      "top     nm1202937  tt0806910\n",
      "freq            6        633 \n",
      "\n",
      "Table: movie_akas\n",
      "            ordering  is_original_title\n",
      "count  331703.000000      331678.000000\n",
      "mean        5.125872           0.134769\n",
      "std         6.706664           0.341477\n",
      "min         1.000000           0.000000\n",
      "25%         1.000000           0.000000\n",
      "50%         2.000000           0.000000\n",
      "75%         6.000000           0.000000\n",
      "max        61.000000           1.000000 \n",
      "\n",
      "         movie_id       title  region language        types attributes\n",
      "count      331703      331703  278410    41715       168447      14925\n",
      "unique     122302      252781     213       76           10         77\n",
      "top     tt2488496  Robin Hood      US       en  imdbDisplay  new title\n",
      "freq           61          32   51490    22895       100461       1700 \n",
      "\n",
      "Table: movie_ratings\n",
      "       averagerating      numvotes\n",
      "count   73856.000000  7.385600e+04\n",
      "mean        6.332729  3.523662e+03\n",
      "std         1.474978  3.029402e+04\n",
      "min         1.000000  5.000000e+00\n",
      "25%         5.500000  1.400000e+01\n",
      "50%         6.500000  4.900000e+01\n",
      "75%         7.400000  2.820000e+02\n",
      "max        10.000000  1.841066e+06 \n",
      "\n",
      "          movie_id\n",
      "count        73856\n",
      "unique       73856\n",
      "top     tt10356526\n",
      "freq             1 \n",
      "\n",
      "Table: persons\n",
      "         birth_year   death_year\n",
      "count  82736.000000  6783.000000\n",
      "mean    1967.043826  2000.523367\n",
      "std       22.122190    43.951530\n",
      "min        1.000000    17.000000\n",
      "25%     1957.000000  2001.000000\n",
      "50%     1971.000000  2013.000000\n",
      "75%     1981.000000  2016.000000\n",
      "max     2014.000000  2019.000000 \n",
      "\n",
      "        person_id   primary_name primary_profession\n",
      "count      606648         606648             555308\n",
      "unique     606648         577203               8647\n",
      "top     nm0061671  Michael Brown              actor\n",
      "freq            1             16              88306 \n",
      "\n",
      "Table: principals\n",
      "           ordering\n",
      "count  1.028186e+06\n",
      "mean   4.739847e+00\n",
      "std    2.747446e+00\n",
      "min    1.000000e+00\n",
      "25%    2.000000e+00\n",
      "50%    4.000000e+00\n",
      "75%    7.000000e+00\n",
      "max    1.000000e+01 \n",
      "\n",
      "         movie_id  person_id category       job   characters\n",
      "count     1028186    1028186  1028186    177684       393360\n",
      "unique     143454     604546       12      2965       174762\n",
      "top     tt2848734  nm1930572    actor  producer  [\"Himself\"]\n",
      "freq           10        378   256718    108168        43584 \n",
      "\n",
      "Table: writers\n",
      "         movie_id  person_id\n",
      "count      255873     255873\n",
      "unique     110261     122576\n",
      "top     tt4050462  nm6935209\n",
      "freq         3818        543 \n",
      "\n",
      "         movie_id  person_id\n",
      "count      255873     255873\n",
      "unique     110261     122576\n",
      "top     tt4050462  nm6935209\n",
      "freq         3818        543 \n",
      "\n"
     ]
    }
   ],
   "source": [
    "# Loop through each table and display its head using pandas\n",
    "for table_name in imdb_tables:\n",
    "    df = pd.read_sql_query(f\"SELECT * from {table_name[0]}\", conn)\n",
    "    print(f\"Table: {table_name[0]}\")\n",
    "    print(df.describe(),\"\\n\")\n",
    "    print(df.describe(include=object),\"\\n\")"
   ]
  },
  {
   "cell_type": "code",
   "execution_count": null,
   "metadata": {},
   "outputs": [
    {
     "name": "stdout",
     "output_type": "stream",
     "text": [
      "                id\n",
      "count  1560.000000\n",
      "mean   1007.303846\n",
      "std     579.164527\n",
      "min       1.000000\n",
      "25%     504.750000\n",
      "50%    1007.500000\n",
      "75%    1503.250000\n",
      "max    2000.000000 \n",
      "\n",
      "                                                 synopsis rating  genre  \\\n",
      "count                                                1498   1557   1552   \n",
      "unique                                               1497      6    299   \n",
      "top     A group of air crash survivors are stranded in...      R  Drama   \n",
      "freq                                                    2    521    151   \n",
      "\n",
      "                director       writer theater_date     dvd_date currency  \\\n",
      "count               1361         1111         1201         1201      340   \n",
      "unique              1125         1069         1025          717        1   \n",
      "top     Steven Spielberg  Woody Allen  Jan 1, 1987  Jun 1, 2004        $   \n",
      "freq                  10            4            8           11      340   \n",
      "\n",
      "       box_office     runtime              studio  \n",
      "count         340        1530                 494  \n",
      "unique        336         142                 200  \n",
      "top       600,000  90 minutes  Universal Pictures  \n",
      "freq            2          72                  35  \n"
     ]
    }
   ],
   "source": [
    "print(rt_movie_info_raw.describe(),\"\\n\")\n",
    "print(rt_movie_info_raw.describe(include=object))"
   ]
  },
  {
   "cell_type": "code",
   "execution_count": null,
   "metadata": {},
   "outputs": [
    {
     "data": {
      "text/html": [
       "<div>\n",
       "<style scoped>\n",
       "    .dataframe tbody tr th:only-of-type {\n",
       "        vertical-align: middle;\n",
       "    }\n",
       "\n",
       "    .dataframe tbody tr th {\n",
       "        vertical-align: top;\n",
       "    }\n",
       "\n",
       "    .dataframe thead th {\n",
       "        text-align: right;\n",
       "    }\n",
       "</style>\n",
       "<table border=\"1\" class=\"dataframe\">\n",
       "  <thead>\n",
       "    <tr style=\"text-align: right;\">\n",
       "      <th></th>\n",
       "      <th>id</th>\n",
       "      <th>top_critic</th>\n",
       "    </tr>\n",
       "  </thead>\n",
       "  <tbody>\n",
       "    <tr>\n",
       "      <th>count</th>\n",
       "      <td>54432.000000</td>\n",
       "      <td>54432.000000</td>\n",
       "    </tr>\n",
       "    <tr>\n",
       "      <th>mean</th>\n",
       "      <td>1045.706882</td>\n",
       "      <td>0.240594</td>\n",
       "    </tr>\n",
       "    <tr>\n",
       "      <th>std</th>\n",
       "      <td>586.657046</td>\n",
       "      <td>0.427448</td>\n",
       "    </tr>\n",
       "    <tr>\n",
       "      <th>min</th>\n",
       "      <td>3.000000</td>\n",
       "      <td>0.000000</td>\n",
       "    </tr>\n",
       "    <tr>\n",
       "      <th>25%</th>\n",
       "      <td>542.000000</td>\n",
       "      <td>0.000000</td>\n",
       "    </tr>\n",
       "    <tr>\n",
       "      <th>50%</th>\n",
       "      <td>1083.000000</td>\n",
       "      <td>0.000000</td>\n",
       "    </tr>\n",
       "    <tr>\n",
       "      <th>75%</th>\n",
       "      <td>1541.000000</td>\n",
       "      <td>0.000000</td>\n",
       "    </tr>\n",
       "    <tr>\n",
       "      <th>max</th>\n",
       "      <td>2000.000000</td>\n",
       "      <td>1.000000</td>\n",
       "    </tr>\n",
       "  </tbody>\n",
       "</table>\n",
       "</div>"
      ],
      "text/plain": [
       "                 id    top_critic\n",
       "count  54432.000000  54432.000000\n",
       "mean    1045.706882      0.240594\n",
       "std      586.657046      0.427448\n",
       "min        3.000000      0.000000\n",
       "25%      542.000000      0.000000\n",
       "50%     1083.000000      0.000000\n",
       "75%     1541.000000      0.000000\n",
       "max     2000.000000      1.000000"
      ]
     },
     "execution_count": 58,
     "metadata": {},
     "output_type": "execute_result"
    }
   ],
   "source": [
    "rt_reviews_raw.describe()"
   ]
  },
  {
   "cell_type": "code",
   "execution_count": null,
   "metadata": {},
   "outputs": [
    {
     "data": {
      "text/html": [
       "<div>\n",
       "<style scoped>\n",
       "    .dataframe tbody tr th:only-of-type {\n",
       "        vertical-align: middle;\n",
       "    }\n",
       "\n",
       "    .dataframe tbody tr th {\n",
       "        vertical-align: top;\n",
       "    }\n",
       "\n",
       "    .dataframe thead th {\n",
       "        text-align: right;\n",
       "    }\n",
       "</style>\n",
       "<table border=\"1\" class=\"dataframe\">\n",
       "  <thead>\n",
       "    <tr style=\"text-align: right;\">\n",
       "      <th></th>\n",
       "      <th>Unnamed: 0</th>\n",
       "      <th>id</th>\n",
       "      <th>popularity</th>\n",
       "      <th>vote_average</th>\n",
       "      <th>vote_count</th>\n",
       "    </tr>\n",
       "  </thead>\n",
       "  <tbody>\n",
       "    <tr>\n",
       "      <th>count</th>\n",
       "      <td>26517.00000</td>\n",
       "      <td>26517.000000</td>\n",
       "      <td>26517.000000</td>\n",
       "      <td>26517.000000</td>\n",
       "      <td>26517.000000</td>\n",
       "    </tr>\n",
       "    <tr>\n",
       "      <th>mean</th>\n",
       "      <td>13258.00000</td>\n",
       "      <td>295050.153260</td>\n",
       "      <td>3.130912</td>\n",
       "      <td>5.991281</td>\n",
       "      <td>194.224837</td>\n",
       "    </tr>\n",
       "    <tr>\n",
       "      <th>std</th>\n",
       "      <td>7654.94288</td>\n",
       "      <td>153661.615648</td>\n",
       "      <td>4.355229</td>\n",
       "      <td>1.852946</td>\n",
       "      <td>960.961095</td>\n",
       "    </tr>\n",
       "    <tr>\n",
       "      <th>min</th>\n",
       "      <td>0.00000</td>\n",
       "      <td>27.000000</td>\n",
       "      <td>0.600000</td>\n",
       "      <td>0.000000</td>\n",
       "      <td>1.000000</td>\n",
       "    </tr>\n",
       "    <tr>\n",
       "      <th>25%</th>\n",
       "      <td>6629.00000</td>\n",
       "      <td>157851.000000</td>\n",
       "      <td>0.600000</td>\n",
       "      <td>5.000000</td>\n",
       "      <td>2.000000</td>\n",
       "    </tr>\n",
       "    <tr>\n",
       "      <th>50%</th>\n",
       "      <td>13258.00000</td>\n",
       "      <td>309581.000000</td>\n",
       "      <td>1.374000</td>\n",
       "      <td>6.000000</td>\n",
       "      <td>5.000000</td>\n",
       "    </tr>\n",
       "    <tr>\n",
       "      <th>75%</th>\n",
       "      <td>19887.00000</td>\n",
       "      <td>419542.000000</td>\n",
       "      <td>3.694000</td>\n",
       "      <td>7.000000</td>\n",
       "      <td>28.000000</td>\n",
       "    </tr>\n",
       "    <tr>\n",
       "      <th>max</th>\n",
       "      <td>26516.00000</td>\n",
       "      <td>608444.000000</td>\n",
       "      <td>80.773000</td>\n",
       "      <td>10.000000</td>\n",
       "      <td>22186.000000</td>\n",
       "    </tr>\n",
       "  </tbody>\n",
       "</table>\n",
       "</div>"
      ],
      "text/plain": [
       "        Unnamed: 0             id    popularity  vote_average    vote_count\n",
       "count  26517.00000   26517.000000  26517.000000  26517.000000  26517.000000\n",
       "mean   13258.00000  295050.153260      3.130912      5.991281    194.224837\n",
       "std     7654.94288  153661.615648      4.355229      1.852946    960.961095\n",
       "min        0.00000      27.000000      0.600000      0.000000      1.000000\n",
       "25%     6629.00000  157851.000000      0.600000      5.000000      2.000000\n",
       "50%    13258.00000  309581.000000      1.374000      6.000000      5.000000\n",
       "75%    19887.00000  419542.000000      3.694000      7.000000     28.000000\n",
       "max    26516.00000  608444.000000     80.773000     10.000000  22186.000000"
      ]
     },
     "execution_count": 59,
     "metadata": {},
     "output_type": "execute_result"
    }
   ],
   "source": [
    "tmdb_movies_raw.describe()\n"
   ]
  },
  {
   "cell_type": "code",
   "execution_count": null,
   "metadata": {},
   "outputs": [
    {
     "data": {
      "text/html": [
       "<div>\n",
       "<style scoped>\n",
       "    .dataframe tbody tr th:only-of-type {\n",
       "        vertical-align: middle;\n",
       "    }\n",
       "\n",
       "    .dataframe tbody tr th {\n",
       "        vertical-align: top;\n",
       "    }\n",
       "\n",
       "    .dataframe thead th {\n",
       "        text-align: right;\n",
       "    }\n",
       "</style>\n",
       "<table border=\"1\" class=\"dataframe\">\n",
       "  <thead>\n",
       "    <tr style=\"text-align: right;\">\n",
       "      <th></th>\n",
       "      <th>id</th>\n",
       "    </tr>\n",
       "  </thead>\n",
       "  <tbody>\n",
       "    <tr>\n",
       "      <th>count</th>\n",
       "      <td>5782.000000</td>\n",
       "    </tr>\n",
       "    <tr>\n",
       "      <th>mean</th>\n",
       "      <td>50.372363</td>\n",
       "    </tr>\n",
       "    <tr>\n",
       "      <th>std</th>\n",
       "      <td>28.821076</td>\n",
       "    </tr>\n",
       "    <tr>\n",
       "      <th>min</th>\n",
       "      <td>1.000000</td>\n",
       "    </tr>\n",
       "    <tr>\n",
       "      <th>25%</th>\n",
       "      <td>25.000000</td>\n",
       "    </tr>\n",
       "    <tr>\n",
       "      <th>50%</th>\n",
       "      <td>50.000000</td>\n",
       "    </tr>\n",
       "    <tr>\n",
       "      <th>75%</th>\n",
       "      <td>75.000000</td>\n",
       "    </tr>\n",
       "    <tr>\n",
       "      <th>max</th>\n",
       "      <td>100.000000</td>\n",
       "    </tr>\n",
       "  </tbody>\n",
       "</table>\n",
       "</div>"
      ],
      "text/plain": [
       "                id\n",
       "count  5782.000000\n",
       "mean     50.372363\n",
       "std      28.821076\n",
       "min       1.000000\n",
       "25%      25.000000\n",
       "50%      50.000000\n",
       "75%      75.000000\n",
       "max     100.000000"
      ]
     },
     "execution_count": 60,
     "metadata": {},
     "output_type": "execute_result"
    }
   ],
   "source": [
    "tn_movie_budgets_raw.describe()"
   ]
  },
  {
   "cell_type": "code",
   "execution_count": null,
   "metadata": {
    "ExecuteTime": {
     "end_time": "2023-04-21T15:50:36.821325Z",
     "start_time": "2023-04-21T15:50:35.766346Z"
    }
   },
   "outputs": [
    {
     "data": {
      "text/html": [
       "<div>\n",
       "<style scoped>\n",
       "    .dataframe tbody tr th:only-of-type {\n",
       "        vertical-align: middle;\n",
       "    }\n",
       "\n",
       "    .dataframe tbody tr th {\n",
       "        vertical-align: top;\n",
       "    }\n",
       "\n",
       "    .dataframe thead th {\n",
       "        text-align: right;\n",
       "    }\n",
       "</style>\n",
       "<table border=\"1\" class=\"dataframe\">\n",
       "  <thead>\n",
       "    <tr style=\"text-align: right;\">\n",
       "      <th></th>\n",
       "      <th>title</th>\n",
       "      <th>studio</th>\n",
       "      <th>foreign_gross</th>\n",
       "    </tr>\n",
       "  </thead>\n",
       "  <tbody>\n",
       "    <tr>\n",
       "      <th>count</th>\n",
       "      <td>3387</td>\n",
       "      <td>3382</td>\n",
       "      <td>2037</td>\n",
       "    </tr>\n",
       "    <tr>\n",
       "      <th>unique</th>\n",
       "      <td>3386</td>\n",
       "      <td>257</td>\n",
       "      <td>1204</td>\n",
       "    </tr>\n",
       "    <tr>\n",
       "      <th>top</th>\n",
       "      <td>Bluebeard</td>\n",
       "      <td>IFC</td>\n",
       "      <td>1200000</td>\n",
       "    </tr>\n",
       "    <tr>\n",
       "      <th>freq</th>\n",
       "      <td>2</td>\n",
       "      <td>166</td>\n",
       "      <td>23</td>\n",
       "    </tr>\n",
       "  </tbody>\n",
       "</table>\n",
       "</div>"
      ],
      "text/plain": [
       "            title studio foreign_gross\n",
       "count        3387   3382          2037\n",
       "unique       3386    257          1204\n",
       "top     Bluebeard    IFC       1200000\n",
       "freq            2    166            23"
      ]
     },
     "execution_count": 61,
     "metadata": {},
     "output_type": "execute_result"
    }
   ],
   "source": [
    "# Describle the non-numerical data\n",
    "bom_raw.describe(include=object)"
   ]
  },
  {
   "cell_type": "code",
   "execution_count": null,
   "metadata": {},
   "outputs": [
    {
     "name": "stdout",
     "output_type": "stream",
     "text": [
      "Table: movie_basics\n",
      "         movie_id primary_title original_title       genres\n",
      "count      146144        146144         146123       140736\n",
      "unique     146144        136071         137773         1085\n",
      "top     tt0063540          Home         Broken  Documentary\n",
      "freq            1            24             19        32185\n",
      "Table: directors\n",
      "         movie_id  person_id\n",
      "count      291174     291174\n",
      "unique     140417     109253\n",
      "top     tt4050462  nm6935209\n",
      "freq         3818        238\n",
      "Table: known_for\n",
      "        person_id   movie_id\n",
      "count     1638260    1638260\n",
      "unique     576444     514781\n",
      "top     nm1202937  tt0806910\n",
      "freq            6        633\n",
      "Table: movie_akas\n",
      "         movie_id       title  region language        types attributes\n",
      "count      331703      331703  278410    41715       168447      14925\n",
      "unique     122302      252781     213       76           10         77\n",
      "top     tt2488496  Robin Hood      US       en  imdbDisplay  new title\n",
      "freq           61          32   51490    22895       100461       1700\n",
      "Table: movie_ratings\n",
      "          movie_id\n",
      "count        73856\n",
      "unique       73856\n",
      "top     tt10356526\n",
      "freq             1\n",
      "Table: persons\n",
      "        person_id   primary_name primary_profession\n",
      "count      606648         606648             555308\n",
      "unique     606648         577203               8647\n",
      "top     nm0061671  Michael Brown              actor\n",
      "freq            1             16              88306\n",
      "Table: principals\n",
      "         movie_id  person_id category       job   characters\n",
      "count     1028186    1028186  1028186    177684       393360\n",
      "unique     143454     604546       12      2965       174762\n",
      "top     tt2848734  nm1930572    actor  producer  [\"Himself\"]\n",
      "freq           10        378   256718    108168        43584\n",
      "Table: writers\n",
      "         movie_id  person_id\n",
      "count      255873     255873\n",
      "unique     110261     122576\n",
      "top     tt4050462  nm6935209\n",
      "freq         3818        543\n"
     ]
    }
   ],
   "source": [
    "# Loop through each table and display its head using pandas\n",
    "for table_name in imdb_tables:\n",
    "    df = pd.read_sql_query(f\"SELECT * from {table_name[0]}\", conn)\n",
    "    print(f\"Table: {table_name[0]}\")\n",
    "    print(df.describe(include=object))"
   ]
  },
  {
   "cell_type": "code",
   "execution_count": null,
   "metadata": {
    "ExecuteTime": {
     "end_time": "2023-04-21T15:50:36.848095Z",
     "start_time": "2023-04-21T15:50:36.842577Z"
    }
   },
   "outputs": [],
   "source": [
    "# Create a copy for cleaning\n",
    "# NEED THIS STEP???"
   ]
  },
  {
   "attachments": {},
   "cell_type": "markdown",
   "metadata": {},
   "source": [
    "## Handling Column Names (NEEDED?)\n",
    "We will start by cleaning the column names so that they will be easy to access.\n",
    "We will:\n",
    "- Strip spaces\n",
    "- Replace periods with underscores\n",
    "- lowercase all column names"
   ]
  },
  {
   "attachments": {},
   "cell_type": "markdown",
   "metadata": {},
   "source": [
    "## Handling Duplicates\n",
    "We will check for duplicates and see how we should handle them"
   ]
  },
  {
   "cell_type": "code",
   "execution_count": null,
   "metadata": {
    "ExecuteTime": {
     "end_time": "2023-04-21T15:50:37.231344Z",
     "start_time": "2023-04-21T15:50:36.919592Z"
    }
   },
   "outputs": [
    {
     "data": {
      "text/plain": [
       "False    3387\n",
       "dtype: int64"
      ]
     },
     "execution_count": 79,
     "metadata": {},
     "output_type": "execute_result"
    }
   ],
   "source": [
    "#Checks bom_raw for duplicates\n",
    "bom_raw.duplicated().value_counts()"
   ]
  },
  {
   "cell_type": "code",
   "execution_count": null,
   "metadata": {},
   "outputs": [
    {
     "name": "stdout",
     "output_type": "stream",
     "text": [
      "Table: movie_basics\n",
      "False    146144\n",
      "dtype: int64 \n",
      "\n",
      "Table: directors\n",
      "False    163535\n",
      "True     127639\n",
      "dtype: int64 \n",
      "\n",
      "Table: known_for\n",
      "False    1638260\n",
      "dtype: int64 \n",
      "\n",
      "Table: movie_akas\n",
      "False    331703\n",
      "dtype: int64 \n",
      "\n",
      "Table: movie_ratings\n",
      "False    73856\n",
      "dtype: int64 \n",
      "\n",
      "Table: persons\n",
      "False    606648\n",
      "dtype: int64 \n",
      "\n",
      "Table: principals\n",
      "False    1028186\n",
      "dtype: int64 \n",
      "\n",
      "Table: writers\n",
      "False    178352\n",
      "True      77521\n",
      "dtype: int64 \n",
      "\n"
     ]
    }
   ],
   "source": [
    "# Loop through each table and display its head using pandas\n",
    "for table_name in imdb_tables:\n",
    "    df = pd.read_sql_query(f\"SELECT * from {table_name[0]}\", conn)\n",
    "    print(f\"Table: {table_name[0]}\")\n",
    "    print(df.duplicated().value_counts(),\"\\n\")"
   ]
  },
  {
   "cell_type": "code",
   "execution_count": null,
   "metadata": {},
   "outputs": [
    {
     "data": {
      "text/html": [
       "<div>\n",
       "<style scoped>\n",
       "    .dataframe tbody tr th:only-of-type {\n",
       "        vertical-align: middle;\n",
       "    }\n",
       "\n",
       "    .dataframe tbody tr th {\n",
       "        vertical-align: top;\n",
       "    }\n",
       "\n",
       "    .dataframe thead th {\n",
       "        text-align: right;\n",
       "    }\n",
       "</style>\n",
       "<table border=\"1\" class=\"dataframe\">\n",
       "  <thead>\n",
       "    <tr style=\"text-align: right;\">\n",
       "      <th></th>\n",
       "      <th>movie_id</th>\n",
       "      <th>person_id</th>\n",
       "      <th>Duplicates</th>\n",
       "    </tr>\n",
       "  </thead>\n",
       "  <tbody>\n",
       "    <tr>\n",
       "      <th>0</th>\n",
       "      <td>tt0063540</td>\n",
       "      <td>nm0712540</td>\n",
       "      <td>4</td>\n",
       "    </tr>\n",
       "    <tr>\n",
       "      <th>1</th>\n",
       "      <td>tt0069049</td>\n",
       "      <td>nm0000080</td>\n",
       "      <td>2</td>\n",
       "    </tr>\n",
       "    <tr>\n",
       "      <th>2</th>\n",
       "      <td>tt0100275</td>\n",
       "      <td>nm0749914</td>\n",
       "      <td>2</td>\n",
       "    </tr>\n",
       "    <tr>\n",
       "      <th>3</th>\n",
       "      <td>tt0100275</td>\n",
       "      <td>nm0765384</td>\n",
       "      <td>2</td>\n",
       "    </tr>\n",
       "    <tr>\n",
       "      <th>4</th>\n",
       "      <td>tt0146592</td>\n",
       "      <td>nm1030585</td>\n",
       "      <td>2</td>\n",
       "    </tr>\n",
       "    <tr>\n",
       "      <th>...</th>\n",
       "      <td>...</td>\n",
       "      <td>...</td>\n",
       "      <td>...</td>\n",
       "    </tr>\n",
       "    <tr>\n",
       "      <th>54672</th>\n",
       "      <td>tt9916538</td>\n",
       "      <td>nm8185151</td>\n",
       "      <td>3</td>\n",
       "    </tr>\n",
       "    <tr>\n",
       "      <th>54673</th>\n",
       "      <td>tt9916622</td>\n",
       "      <td>nm9272490</td>\n",
       "      <td>2</td>\n",
       "    </tr>\n",
       "    <tr>\n",
       "      <th>54674</th>\n",
       "      <td>tt9916622</td>\n",
       "      <td>nm9272491</td>\n",
       "      <td>2</td>\n",
       "    </tr>\n",
       "    <tr>\n",
       "      <th>54675</th>\n",
       "      <td>tt9916754</td>\n",
       "      <td>nm8349149</td>\n",
       "      <td>2</td>\n",
       "    </tr>\n",
       "    <tr>\n",
       "      <th>54676</th>\n",
       "      <td>tt9916754</td>\n",
       "      <td>nm9272490</td>\n",
       "      <td>2</td>\n",
       "    </tr>\n",
       "  </tbody>\n",
       "</table>\n",
       "<p>54677 rows × 3 columns</p>\n",
       "</div>"
      ],
      "text/plain": [
       "        movie_id  person_id  Duplicates\n",
       "0      tt0063540  nm0712540           4\n",
       "1      tt0069049  nm0000080           2\n",
       "2      tt0100275  nm0749914           2\n",
       "3      tt0100275  nm0765384           2\n",
       "4      tt0146592  nm1030585           2\n",
       "...          ...        ...         ...\n",
       "54672  tt9916538  nm8185151           3\n",
       "54673  tt9916622  nm9272490           2\n",
       "54674  tt9916622  nm9272491           2\n",
       "54675  tt9916754  nm8349149           2\n",
       "54676  tt9916754  nm9272490           2\n",
       "\n",
       "[54677 rows x 3 columns]"
      ]
     },
     "execution_count": 98,
     "metadata": {},
     "output_type": "execute_result"
    }
   ],
   "source": [
    "# Loop through each table and display its head using pandas\n",
    "df = pd.read_sql_query(f\"SELECT movie_id,person_id, COUNT(*) as 'Duplicates' from directors GROUP BY movie_id,person_id HAVING COUNT(*) > 1\", conn)\n",
    "df"
   ]
  },
  {
   "attachments": {},
   "cell_type": "markdown",
   "metadata": {},
   "source": [
    "Duplicates appear to be due to directors being attributed to a movie more than once, so we drop them below"
   ]
  },
  {
   "attachments": {},
   "cell_type": "markdown",
   "metadata": {},
   "source": [
    "We remove duplicates from the datasets here"
   ]
  },
  {
   "cell_type": "code",
   "execution_count": null,
   "metadata": {},
   "outputs": [
    {
     "name": "stdout",
     "output_type": "stream",
     "text": [
      "Table: movie_basics\n",
      "False    146144\n",
      "dtype: int64 \n",
      "\n",
      "Table: directors\n",
      "False    163535\n",
      "dtype: int64 \n",
      "\n",
      "Table: known_for\n",
      "False    1638260\n",
      "dtype: int64 \n",
      "\n",
      "Table: movie_akas\n",
      "False    331703\n",
      "dtype: int64 \n",
      "\n",
      "Table: movie_ratings\n",
      "False    73856\n",
      "dtype: int64 \n",
      "\n",
      "Table: persons\n",
      "False    606648\n",
      "dtype: int64 \n",
      "\n",
      "Table: principals\n",
      "False    1028186\n",
      "dtype: int64 \n",
      "\n",
      "Table: writers\n",
      "False    178352\n",
      "dtype: int64 \n",
      "\n"
     ]
    }
   ],
   "source": [
    "# Get a list of all tables in the database\n",
    "cursor = conn.cursor()\n",
    "cursor.execute(\"SELECT name FROM sqlite_master WHERE type='table';\")\n",
    "tables = cursor.fetchall()\n",
    "\n",
    "# Loop through each table and display its head using pandas\n",
    "for table_name in tables:\n",
    "    df = pd.read_sql_query(f\"SELECT DISTINCT * from {table_name[0]}\", conn)\n",
    "    print(f\"Table: {table_name[0]}\")\n",
    "    print(df.duplicated().value_counts(),\"\\n\")"
   ]
  },
  {
   "attachments": {},
   "cell_type": "markdown",
   "metadata": {
    "ExecuteTime": {
     "end_time": "2023-04-17T22:18:05.545449Z",
     "start_time": "2023-04-17T22:18:05.540233Z"
    }
   },
   "source": [
    "**Observations**\n",
    "- None so far"
   ]
  },
  {
   "attachments": {},
   "cell_type": "markdown",
   "metadata": {},
   "source": [
    "## Removing Undesired Data\n",
    "We don't want all the data so let's remove what we don't want\n",
    "- Undesired Columns in each dataset\n",
    "- Undesired values"
   ]
  },
  {
   "attachments": {},
   "cell_type": "markdown",
   "metadata": {},
   "source": [
    "The dates are in the `Event.Date` column in the format 'YYYY-MM-DD'"
   ]
  },
  {
   "cell_type": "code",
   "execution_count": null,
   "metadata": {},
   "outputs": [
    {
     "data": {
      "text/plain": [
       "0   1948-10-24\n",
       "1   1962-07-19\n",
       "2   1974-08-30\n",
       "3   1977-06-19\n",
       "4   1979-08-02\n",
       "Name: event_date, dtype: datetime64[ns]"
      ]
     },
     "metadata": {},
     "output_type": "display_data"
    }
   ],
   "source": [
    "# Check chaging the Event.Date column to dates\n",
    "pd.to_datetime(aviation_data_cleaned['event_date']).head()"
   ]
  },
  {
   "cell_type": "code",
   "execution_count": null,
   "metadata": {},
   "outputs": [],
   "source": [
    "# Update the column to the correct datetime type\n",
    "aviation_data_cleaned['event_date'] = pd.to_datetime(aviation_data_cleaned['event_date'])"
   ]
  },
  {
   "attachments": {},
   "cell_type": "markdown",
   "metadata": {},
   "source": [
    "We also want to remove columns with low data coverage"
   ]
  },
  {
   "cell_type": "code",
   "execution_count": null,
   "metadata": {
    "ExecuteTime": {
     "end_time": "2023-04-21T15:50:39.273903Z",
     "start_time": "2023-04-21T15:50:39.221272Z"
    }
   },
   "outputs": [
    {
     "data": {
      "text/plain": [
       "schedule                  0.881817\n",
       "air_carrier               0.827179\n",
       "aircraft_category         0.661247\n",
       "far_description           0.660470\n",
       "longitude                 0.615430\n",
       "latitude                  0.615331\n",
       "airport_code              0.408621\n",
       "airport_name              0.377583\n",
       "broad_phase_of_flight     0.251609\n",
       "total_serious_injuries    0.134753\n",
       "total_fatal_injuries      0.127188\n",
       "total_minor_injuries      0.126807\n",
       "total_uninjured           0.056882\n",
       "engine_type               0.036854\n",
       "purpose_of_flight         0.026098\n",
       "number_of_engines         0.021779\n",
       "aircraft_damage           0.015540\n",
       "weather_condition         0.007594\n",
       "injury_severity           0.000706\n",
       "location                  0.000141\n",
       "model                     0.000085\n",
       "make                      0.000000\n",
       "event_date                0.000000\n",
       "dtype: float64"
      ]
     },
     "execution_count": 41,
     "metadata": {},
     "output_type": "execute_result"
    }
   ],
   "source": [
    "missing_data = (aviation_data_cleaned.isna().sum() / len(aviation_data_cleaned)).sort_values(ascending=False)\n",
    "missing_data"
   ]
  },
  {
   "attachments": {},
   "cell_type": "markdown",
   "metadata": {},
   "source": [
    "**Observations**\n",
    "- We can likely exclude the columns with significant missing data\n",
    "- We should keep those relevant to our business questions such as `airport_code` and `airport_name`"
   ]
  },
  {
   "cell_type": "code",
   "execution_count": null,
   "metadata": {
    "ExecuteTime": {
     "end_time": "2023-04-21T15:50:39.283411Z",
     "start_time": "2023-04-21T15:50:39.276108Z"
    }
   },
   "outputs": [
    {
     "data": {
      "text/plain": [
       "['schedule',\n",
       " 'air_carrier',\n",
       " 'aircraft_category',\n",
       " 'far_description',\n",
       " 'longitude',\n",
       " 'latitude']"
      ]
     },
     "execution_count": 42,
     "metadata": {},
     "output_type": "execute_result"
    }
   ],
   "source": [
    "# Pull out columns to drop\n",
    "columns_to_drop = missing_data[missing_data.values > 0.6].index.to_list()\n",
    "columns_to_drop"
   ]
  },
  {
   "cell_type": "code",
   "execution_count": null,
   "metadata": {
    "ExecuteTime": {
     "end_time": "2023-04-21T15:50:39.352634Z",
     "start_time": "2023-04-21T15:50:39.286961Z"
    }
   },
   "outputs": [
    {
     "name": "stdout",
     "output_type": "stream",
     "text": [
      "<class 'pandas.core.frame.DataFrame'>\n",
      "Int64Index: 70848 entries, 7 to 90347\n",
      "Data columns (total 17 columns):\n",
      " #   Column                  Non-Null Count  Dtype         \n",
      "---  ------                  --------------  -----         \n",
      " 0   event_date              70848 non-null  datetime64[ns]\n",
      " 1   location                70838 non-null  object        \n",
      " 2   airport_code            41898 non-null  object        \n",
      " 3   airport_name            44097 non-null  object        \n",
      " 4   injury_severity         70798 non-null  object        \n",
      " 5   aircraft_damage         69747 non-null  object        \n",
      " 6   make                    70848 non-null  object        \n",
      " 7   model                   70842 non-null  object        \n",
      " 8   number_of_engines       69305 non-null  float64       \n",
      " 9   engine_type             68237 non-null  object        \n",
      " 10  purpose_of_flight       68999 non-null  object        \n",
      " 11  total_fatal_injuries    61837 non-null  float64       \n",
      " 12  total_serious_injuries  61301 non-null  float64       \n",
      " 13  total_minor_injuries    61864 non-null  float64       \n",
      " 14  total_uninjured         66818 non-null  float64       \n",
      " 15  weather_condition       70310 non-null  object        \n",
      " 16  broad_phase_of_flight   53022 non-null  object        \n",
      "dtypes: datetime64[ns](1), float64(5), object(11)\n",
      "memory usage: 9.7+ MB\n"
     ]
    }
   ],
   "source": [
    "aviation_data_cleaned = aviation_data_cleaned.drop(columns_to_drop, axis=1)\n",
    "aviation_data_cleaned.info()"
   ]
  },
  {
   "attachments": {},
   "cell_type": "markdown",
   "metadata": {},
   "source": [
    "## Handling NaNs\n",
    "- Here we look through each dataset and handle Null values\n"
   ]
  },
  {
   "attachments": {},
   "cell_type": "markdown",
   "metadata": {},
   "source": [
    "### bom Database"
   ]
  },
  {
   "cell_type": "code",
   "execution_count": 124,
   "metadata": {
    "ExecuteTime": {
     "end_time": "2023-04-21T15:50:39.380812Z",
     "start_time": "2023-04-21T15:50:39.358259Z"
    },
    "scrolled": true
   },
   "outputs": [
    {
     "name": "stdout",
     "output_type": "stream",
     "text": [
      "<class 'pandas.core.frame.DataFrame'>\n",
      "RangeIndex: 3387 entries, 0 to 3386\n",
      "Data columns (total 5 columns):\n",
      " #   Column          Non-Null Count  Dtype  \n",
      "---  ------          --------------  -----  \n",
      " 0   title           3387 non-null   object \n",
      " 1   studio          3382 non-null   object \n",
      " 2   domestic_gross  3359 non-null   float64\n",
      " 3   foreign_gross   2037 non-null   object \n",
      " 4   year            3387 non-null   int64  \n",
      "dtypes: float64(1), int64(1), object(3)\n",
      "memory usage: 132.4+ KB\n"
     ]
    }
   ],
   "source": [
    "# Check out the data again\n",
    "bom_raw.info()"
   ]
  },
  {
   "cell_type": "code",
   "execution_count": null,
   "metadata": {},
   "outputs": [
    {
     "data": {
      "text/plain": [
       "title                0\n",
       "studio               5\n",
       "domestic_gross      28\n",
       "foreign_gross     1350\n",
       "year                 0\n",
       "dtype: int64"
      ]
     },
     "metadata": {},
     "output_type": "display_data"
    }
   ],
   "source": [
    "# Explore the number of nulls\n",
    "bom_raw.isna().sum()"
   ]
  },
  {
   "attachments": {},
   "cell_type": "markdown",
   "metadata": {},
   "source": [
    "### Imdb Database"
   ]
  },
  {
   "cell_type": "code",
   "execution_count": 128,
   "metadata": {},
   "outputs": [
    {
     "name": "stdout",
     "output_type": "stream",
     "text": [
      "Table: movie_basics\n",
      "<class 'pandas.core.frame.DataFrame'>\n",
      "RangeIndex: 146144 entries, 0 to 146143\n",
      "Data columns (total 6 columns):\n",
      " #   Column           Non-Null Count   Dtype  \n",
      "---  ------           --------------   -----  \n",
      " 0   movie_id         146144 non-null  object \n",
      " 1   primary_title    146144 non-null  object \n",
      " 2   original_title   146123 non-null  object \n",
      " 3   start_year       146144 non-null  int64  \n",
      " 4   runtime_minutes  114405 non-null  float64\n",
      " 5   genres           140736 non-null  object \n",
      "dtypes: float64(1), int64(1), object(4)\n",
      "memory usage: 6.7+ MB\n",
      "None \n",
      "\n",
      "Table: directors\n",
      "<class 'pandas.core.frame.DataFrame'>\n",
      "RangeIndex: 291174 entries, 0 to 291173\n",
      "Data columns (total 2 columns):\n",
      " #   Column     Non-Null Count   Dtype \n",
      "---  ------     --------------   ----- \n",
      " 0   movie_id   291174 non-null  object\n",
      " 1   person_id  291174 non-null  object\n",
      "dtypes: object(2)\n",
      "memory usage: 4.4+ MB\n",
      "None \n",
      "\n",
      "Table: known_for\n",
      "<class 'pandas.core.frame.DataFrame'>\n",
      "RangeIndex: 1638260 entries, 0 to 1638259\n",
      "Data columns (total 2 columns):\n",
      " #   Column     Non-Null Count    Dtype \n",
      "---  ------     --------------    ----- \n",
      " 0   person_id  1638260 non-null  object\n",
      " 1   movie_id   1638260 non-null  object\n",
      "dtypes: object(2)\n",
      "memory usage: 25.0+ MB\n",
      "None \n",
      "\n",
      "Table: movie_akas\n",
      "<class 'pandas.core.frame.DataFrame'>\n",
      "RangeIndex: 331703 entries, 0 to 331702\n",
      "Data columns (total 8 columns):\n",
      " #   Column             Non-Null Count   Dtype  \n",
      "---  ------             --------------   -----  \n",
      " 0   movie_id           331703 non-null  object \n",
      " 1   ordering           331703 non-null  int64  \n",
      " 2   title              331703 non-null  object \n",
      " 3   region             278410 non-null  object \n",
      " 4   language           41715 non-null   object \n",
      " 5   types              168447 non-null  object \n",
      " 6   attributes         14925 non-null   object \n",
      " 7   is_original_title  331678 non-null  float64\n",
      "dtypes: float64(1), int64(1), object(6)\n",
      "memory usage: 20.2+ MB\n",
      "None \n",
      "\n",
      "Table: movie_ratings\n",
      "<class 'pandas.core.frame.DataFrame'>\n",
      "RangeIndex: 73856 entries, 0 to 73855\n",
      "Data columns (total 3 columns):\n",
      " #   Column         Non-Null Count  Dtype  \n",
      "---  ------         --------------  -----  \n",
      " 0   movie_id       73856 non-null  object \n",
      " 1   averagerating  73856 non-null  float64\n",
      " 2   numvotes       73856 non-null  int64  \n",
      "dtypes: float64(1), int64(1), object(1)\n",
      "memory usage: 1.7+ MB\n",
      "None \n",
      "\n",
      "Table: persons\n",
      "<class 'pandas.core.frame.DataFrame'>\n",
      "RangeIndex: 606648 entries, 0 to 606647\n",
      "Data columns (total 5 columns):\n",
      " #   Column              Non-Null Count   Dtype  \n",
      "---  ------              --------------   -----  \n",
      " 0   person_id           606648 non-null  object \n",
      " 1   primary_name        606648 non-null  object \n",
      " 2   birth_year          82736 non-null   float64\n",
      " 3   death_year          6783 non-null    float64\n",
      " 4   primary_profession  555308 non-null  object \n",
      "dtypes: float64(2), object(3)\n",
      "memory usage: 23.1+ MB\n",
      "None \n",
      "\n",
      "Table: principals\n",
      "<class 'pandas.core.frame.DataFrame'>\n",
      "RangeIndex: 1028186 entries, 0 to 1028185\n",
      "Data columns (total 6 columns):\n",
      " #   Column      Non-Null Count    Dtype \n",
      "---  ------      --------------    ----- \n",
      " 0   movie_id    1028186 non-null  object\n",
      " 1   ordering    1028186 non-null  int64 \n",
      " 2   person_id   1028186 non-null  object\n",
      " 3   category    1028186 non-null  object\n",
      " 4   job         177684 non-null   object\n",
      " 5   characters  393360 non-null   object\n",
      "dtypes: int64(1), object(5)\n",
      "memory usage: 47.1+ MB\n",
      "None \n",
      "\n",
      "Table: writers\n",
      "<class 'pandas.core.frame.DataFrame'>\n",
      "RangeIndex: 255873 entries, 0 to 255872\n",
      "Data columns (total 2 columns):\n",
      " #   Column     Non-Null Count   Dtype \n",
      "---  ------     --------------   ----- \n",
      " 0   movie_id   255873 non-null  object\n",
      " 1   person_id  255873 non-null  object\n",
      "dtypes: object(2)\n",
      "memory usage: 3.9+ MB\n",
      "None \n",
      "\n"
     ]
    }
   ],
   "source": [
    "# Loop through each table and display its head using pandas\n",
    "for table_name in imdb_tables:\n",
    "    df = pd.read_sql_query(f\"SELECT * from {table_name[0]}\", conn)\n",
    "    print(f\"Table: {table_name[0]}\")\n",
    "    print(df.info(),\"\\n\")"
   ]
  },
  {
   "cell_type": "code",
   "execution_count": 129,
   "metadata": {
    "ExecuteTime": {
     "end_time": "2023-04-21T15:50:39.434720Z",
     "start_time": "2023-04-21T15:50:39.383445Z"
    },
    "scrolled": false
   },
   "outputs": [
    {
     "data": {
      "text/plain": [
       "title                0\n",
       "studio               5\n",
       "domestic_gross      28\n",
       "foreign_gross     1350\n",
       "year                 0\n",
       "dtype: int64"
      ]
     },
     "execution_count": 129,
     "metadata": {},
     "output_type": "execute_result"
    }
   ],
   "source": [
    "# Explore the number of nulls\n",
    "bom_raw.isna().sum()"
   ]
  },
  {
   "attachments": {},
   "cell_type": "markdown",
   "metadata": {},
   "source": [
    "There are only 10 events with missing location data which is a crucial piece of of information so we can drop them"
   ]
  },
  {
   "cell_type": "code",
   "execution_count": null,
   "metadata": {
    "ExecuteTime": {
     "end_time": "2023-04-21T15:50:39.482747Z",
     "start_time": "2023-04-21T15:50:39.457553Z"
    }
   },
   "outputs": [],
   "source": [
    "# Check data\n",
    "aviation_data_cleaned = aviation_data_cleaned[aviation_data_cleaned['location'].notna()]"
   ]
  },
  {
   "cell_type": "code",
   "execution_count": null,
   "metadata": {
    "ExecuteTime": {
     "end_time": "2023-04-21T15:50:39.504104Z",
     "start_time": "2023-04-21T15:50:39.490838Z"
    }
   },
   "outputs": [
    {
     "data": {
      "text/plain": [
       "0"
      ]
     },
     "execution_count": 48,
     "metadata": {},
     "output_type": "execute_result"
    }
   ],
   "source": [
    "# Check to confirm we dropped nulles\n",
    "aviation_data_cleaned['location'].isna().sum()"
   ]
  },
  {
   "attachments": {},
   "cell_type": "markdown",
   "metadata": {},
   "source": [
    "## Creating New Columns"
   ]
  },
  {
   "attachments": {},
   "cell_type": "markdown",
   "metadata": {},
   "source": [
    "The first column we will create will be the passenger count collumn. We will be assuming that:\n",
    "- Passenger Count = [Total Injured] + [Total Uninjured]"
   ]
  },
  {
   "cell_type": "code",
   "execution_count": null,
   "metadata": {
    "ExecuteTime": {
     "end_time": "2023-04-21T15:50:42.531738Z",
     "start_time": "2023-04-21T15:50:42.519744Z"
    }
   },
   "outputs": [],
   "source": [
    "aviation_data_cleaned['passenger_count'] = aviation_data_cleaned[['total_fatal_injuries','total_serious_injuries','total_minor_injuries','total_uninjured']].sum(axis=1)"
   ]
  },
  {
   "cell_type": "code",
   "execution_count": null,
   "metadata": {
    "ExecuteTime": {
     "end_time": "2023-04-21T15:50:42.579103Z",
     "start_time": "2023-04-21T15:50:42.538017Z"
    }
   },
   "outputs": [
    {
     "data": {
      "text/html": [
       "<div>\n",
       "<style scoped>\n",
       "    .dataframe tbody tr th:only-of-type {\n",
       "        vertical-align: middle;\n",
       "    }\n",
       "\n",
       "    .dataframe tbody tr th {\n",
       "        vertical-align: top;\n",
       "    }\n",
       "\n",
       "    .dataframe thead th {\n",
       "        text-align: right;\n",
       "    }\n",
       "</style>\n",
       "<table border=\"1\" class=\"dataframe\">\n",
       "  <thead>\n",
       "    <tr style=\"text-align: right;\">\n",
       "      <th></th>\n",
       "      <th>event_date</th>\n",
       "      <th>location</th>\n",
       "      <th>airport_code</th>\n",
       "      <th>airport_name</th>\n",
       "      <th>injury_severity</th>\n",
       "      <th>aircraft_damage</th>\n",
       "      <th>make</th>\n",
       "      <th>model</th>\n",
       "      <th>number_of_engines</th>\n",
       "      <th>engine_type</th>\n",
       "      <th>purpose_of_flight</th>\n",
       "      <th>total_fatal_injuries</th>\n",
       "      <th>total_serious_injuries</th>\n",
       "      <th>total_minor_injuries</th>\n",
       "      <th>total_uninjured</th>\n",
       "      <th>weather_condition</th>\n",
       "      <th>broad_phase_of_flight</th>\n",
       "      <th>passenger_count</th>\n",
       "    </tr>\n",
       "  </thead>\n",
       "  <tbody>\n",
       "    <tr>\n",
       "      <th>7</th>\n",
       "      <td>1982-01-01</td>\n",
       "      <td>PULLMAN, WA</td>\n",
       "      <td>Unknown</td>\n",
       "      <td>BLACKBURN AG STRIP</td>\n",
       "      <td>Non-Fatal</td>\n",
       "      <td>Substantial</td>\n",
       "      <td>Cessna</td>\n",
       "      <td>140</td>\n",
       "      <td>1.0</td>\n",
       "      <td>Reciprocating</td>\n",
       "      <td>Personal</td>\n",
       "      <td>0.0</td>\n",
       "      <td>0.0</td>\n",
       "      <td>0.0</td>\n",
       "      <td>2.0</td>\n",
       "      <td>VMC</td>\n",
       "      <td>Takeoff</td>\n",
       "      <td>2.0</td>\n",
       "    </tr>\n",
       "    <tr>\n",
       "      <th>8</th>\n",
       "      <td>1982-01-01</td>\n",
       "      <td>EAST HANOVER, NJ</td>\n",
       "      <td>N58</td>\n",
       "      <td>HANOVER</td>\n",
       "      <td>Non-Fatal</td>\n",
       "      <td>Substantial</td>\n",
       "      <td>Cessna</td>\n",
       "      <td>401B</td>\n",
       "      <td>2.0</td>\n",
       "      <td>Reciprocating</td>\n",
       "      <td>Business</td>\n",
       "      <td>0.0</td>\n",
       "      <td>0.0</td>\n",
       "      <td>0.0</td>\n",
       "      <td>2.0</td>\n",
       "      <td>IMC</td>\n",
       "      <td>Landing</td>\n",
       "      <td>2.0</td>\n",
       "    </tr>\n",
       "    <tr>\n",
       "      <th>9</th>\n",
       "      <td>1982-01-01</td>\n",
       "      <td>JACKSONVILLE, FL</td>\n",
       "      <td>JAX</td>\n",
       "      <td>JACKSONVILLE INTL</td>\n",
       "      <td>Non-Fatal</td>\n",
       "      <td>Substantial</td>\n",
       "      <td>North American</td>\n",
       "      <td>NAVION L-17B</td>\n",
       "      <td>1.0</td>\n",
       "      <td>Reciprocating</td>\n",
       "      <td>Personal</td>\n",
       "      <td>0.0</td>\n",
       "      <td>0.0</td>\n",
       "      <td>3.0</td>\n",
       "      <td>0.0</td>\n",
       "      <td>IMC</td>\n",
       "      <td>Cruise</td>\n",
       "      <td>3.0</td>\n",
       "    </tr>\n",
       "    <tr>\n",
       "      <th>10</th>\n",
       "      <td>1982-01-01</td>\n",
       "      <td>HOBBS, NM</td>\n",
       "      <td>Unknown</td>\n",
       "      <td>Unknown</td>\n",
       "      <td>Non-Fatal</td>\n",
       "      <td>Substantial</td>\n",
       "      <td>Piper</td>\n",
       "      <td>PA-28-161</td>\n",
       "      <td>1.0</td>\n",
       "      <td>Reciprocating</td>\n",
       "      <td>Personal</td>\n",
       "      <td>0.0</td>\n",
       "      <td>0.0</td>\n",
       "      <td>0.0</td>\n",
       "      <td>1.0</td>\n",
       "      <td>VMC</td>\n",
       "      <td>Approach</td>\n",
       "      <td>1.0</td>\n",
       "    </tr>\n",
       "    <tr>\n",
       "      <th>11</th>\n",
       "      <td>1982-01-01</td>\n",
       "      <td>TUSKEGEE, AL</td>\n",
       "      <td>Unknown</td>\n",
       "      <td>TUSKEGEE</td>\n",
       "      <td>Non-Fatal</td>\n",
       "      <td>Substantial</td>\n",
       "      <td>Beech</td>\n",
       "      <td>V35B</td>\n",
       "      <td>1.0</td>\n",
       "      <td>Reciprocating</td>\n",
       "      <td>Personal</td>\n",
       "      <td>0.0</td>\n",
       "      <td>0.0</td>\n",
       "      <td>0.0</td>\n",
       "      <td>1.0</td>\n",
       "      <td>VMC</td>\n",
       "      <td>Landing</td>\n",
       "      <td>1.0</td>\n",
       "    </tr>\n",
       "    <tr>\n",
       "      <th>...</th>\n",
       "      <td>...</td>\n",
       "      <td>...</td>\n",
       "      <td>...</td>\n",
       "      <td>...</td>\n",
       "      <td>...</td>\n",
       "      <td>...</td>\n",
       "      <td>...</td>\n",
       "      <td>...</td>\n",
       "      <td>...</td>\n",
       "      <td>...</td>\n",
       "      <td>...</td>\n",
       "      <td>...</td>\n",
       "      <td>...</td>\n",
       "      <td>...</td>\n",
       "      <td>...</td>\n",
       "      <td>...</td>\n",
       "      <td>...</td>\n",
       "      <td>...</td>\n",
       "    </tr>\n",
       "    <tr>\n",
       "      <th>90340</th>\n",
       "      <td>2022-12-21</td>\n",
       "      <td>Auburn Hills, MI</td>\n",
       "      <td>Unknown</td>\n",
       "      <td>Unknown</td>\n",
       "      <td>Minor</td>\n",
       "      <td>Unknown</td>\n",
       "      <td>CESSNA</td>\n",
       "      <td>172F</td>\n",
       "      <td>1.0</td>\n",
       "      <td>Reciprocating</td>\n",
       "      <td>Personal</td>\n",
       "      <td>0.0</td>\n",
       "      <td>1.0</td>\n",
       "      <td>0.0</td>\n",
       "      <td>0.0</td>\n",
       "      <td>Unknown</td>\n",
       "      <td>Unknown</td>\n",
       "      <td>1.0</td>\n",
       "    </tr>\n",
       "    <tr>\n",
       "      <th>90341</th>\n",
       "      <td>2022-12-21</td>\n",
       "      <td>Reserve, LA</td>\n",
       "      <td>Unknown</td>\n",
       "      <td>Unknown</td>\n",
       "      <td>Minor</td>\n",
       "      <td>Unknown</td>\n",
       "      <td>GRUMMAN AMERICAN AVN. CORP.</td>\n",
       "      <td>AA-5B</td>\n",
       "      <td>1.0</td>\n",
       "      <td>Reciprocating</td>\n",
       "      <td>Instructional</td>\n",
       "      <td>0.0</td>\n",
       "      <td>1.0</td>\n",
       "      <td>0.0</td>\n",
       "      <td>1.0</td>\n",
       "      <td>Unknown</td>\n",
       "      <td>Unknown</td>\n",
       "      <td>2.0</td>\n",
       "    </tr>\n",
       "    <tr>\n",
       "      <th>90343</th>\n",
       "      <td>2022-12-26</td>\n",
       "      <td>Annapolis, MD</td>\n",
       "      <td>Unknown</td>\n",
       "      <td>Unknown</td>\n",
       "      <td>Minor</td>\n",
       "      <td>Unknown</td>\n",
       "      <td>PIPER</td>\n",
       "      <td>PA-28-151</td>\n",
       "      <td>1.0</td>\n",
       "      <td>Reciprocating</td>\n",
       "      <td>Personal</td>\n",
       "      <td>0.0</td>\n",
       "      <td>1.0</td>\n",
       "      <td>0.0</td>\n",
       "      <td>0.0</td>\n",
       "      <td>Unknown</td>\n",
       "      <td>Unknown</td>\n",
       "      <td>1.0</td>\n",
       "    </tr>\n",
       "    <tr>\n",
       "      <th>90345</th>\n",
       "      <td>2022-12-26</td>\n",
       "      <td>Payson, AZ</td>\n",
       "      <td>PAN</td>\n",
       "      <td>PAYSON</td>\n",
       "      <td>Non-Fatal</td>\n",
       "      <td>Substantial</td>\n",
       "      <td>AMERICAN CHAMPION AIRCRAFT</td>\n",
       "      <td>8GCBC</td>\n",
       "      <td>1.0</td>\n",
       "      <td>Reciprocating</td>\n",
       "      <td>Personal</td>\n",
       "      <td>0.0</td>\n",
       "      <td>0.0</td>\n",
       "      <td>0.0</td>\n",
       "      <td>1.0</td>\n",
       "      <td>VMC</td>\n",
       "      <td>Unknown</td>\n",
       "      <td>1.0</td>\n",
       "    </tr>\n",
       "    <tr>\n",
       "      <th>90347</th>\n",
       "      <td>2022-12-29</td>\n",
       "      <td>Athens, GA</td>\n",
       "      <td>Unknown</td>\n",
       "      <td>Unknown</td>\n",
       "      <td>Minor</td>\n",
       "      <td>Unknown</td>\n",
       "      <td>PIPER</td>\n",
       "      <td>PA-24-260</td>\n",
       "      <td>1.0</td>\n",
       "      <td>Reciprocating</td>\n",
       "      <td>Personal</td>\n",
       "      <td>0.0</td>\n",
       "      <td>1.0</td>\n",
       "      <td>0.0</td>\n",
       "      <td>1.0</td>\n",
       "      <td>Unknown</td>\n",
       "      <td>Unknown</td>\n",
       "      <td>2.0</td>\n",
       "    </tr>\n",
       "  </tbody>\n",
       "</table>\n",
       "<p>70245 rows × 18 columns</p>\n",
       "</div>"
      ],
      "text/plain": [
       "      event_date          location airport_code        airport_name  \\\n",
       "7     1982-01-01       PULLMAN, WA      Unknown  BLACKBURN AG STRIP   \n",
       "8     1982-01-01  EAST HANOVER, NJ          N58             HANOVER   \n",
       "9     1982-01-01  JACKSONVILLE, FL          JAX   JACKSONVILLE INTL   \n",
       "10    1982-01-01         HOBBS, NM      Unknown             Unknown   \n",
       "11    1982-01-01      TUSKEGEE, AL      Unknown            TUSKEGEE   \n",
       "...          ...               ...          ...                 ...   \n",
       "90340 2022-12-21  Auburn Hills, MI      Unknown             Unknown   \n",
       "90341 2022-12-21       Reserve, LA      Unknown             Unknown   \n",
       "90343 2022-12-26     Annapolis, MD      Unknown             Unknown   \n",
       "90345 2022-12-26        Payson, AZ          PAN              PAYSON   \n",
       "90347 2022-12-29        Athens, GA      Unknown             Unknown   \n",
       "\n",
       "      injury_severity aircraft_damage                         make  \\\n",
       "7           Non-Fatal     Substantial                       Cessna   \n",
       "8           Non-Fatal     Substantial                       Cessna   \n",
       "9           Non-Fatal     Substantial               North American   \n",
       "10          Non-Fatal     Substantial                        Piper   \n",
       "11          Non-Fatal     Substantial                        Beech   \n",
       "...               ...             ...                          ...   \n",
       "90340           Minor         Unknown                       CESSNA   \n",
       "90341           Minor         Unknown  GRUMMAN AMERICAN AVN. CORP.   \n",
       "90343           Minor         Unknown                        PIPER   \n",
       "90345       Non-Fatal     Substantial   AMERICAN CHAMPION AIRCRAFT   \n",
       "90347           Minor         Unknown                        PIPER   \n",
       "\n",
       "              model  number_of_engines    engine_type purpose_of_flight  \\\n",
       "7               140                1.0  Reciprocating          Personal   \n",
       "8              401B                2.0  Reciprocating          Business   \n",
       "9      NAVION L-17B                1.0  Reciprocating          Personal   \n",
       "10        PA-28-161                1.0  Reciprocating          Personal   \n",
       "11             V35B                1.0  Reciprocating          Personal   \n",
       "...             ...                ...            ...               ...   \n",
       "90340          172F                1.0  Reciprocating          Personal   \n",
       "90341         AA-5B                1.0  Reciprocating     Instructional   \n",
       "90343     PA-28-151                1.0  Reciprocating          Personal   \n",
       "90345         8GCBC                1.0  Reciprocating          Personal   \n",
       "90347     PA-24-260                1.0  Reciprocating          Personal   \n",
       "\n",
       "       total_fatal_injuries  total_serious_injuries  total_minor_injuries  \\\n",
       "7                       0.0                     0.0                   0.0   \n",
       "8                       0.0                     0.0                   0.0   \n",
       "9                       0.0                     0.0                   3.0   \n",
       "10                      0.0                     0.0                   0.0   \n",
       "11                      0.0                     0.0                   0.0   \n",
       "...                     ...                     ...                   ...   \n",
       "90340                   0.0                     1.0                   0.0   \n",
       "90341                   0.0                     1.0                   0.0   \n",
       "90343                   0.0                     1.0                   0.0   \n",
       "90345                   0.0                     0.0                   0.0   \n",
       "90347                   0.0                     1.0                   0.0   \n",
       "\n",
       "       total_uninjured weather_condition broad_phase_of_flight  \\\n",
       "7                  2.0               VMC               Takeoff   \n",
       "8                  2.0               IMC               Landing   \n",
       "9                  0.0               IMC                Cruise   \n",
       "10                 1.0               VMC              Approach   \n",
       "11                 1.0               VMC               Landing   \n",
       "...                ...               ...                   ...   \n",
       "90340              0.0           Unknown               Unknown   \n",
       "90341              1.0           Unknown               Unknown   \n",
       "90343              0.0           Unknown               Unknown   \n",
       "90345              1.0               VMC               Unknown   \n",
       "90347              1.0           Unknown               Unknown   \n",
       "\n",
       "       passenger_count  \n",
       "7                  2.0  \n",
       "8                  2.0  \n",
       "9                  3.0  \n",
       "10                 1.0  \n",
       "11                 1.0  \n",
       "...                ...  \n",
       "90340              1.0  \n",
       "90341              2.0  \n",
       "90343              1.0  \n",
       "90345              1.0  \n",
       "90347              2.0  \n",
       "\n",
       "[70245 rows x 18 columns]"
      ]
     },
     "execution_count": 88,
     "metadata": {},
     "output_type": "execute_result"
    }
   ],
   "source": [
    "aviation_data_cleaned"
   ]
  },
  {
   "attachments": {},
   "cell_type": "markdown",
   "metadata": {},
   "source": [
    "## Column Cleaning"
   ]
  },
  {
   "attachments": {},
   "cell_type": "markdown",
   "metadata": {},
   "source": [
    "This section is for cleaning columns.\n",
    "- Clean make to make sure there aren't duplicate makes\n",
    "- Separate out City and State"
   ]
  },
  {
   "attachments": {},
   "cell_type": "markdown",
   "metadata": {},
   "source": [
    "### Makes"
   ]
  },
  {
   "cell_type": "code",
   "execution_count": null,
   "metadata": {
    "ExecuteTime": {
     "end_time": "2023-04-21T15:50:42.614466Z",
     "start_time": "2023-04-21T15:50:42.587896Z"
    }
   },
   "outputs": [
    {
     "data": {
      "text/plain": [
       "array(['Cessna', 'North American', 'Piper', ..., 'PHANTOM',\n",
       "       'JAMES R DERNOVSEK', 'ORLICAN S R O'], dtype=object)"
      ]
     },
     "execution_count": 89,
     "metadata": {},
     "output_type": "execute_result"
    }
   ],
   "source": [
    "# Start by checking out the different makes\n",
    "aviation_data_cleaned['make'].unique()"
   ]
  },
  {
   "cell_type": "code",
   "execution_count": null,
   "metadata": {
    "ExecuteTime": {
     "end_time": "2023-04-21T15:50:42.641711Z",
     "start_time": "2023-04-21T15:50:42.622364Z"
    }
   },
   "outputs": [
    {
     "data": {
      "text/plain": [
       "2050"
      ]
     },
     "execution_count": 90,
     "metadata": {},
     "output_type": "execute_result"
    }
   ],
   "source": [
    "# Find the current number of unique makes\n",
    "len(aviation_data_cleaned['make'].unique())"
   ]
  },
  {
   "cell_type": "code",
   "execution_count": null,
   "metadata": {
    "ExecuteTime": {
     "end_time": "2023-04-21T15:50:42.709095Z",
     "start_time": "2023-04-21T15:50:42.658631Z"
    }
   },
   "outputs": [
    {
     "name": "stdout",
     "output_type": "stream",
     "text": [
      "['Cessna' 'North American' 'Piper' ... 'Phantom' 'James R Dernovsek'\n",
      " 'Orlican S R O']\n"
     ]
    },
    {
     "data": {
      "text/plain": [
       "1683"
      ]
     },
     "execution_count": 91,
     "metadata": {},
     "output_type": "execute_result"
    }
   ],
   "source": [
    "# Change names to be capitalized and check the length\n",
    "cleaned_makes = aviation_data_cleaned['make'].str.title().unique()\n",
    "print(cleaned_makes)\n",
    "len(cleaned_makes)"
   ]
  },
  {
   "cell_type": "code",
   "execution_count": null,
   "metadata": {
    "ExecuteTime": {
     "end_time": "2023-04-21T15:50:42.756667Z",
     "start_time": "2023-04-21T15:50:42.719360Z"
    }
   },
   "outputs": [],
   "source": [
    "# That looks like we cleaned a bunch of duplicates, let's assign the column and check\n",
    "aviation_data_cleaned['make'] = aviation_data_cleaned['make'].str.title()"
   ]
  },
  {
   "cell_type": "code",
   "execution_count": null,
   "metadata": {
    "ExecuteTime": {
     "end_time": "2023-04-21T15:50:42.773607Z",
     "start_time": "2023-04-21T15:50:42.760231Z"
    },
    "scrolled": true
   },
   "outputs": [
    {
     "data": {
      "text/plain": [
       "1683"
      ]
     },
     "execution_count": 93,
     "metadata": {},
     "output_type": "execute_result"
    }
   ],
   "source": [
    "# Check the length\n",
    "len(aviation_data_cleaned['make'].unique())"
   ]
  },
  {
   "attachments": {},
   "cell_type": "markdown",
   "metadata": {
    "ExecuteTime": {
     "end_time": "2023-04-20T17:38:47.296670Z",
     "start_time": "2023-04-20T17:38:47.284315Z"
    }
   },
   "source": [
    "### Clean the Top 5 makes specifically"
   ]
  },
  {
   "cell_type": "code",
   "execution_count": null,
   "metadata": {
    "ExecuteTime": {
     "end_time": "2023-04-21T15:50:42.783987Z",
     "start_time": "2023-04-21T15:50:42.776681Z"
    }
   },
   "outputs": [
    {
     "data": {
      "text/plain": [
       "(70245, 18)"
      ]
     },
     "execution_count": 94,
     "metadata": {},
     "output_type": "execute_result"
    }
   ],
   "source": [
    "aviation_data_cleaned.shape"
   ]
  },
  {
   "cell_type": "code",
   "execution_count": null,
   "metadata": {
    "ExecuteTime": {
     "end_time": "2023-04-21T15:50:43.208536Z",
     "start_time": "2023-04-21T15:50:42.788600Z"
    },
    "scrolled": true
   },
   "outputs": [
    {
     "data": {
      "text/plain": [
       "{'Beech': 'Beech',\n",
       " 'Beechcraft': 'Beech',\n",
       " 'Hawker Beechcraft Corp': 'Beech',\n",
       " 'Hawker Beechcraft': 'Beech',\n",
       " 'Hawker Beechcraft Corporation': 'Beech',\n",
       " 'Hawker Beechcraft Corp.': 'Beech',\n",
       " 'Hawker-Beechcraft': 'Beech',\n",
       " 'Hawker-Beechcraft Corporation': 'Beech',\n",
       " 'Beechcraft Corporation': 'Beech',\n",
       " 'Hawker Beech': 'Beech',\n",
       " 'Cessna': 'Cessna',\n",
       " 'Cessna Aircraft Co': 'Cessna',\n",
       " 'Cessna Ector': 'Cessna',\n",
       " 'Cessna/Air Repair Inc': 'Cessna',\n",
       " 'Cessna Wren': 'Cessna',\n",
       " 'Cessna Aircraft Co.': 'Cessna',\n",
       " 'Cessna Robertson': 'Cessna',\n",
       " 'Cessna Soloy': 'Cessna',\n",
       " 'Cessna/Weaver': 'Cessna',\n",
       " 'Cessna Aircraft': 'Cessna',\n",
       " 'Cirrus Design Corp': 'Cirrus',\n",
       " 'Cirrus': 'Cirrus',\n",
       " 'Cirrus Design Corp.': 'Cirrus',\n",
       " 'Cirrus Design Corporation': 'Cirrus',\n",
       " 'Cirrus Design': 'Cirrus',\n",
       " 'Piper': 'Piper',\n",
       " 'Piper Aircraft Inc': 'Piper',\n",
       " 'Piper/Cub Crafters': 'Piper',\n",
       " 'New Piper Aircraft Inc': 'Piper',\n",
       " 'Piper Aircraft': 'Piper',\n",
       " 'New Piper': 'Piper',\n",
       " 'Piper Aerostar': 'Piper',\n",
       " \"Piper/Wally'S Flyers Inc\": 'Piper',\n",
       " 'Jetprop Dlx Piper': 'Piper',\n",
       " 'Piper / Laudeman': 'Piper',\n",
       " 'Piper Aircraft Corporation': 'Piper',\n",
       " 'Piper Cub Crafters': 'Piper',\n",
       " 'Piper-Aerostar': 'Piper',\n",
       " 'Piper-Harris': 'Piper',\n",
       " 'Piper/Stevens': 'Piper',\n",
       " 'Piper Aircraft, Inc.': 'Piper',\n",
       " 'Diamond Aircraft Ind Inc': 'Diamond',\n",
       " 'Diamond Aircraft Industries': 'Diamond',\n",
       " 'Diamond': 'Diamond',\n",
       " 'Diamond Aircraft Ind Gmbh': 'Diamond',\n",
       " 'Diamond Aircraft': 'Diamond',\n",
       " 'Diamond Aicraft Industries Inc': 'Diamond',\n",
       " 'Diamond Aircraft Industry Inc': 'Diamond',\n",
       " 'Lockheed': 'Lockheed',\n",
       " 'Airbus': 'Airbus',\n",
       " 'Airbus Industrie': 'Airbus',\n",
       " 'Airbus Helicopters': 'Airbus',\n",
       " 'Airbus Helicopters Inc': 'Airbus',\n",
       " 'Airbus/Eurocopter': 'Airbus',\n",
       " 'Airbus Helicopters (Eurocopte': 'Airbus',\n",
       " 'Airbus Helicopters Deutschland': 'Airbus',\n",
       " 'Grumman': 'Grumman',\n",
       " 'Grumman American': 'Grumman',\n",
       " 'Grumman-Schweizer': 'Grumman',\n",
       " 'Grumman Acft Eng Cor-Schweizer': 'Grumman',\n",
       " 'Grumman American Avn. Corp.': 'Grumman',\n",
       " 'Grumman Aircraft Eng Corp': 'Grumman',\n",
       " 'Grumman Schweizer': 'Grumman',\n",
       " 'Grumman American Aviation': 'Grumman',\n",
       " 'Grumman Acft Eng': 'Grumman',\n",
       " 'Grumman American Avn. Corp': 'Grumman',\n",
       " 'Grumman American Aviation Corp': 'Grumman',\n",
       " 'Grumman Aircraft': 'Grumman',\n",
       " 'Grumman Acft Eng Cor': 'Grumman',\n",
       " 'Grumman Aircraft Cor-Schweizer': 'Grumman',\n",
       " 'Raytheon Aircraft Company': 'Raytheon',\n",
       " 'Raytheon': 'Raytheon',\n",
       " 'Raytheon Corporate Jets': 'Raytheon',\n",
       " 'Boeing': 'Boeing',\n",
       " 'Boeing Stearman': 'Boeing',\n",
       " 'Boeing Vertol': 'Boeing',\n",
       " 'Boeing Helicopters Div.': 'Boeing',\n",
       " 'Boeing - Canada (De Havilland)': 'Boeing',\n",
       " 'Boeing Of Canada/Dehav Div': 'Boeing',\n",
       " 'Boeing (Stearman)': 'Boeing',\n",
       " 'Boeing Company': 'Boeing',\n",
       " 'Boeing-Stearman': 'Boeing',\n",
       " 'Boeing-Brown': 'Boeing'}"
      ]
     },
     "execution_count": 95,
     "metadata": {},
     "output_type": "execute_result"
    }
   ],
   "source": [
    "## Create a list of top brands and a map\n",
    "top_makes_list = ['Beech', 'Cessna', 'Cirrus', 'Piper', 'Diamond',\n",
    "                  'Lockheed', 'Airbus', 'Grumman', 'Raytheon', 'Boeing']\n",
    "top_makes_map = {}\n",
    "\n",
    "for make in top_makes_list:\n",
    "    beech_dict = aviation_data_cleaned[aviation_data_cleaned['make']\n",
    "                                       .str.contains(make)]['make'].value_counts().to_frame()\n",
    "    beech_dict['make'] = make\n",
    "    top_makes_map.update(dict(beech_dict['make']))\n",
    "# Check out the top makes map\n",
    "top_makes_map"
   ]
  },
  {
   "cell_type": "code",
   "execution_count": null,
   "metadata": {
    "ExecuteTime": {
     "end_time": "2023-04-21T15:50:43.250418Z",
     "start_time": "2023-04-21T15:50:43.210554Z"
    },
    "scrolled": true
   },
   "outputs": [
    {
     "name": "stderr",
     "output_type": "stream",
     "text": [
      "<ipython-input-96-9edcf83bf972>:3: SettingWithCopyWarning: \n",
      "A value is trying to be set on a copy of a slice from a DataFrame.\n",
      "Try using .loc[row_indexer,col_indexer] = value instead\n",
      "\n",
      "See the caveats in the documentation: https://pandas.pydata.org/pandas-docs/stable/user_guide/indexing.html#returning-a-view-versus-a-copy\n",
      "  aviation_data_cleaned[top_makes_filter]['make'] = aviation_data_cleaned['make'].map(top_makes_map)\n"
     ]
    }
   ],
   "source": [
    "# Apply the Top Makes Map to the data\n",
    "top_makes_filter = aviation_data_cleaned['make'].isin(top_makes_list)\n",
    "aviation_data_cleaned[top_makes_filter]['make'] = aviation_data_cleaned['make'].map(top_makes_map)"
   ]
  },
  {
   "cell_type": "code",
   "execution_count": null,
   "metadata": {
    "ExecuteTime": {
     "end_time": "2023-04-21T15:50:43.264756Z",
     "start_time": "2023-04-21T15:50:43.255445Z"
    }
   },
   "outputs": [
    {
     "data": {
      "text/plain": [
       "(70245, 18)"
      ]
     },
     "execution_count": 97,
     "metadata": {},
     "output_type": "execute_result"
    }
   ],
   "source": [
    "aviation_data_cleaned.shape"
   ]
  },
  {
   "cell_type": "code",
   "execution_count": null,
   "metadata": {
    "ExecuteTime": {
     "end_time": "2023-04-21T15:50:43.275753Z",
     "start_time": "2023-04-21T15:50:43.267320Z"
    }
   },
   "outputs": [],
   "source": [
    "aviation_data_cleaned['top_make'] = aviation_data_cleaned['make'].isin(top_makes_list)"
   ]
  },
  {
   "cell_type": "code",
   "execution_count": null,
   "metadata": {
    "ExecuteTime": {
     "end_time": "2023-04-21T15:50:43.304035Z",
     "start_time": "2023-04-21T15:50:43.286601Z"
    },
    "scrolled": true
   },
   "outputs": [
    {
     "data": {
      "text/plain": [
       "True     0.656516\n",
       "False    0.343484\n",
       "Name: top_make, dtype: float64"
      ]
     },
     "execution_count": 99,
     "metadata": {},
     "output_type": "execute_result"
    }
   ],
   "source": [
    "aviation_data_cleaned['top_make'].value_counts(normalize=True)"
   ]
  },
  {
   "cell_type": "code",
   "execution_count": null,
   "metadata": {
    "ExecuteTime": {
     "end_time": "2023-04-21T15:50:43.337664Z",
     "start_time": "2023-04-21T15:50:43.306767Z"
    }
   },
   "outputs": [
    {
     "data": {
      "text/plain": [
       "10"
      ]
     },
     "execution_count": 100,
     "metadata": {},
     "output_type": "execute_result"
    }
   ],
   "source": [
    "len(aviation_data_cleaned[aviation_data_cleaned['top_make']]['make'].value_counts())"
   ]
  },
  {
   "cell_type": "code",
   "execution_count": null,
   "metadata": {
    "ExecuteTime": {
     "end_time": "2023-04-21T19:37:32.285840Z",
     "start_time": "2023-04-21T19:37:32.102732Z"
    }
   },
   "outputs": [
    {
     "data": {
      "text/html": [
       "<div>\n",
       "<style scoped>\n",
       "    .dataframe tbody tr th:only-of-type {\n",
       "        vertical-align: middle;\n",
       "    }\n",
       "\n",
       "    .dataframe tbody tr th {\n",
       "        vertical-align: top;\n",
       "    }\n",
       "\n",
       "    .dataframe thead th {\n",
       "        text-align: right;\n",
       "    }\n",
       "</style>\n",
       "<table border=\"1\" class=\"dataframe\">\n",
       "  <thead>\n",
       "    <tr style=\"text-align: right;\">\n",
       "      <th></th>\n",
       "      <th>event_date</th>\n",
       "      <th>location</th>\n",
       "      <th>airport_code</th>\n",
       "      <th>airport_name</th>\n",
       "      <th>injury_severity</th>\n",
       "      <th>aircraft_damage</th>\n",
       "      <th>model</th>\n",
       "      <th>number_of_engines</th>\n",
       "      <th>engine_type</th>\n",
       "      <th>purpose_of_flight</th>\n",
       "      <th>...</th>\n",
       "      <th>weather_condition</th>\n",
       "      <th>broad_phase_of_flight</th>\n",
       "      <th>passenger_count</th>\n",
       "      <th>top_make</th>\n",
       "      <th>use_category</th>\n",
       "      <th>top_model</th>\n",
       "      <th>city</th>\n",
       "      <th>state</th>\n",
       "      <th>fatality_rate</th>\n",
       "      <th>percent_uninjured</th>\n",
       "    </tr>\n",
       "    <tr>\n",
       "      <th>make</th>\n",
       "      <th></th>\n",
       "      <th></th>\n",
       "      <th></th>\n",
       "      <th></th>\n",
       "      <th></th>\n",
       "      <th></th>\n",
       "      <th></th>\n",
       "      <th></th>\n",
       "      <th></th>\n",
       "      <th></th>\n",
       "      <th></th>\n",
       "      <th></th>\n",
       "      <th></th>\n",
       "      <th></th>\n",
       "      <th></th>\n",
       "      <th></th>\n",
       "      <th></th>\n",
       "      <th></th>\n",
       "      <th></th>\n",
       "      <th></th>\n",
       "      <th></th>\n",
       "    </tr>\n",
       "  </thead>\n",
       "  <tbody>\n",
       "    <tr>\n",
       "      <th>Airbus</th>\n",
       "      <td>69</td>\n",
       "      <td>69</td>\n",
       "      <td>69</td>\n",
       "      <td>69</td>\n",
       "      <td>69</td>\n",
       "      <td>69</td>\n",
       "      <td>69</td>\n",
       "      <td>69</td>\n",
       "      <td>69</td>\n",
       "      <td>69</td>\n",
       "      <td>...</td>\n",
       "      <td>69</td>\n",
       "      <td>69</td>\n",
       "      <td>69</td>\n",
       "      <td>69</td>\n",
       "      <td>69</td>\n",
       "      <td>69</td>\n",
       "      <td>69</td>\n",
       "      <td>69</td>\n",
       "      <td>69</td>\n",
       "      <td>69</td>\n",
       "    </tr>\n",
       "    <tr>\n",
       "      <th>Beech</th>\n",
       "      <td>4838</td>\n",
       "      <td>4838</td>\n",
       "      <td>4838</td>\n",
       "      <td>4838</td>\n",
       "      <td>4838</td>\n",
       "      <td>4838</td>\n",
       "      <td>4838</td>\n",
       "      <td>4838</td>\n",
       "      <td>4838</td>\n",
       "      <td>4838</td>\n",
       "      <td>...</td>\n",
       "      <td>4838</td>\n",
       "      <td>4838</td>\n",
       "      <td>4838</td>\n",
       "      <td>4838</td>\n",
       "      <td>4838</td>\n",
       "      <td>4838</td>\n",
       "      <td>4838</td>\n",
       "      <td>4838</td>\n",
       "      <td>4838</td>\n",
       "      <td>4838</td>\n",
       "    </tr>\n",
       "    <tr>\n",
       "      <th>Boeing</th>\n",
       "      <td>868</td>\n",
       "      <td>868</td>\n",
       "      <td>868</td>\n",
       "      <td>868</td>\n",
       "      <td>868</td>\n",
       "      <td>868</td>\n",
       "      <td>868</td>\n",
       "      <td>868</td>\n",
       "      <td>868</td>\n",
       "      <td>868</td>\n",
       "      <td>...</td>\n",
       "      <td>868</td>\n",
       "      <td>868</td>\n",
       "      <td>868</td>\n",
       "      <td>868</td>\n",
       "      <td>868</td>\n",
       "      <td>868</td>\n",
       "      <td>868</td>\n",
       "      <td>868</td>\n",
       "      <td>868</td>\n",
       "      <td>868</td>\n",
       "    </tr>\n",
       "    <tr>\n",
       "      <th>Cessna</th>\n",
       "      <td>25157</td>\n",
       "      <td>25157</td>\n",
       "      <td>25157</td>\n",
       "      <td>25157</td>\n",
       "      <td>25157</td>\n",
       "      <td>25157</td>\n",
       "      <td>25157</td>\n",
       "      <td>25157</td>\n",
       "      <td>25157</td>\n",
       "      <td>25157</td>\n",
       "      <td>...</td>\n",
       "      <td>25157</td>\n",
       "      <td>25157</td>\n",
       "      <td>25157</td>\n",
       "      <td>25157</td>\n",
       "      <td>25157</td>\n",
       "      <td>25157</td>\n",
       "      <td>25157</td>\n",
       "      <td>25157</td>\n",
       "      <td>25157</td>\n",
       "      <td>25157</td>\n",
       "    </tr>\n",
       "    <tr>\n",
       "      <th>Cirrus</th>\n",
       "      <td>96</td>\n",
       "      <td>96</td>\n",
       "      <td>96</td>\n",
       "      <td>96</td>\n",
       "      <td>96</td>\n",
       "      <td>96</td>\n",
       "      <td>96</td>\n",
       "      <td>96</td>\n",
       "      <td>96</td>\n",
       "      <td>96</td>\n",
       "      <td>...</td>\n",
       "      <td>96</td>\n",
       "      <td>96</td>\n",
       "      <td>96</td>\n",
       "      <td>96</td>\n",
       "      <td>96</td>\n",
       "      <td>96</td>\n",
       "      <td>96</td>\n",
       "      <td>96</td>\n",
       "      <td>96</td>\n",
       "      <td>96</td>\n",
       "    </tr>\n",
       "    <tr>\n",
       "      <th>Diamond</th>\n",
       "      <td>35</td>\n",
       "      <td>35</td>\n",
       "      <td>35</td>\n",
       "      <td>35</td>\n",
       "      <td>35</td>\n",
       "      <td>35</td>\n",
       "      <td>35</td>\n",
       "      <td>35</td>\n",
       "      <td>35</td>\n",
       "      <td>35</td>\n",
       "      <td>...</td>\n",
       "      <td>35</td>\n",
       "      <td>35</td>\n",
       "      <td>35</td>\n",
       "      <td>35</td>\n",
       "      <td>35</td>\n",
       "      <td>35</td>\n",
       "      <td>35</td>\n",
       "      <td>35</td>\n",
       "      <td>35</td>\n",
       "      <td>35</td>\n",
       "    </tr>\n",
       "    <tr>\n",
       "      <th>Grumman</th>\n",
       "      <td>1110</td>\n",
       "      <td>1110</td>\n",
       "      <td>1110</td>\n",
       "      <td>1110</td>\n",
       "      <td>1110</td>\n",
       "      <td>1110</td>\n",
       "      <td>1110</td>\n",
       "      <td>1110</td>\n",
       "      <td>1110</td>\n",
       "      <td>1110</td>\n",
       "      <td>...</td>\n",
       "      <td>1110</td>\n",
       "      <td>1110</td>\n",
       "      <td>1110</td>\n",
       "      <td>1110</td>\n",
       "      <td>1110</td>\n",
       "      <td>1110</td>\n",
       "      <td>1110</td>\n",
       "      <td>1110</td>\n",
       "      <td>1110</td>\n",
       "      <td>1110</td>\n",
       "    </tr>\n",
       "    <tr>\n",
       "      <th>Lockheed</th>\n",
       "      <td>66</td>\n",
       "      <td>66</td>\n",
       "      <td>66</td>\n",
       "      <td>66</td>\n",
       "      <td>66</td>\n",
       "      <td>66</td>\n",
       "      <td>66</td>\n",
       "      <td>66</td>\n",
       "      <td>66</td>\n",
       "      <td>66</td>\n",
       "      <td>...</td>\n",
       "      <td>66</td>\n",
       "      <td>66</td>\n",
       "      <td>66</td>\n",
       "      <td>66</td>\n",
       "      <td>66</td>\n",
       "      <td>66</td>\n",
       "      <td>66</td>\n",
       "      <td>66</td>\n",
       "      <td>66</td>\n",
       "      <td>66</td>\n",
       "    </tr>\n",
       "    <tr>\n",
       "      <th>Piper</th>\n",
       "      <td>13830</td>\n",
       "      <td>13830</td>\n",
       "      <td>13830</td>\n",
       "      <td>13830</td>\n",
       "      <td>13830</td>\n",
       "      <td>13830</td>\n",
       "      <td>13830</td>\n",
       "      <td>13830</td>\n",
       "      <td>13830</td>\n",
       "      <td>13830</td>\n",
       "      <td>...</td>\n",
       "      <td>13830</td>\n",
       "      <td>13830</td>\n",
       "      <td>13830</td>\n",
       "      <td>13830</td>\n",
       "      <td>13830</td>\n",
       "      <td>13830</td>\n",
       "      <td>13830</td>\n",
       "      <td>13830</td>\n",
       "      <td>13830</td>\n",
       "      <td>13830</td>\n",
       "    </tr>\n",
       "    <tr>\n",
       "      <th>Raytheon</th>\n",
       "      <td>16</td>\n",
       "      <td>16</td>\n",
       "      <td>16</td>\n",
       "      <td>16</td>\n",
       "      <td>16</td>\n",
       "      <td>16</td>\n",
       "      <td>16</td>\n",
       "      <td>16</td>\n",
       "      <td>16</td>\n",
       "      <td>16</td>\n",
       "      <td>...</td>\n",
       "      <td>16</td>\n",
       "      <td>16</td>\n",
       "      <td>16</td>\n",
       "      <td>16</td>\n",
       "      <td>16</td>\n",
       "      <td>16</td>\n",
       "      <td>16</td>\n",
       "      <td>16</td>\n",
       "      <td>16</td>\n",
       "      <td>16</td>\n",
       "    </tr>\n",
       "  </tbody>\n",
       "</table>\n",
       "<p>10 rows × 24 columns</p>\n",
       "</div>"
      ],
      "text/plain": [
       "          event_date  location  airport_code  airport_name  injury_severity  \\\n",
       "make                                                                          \n",
       "Airbus            69        69            69            69               69   \n",
       "Beech           4838      4838          4838          4838             4838   \n",
       "Boeing           868       868           868           868              868   \n",
       "Cessna         25157     25157         25157         25157            25157   \n",
       "Cirrus            96        96            96            96               96   \n",
       "Diamond           35        35            35            35               35   \n",
       "Grumman         1110      1110          1110          1110             1110   \n",
       "Lockheed          66        66            66            66               66   \n",
       "Piper          13830     13830         13830         13830            13830   \n",
       "Raytheon          16        16            16            16               16   \n",
       "\n",
       "          aircraft_damage  model  number_of_engines  engine_type  \\\n",
       "make                                                               \n",
       "Airbus                 69     69                 69           69   \n",
       "Beech                4838   4838               4838         4838   \n",
       "Boeing                868    868                868          868   \n",
       "Cessna              25157  25157              25157        25157   \n",
       "Cirrus                 96     96                 96           96   \n",
       "Diamond                35     35                 35           35   \n",
       "Grumman              1110   1110               1110         1110   \n",
       "Lockheed               66     66                 66           66   \n",
       "Piper               13830  13830              13830        13830   \n",
       "Raytheon               16     16                 16           16   \n",
       "\n",
       "          purpose_of_flight  ...  weather_condition  broad_phase_of_flight  \\\n",
       "make                         ...                                             \n",
       "Airbus                   69  ...                 69                     69   \n",
       "Beech                  4838  ...               4838                   4838   \n",
       "Boeing                  868  ...                868                    868   \n",
       "Cessna                25157  ...              25157                  25157   \n",
       "Cirrus                   96  ...                 96                     96   \n",
       "Diamond                  35  ...                 35                     35   \n",
       "Grumman                1110  ...               1110                   1110   \n",
       "Lockheed                 66  ...                 66                     66   \n",
       "Piper                 13830  ...              13830                  13830   \n",
       "Raytheon                 16  ...                 16                     16   \n",
       "\n",
       "          passenger_count  top_make  use_category  top_model   city  state  \\\n",
       "make                                                                         \n",
       "Airbus                 69        69            69         69     69     69   \n",
       "Beech                4838      4838          4838       4838   4838   4838   \n",
       "Boeing                868       868           868        868    868    868   \n",
       "Cessna              25157     25157         25157      25157  25157  25157   \n",
       "Cirrus                 96        96            96         96     96     96   \n",
       "Diamond                35        35            35         35     35     35   \n",
       "Grumman              1110      1110          1110       1110   1110   1110   \n",
       "Lockheed               66        66            66         66     66     66   \n",
       "Piper               13830     13830         13830      13830  13830  13830   \n",
       "Raytheon               16        16            16         16     16     16   \n",
       "\n",
       "          fatality_rate  percent_uninjured  \n",
       "make                                        \n",
       "Airbus               69                 69  \n",
       "Beech              4838               4838  \n",
       "Boeing              868                868  \n",
       "Cessna            25157              25157  \n",
       "Cirrus               96                 96  \n",
       "Diamond              35                 35  \n",
       "Grumman            1110               1110  \n",
       "Lockheed             66                 66  \n",
       "Piper             13830              13830  \n",
       "Raytheon             16                 16  \n",
       "\n",
       "[10 rows x 24 columns]"
      ]
     },
     "execution_count": 132,
     "metadata": {},
     "output_type": "execute_result"
    }
   ],
   "source": [
    "aviation_data_cleaned[aviation_data_cleaned['top_make']].groupby('make').count()"
   ]
  },
  {
   "attachments": {},
   "cell_type": "markdown",
   "metadata": {},
   "source": [
    "### Determine Commercial or Private"
   ]
  },
  {
   "cell_type": "code",
   "execution_count": null,
   "metadata": {
    "ExecuteTime": {
     "end_time": "2023-04-21T15:50:43.347591Z",
     "start_time": "2023-04-21T15:50:43.340009Z"
    }
   },
   "outputs": [],
   "source": [
    "def private_or_commercial(make):\n",
    "    private = ['Beech', 'Cessna', 'Cirrus', 'Piper', 'Diamond']\n",
    "    commercial = ['Lockheed', 'Airbus', 'Grumman', 'Raytheon', 'Boeing']\n",
    "    if make in private:\n",
    "        return 'Private Enterprise'\n",
    "    elif make in commercial:\n",
    "        return 'Commercial'\n",
    "    else:\n",
    "        return 'Unknown'"
   ]
  },
  {
   "cell_type": "code",
   "execution_count": null,
   "metadata": {
    "ExecuteTime": {
     "end_time": "2023-04-21T15:50:43.457229Z",
     "start_time": "2023-04-21T15:50:43.357198Z"
    }
   },
   "outputs": [
    {
     "data": {
      "text/plain": [
       "Private Enterprise    43986\n",
       "Unknown               24128\n",
       "Commercial             2131\n",
       "Name: use_category, dtype: int64"
      ]
     },
     "execution_count": 102,
     "metadata": {},
     "output_type": "execute_result"
    }
   ],
   "source": [
    "# Create a column to designate commercial or private\n",
    "aviation_data_cleaned['use_category'] = aviation_data_cleaned['make'].apply(private_or_commercial)\n",
    "aviation_data_cleaned['use_category'].value_counts()"
   ]
  },
  {
   "attachments": {},
   "cell_type": "markdown",
   "metadata": {},
   "source": [
    "### Top 3 Models per make"
   ]
  },
  {
   "cell_type": "code",
   "execution_count": null,
   "metadata": {
    "ExecuteTime": {
     "end_time": "2023-04-21T15:50:43.562357Z",
     "start_time": "2023-04-21T15:50:43.466017Z"
    }
   },
   "outputs": [
    {
     "data": {
      "text/plain": [
       "7            140\n",
       "8           401B\n",
       "9     NAVIONL17B\n",
       "10       PA28161\n",
       "11          V35B\n",
       "Name: model, dtype: object"
      ]
     },
     "execution_count": 103,
     "metadata": {},
     "output_type": "execute_result"
    }
   ],
   "source": [
    "# Remove exccess white space from data and remove \"-\"\n",
    "aviation_data_cleaned['model'] = aviation_data_cleaned['model'].str.strip().str.replace('-','').str.replace(' ','')\n",
    "aviation_data_cleaned['model'].head()"
   ]
  },
  {
   "cell_type": "code",
   "execution_count": null,
   "metadata": {
    "ExecuteTime": {
     "end_time": "2023-04-21T15:50:43.569319Z",
     "start_time": "2023-04-21T15:50:43.564473Z"
    }
   },
   "outputs": [],
   "source": [
    "def model_cleaning_function(model):\n",
    "    model = str(model)\n",
    "    if model.startswith('1') or model.startswith('2'):\n",
    "         model = model[:3]\n",
    "    elif any(map(model.startswith, ['PA','A','DA','G','SR','C','L'])):\n",
    "        model = model[:4]\n",
    "    elif model.startswith('HAWKER'):\n",
    "         model = 'HAWKER'\n",
    "    else: \n",
    "        model = model\n",
    "    return model"
   ]
  },
  {
   "cell_type": "code",
   "execution_count": null,
   "metadata": {
    "ExecuteTime": {
     "end_time": "2023-04-21T15:50:43.653721Z",
     "start_time": "2023-04-21T15:50:43.571981Z"
    }
   },
   "outputs": [],
   "source": [
    "aviation_data_cleaned['model'] = aviation_data_cleaned['model'].apply(model_cleaning_function)"
   ]
  },
  {
   "cell_type": "code",
   "execution_count": null,
   "metadata": {
    "ExecuteTime": {
     "end_time": "2023-04-21T15:50:43.659829Z",
     "start_time": "2023-04-21T15:50:43.655789Z"
    }
   },
   "outputs": [],
   "source": [
    "top_commercial_models_list = ['A330', '747', '777', '727', 'CRJ', 'A320', '747', '737', 'DC3']"
   ]
  },
  {
   "cell_type": "code",
   "execution_count": null,
   "metadata": {
    "ExecuteTime": {
     "end_time": "2023-04-21T15:50:43.733197Z",
     "start_time": "2023-04-21T15:50:43.662198Z"
    }
   },
   "outputs": [
    {
     "data": {
      "text/plain": [
       "['172',\n",
       " 'PA28',\n",
       " '150',\n",
       " '182',\n",
       " 'PA18',\n",
       " 'PA32',\n",
       " 'A36',\n",
       " 'C23',\n",
       " '58',\n",
       " 'SR22',\n",
       " 'DA20',\n",
       " 'SR20',\n",
       " 'DA40',\n",
       " 'DA42',\n",
       " 'A330',\n",
       " '747',\n",
       " '777',\n",
       " '727',\n",
       " 'CRJ',\n",
       " 'A320',\n",
       " '747',\n",
       " '737',\n",
       " 'DC3']"
      ]
     },
     "execution_count": 107,
     "metadata": {},
     "output_type": "execute_result"
    }
   ],
   "source": [
    "only_private = aviation_data_cleaned['use_category'] == 'Private Enterprise'\n",
    "top_models_list = aviation_data_cleaned[top_makes_filter & only_private].groupby(['make','model']).count().reset_index()\n",
    "top_models_list = list(top_models_list.sort_values('event_date',ascending=False).groupby('make').head(3)['model'])\n",
    "top_models_list.extend(top_commercial_models_list)\n",
    "top_models_list"
   ]
  },
  {
   "attachments": {},
   "cell_type": "markdown",
   "metadata": {},
   "source": [
    "**Top Commercial Models**\n",
    "- Airbus A330\n",
    "- Boeing 747\n",
    "- Boeing 777\n",
    "- Boeing 727\n",
    "- CRJ Series\n",
    "- Airbus A320\n",
    "- Boeing 747\n",
    "- Embraer E-Jet Family\n",
    "- Boeing 737\n",
    "- Douglas DC-3"
   ]
  },
  {
   "cell_type": "code",
   "execution_count": null,
   "metadata": {
    "ExecuteTime": {
     "end_time": "2023-04-21T15:50:43.740660Z",
     "start_time": "2023-04-21T15:50:43.736790Z"
    }
   },
   "outputs": [],
   "source": [
    "def commercial_model_cleaning_function(model):\n",
    "    top_commercial_models_list = ['A330', '747', '777', '727', 'CRJ', 'A320', '747', '737', 'DC3']\n",
    "    model = str(model)\n",
    "    for top_model in top_commercial_models_list:\n",
    "        if model.startswith(top_model):\n",
    "            return top_model\n",
    "            break\n",
    "        else:\n",
    "            return model"
   ]
  },
  {
   "cell_type": "code",
   "execution_count": null,
   "metadata": {
    "ExecuteTime": {
     "end_time": "2023-04-21T15:50:43.787655Z",
     "start_time": "2023-04-21T15:50:43.742688Z"
    }
   },
   "outputs": [],
   "source": [
    "aviation_data_cleaned['model'] = aviation_data_cleaned['model'].apply(commercial_model_cleaning_function)"
   ]
  },
  {
   "cell_type": "code",
   "execution_count": null,
   "metadata": {
    "ExecuteTime": {
     "end_time": "2023-04-21T15:50:43.802300Z",
     "start_time": "2023-04-21T15:50:43.789340Z"
    },
    "scrolled": false
   },
   "outputs": [
    {
     "data": {
      "text/plain": [
       "108"
      ]
     },
     "execution_count": 110,
     "metadata": {},
     "output_type": "execute_result"
    }
   ],
   "source": [
    "aviation_data_cleaned[aviation_data_cleaned['model'].isin(top_commercial_models_list)]['model'].count()"
   ]
  },
  {
   "cell_type": "code",
   "execution_count": null,
   "metadata": {
    "ExecuteTime": {
     "end_time": "2023-04-21T15:50:43.816027Z",
     "start_time": "2023-04-21T15:50:43.805599Z"
    }
   },
   "outputs": [],
   "source": [
    "aviation_data_cleaned['top_model'] = aviation_data_cleaned['model'].isin(top_models_list)"
   ]
  },
  {
   "cell_type": "code",
   "execution_count": null,
   "metadata": {
    "ExecuteTime": {
     "end_time": "2023-04-21T15:50:43.837457Z",
     "start_time": "2023-04-21T15:50:43.819309Z"
    }
   },
   "outputs": [
    {
     "data": {
      "text/plain": [
       "False    0.701274\n",
       "True     0.298726\n",
       "Name: top_model, dtype: float64"
      ]
     },
     "execution_count": 112,
     "metadata": {},
     "output_type": "execute_result"
    }
   ],
   "source": [
    "aviation_data_cleaned['top_model'].value_counts(normalize=True)"
   ]
  },
  {
   "attachments": {},
   "cell_type": "markdown",
   "metadata": {},
   "source": [
    "### Location to City & State"
   ]
  },
  {
   "cell_type": "code",
   "execution_count": null,
   "metadata": {
    "ExecuteTime": {
     "end_time": "2023-04-21T15:50:43.985511Z",
     "start_time": "2023-04-21T15:50:43.840262Z"
    }
   },
   "outputs": [],
   "source": [
    "# Add new city and state columns\n",
    "aviation_data_cleaned[['city', 'state']] = aviation_data_cleaned['location'].str.rsplit(', ', 1, expand = True)"
   ]
  },
  {
   "cell_type": "code",
   "execution_count": null,
   "metadata": {
    "ExecuteTime": {
     "end_time": "2023-04-21T15:50:44.032137Z",
     "start_time": "2023-04-21T15:50:43.987744Z"
    }
   },
   "outputs": [],
   "source": [
    "aviation_data_cleaned['city'] = aviation_data_cleaned['city'].str.capitalize()"
   ]
  },
  {
   "cell_type": "code",
   "execution_count": null,
   "metadata": {
    "ExecuteTime": {
     "end_time": "2023-04-21T15:50:44.072065Z",
     "start_time": "2023-04-21T15:50:44.036508Z"
    }
   },
   "outputs": [
    {
     "data": {
      "text/html": [
       "<div>\n",
       "<style scoped>\n",
       "    .dataframe tbody tr th:only-of-type {\n",
       "        vertical-align: middle;\n",
       "    }\n",
       "\n",
       "    .dataframe tbody tr th {\n",
       "        vertical-align: top;\n",
       "    }\n",
       "\n",
       "    .dataframe thead th {\n",
       "        text-align: right;\n",
       "    }\n",
       "</style>\n",
       "<table border=\"1\" class=\"dataframe\">\n",
       "  <thead>\n",
       "    <tr style=\"text-align: right;\">\n",
       "      <th></th>\n",
       "      <th>city</th>\n",
       "      <th>state</th>\n",
       "    </tr>\n",
       "  </thead>\n",
       "  <tbody>\n",
       "    <tr>\n",
       "      <th>7</th>\n",
       "      <td>Pullman</td>\n",
       "      <td>WA</td>\n",
       "    </tr>\n",
       "    <tr>\n",
       "      <th>8</th>\n",
       "      <td>East hanover</td>\n",
       "      <td>NJ</td>\n",
       "    </tr>\n",
       "    <tr>\n",
       "      <th>9</th>\n",
       "      <td>Jacksonville</td>\n",
       "      <td>FL</td>\n",
       "    </tr>\n",
       "    <tr>\n",
       "      <th>10</th>\n",
       "      <td>Hobbs</td>\n",
       "      <td>NM</td>\n",
       "    </tr>\n",
       "    <tr>\n",
       "      <th>11</th>\n",
       "      <td>Tuskegee</td>\n",
       "      <td>AL</td>\n",
       "    </tr>\n",
       "  </tbody>\n",
       "</table>\n",
       "</div>"
      ],
      "text/plain": [
       "            city state\n",
       "7        Pullman    WA\n",
       "8   East hanover    NJ\n",
       "9   Jacksonville    FL\n",
       "10         Hobbs    NM\n",
       "11      Tuskegee    AL"
      ]
     },
     "execution_count": 115,
     "metadata": {},
     "output_type": "execute_result"
    }
   ],
   "source": [
    "aviation_data_cleaned[['city', 'state']].head()"
   ]
  },
  {
   "cell_type": "code",
   "execution_count": null,
   "metadata": {
    "ExecuteTime": {
     "end_time": "2023-04-21T15:50:44.097268Z",
     "start_time": "2023-04-21T15:50:44.074369Z"
    }
   },
   "outputs": [
    {
     "data": {
      "text/plain": [
       "city      0\n",
       "state    51\n",
       "dtype: int64"
      ]
     },
     "execution_count": 116,
     "metadata": {},
     "output_type": "execute_result"
    }
   ],
   "source": [
    "# Check for missing data\n",
    "aviation_data_cleaned[['city', 'state']].isna().sum()"
   ]
  },
  {
   "cell_type": "code",
   "execution_count": null,
   "metadata": {
    "ExecuteTime": {
     "end_time": "2023-04-21T15:50:44.130142Z",
     "start_time": "2023-04-21T15:50:44.099202Z"
    }
   },
   "outputs": [],
   "source": [
    "# There are only a few so we can remove them\n",
    "aviation_data_cleaned = aviation_data_cleaned[aviation_data_cleaned['state'].notna()]"
   ]
  },
  {
   "cell_type": "code",
   "execution_count": null,
   "metadata": {
    "ExecuteTime": {
     "end_time": "2023-04-21T15:50:44.169546Z",
     "start_time": "2023-04-21T15:50:44.140689Z"
    }
   },
   "outputs": [
    {
     "data": {
      "text/plain": [
       "city     0\n",
       "state    0\n",
       "dtype: int64"
      ]
     },
     "execution_count": 118,
     "metadata": {},
     "output_type": "execute_result"
    }
   ],
   "source": [
    "# Confirm the missing data is gone\n",
    "aviation_data_cleaned[['city', 'state']].isna().sum()"
   ]
  },
  {
   "cell_type": "code",
   "execution_count": null,
   "metadata": {
    "ExecuteTime": {
     "end_time": "2023-04-21T15:50:44.234165Z",
     "start_time": "2023-04-21T15:50:44.174600Z"
    }
   },
   "outputs": [
    {
     "data": {
      "text/plain": [
       "event_date                0\n",
       "location                  0\n",
       "airport_code              0\n",
       "airport_name              0\n",
       "injury_severity           0\n",
       "aircraft_damage           0\n",
       "make                      0\n",
       "model                     0\n",
       "number_of_engines         0\n",
       "engine_type               0\n",
       "purpose_of_flight         0\n",
       "total_fatal_injuries      0\n",
       "total_serious_injuries    0\n",
       "total_minor_injuries      0\n",
       "total_uninjured           0\n",
       "weather_condition         0\n",
       "broad_phase_of_flight     0\n",
       "passenger_count           0\n",
       "top_make                  0\n",
       "use_category              0\n",
       "top_model                 0\n",
       "city                      0\n",
       "state                     0\n",
       "dtype: int64"
      ]
     },
     "execution_count": 119,
     "metadata": {},
     "output_type": "execute_result"
    }
   ],
   "source": [
    "# Confirm the missing data is gone\n",
    "aviation_data_cleaned.isna().sum()"
   ]
  },
  {
   "attachments": {},
   "cell_type": "markdown",
   "metadata": {},
   "source": [
    "### Weather conditions"
   ]
  },
  {
   "cell_type": "code",
   "execution_count": null,
   "metadata": {
    "ExecuteTime": {
     "end_time": "2023-04-21T15:50:44.250180Z",
     "start_time": "2023-04-21T15:50:44.237663Z"
    },
    "scrolled": true
   },
   "outputs": [
    {
     "data": {
      "text/plain": [
       "VMC        63918\n",
       "IMC         5231\n",
       "Unknown      484\n",
       "UNK          473\n",
       "Unk           88\n",
       "Name: weather_condition, dtype: int64"
      ]
     },
     "execution_count": 120,
     "metadata": {},
     "output_type": "execute_result"
    }
   ],
   "source": [
    "aviation_data_cleaned['weather_condition'].value_counts()"
   ]
  },
  {
   "cell_type": "code",
   "execution_count": null,
   "metadata": {
    "ExecuteTime": {
     "end_time": "2023-04-21T15:50:44.269506Z",
     "start_time": "2023-04-21T15:50:44.253301Z"
    }
   },
   "outputs": [
    {
     "name": "stderr",
     "output_type": "stream",
     "text": [
      "<ipython-input-121-41ea5d073c37>:9: SettingWithCopyWarning: \n",
      "A value is trying to be set on a copy of a slice from a DataFrame.\n",
      "Try using .loc[row_indexer,col_indexer] = value instead\n",
      "\n",
      "See the caveats in the documentation: https://pandas.pydata.org/pandas-docs/stable/user_guide/indexing.html#returning-a-view-versus-a-copy\n",
      "  aviation_data_cleaned['weather_condition'] = aviation_data_cleaned['weather_condition'].map(weather_map)\n"
     ]
    }
   ],
   "source": [
    "# Update weather conditions names\n",
    "weather_map = { 'VMC' : 'Visual Meteorological Conditions',\n",
    "                 'IMC' : 'Instrument Meteorological Conditions',\n",
    "                 'Unknown' : 'Unknown Meteorological Conditions',\n",
    "                 'UNK' : 'Unknown Meteorological Conditions',\n",
    "                 'Unk' : 'Unknown Meteorological Conditions'\n",
    "}\n",
    "\n",
    "aviation_data_cleaned['weather_condition'] = aviation_data_cleaned['weather_condition'].map(weather_map)"
   ]
  },
  {
   "attachments": {},
   "cell_type": "markdown",
   "metadata": {},
   "source": [
    "### Injury Severity"
   ]
  },
  {
   "cell_type": "code",
   "execution_count": null,
   "metadata": {
    "ExecuteTime": {
     "end_time": "2023-04-21T15:50:44.287153Z",
     "start_time": "2023-04-21T15:50:44.273220Z"
    },
    "scrolled": true
   },
   "outputs": [
    {
     "data": {
      "text/plain": [
       "Non-Fatal      57453\n",
       "Fatal(1)        4556\n",
       "Fatal(2)        2989\n",
       "Fatal           2851\n",
       "Fatal(3)         955\n",
       "Fatal(4)         663\n",
       "Minor            178\n",
       "Fatal(5)         166\n",
       "Serious          128\n",
       "Fatal(6)         104\n",
       "Fatal(7)          30\n",
       "Fatal(8)          26\n",
       "Fatal(10)         15\n",
       "Unavailable       14\n",
       "Fatal(9)           8\n",
       "Fatal(14)          5\n",
       "Fatal(12)          5\n",
       "Fatal(13)          3\n",
       "Fatal(11)          3\n",
       "Fatal(18)          3\n",
       "Fatal(23)          2\n",
       "Fatal(20)          2\n",
       "Fatal(17)          2\n",
       "Fatal(25)          2\n",
       "Fatal(228)         1\n",
       "Fatal(21)          1\n",
       "Fatal(15)          1\n",
       "Fatal(19)          1\n",
       "Fatal(88)          1\n",
       "Fatal(49)          1\n",
       "Fatal(78)          1\n",
       "Fatal(153)         1\n",
       "Fatal(44)          1\n",
       "Fatal(31)          1\n",
       "Fatal(16)          1\n",
       "Fatal(92)          1\n",
       "Fatal(37)          1\n",
       "Fatal(28)          1\n",
       "Fatal(135)         1\n",
       "Fatal(64)          1\n",
       "Fatal(110)         1\n",
       "Fatal(230)         1\n",
       "Fatal(73)          1\n",
       "Fatal(111)         1\n",
       "Fatal(68)          1\n",
       "Fatal(132)         1\n",
       "Fatal(265)         1\n",
       "Fatal(34)          1\n",
       "Fatal(27)          1\n",
       "Fatal(156)         1\n",
       "Fatal(29)          1\n",
       "Fatal(70)          1\n",
       "Fatal(43)          1\n",
       "Fatal(65)          1\n",
       "Fatal(82)          1\n",
       "Name: injury_severity, dtype: int64"
      ]
     },
     "execution_count": 122,
     "metadata": {},
     "output_type": "execute_result"
    }
   ],
   "source": [
    "# Check out injury severity\n",
    "aviation_data_cleaned['injury_severity'].value_counts()"
   ]
  },
  {
   "cell_type": "code",
   "execution_count": null,
   "metadata": {
    "ExecuteTime": {
     "end_time": "2023-04-21T15:50:44.446926Z",
     "start_time": "2023-04-21T15:50:44.289195Z"
    }
   },
   "outputs": [
    {
     "name": "stderr",
     "output_type": "stream",
     "text": [
      "<ipython-input-123-8a01635113c5>:2: SettingWithCopyWarning: \n",
      "A value is trying to be set on a copy of a slice from a DataFrame.\n",
      "Try using .loc[row_indexer,col_indexer] = value instead\n",
      "\n",
      "See the caveats in the documentation: https://pandas.pydata.org/pandas-docs/stable/user_guide/indexing.html#returning-a-view-versus-a-copy\n",
      "  aviation_data_cleaned['injury_severity'] = aviation_data_cleaned['injury_severity'].str.split('(', 1, expand = True)\n"
     ]
    }
   ],
   "source": [
    "# Clean up the injury severity\n",
    "aviation_data_cleaned['injury_severity'] = aviation_data_cleaned['injury_severity'].str.split('(', 1, expand = True)"
   ]
  },
  {
   "cell_type": "code",
   "execution_count": null,
   "metadata": {
    "ExecuteTime": {
     "end_time": "2023-04-21T15:50:44.455763Z",
     "start_time": "2023-04-21T15:50:44.449321Z"
    }
   },
   "outputs": [
    {
     "data": {
      "text/plain": [
       "7     Non-Fatal\n",
       "8     Non-Fatal\n",
       "9     Non-Fatal\n",
       "10    Non-Fatal\n",
       "11    Non-Fatal\n",
       "Name: injury_severity, dtype: object"
      ]
     },
     "execution_count": 124,
     "metadata": {},
     "output_type": "execute_result"
    }
   ],
   "source": [
    "aviation_data_cleaned['injury_severity'].head()"
   ]
  },
  {
   "attachments": {},
   "cell_type": "markdown",
   "metadata": {
    "ExecuteTime": {
     "end_time": "2023-04-21T14:36:50.333784Z",
     "start_time": "2023-04-21T14:36:50.330338Z"
    }
   },
   "source": [
    "## Create key metrics\n",
    "- Fatality rate\n",
    "- % uninjured"
   ]
  },
  {
   "cell_type": "code",
   "execution_count": null,
   "metadata": {
    "ExecuteTime": {
     "end_time": "2023-04-21T15:50:44.465299Z",
     "start_time": "2023-04-21T15:50:44.458009Z"
    }
   },
   "outputs": [
    {
     "name": "stderr",
     "output_type": "stream",
     "text": [
      "<ipython-input-125-f7f133f62319>:2: SettingWithCopyWarning: \n",
      "A value is trying to be set on a copy of a slice from a DataFrame.\n",
      "Try using .loc[row_indexer,col_indexer] = value instead\n",
      "\n",
      "See the caveats in the documentation: https://pandas.pydata.org/pandas-docs/stable/user_guide/indexing.html#returning-a-view-versus-a-copy\n",
      "  aviation_data_cleaned['fatality_rate'] = aviation_data_cleaned['total_fatal_injuries']/aviation_data_cleaned['passenger_count']\n",
      "<ipython-input-125-f7f133f62319>:4: SettingWithCopyWarning: \n",
      "A value is trying to be set on a copy of a slice from a DataFrame.\n",
      "Try using .loc[row_indexer,col_indexer] = value instead\n",
      "\n",
      "See the caveats in the documentation: https://pandas.pydata.org/pandas-docs/stable/user_guide/indexing.html#returning-a-view-versus-a-copy\n",
      "  aviation_data_cleaned['percent_uninjured'] = aviation_data_cleaned['total_uninjured']/aviation_data_cleaned['passenger_count']\n"
     ]
    }
   ],
   "source": [
    "# Create a column call fatality rate to figure out the deadliness of the accident\n",
    "aviation_data_cleaned['fatality_rate'] = aviation_data_cleaned['total_fatal_injuries']/aviation_data_cleaned['passenger_count']\n",
    "# Create a column call fatality rate to figure out the deadliness of the accident\n",
    "aviation_data_cleaned['percent_uninjured'] = aviation_data_cleaned['total_uninjured']/aviation_data_cleaned['passenger_count']"
   ]
  },
  {
   "cell_type": "code",
   "execution_count": null,
   "metadata": {
    "ExecuteTime": {
     "end_time": "2023-04-21T18:22:32.846945Z",
     "start_time": "2023-04-21T18:22:32.754446Z"
    }
   },
   "outputs": [
    {
     "name": "stderr",
     "output_type": "stream",
     "text": [
      "/Users/willbennett/anaconda3/envs/learn-env/lib/python3.8/site-packages/pandas/core/frame.py:4317: SettingWithCopyWarning: \n",
      "A value is trying to be set on a copy of a slice from a DataFrame\n",
      "\n",
      "See the caveats in the documentation: https://pandas.pydata.org/pandas-docs/stable/user_guide/indexing.html#returning-a-view-versus-a-copy\n",
      "  return super().fillna(\n"
     ]
    }
   ],
   "source": [
    "aviation_data_cleaned.fillna(0, inplace=True)"
   ]
  },
  {
   "attachments": {},
   "cell_type": "markdown",
   "metadata": {},
   "source": [
    "## Conclusion\n",
    "We now have a cleaned up data set with mostly non-null values and have focused on the columns we need"
   ]
  },
  {
   "cell_type": "code",
   "execution_count": 132,
   "metadata": {
    "ExecuteTime": {
     "end_time": "2023-04-21T15:50:44.533071Z",
     "start_time": "2023-04-21T15:50:44.467700Z"
    }
   },
   "outputs": [
    {
     "name": "stdout",
     "output_type": "stream",
     "text": [
      "<class 'pandas.core.frame.DataFrame'>\n",
      "RangeIndex: 3387 entries, 0 to 3386\n",
      "Data columns (total 5 columns):\n",
      " #   Column          Non-Null Count  Dtype  \n",
      "---  ------          --------------  -----  \n",
      " 0   title           3387 non-null   object \n",
      " 1   studio          3382 non-null   object \n",
      " 2   domestic_gross  3359 non-null   float64\n",
      " 3   foreign_gross   2037 non-null   object \n",
      " 4   year            3387 non-null   int64  \n",
      "dtypes: float64(1), int64(1), object(3)\n",
      "memory usage: 132.4+ KB\n"
     ]
    }
   ],
   "source": [
    "bom_raw.info()"
   ]
  }
 ],
 "metadata": {
  "kernelspec": {
   "display_name": "Python 3",
   "language": "python",
   "name": "python3"
  },
  "language_info": {
   "codemirror_mode": {
    "name": "ipython",
    "version": 3
   },
   "file_extension": ".py",
   "mimetype": "text/x-python",
   "name": "python",
   "nbconvert_exporter": "python",
   "pygments_lexer": "ipython3",
   "version": "3.10.11"
  }
 },
 "nbformat": 4,
 "nbformat_minor": 4
}
