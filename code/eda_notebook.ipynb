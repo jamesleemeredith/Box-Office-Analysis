{
 "cells": [
  {
   "cell_type": "markdown",
   "metadata": {},
   "source": [
    "## EDA notebook"
   ]
  },
  {
   "cell_type": "code",
   "execution_count": 2,
   "metadata": {},
   "outputs": [],
   "source": [
    "import pandas as pd\n",
    "import numpy as np\n",
    "import data_preparation as dp\n",
    "\n",
    "pd.options.display.max_columns = 999\n",
    "pd.options.display.max_rows = 999\n",
    "\n",
    "intakes = pd.read_csv('https://github.com/learn-co-curriculum/dsc-project-template/raw/example-aab/data/Austin_Animal_Center_Intakes_082620.csv')\n",
    "outcomes = pd.read_csv('https://github.com/learn-co-curriculum/dsc-project-template/raw/example-aab/data/Austin_Animal_Center_Outcomes_082620.csv')"
   ]
  },
  {
   "cell_type": "code",
   "execution_count": 3,
   "metadata": {
    "scrolled": true
   },
   "outputs": [
    {
     "name": "stdout",
     "output_type": "stream",
     "text": [
      "<class 'pandas.core.frame.DataFrame'>\n",
      "RangeIndex: 119853 entries, 0 to 119852\n",
      "Data columns (total 12 columns):\n",
      " #   Column            Non-Null Count   Dtype \n",
      "---  ------            --------------   ----- \n",
      " 0   Animal ID         119853 non-null  object\n",
      " 1   Name              82042 non-null   object\n",
      " 2   DateTime          119853 non-null  object\n",
      " 3   MonthYear         119853 non-null  object\n",
      " 4   Found Location    119853 non-null  object\n",
      " 5   Intake Type       119853 non-null  object\n",
      " 6   Intake Condition  119853 non-null  object\n",
      " 7   Animal Type       119853 non-null  object\n",
      " 8   Sex upon Intake   119852 non-null  object\n",
      " 9   Age upon Intake   119853 non-null  object\n",
      " 10  Breed             119853 non-null  object\n",
      " 11  Color             119853 non-null  object\n",
      "dtypes: object(12)\n",
      "memory usage: 11.0+ MB\n"
     ]
    }
   ],
   "source": [
    "intakes.info()"
   ]
  },
  {
   "cell_type": "code",
   "execution_count": 4,
   "metadata": {},
   "outputs": [
    {
     "name": "stdout",
     "output_type": "stream",
     "text": [
      "<class 'pandas.core.frame.DataFrame'>\n",
      "RangeIndex: 119962 entries, 0 to 119961\n",
      "Data columns (total 12 columns):\n",
      " #   Column            Non-Null Count   Dtype \n",
      "---  ------            --------------   ----- \n",
      " 0   Animal ID         119962 non-null  object\n",
      " 1   Name              82265 non-null   object\n",
      " 2   DateTime          119962 non-null  object\n",
      " 3   MonthYear         119962 non-null  object\n",
      " 4   Date of Birth     119962 non-null  object\n",
      " 5   Outcome Type      119956 non-null  object\n",
      " 6   Outcome Subtype   54873 non-null   object\n",
      " 7   Animal Type       119962 non-null  object\n",
      " 8   Sex upon Outcome  119961 non-null  object\n",
      " 9   Age upon Outcome  119959 non-null  object\n",
      " 10  Breed             119962 non-null  object\n",
      " 11  Color             119962 non-null  object\n",
      "dtypes: object(12)\n",
      "memory usage: 11.0+ MB\n"
     ]
    }
   ],
   "source": [
    "outcomes.info()"
   ]
  },
  {
   "cell_type": "markdown",
   "metadata": {},
   "source": [
    "## Intake Data"
   ]
  },
  {
   "cell_type": "code",
   "execution_count": 5,
   "metadata": {},
   "outputs": [
    {
     "data": {
      "text/plain": [
       "count                  119853\n",
       "unique                  84556\n",
       "top       2016-09-23 12:00:00\n",
       "freq                       64\n",
       "first     2013-10-01 07:51:00\n",
       "last      2020-08-26 07:01:00\n",
       "Name: Intake Date, dtype: object"
      ]
     },
     "execution_count": 5,
     "metadata": {},
     "output_type": "execute_result"
    }
   ],
   "source": [
    "intakes['Intake Date'] =  pd.to_datetime(intakes['DateTime'])\n",
    "intakes['Intake Date'].describe()"
   ]
  },
  {
   "cell_type": "code",
   "execution_count": 6,
   "metadata": {},
   "outputs": [
    {
     "data": {
      "text/plain": [
       "Stray                 83873\n",
       "Owner Surrender       23493\n",
       "Public Assist          7349\n",
       "Wildlife               4702\n",
       "Euthanasia Request      257\n",
       "Abandoned               179\n",
       "Name: Intake Type, dtype: int64"
      ]
     },
     "execution_count": 6,
     "metadata": {},
     "output_type": "execute_result"
    }
   ],
   "source": [
    "intakes['Intake Type'].value_counts()"
   ]
  },
  {
   "cell_type": "code",
   "execution_count": 7,
   "metadata": {},
   "outputs": [
    {
     "data": {
      "text/plain": [
       "Normal      104686\n",
       "Injured       6196\n",
       "Sick          4775\n",
       "Nursing       3330\n",
       "Aged           414\n",
       "Other          221\n",
       "Feral          106\n",
       "Pregnant        74\n",
       "Medical         43\n",
       "Behavior         8\n",
       "Name: Intake Condition, dtype: int64"
      ]
     },
     "execution_count": 7,
     "metadata": {},
     "output_type": "execute_result"
    }
   ],
   "source": [
    "intakes['Intake Condition'].value_counts()"
   ]
  },
  {
   "cell_type": "code",
   "execution_count": 8,
   "metadata": {},
   "outputs": [
    {
     "data": {
      "text/plain": [
       "Dog          67990\n",
       "Cat          44947\n",
       "Other         6337\n",
       "Bird           558\n",
       "Livestock       21\n",
       "Name: Animal Type, dtype: int64"
      ]
     },
     "execution_count": 8,
     "metadata": {},
     "output_type": "execute_result"
    }
   ],
   "source": [
    "intakes['Animal Type'].value_counts()"
   ]
  },
  {
   "cell_type": "code",
   "execution_count": 9,
   "metadata": {},
   "outputs": [],
   "source": [
    "intakes = dp.prep_intakes(intakes)"
   ]
  },
  {
   "cell_type": "markdown",
   "metadata": {},
   "source": [
    "## Outcome Data"
   ]
  },
  {
   "cell_type": "code",
   "execution_count": 10,
   "metadata": {},
   "outputs": [
    {
     "data": {
      "text/plain": [
       "count                  119962\n",
       "unique                  98921\n",
       "top       2016-04-18 00:00:00\n",
       "freq                       39\n",
       "first     2013-10-01 09:31:00\n",
       "last      2020-08-26 09:19:00\n",
       "Name: Outcome Date, dtype: object"
      ]
     },
     "execution_count": 10,
     "metadata": {},
     "output_type": "execute_result"
    }
   ],
   "source": [
    "outcomes['Outcome Date'] =  pd.to_datetime(outcomes['DateTime'])\n",
    "outcomes['Outcome Date'].describe()"
   ]
  },
  {
   "cell_type": "code",
   "execution_count": 11,
   "metadata": {},
   "outputs": [
    {
     "data": {
      "text/plain": [
       "Adoption           52875\n",
       "Transfer           35640\n",
       "Return to Owner    20947\n",
       "Euthanasia          8112\n",
       "Died                1122\n",
       "Rto-Adopt            636\n",
       "Disposal             536\n",
       "Missing               67\n",
       "Relocate              21\n",
       "Name: Outcome Type, dtype: int64"
      ]
     },
     "execution_count": 11,
     "metadata": {},
     "output_type": "execute_result"
    }
   ],
   "source": [
    "outcomes['Outcome Type'].value_counts()"
   ]
  },
  {
   "cell_type": "code",
   "execution_count": 12,
   "metadata": {},
   "outputs": [
    {
     "data": {
      "text/plain": [
       "Partner        29824\n",
       "Foster          9864\n",
       "Rabies Risk     3531\n",
       "SCRP            3211\n",
       "Suffering       3155\n",
       "Snr             2601\n",
       "In Kennel        572\n",
       "Aggressive       536\n",
       "Offsite          383\n",
       "Medical          301\n",
       "Name: Outcome Subtype, dtype: int64"
      ]
     },
     "execution_count": 12,
     "metadata": {},
     "output_type": "execute_result"
    }
   ],
   "source": [
    "outcomes['Outcome Subtype'].value_counts()[:10]"
   ]
  },
  {
   "cell_type": "code",
   "execution_count": 13,
   "metadata": {},
   "outputs": [],
   "source": [
    "outcomes = dp.prep_outcomes(outcomes)"
   ]
  },
  {
   "cell_type": "code",
   "execution_count": 14,
   "metadata": {},
   "outputs": [
    {
     "name": "stdout",
     "output_type": "stream",
     "text": [
      "<class 'pandas.core.frame.DataFrame'>\n",
      "RangeIndex: 119962 entries, 0 to 119961\n",
      "Data columns (total 4 columns):\n",
      " #   Column           Non-Null Count   Dtype         \n",
      "---  ------           --------------   -----         \n",
      " 0   animal_id        119962 non-null  object        \n",
      " 1   outcome_type     119956 non-null  object        \n",
      " 2   outcome_subtype  54873 non-null   object        \n",
      " 3   outcome_date     119962 non-null  datetime64[ns]\n",
      "dtypes: datetime64[ns](1), object(3)\n",
      "memory usage: 3.7+ MB\n"
     ]
    }
   ],
   "source": [
    "outcomes.info()"
   ]
  },
  {
   "cell_type": "markdown",
   "metadata": {},
   "source": [
    "## Merge"
   ]
  },
  {
   "cell_type": "code",
   "execution_count": 15,
   "metadata": {},
   "outputs": [],
   "source": [
    "animal_shelter_df = dp.merge(intakes,outcomes)"
   ]
  },
  {
   "cell_type": "markdown",
   "metadata": {},
   "source": [
    "## Feature Engineering\n",
    "\n",
    "I create a `days_in_shelter` feature to analyze the amount of time animals spend at AAC and `year_month` features for aggregating values by month in my analysis."
   ]
  },
  {
   "cell_type": "code",
   "execution_count": 16,
   "metadata": {},
   "outputs": [],
   "source": [
    "animal_shelter_df = dp.feature_engineering(animal_shelter_df)"
   ]
  },
  {
   "cell_type": "code",
   "execution_count": 17,
   "metadata": {},
   "outputs": [
    {
     "data": {
      "text/plain": [
       "count    118350.000000\n",
       "mean         17.500625\n",
       "std          41.767333\n",
       "min           0.000000\n",
       "25%           1.000000\n",
       "50%           5.000000\n",
       "75%          14.000000\n",
       "max        1521.000000\n",
       "Name: days_in_shelter, dtype: float64"
      ]
     },
     "execution_count": 17,
     "metadata": {},
     "output_type": "execute_result"
    }
   ],
   "source": [
    "animal_shelter_df['days_in_shelter'].describe()"
   ]
  },
  {
   "cell_type": "code",
   "execution_count": null,
   "metadata": {},
   "outputs": [],
   "source": []
  }
 ],
 "metadata": {
  "kernelspec": {
   "display_name": "Python 3",
   "language": "python",
   "name": "python3"
  },
  "language_info": {
   "codemirror_mode": {
    "name": "ipython",
    "version": 3
   },
   "file_extension": ".py",
   "mimetype": "text/x-python",
   "name": "python",
   "nbconvert_exporter": "python",
   "pygments_lexer": "ipython3",
   "version": "3.7.6"
  }
 },
 "nbformat": 4,
 "nbformat_minor": 4
}
